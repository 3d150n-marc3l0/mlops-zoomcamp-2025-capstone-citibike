{
 "cells": [
  {
   "cell_type": "markdown",
   "id": "ca0f1b76-6f06-480a-8e70-2bfac0befedd",
   "metadata": {},
   "source": [
    "# Context"
   ]
  },
  {
   "cell_type": "markdown",
   "id": "b19a36ca-588d-49da-a9a8-fd06cdbddafd",
   "metadata": {},
   "source": [
    "\n",
    "\n",
    "## Datasaet\n",
    "\n",
    "### NYC\n",
    "Article:\n",
    "\n",
    "https://javilopezcastillo.medium.com/multiple-linear-regression-analysis-of-citi-bike-ridership-data-c49fd3f211f7\n",
    "\n",
    "\n",
    "Dataset:\n",
    "https://citibikenyc.com/system-data\n",
    "\n",
    "https://citibikenyc.com/system-data/operating-reports\n",
    "\n",
    "\n",
    "https://s3.amazonaws.com/tripdata/index.html\n",
    "\n",
    "\n",
    "Chicago\n",
    "\n",
    "https://divvybikes.com/system-data\n",
    "\n",
    "https://divvy-tripdata.s3.amazonaws.com/index.html\n",
    "\n",
    "\n"
   ]
  },
  {
   "cell_type": "markdown",
   "id": "162c4d29-e5f0-4607-818e-27d57b9f4e59",
   "metadata": {},
   "source": [
    "# Imports"
   ]
  },
  {
   "cell_type": "code",
   "execution_count": 5,
   "id": "e142058b-3325-4052-b651-3b50485cd377",
   "metadata": {},
   "outputs": [],
   "source": [
    "import logging\n",
    "from typing import Tuple, Dict\n",
    "from typing_extensions import Annotated\n",
    "#from haversine import haversine, Unit\n",
    "\n",
    "import calendar\n",
    "import holidays\n",
    "from datetime import date, timedelta\n",
    "\n",
    "import requests\n",
    "import os\n",
    "import glob\n",
    "import zipfile\n",
    "import time\n",
    "\n",
    "import shutil \n",
    "\n",
    "import gc\n",
    "#import duckdb\n",
    "\n",
    "import json\n",
    "import pandas as pd\n",
    "import numpy as np\n",
    "import pyarrow as pa\n",
    "import pyarrow.parquet as pq\n",
    "import pyarrow.dataset as ds\n",
    "\n",
    "\n",
    "#import optuna        # HPO\n",
    "#import mlflow        # Tracking\n",
    "#from sklearn.model_selection import train_test_split\n",
    "#from sklearn.metrics import mean_squared_error, root_mean_squared_error, r2_score\n",
    "#import xgboost       # Train\n",
    "\n",
    "import matplotlib.pyplot as plt\n",
    "import seaborn as sns"
   ]
  },
  {
   "cell_type": "markdown",
   "id": "80779a5f-69e5-4e75-bc98-cd9c6c24c4cc",
   "metadata": {},
   "source": [
    "# Settings"
   ]
  },
  {
   "cell_type": "code",
   "execution_count": 24,
   "id": "bba5a27d-ec74-496d-a5c6-181411502889",
   "metadata": {},
   "outputs": [],
   "source": [
    "DATASET_DIR = \"../data/datasets\"\n",
    "RAW_WEATHER_DATASET_DIR = f\"{DATASET_DIR}/weather/raw/\"\n",
    "RAW_CITIBIKE_DATASET_DIR = f\"{DATASET_DIR}/citibike/raw\""
   ]
  },
  {
   "cell_type": "code",
   "execution_count": 7,
   "id": "45a50341-fa4c-408a-adcc-02253c084927",
   "metadata": {},
   "outputs": [
    {
     "name": "stdout",
     "output_type": "stream",
     "text": [
      "total 0\n"
     ]
    }
   ],
   "source": [
    "!ls -lh {RAW_DATASET_DIR}"
   ]
  },
  {
   "cell_type": "markdown",
   "id": "14813727-e437-4c95-9dae-baaebfcd134d",
   "metadata": {},
   "source": [
    "# Download dataset"
   ]
  },
  {
   "cell_type": "code",
   "execution_count": 3,
   "id": "36a91da4-10fb-4bb7-ae69-faed27d62f80",
   "metadata": {},
   "outputs": [],
   "source": [
    "DATASET_TARGET_COLUMN_NAME = \"target\"\n",
    "DATASET_URL = \"\""
   ]
  },
  {
   "cell_type": "code",
   "execution_count": null,
   "id": "c68575d5-3a2b-4bb0-939c-88d291e27141",
   "metadata": {},
   "outputs": [],
   "source": [
    "def data_splitter(\n",
    "    dataset: pd.DataFrame,\n",
    "    test_size: float = 0.2,\n",
    "    shuffle: boo = True,\n",
    "    random_state: int = 42\n",
    ") -> Tuple[Annotated[pd.DataFrame, \"train\"], Annotated[pd.DataFrame, \"test\"]]: \n",
    "    print(f\"[data-splitter] dataset: {dataset.shape}\")\n",
    "    train, test = train_test_split(\n",
    "        dataset,\n",
    "        test_size=test_size,\n",
    "        shuffle=shuffle,\n",
    "        random_state=random_state\n",
    "    )\n",
    "    print(f\"[data-splitter] train: {train.shape}\")\n",
    "    print(f\"[data-splitter] test : {train.shape}\")\n",
    "    return train, test"
   ]
  },
  {
   "cell_type": "code",
   "execution_count": null,
   "id": "6a8eddc9-da8a-4d85-9205-13081b5ebb62",
   "metadata": {},
   "outputs": [],
   "source": [
    "# Train model\n",
    "def train_model(\n",
    "    dataset: pd.DataFrame,\n",
    "    params: Dict\n",
    "):\n",
    "    model = xgb.XGBRegressor(**params)\n",
    "    model.fit(X, y)\n",
    "    print(\"Train model\")\n",
    "\n",
    "    return model"
   ]
  },
  {
   "cell_type": "code",
   "execution_count": null,
   "id": "997171d9-bcd5-408f-b29b-9693f326464f",
   "metadata": {},
   "outputs": [],
   "source": [
    "# Evaluate model\n",
    "def evaluate_model(\n",
    "    model,\n",
    "    dataset: pd.DataFrame\n",
    ") -> Tuple[Annotated[float, \"r2\"], Annotated[float, \"rmse\"]]:\n",
    "    try:\n",
    "        print(\"Predict\")\n",
    "        X = dataset.drop(columns=[DATASET_TARGET_COLUMN_NAME])\n",
    "        y_true = dataset[DATASET_TARGET_COLUMN_NAME]\n",
    "        y_pred = mode.predict(X)\n",
    "\n",
    "        r2 = r2_score(y_true, y_pred)\n",
    "        rmse = root_mean_squared_error(y_true, y_pred)\n",
    "        \n",
    "        return r2, rmse\n",
    "    except Exception as e:\n",
    "        logging.error(\"error in evaluation\".format(e))\n",
    "        raise e\n",
    "    "
   ]
  },
  {
   "cell_type": "markdown",
   "id": "81ad3d00-8b89-4f40-a5f0-7ce06873b51a",
   "metadata": {},
   "source": [
    "# Dataset "
   ]
  },
  {
   "cell_type": "code",
   "execution_count": 2,
   "id": "968944ca-0067-4bf2-98d4-b2e7faac9e1d",
   "metadata": {},
   "outputs": [],
   "source": [
    "#https://s3.amazonaws.com/tripdata/index.html"
   ]
  },
  {
   "cell_type": "code",
   "execution_count": 5,
   "id": "117d5aa4-794c-40f1-a073-aef5ac4d9d5b",
   "metadata": {},
   "outputs": [],
   "source": [
    "#!wget https://s3.amazonaws.com/tripdata/202401-citibike-tripdata.zip"
   ]
  },
  {
   "cell_type": "code",
   "execution_count": 6,
   "id": "75a5a31e-ab32-4cb5-9c3e-73cbc6d420c4",
   "metadata": {},
   "outputs": [],
   "source": [
    "#!unzip 202401-citibike-tripdata.zip -d data/202401\n",
    "\n",
    "\n"
   ]
  },
  {
   "cell_type": "markdown",
   "id": "5ed9c9f3-afc8-494f-8468-51f21c8d453f",
   "metadata": {},
   "source": [
    "## Download trip dataset"
   ]
  },
  {
   "cell_type": "code",
   "execution_count": 7,
   "id": "f0d6e852-5716-4ecf-aea1-6201f4fe98a7",
   "metadata": {},
   "outputs": [],
   "source": [
    "\n",
    "def download_zip_file(year_month, output_dir: str):\n",
    "    # Base URL\n",
    "    base_url = \"https://s3.amazonaws.com/tripdata/\"\n",
    "    \n",
    "    # Construct the filename\n",
    "    file_name = f\"{year_month}-citibike-tripdata.zip\"\n",
    "    \n",
    "    # Build the complete URL\n",
    "    complete_url = base_url + file_name\n",
    "    \n",
    "    # Make the HTTP request to download the file\n",
    "    try:\n",
    "        response = requests.get(complete_url)\n",
    "        response.raise_for_status()  # Will raise an exception for HTTP errors\n",
    "        \n",
    "        # Save the ZIP file to the local system\n",
    "        zip_path = os.path.join(output_dir, file_name)\n",
    "        print(f\"{zip_path}\")\n",
    "        with open(zip_path, 'wb') as file:\n",
    "            file.write(response.content)\n",
    "        \n",
    "        print(f\"The file {file_name} has been successfully downloaded.\")\n",
    "    \n",
    "    except requests.exceptions.RequestException as e:\n",
    "        print(f\"An error occurred while downloading the file: {e}\")\n"
   ]
  },
  {
   "cell_type": "code",
   "execution_count": 13,
   "id": "5a152e72-774a-4d28-8238-0eb70530c86a",
   "metadata": {},
   "outputs": [],
   "source": [
    "# Import libraries\n",
    "import glob\n",
    "import pandas as pd\n",
    "\n",
    "def read_data(data_dir: str, params: None):\n",
    "    print(\"Read data in directory {data_dir}\")\n",
    "    # Get CSV files list from a folder\n",
    "    #path = './data/202401'\n",
    "    csv_files = glob.glob(data_dir + \"/*.csv\")\n",
    "    \n",
    "    # Read each CSV file into DataFrame\n",
    "    # This creates a list of dataframes\n",
    "    if params:\n",
    "        df_list = (pd.read_csv(file, **params) for file in csv_files)\n",
    "    else: \n",
    "        df_list = (pd.read_csv(file) for file in csv_files)\n",
    "    \n",
    "    # Concatenate all DataFrames\n",
    "    df = pd.concat(df_list, ignore_index=True)\n",
    "    return df"
   ]
  },
  {
   "cell_type": "code",
   "execution_count": 36,
   "id": "72e3fbd3-da3d-4056-a744-11abfdbc6042",
   "metadata": {},
   "outputs": [],
   "source": [
    "def download_citibike_data(year_month: str, download_folder: str = './'):\n",
    "    \"\"\"\n",
    "    Downloads the Citibike trip data ZIP file for the specified year and month.\n",
    "    \n",
    "    Parameters:\n",
    "    - year_month: A string representing the year and month in the format 'YYYYMM'.\n",
    "    - download_folder: The folder where the ZIP file will be saved (default is the current directory).\n",
    "    \n",
    "    Returns:\n",
    "    - None: The file is saved in the specified folder.\n",
    "    \"\"\"\n",
    "    # Construct the URL\n",
    "    base_url = \"https://s3.amazonaws.com/tripdata/\"\n",
    "    file_name = f\"{year_month}-citibike-tripdata.zip\"\n",
    "    url = base_url + file_name\n",
    "\n",
    "    # Create the full path for saving the file\n",
    "    file_path = os.path.join(download_folder, file_name)\n",
    "\n",
    "    # Check if the file already exists\n",
    "    if os.path.exists(file_path):\n",
    "        print(f\"The file {file_name} already exists in {download_folder}.\")\n",
    "        return\n",
    "\n",
    "    # Download the file\n",
    "    try:\n",
    "        print(f\"Downloading {file_name} from {url}...\")\n",
    "        # Start measuring time\n",
    "        start_time = time.time()\n",
    "        \n",
    "        response = requests.get(url, stream=True)\n",
    "\n",
    "        # Check if the request was successful\n",
    "        if response.status_code == 200:\n",
    "            # Save the file to the specified folder\n",
    "            with open(file_path, 'wb') as file:\n",
    "                for chunk in response.iter_content(chunk_size=8192):\n",
    "                    file.write(chunk)\n",
    "\n",
    "            # Calculate the time taken for the download\n",
    "            end_time = time.time()\n",
    "            download_time = end_time - start_time\n",
    "            print(f\"File downloaded successfully: {file_path}\")\n",
    "            print(f\"Download time for {file_name}: {download_time:.2f} seconds.\")\n",
    "        else:\n",
    "            print(f\"Failed to download the file. Status code: {response.status_code}\")\n",
    "    except Exception as e:\n",
    "        print(f\"An error occurred while downloading the file: {e}\")\n"
   ]
  },
  {
   "cell_type": "code",
   "execution_count": 37,
   "id": "427c4b91-ac5e-4093-aa6a-b93ecd72bbdb",
   "metadata": {},
   "outputs": [],
   "source": [
    "def download_all_citibike_data(\n",
    "    year: str, \n",
    "    from_month: int = 1,\n",
    "    to_month: int = None,\n",
    "    download_folder: str = './'\n",
    "):\n",
    "    \"\"\"\n",
    "    Downloads all the Citibike trip data ZIP files for each month in the given year.\n",
    "    \n",
    "    Parameters:\n",
    "    - year: The year in 'YYYY' format for which the data should be downloaded.\n",
    "    - to_month:\n",
    "    - from_month: \n",
    "    - download_folder: The folder where the ZIP files will be saved (default is the current directory).\n",
    "    \n",
    "    Returns:\n",
    "    - None\n",
    "    \"\"\"\n",
    "    print(f\"from_month: {from_month}, to_month: {to_month}\")\n",
    "    assert from_month >= 1 & from_month <= 12, \"from_month must be between 1 and 12\" \n",
    "    if not to_month:\n",
    "        to_month = from_month\n",
    "    assert to_month >= 1 & to_month <= 12, \"to_month must be between 1 and 12\" \n",
    "    assert from_month <= to_month, \"from_month must be less than or equal to to_month\" \n",
    "    \n",
    "    for month in range(from_month, to_month + 1):\n",
    "        # Format the month as two digits (e.g., '01', '02', ..., '12')\n",
    "        year_month = f\"{year}{str(month).zfill(2)}\"\n",
    "        download_citibike_data(year_month, download_folder)"
   ]
  },
  {
   "cell_type": "code",
   "execution_count": 38,
   "id": "4fc72cbb-bd99-4866-868e-125d5495b183",
   "metadata": {},
   "outputs": [],
   "source": [
    "def read_csvs_from_zip_dict(zip_file_path: str) -> pd.DataFrame:\n",
    "    \"\"\"\n",
    "    Function to read all CSV files within a ZIP archive and return them\n",
    "    as a dictionary of pandas DataFrames.\n",
    "    \n",
    "    Parameters:\n",
    "    - zip_file_path: Path to the ZIP file containing CSV files.\n",
    "    \n",
    "    Returns:\n",
    "    - A dictionary where the keys are the CSV file names and the values are the corresponding DataFrames.\n",
    "    \"\"\"\n",
    "    # Start measuring time\n",
    "    start_time = time.time()\n",
    "\n",
    "    dfs = {}  # Dictionary to store DataFrames\n",
    "    \n",
    "    # Open the ZIP file\n",
    "    with zipfile.ZipFile(zip_file_path, 'r') as zip_ref:\n",
    "        # Get the list of file names inside the ZIP\n",
    "        file_names = zip_ref.namelist()\n",
    "        \n",
    "        # Filter only the files that end with '.csv'\n",
    "        csv_files = [file for file in file_names if file.endswith('.csv')]\n",
    "        \n",
    "        # Read each CSV file and store it in the dictionary\n",
    "        for csv_file in csv_files:\n",
    "            with zip_ref.open(csv_file) as file:\n",
    "                df = pd.read_csv(file)\n",
    "                dfs[csv_file] = df  # Store the DataFrame in the dictionary with the CSV file name as the key\n",
    "\n",
    "        # Calculate the time taken for the download\n",
    "        end_time = time.time()\n",
    "        read_time = end_time - start_time\n",
    "        print(f\"Read time for {zip_file_path}: {read_time:.2f} seconds.\")\n",
    "        \n",
    "    return dfs"
   ]
  },
  {
   "cell_type": "code",
   "execution_count": 39,
   "id": "3e5bd4ee-767f-410e-b3a2-fffedfd4e5a5",
   "metadata": {},
   "outputs": [],
   "source": [
    "def read_csvs_from_zip(zip_file_path: str) -> pd.DataFrame:\n",
    "    \"\"\"\n",
    "    Reads all CSV files from a ZIP archive and combines them into a single pandas DataFrame.\n",
    "    Also logs the time taken to read and combine the CSVs.\n",
    "    \n",
    "    Parameters:\n",
    "    - zip_file_path: The path to the ZIP file containing CSV files.\n",
    "    \n",
    "    Returns:\n",
    "    - A single pandas DataFrame containing the combined data from all CSV files inside the ZIP archive.\n",
    "    \"\"\"\n",
    "    # Start measuring time\n",
    "    start_time = time.time()\n",
    "\n",
    "    # List to store individual DataFrames\n",
    "    df_list = []\n",
    "    \n",
    "    # Open the ZIP file\n",
    "    with zipfile.ZipFile(zip_file_path, 'r') as zip_ref:\n",
    "        # Get the list of all file names inside the ZIP archive\n",
    "        file_names = zip_ref.namelist()\n",
    "        \n",
    "        # Filter only the CSV files\n",
    "        csv_files = [file for file in file_names if file.endswith('.csv')]\n",
    "        \n",
    "        # Loop through each CSV file and read it into a DataFrame\n",
    "        for csv_file in csv_files:\n",
    "            with zip_ref.open(csv_file) as file:\n",
    "                # Read each CSV into a DataFrame and append to the list\n",
    "                df = pd.read_csv(file)\n",
    "                #df = pd.read_csv(file, dtype={'start_station_id': str, 'end_station_id': str}, parse_dates=['started_at', 'ended_at'])\n",
    "                df_list.append(df)\n",
    "    \n",
    "    # Concatenate all DataFrames into a single DataFrame\n",
    "    combined_df = pd.concat(df_list, ignore_index=True)\n",
    "\n",
    "    # Calculate the time taken for the operation\n",
    "    end_time = time.time()\n",
    "    read_time = end_time - start_time\n",
    "    print(f\"Time taken to read and combine the CSVs: {read_time:.2f} seconds.\")\n",
    "    \n",
    "    return combined_df"
   ]
  },
  {
   "cell_type": "code",
   "execution_count": null,
   "id": "b8be4a81-de75-4f2a-b400-5f31349ed6f5",
   "metadata": {},
   "outputs": [],
   "source": []
  },
  {
   "cell_type": "code",
   "execution_count": 40,
   "id": "6e9e945c-7bca-444a-920c-e0219bf792e8",
   "metadata": {},
   "outputs": [
    {
     "name": "stdout",
     "output_type": "stream",
     "text": [
      "curr_dir_data: ./data/202401\n",
      "curr_dir_data: ./data/202402\n",
      "curr_dir_data: ./data/202403\n",
      "curr_dir_data: ./data/202404\n",
      "curr_dir_data: ./data/202405\n",
      "curr_dir_data: ./data/202406\n",
      "curr_dir_data: ./data/202407\n",
      "curr_dir_data: ./data/202408\n",
      "curr_dir_data: ./data/202409\n",
      "curr_dir_data: ./data/202410\n",
      "curr_dir_data: ./data/202411\n",
      "curr_dir_data: ./data/202412\n"
     ]
    }
   ],
   "source": [
    "#dtype={'usertype':'category','gender':'int8','birth year':'int16','start station id':'int16','end station id':'int16'}, parse_dates=['starttime','stoptime']\n",
    "\n",
    "for month in range(1, 13): \n",
    "    curr_dir_data = f'./data/2024{month:02}'\n",
    "    print(f\"curr_dir_data: {curr_dir_data}\")\n",
    "    continue\n",
    "    tmp_df =  read_data(curr_dir_data, params= {\n",
    "        'dtype': {'start_station_id':'str', 'end_station_id':'str','member_casual':'category'}, \n",
    "        'parse_dates': ['started_at','ended_at']}\n",
    "    )\n",
    "    del tmp_df"
   ]
  },
  {
   "cell_type": "code",
   "execution_count": 9,
   "id": "8b8d156a-a113-40c8-8e64-a500aefc9311",
   "metadata": {},
   "outputs": [],
   "source": [
    "# Example usage:\n",
    "#year = 202403\n",
    "download_zip_file(year, \"data\")  # Downloads the file for January 2024"
   ]
  },
  {
   "cell_type": "code",
   "execution_count": 25,
   "id": "efb80162-00bb-413a-912c-16f942333d94",
   "metadata": {},
   "outputs": [
    {
     "data": {
      "text/plain": [
       "'../data/datasets/citibike/raw'"
      ]
     },
     "execution_count": 25,
     "metadata": {},
     "output_type": "execute_result"
    }
   ],
   "source": [
    "RAW_CITIBIKE_DATASET_DIR"
   ]
  },
  {
   "cell_type": "code",
   "execution_count": 41,
   "id": "287843a2-fadd-4134-8e0a-220ba3e3fde7",
   "metadata": {},
   "outputs": [
    {
     "name": "stdout",
     "output_type": "stream",
     "text": [
      "from_month: 1, to_month: 12\n",
      "Downloading 202301-citibike-tripdata.zip from https://s3.amazonaws.com/tripdata/202301-citibike-tripdata.zip...\n",
      "Failed to download the file. Status code: 404\n",
      "Downloading 202302-citibike-tripdata.zip from https://s3.amazonaws.com/tripdata/202302-citibike-tripdata.zip...\n",
      "Failed to download the file. Status code: 404\n",
      "Downloading 202303-citibike-tripdata.zip from https://s3.amazonaws.com/tripdata/202303-citibike-tripdata.zip...\n",
      "Failed to download the file. Status code: 404\n",
      "Downloading 202304-citibike-tripdata.zip from https://s3.amazonaws.com/tripdata/202304-citibike-tripdata.zip...\n",
      "Failed to download the file. Status code: 404\n",
      "Downloading 202305-citibike-tripdata.zip from https://s3.amazonaws.com/tripdata/202305-citibike-tripdata.zip...\n",
      "Failed to download the file. Status code: 404\n",
      "Downloading 202306-citibike-tripdata.zip from https://s3.amazonaws.com/tripdata/202306-citibike-tripdata.zip...\n",
      "Failed to download the file. Status code: 404\n",
      "Downloading 202307-citibike-tripdata.zip from https://s3.amazonaws.com/tripdata/202307-citibike-tripdata.zip...\n",
      "Failed to download the file. Status code: 404\n",
      "Downloading 202308-citibike-tripdata.zip from https://s3.amazonaws.com/tripdata/202308-citibike-tripdata.zip...\n",
      "Failed to download the file. Status code: 404\n",
      "Downloading 202309-citibike-tripdata.zip from https://s3.amazonaws.com/tripdata/202309-citibike-tripdata.zip...\n",
      "Failed to download the file. Status code: 404\n",
      "Downloading 202310-citibike-tripdata.zip from https://s3.amazonaws.com/tripdata/202310-citibike-tripdata.zip...\n",
      "Failed to download the file. Status code: 404\n",
      "Downloading 202311-citibike-tripdata.zip from https://s3.amazonaws.com/tripdata/202311-citibike-tripdata.zip...\n",
      "Failed to download the file. Status code: 404\n",
      "Downloading 202312-citibike-tripdata.zip from https://s3.amazonaws.com/tripdata/202312-citibike-tripdata.zip...\n",
      "Failed to download the file. Status code: 404\n",
      "from_month: 1, to_month: 12\n",
      "Downloading 202401-citibike-tripdata.zip from https://s3.amazonaws.com/tripdata/202401-citibike-tripdata.zip...\n",
      "File downloaded successfully: ../data/datasets/citibike/raw/202401-citibike-tripdata.zip\n",
      "Download time for 202401-citibike-tripdata.zip: 27.67 seconds.\n",
      "Downloading 202402-citibike-tripdata.zip from https://s3.amazonaws.com/tripdata/202402-citibike-tripdata.zip...\n",
      "File downloaded successfully: ../data/datasets/citibike/raw/202402-citibike-tripdata.zip\n",
      "Download time for 202402-citibike-tripdata.zip: 24.29 seconds.\n",
      "Downloading 202403-citibike-tripdata.zip from https://s3.amazonaws.com/tripdata/202403-citibike-tripdata.zip...\n",
      "File downloaded successfully: ../data/datasets/citibike/raw/202403-citibike-tripdata.zip\n",
      "Download time for 202403-citibike-tripdata.zip: 31.72 seconds.\n",
      "Downloading 202404-citibike-tripdata.zip from https://s3.amazonaws.com/tripdata/202404-citibike-tripdata.zip...\n",
      "File downloaded successfully: ../data/datasets/citibike/raw/202404-citibike-tripdata.zip\n",
      "Download time for 202404-citibike-tripdata.zip: 40.71 seconds.\n",
      "Downloading 202405-citibike-tripdata.zip from https://s3.amazonaws.com/tripdata/202405-citibike-tripdata.zip...\n",
      "File downloaded successfully: ../data/datasets/citibike/raw/202405-citibike-tripdata.zip\n",
      "Download time for 202405-citibike-tripdata.zip: 56.46 seconds.\n",
      "Downloading 202406-citibike-tripdata.zip from https://s3.amazonaws.com/tripdata/202406-citibike-tripdata.zip...\n",
      "File downloaded successfully: ../data/datasets/citibike/raw/202406-citibike-tripdata.zip\n",
      "Download time for 202406-citibike-tripdata.zip: 52.13 seconds.\n",
      "Downloading 202407-citibike-tripdata.zip from https://s3.amazonaws.com/tripdata/202407-citibike-tripdata.zip...\n",
      "File downloaded successfully: ../data/datasets/citibike/raw/202407-citibike-tripdata.zip\n",
      "Download time for 202407-citibike-tripdata.zip: 52.00 seconds.\n",
      "Downloading 202408-citibike-tripdata.zip from https://s3.amazonaws.com/tripdata/202408-citibike-tripdata.zip...\n",
      "File downloaded successfully: ../data/datasets/citibike/raw/202408-citibike-tripdata.zip\n",
      "Download time for 202408-citibike-tripdata.zip: 68.89 seconds.\n",
      "Downloading 202409-citibike-tripdata.zip from https://s3.amazonaws.com/tripdata/202409-citibike-tripdata.zip...\n",
      "File downloaded successfully: ../data/datasets/citibike/raw/202409-citibike-tripdata.zip\n",
      "Download time for 202409-citibike-tripdata.zip: 73.12 seconds.\n",
      "Downloading 202410-citibike-tripdata.zip from https://s3.amazonaws.com/tripdata/202410-citibike-tripdata.zip...\n",
      "File downloaded successfully: ../data/datasets/citibike/raw/202410-citibike-tripdata.zip\n",
      "Download time for 202410-citibike-tripdata.zip: 58.84 seconds.\n",
      "Downloading 202411-citibike-tripdata.zip from https://s3.amazonaws.com/tripdata/202411-citibike-tripdata.zip...\n",
      "File downloaded successfully: ../data/datasets/citibike/raw/202411-citibike-tripdata.zip\n",
      "Download time for 202411-citibike-tripdata.zip: 46.75 seconds.\n",
      "Downloading 202412-citibike-tripdata.zip from https://s3.amazonaws.com/tripdata/202412-citibike-tripdata.zip...\n",
      "File downloaded successfully: ../data/datasets/citibike/raw/202412-citibike-tripdata.zip\n",
      "Download time for 202412-citibike-tripdata.zip: 23.22 seconds.\n"
     ]
    }
   ],
   "source": [
    "for curr_year in [2023, 2024]:\n",
    "    #curr_year = 2024\n",
    "    from_month = 1\n",
    "    to_month = 12\n",
    "    #train_data_dir = f\"data/raw/{curr_year}\"RAW_CITIBIKE_DATASET_DIR\n",
    "    download_all_citibike_data(\n",
    "        curr_year, \n",
    "        from_month, \n",
    "        to_month, \n",
    "        RAW_CITIBIKE_DATASET_DIR #train_data_dir\n",
    "    )"
   ]
  },
  {
   "cell_type": "code",
   "execution_count": 165,
   "id": "720b8bd4-5e9a-4c5c-bb2e-f9ae771e7215",
   "metadata": {},
   "outputs": [
    {
     "name": "stdout",
     "output_type": "stream",
     "text": [
      "total 8.1G\n",
      "-rw-r--r-- 1 emmuzoo emmuzoo 352M Jul 16 23:41 202401-citibike-tripdata.zip\n",
      "-rw-r--r-- 1 emmuzoo emmuzoo 396M Jul 16 23:44 202402-citibike-tripdata.zip\n",
      "-rw-r--r-- 1 emmuzoo emmuzoo 497M Jul 16 23:45 202403-citibike-tripdata.zip\n",
      "-rw-r--r-- 1 emmuzoo emmuzoo 601M Jul 17 11:05 202404-citibike-tripdata.zip\n",
      "-rw-r--r-- 1 emmuzoo emmuzoo 772M Jul 17 11:05 202405-citibike-tripdata.zip\n",
      "-rw-r--r-- 1 emmuzoo emmuzoo 893M Jul 17 11:06 202406-citibike-tripdata.zip\n",
      "-rw-r--r-- 1 emmuzoo emmuzoo 881M Jul 17 11:07 202407-citibike-tripdata.zip\n",
      "-rw-r--r-- 1 emmuzoo emmuzoo 859M Jul 17 11:07 202408-citibike-tripdata.zip\n",
      "-rw-r--r-- 1 emmuzoo emmuzoo 932M Jul 17 11:09 202409-citibike-tripdata.zip\n",
      "-rw-r--r-- 1 emmuzoo emmuzoo 960M Jul 17 11:10 202410-citibike-tripdata.zip\n",
      "-rw-r--r-- 1 emmuzoo emmuzoo 691M Jul 17 11:11 202411-citibike-tripdata.zip\n",
      "-rw-r--r-- 1 emmuzoo emmuzoo 430M Jul 17 11:11 202412-citibike-tripdata.zip\n"
     ]
    }
   ],
   "source": [
    "# Lista datasets\n",
    "!ls -lh \"{train_data_dir}/\""
   ]
  },
  {
   "cell_type": "code",
   "execution_count": 183,
   "id": "f85dcfe0-39ed-4846-b73c-42b0372934b1",
   "metadata": {},
   "outputs": [
    {
     "name": "stdout",
     "output_type": "stream",
     "text": [
      "from_month: 1, to_month: 3\n",
      "The file 202501-citibike-tripdata.zip already exists in data/raw/2025.\n",
      "The file 202502-citibike-tripdata.zip already exists in data/raw/2025.\n",
      "The file 202503-citibike-tripdata.zip already exists in data/raw/2025.\n",
      "CPU times: user 0 ns, sys: 402 μs, total: 402 μs\n",
      "Wall time: 354 μs\n"
     ]
    }
   ],
   "source": [
    "%%time\n",
    "curr_year = 2025\n",
    "from_month = 1\n",
    "to_month = 3\n",
    "test_data_dir = \"data/raw/{curr_year}\"\n",
    "download_all_citibike_data(curr_year, from_month, to_month, test_data_dir)"
   ]
  },
  {
   "cell_type": "code",
   "execution_count": 184,
   "id": "46ce32ca-5e09-43f0-93ee-879f515a5037",
   "metadata": {},
   "outputs": [
    {
     "name": "stdout",
     "output_type": "stream",
     "text": [
      "total 1.4G\n",
      "-rw-r--r-- 1 emmuzoo emmuzoo 396M Jul 23 17:44 202501-citibike-tripdata.zip\n",
      "-rw-r--r-- 1 emmuzoo emmuzoo 378M Jul 23 17:45 202502-citibike-tripdata.zip\n",
      "-rw-r--r-- 1 emmuzoo emmuzoo 590M Jul 23 17:45 202503-citibike-tripdata.zip\n"
     ]
    }
   ],
   "source": [
    "# Lista datasets\n",
    "!ls -lh \"{test_data_dir}/\""
   ]
  },
  {
   "cell_type": "code",
   "execution_count": 10,
   "id": "a28a76fb-f4b5-4b97-901c-2ed12e744de1",
   "metadata": {},
   "outputs": [],
   "source": [
    "#DATASET_DIR=data"
   ]
  },
  {
   "cell_type": "code",
   "execution_count": 11,
   "id": "149e0be3-aff6-4302-b31f-ffca027c2be7",
   "metadata": {},
   "outputs": [],
   "source": [
    "#df = pd.read_csv('data/202401/202401-citibike-tripdata_1.csv')"
   ]
  },
  {
   "cell_type": "code",
   "execution_count": 194,
   "id": "6bd30fce-ecd1-4617-8f44-6e60597396c0",
   "metadata": {},
   "outputs": [
    {
     "name": "stdout",
     "output_type": "stream",
     "text": [
      "bike_zip_file_path: data/raw/2024/202401-citibike-tripdata.zip\n"
     ]
    },
    {
     "name": "stderr",
     "output_type": "stream",
     "text": [
      "/tmp/ipykernel_1752/2453940506.py:30: DtypeWarning: Columns (5,7) have mixed types. Specify dtype option on import or set low_memory=False.\n",
      "  df = pd.read_csv(file)\n",
      "/tmp/ipykernel_1752/2453940506.py:30: DtypeWarning: Columns (5) have mixed types. Specify dtype option on import or set low_memory=False.\n",
      "  df = pd.read_csv(file)\n"
     ]
    },
    {
     "name": "stdout",
     "output_type": "stream",
     "text": [
      "Time taken to read and combine the CSVs: 9.95 seconds.\n"
     ]
    }
   ],
   "source": [
    "curr_year = 2024\n",
    "curr_month = 1\n",
    "jan_zip_file_path = f\"{train_data_dir}/{curr_year}/{curr_year}{curr_month:02}-citibike-tripdata.zip\"\n",
    "print(f\"bike_zip_file_path: {jan_zip_file_path}\")\n",
    "jan_bike_df = read_csvs_from_zip(jan_zip_file_path)"
   ]
  },
  {
   "cell_type": "code",
   "execution_count": 196,
   "id": "d9679df1-1dd7-45e1-80bb-e2d23f2b6089",
   "metadata": {},
   "outputs": [
    {
     "data": {
      "text/html": [
       "<div>\n",
       "<style scoped>\n",
       "    .dataframe tbody tr th:only-of-type {\n",
       "        vertical-align: middle;\n",
       "    }\n",
       "\n",
       "    .dataframe tbody tr th {\n",
       "        vertical-align: top;\n",
       "    }\n",
       "\n",
       "    .dataframe thead th {\n",
       "        text-align: right;\n",
       "    }\n",
       "</style>\n",
       "<table border=\"1\" class=\"dataframe\">\n",
       "  <thead>\n",
       "    <tr style=\"text-align: right;\">\n",
       "      <th></th>\n",
       "      <th>ride_id</th>\n",
       "      <th>rideable_type</th>\n",
       "      <th>started_at</th>\n",
       "      <th>ended_at</th>\n",
       "      <th>start_station_name</th>\n",
       "      <th>start_station_id</th>\n",
       "      <th>end_station_name</th>\n",
       "      <th>end_station_id</th>\n",
       "      <th>start_lat</th>\n",
       "      <th>start_lng</th>\n",
       "      <th>end_lat</th>\n",
       "      <th>end_lng</th>\n",
       "      <th>member_casual</th>\n",
       "    </tr>\n",
       "  </thead>\n",
       "  <tbody>\n",
       "    <tr>\n",
       "      <th>0</th>\n",
       "      <td>62EF1AC5BE598131</td>\n",
       "      <td>classic_bike</td>\n",
       "      <td>2024-01-24 09:03:33.533</td>\n",
       "      <td>2024-01-24 09:06:53.535</td>\n",
       "      <td>E 102 St &amp; 1 Ave</td>\n",
       "      <td>7407.13</td>\n",
       "      <td>E 103 St &amp; Lexington Ave</td>\n",
       "      <td>7463.09</td>\n",
       "      <td>40.786995</td>\n",
       "      <td>-73.941648</td>\n",
       "      <td>40.790305</td>\n",
       "      <td>-73.947558</td>\n",
       "      <td>member</td>\n",
       "    </tr>\n",
       "    <tr>\n",
       "      <th>1</th>\n",
       "      <td>8464E543DAB27DBF</td>\n",
       "      <td>classic_bike</td>\n",
       "      <td>2024-01-30 08:21:29.510</td>\n",
       "      <td>2024-01-30 08:29:03.304</td>\n",
       "      <td>E 102 St &amp; 1 Ave</td>\n",
       "      <td>7407.13</td>\n",
       "      <td>E 91 St &amp; 2 Ave</td>\n",
       "      <td>7286.01</td>\n",
       "      <td>40.786995</td>\n",
       "      <td>-73.941648</td>\n",
       "      <td>40.781153</td>\n",
       "      <td>-73.949630</td>\n",
       "      <td>member</td>\n",
       "    </tr>\n",
       "    <tr>\n",
       "      <th>2</th>\n",
       "      <td>9C04FDC8549F5205</td>\n",
       "      <td>electric_bike</td>\n",
       "      <td>2024-01-22 21:18:25.199</td>\n",
       "      <td>2024-01-22 21:26:24.647</td>\n",
       "      <td>W 35 St &amp; 8 Ave</td>\n",
       "      <td>6526.01</td>\n",
       "      <td>1 Ave &amp; E 39 St</td>\n",
       "      <td>6303.01</td>\n",
       "      <td>40.752762</td>\n",
       "      <td>-73.992805</td>\n",
       "      <td>40.747140</td>\n",
       "      <td>-73.971130</td>\n",
       "      <td>member</td>\n",
       "    </tr>\n",
       "    <tr>\n",
       "      <th>3</th>\n",
       "      <td>7DD1703A3E0D8833</td>\n",
       "      <td>electric_bike</td>\n",
       "      <td>2024-01-31 22:15:49.861</td>\n",
       "      <td>2024-01-31 22:22:45.520</td>\n",
       "      <td>Warren St &amp; Roosevelt Ave</td>\n",
       "      <td>6346.07</td>\n",
       "      <td>112 St &amp; Northern Blvd</td>\n",
       "      <td>6683.01</td>\n",
       "      <td>40.749190</td>\n",
       "      <td>-73.870540</td>\n",
       "      <td>40.757880</td>\n",
       "      <td>-73.857630</td>\n",
       "      <td>member</td>\n",
       "    </tr>\n",
       "    <tr>\n",
       "      <th>4</th>\n",
       "      <td>6A96FCD170996E59</td>\n",
       "      <td>classic_bike</td>\n",
       "      <td>2024-01-29 22:52:28.276</td>\n",
       "      <td>2024-01-29 22:57:05.099</td>\n",
       "      <td>6 Ave &amp; W 33 St</td>\n",
       "      <td>6364.07</td>\n",
       "      <td>W 29 St &amp; 9 Ave</td>\n",
       "      <td>6416.06</td>\n",
       "      <td>40.749013</td>\n",
       "      <td>-73.988484</td>\n",
       "      <td>40.750073</td>\n",
       "      <td>-73.998393</td>\n",
       "      <td>member</td>\n",
       "    </tr>\n",
       "  </tbody>\n",
       "</table>\n",
       "</div>"
      ],
      "text/plain": [
       "            ride_id  rideable_type               started_at  \\\n",
       "0  62EF1AC5BE598131   classic_bike  2024-01-24 09:03:33.533   \n",
       "1  8464E543DAB27DBF   classic_bike  2024-01-30 08:21:29.510   \n",
       "2  9C04FDC8549F5205  electric_bike  2024-01-22 21:18:25.199   \n",
       "3  7DD1703A3E0D8833  electric_bike  2024-01-31 22:15:49.861   \n",
       "4  6A96FCD170996E59   classic_bike  2024-01-29 22:52:28.276   \n",
       "\n",
       "                  ended_at         start_station_name start_station_id  \\\n",
       "0  2024-01-24 09:06:53.535           E 102 St & 1 Ave          7407.13   \n",
       "1  2024-01-30 08:29:03.304           E 102 St & 1 Ave          7407.13   \n",
       "2  2024-01-22 21:26:24.647            W 35 St & 8 Ave          6526.01   \n",
       "3  2024-01-31 22:22:45.520  Warren St & Roosevelt Ave          6346.07   \n",
       "4  2024-01-29 22:57:05.099            6 Ave & W 33 St          6364.07   \n",
       "\n",
       "           end_station_name end_station_id  start_lat  start_lng    end_lat  \\\n",
       "0  E 103 St & Lexington Ave        7463.09  40.786995 -73.941648  40.790305   \n",
       "1           E 91 St & 2 Ave        7286.01  40.786995 -73.941648  40.781153   \n",
       "2           1 Ave & E 39 St        6303.01  40.752762 -73.992805  40.747140   \n",
       "3    112 St & Northern Blvd        6683.01  40.749190 -73.870540  40.757880   \n",
       "4           W 29 St & 9 Ave        6416.06  40.749013 -73.988484  40.750073   \n",
       "\n",
       "     end_lng member_casual  \n",
       "0 -73.947558        member  \n",
       "1 -73.949630        member  \n",
       "2 -73.971130        member  \n",
       "3 -73.857630        member  \n",
       "4 -73.998393        member  "
      ]
     },
     "execution_count": 196,
     "metadata": {},
     "output_type": "execute_result"
    }
   ],
   "source": [
    "jan_bike_df.head()"
   ]
  },
  {
   "cell_type": "markdown",
   "id": "272c2d63-c28b-4f63-a47c-f06569d13d24",
   "metadata": {},
   "source": [
    "Read some rows "
   ]
  },
  {
   "cell_type": "code",
   "execution_count": 55,
   "id": "648fe44b-c18d-423b-bacb-853ac4d5d396",
   "metadata": {},
   "outputs": [
    {
     "data": {
      "text/html": [
       "<div>\n",
       "<style scoped>\n",
       "    .dataframe tbody tr th:only-of-type {\n",
       "        vertical-align: middle;\n",
       "    }\n",
       "\n",
       "    .dataframe tbody tr th {\n",
       "        vertical-align: top;\n",
       "    }\n",
       "\n",
       "    .dataframe thead th {\n",
       "        text-align: right;\n",
       "    }\n",
       "</style>\n",
       "<table border=\"1\" class=\"dataframe\">\n",
       "  <thead>\n",
       "    <tr style=\"text-align: right;\">\n",
       "      <th></th>\n",
       "      <th>ride_id</th>\n",
       "      <th>rideable_type</th>\n",
       "      <th>started_at</th>\n",
       "      <th>ended_at</th>\n",
       "      <th>start_station_name</th>\n",
       "      <th>start_station_id</th>\n",
       "      <th>end_station_name</th>\n",
       "      <th>end_station_id</th>\n",
       "      <th>start_lat</th>\n",
       "      <th>start_lng</th>\n",
       "      <th>end_lat</th>\n",
       "      <th>end_lng</th>\n",
       "      <th>member_casual</th>\n",
       "    </tr>\n",
       "  </thead>\n",
       "  <tbody>\n",
       "    <tr>\n",
       "      <th>0</th>\n",
       "      <td>62EF1AC5BE598131</td>\n",
       "      <td>classic_bike</td>\n",
       "      <td>2024-01-24 09:03:33.533</td>\n",
       "      <td>2024-01-24 09:06:53.535</td>\n",
       "      <td>E 102 St &amp; 1 Ave</td>\n",
       "      <td>7407.13</td>\n",
       "      <td>E 103 St &amp; Lexington Ave</td>\n",
       "      <td>7463.09</td>\n",
       "      <td>40.786995</td>\n",
       "      <td>-73.941648</td>\n",
       "      <td>40.790305</td>\n",
       "      <td>-73.947558</td>\n",
       "      <td>member</td>\n",
       "    </tr>\n",
       "    <tr>\n",
       "      <th>1</th>\n",
       "      <td>8464E543DAB27DBF</td>\n",
       "      <td>classic_bike</td>\n",
       "      <td>2024-01-30 08:21:29.510</td>\n",
       "      <td>2024-01-30 08:29:03.304</td>\n",
       "      <td>E 102 St &amp; 1 Ave</td>\n",
       "      <td>7407.13</td>\n",
       "      <td>E 91 St &amp; 2 Ave</td>\n",
       "      <td>7286.01</td>\n",
       "      <td>40.786995</td>\n",
       "      <td>-73.941648</td>\n",
       "      <td>40.781153</td>\n",
       "      <td>-73.949630</td>\n",
       "      <td>member</td>\n",
       "    </tr>\n",
       "    <tr>\n",
       "      <th>2</th>\n",
       "      <td>9C04FDC8549F5205</td>\n",
       "      <td>electric_bike</td>\n",
       "      <td>2024-01-22 21:18:25.199</td>\n",
       "      <td>2024-01-22 21:26:24.647</td>\n",
       "      <td>W 35 St &amp; 8 Ave</td>\n",
       "      <td>6526.01</td>\n",
       "      <td>1 Ave &amp; E 39 St</td>\n",
       "      <td>6303.01</td>\n",
       "      <td>40.752762</td>\n",
       "      <td>-73.992805</td>\n",
       "      <td>40.747140</td>\n",
       "      <td>-73.971130</td>\n",
       "      <td>member</td>\n",
       "    </tr>\n",
       "    <tr>\n",
       "      <th>3</th>\n",
       "      <td>7DD1703A3E0D8833</td>\n",
       "      <td>electric_bike</td>\n",
       "      <td>2024-01-31 22:15:49.861</td>\n",
       "      <td>2024-01-31 22:22:45.520</td>\n",
       "      <td>Warren St &amp; Roosevelt Ave</td>\n",
       "      <td>6346.07</td>\n",
       "      <td>112 St &amp; Northern Blvd</td>\n",
       "      <td>6683.01</td>\n",
       "      <td>40.749190</td>\n",
       "      <td>-73.870540</td>\n",
       "      <td>40.757880</td>\n",
       "      <td>-73.857630</td>\n",
       "      <td>member</td>\n",
       "    </tr>\n",
       "    <tr>\n",
       "      <th>4</th>\n",
       "      <td>6A96FCD170996E59</td>\n",
       "      <td>classic_bike</td>\n",
       "      <td>2024-01-29 22:52:28.276</td>\n",
       "      <td>2024-01-29 22:57:05.099</td>\n",
       "      <td>6 Ave &amp; W 33 St</td>\n",
       "      <td>6364.07</td>\n",
       "      <td>W 29 St &amp; 9 Ave</td>\n",
       "      <td>6416.06</td>\n",
       "      <td>40.749013</td>\n",
       "      <td>-73.988484</td>\n",
       "      <td>40.750073</td>\n",
       "      <td>-73.998393</td>\n",
       "      <td>member</td>\n",
       "    </tr>\n",
       "    <tr>\n",
       "      <th>5</th>\n",
       "      <td>B7E5E6FAA9636FD5</td>\n",
       "      <td>electric_bike</td>\n",
       "      <td>2024-01-18 19:34:03.148</td>\n",
       "      <td>2024-01-18 19:42:25.392</td>\n",
       "      <td>6 Ave &amp; W 33 St</td>\n",
       "      <td>6364.07</td>\n",
       "      <td>1 Ave &amp; E 39 St</td>\n",
       "      <td>6303.01</td>\n",
       "      <td>40.749013</td>\n",
       "      <td>-73.988484</td>\n",
       "      <td>40.747140</td>\n",
       "      <td>-73.971130</td>\n",
       "      <td>member</td>\n",
       "    </tr>\n",
       "    <tr>\n",
       "      <th>6</th>\n",
       "      <td>7DFBA0228776696D</td>\n",
       "      <td>electric_bike</td>\n",
       "      <td>2024-01-20 11:53:22.638</td>\n",
       "      <td>2024-01-20 11:57:49.114</td>\n",
       "      <td>E 102 St &amp; 1 Ave</td>\n",
       "      <td>7407.13</td>\n",
       "      <td>E 91 St &amp; 2 Ave</td>\n",
       "      <td>7286.01</td>\n",
       "      <td>40.786995</td>\n",
       "      <td>-73.941648</td>\n",
       "      <td>40.781153</td>\n",
       "      <td>-73.949630</td>\n",
       "      <td>member</td>\n",
       "    </tr>\n",
       "    <tr>\n",
       "      <th>7</th>\n",
       "      <td>12FBBCF285A43999</td>\n",
       "      <td>electric_bike</td>\n",
       "      <td>2024-01-30 07:45:29.603</td>\n",
       "      <td>2024-01-30 07:51:33.407</td>\n",
       "      <td>Leonard St &amp; Church St</td>\n",
       "      <td>5359.11</td>\n",
       "      <td>Pearl St &amp; Hanover Square</td>\n",
       "      <td>4993.02</td>\n",
       "      <td>40.717571</td>\n",
       "      <td>-74.005549</td>\n",
       "      <td>40.704718</td>\n",
       "      <td>-74.009260</td>\n",
       "      <td>member</td>\n",
       "    </tr>\n",
       "    <tr>\n",
       "      <th>8</th>\n",
       "      <td>815B668E8ADAFDA8</td>\n",
       "      <td>electric_bike</td>\n",
       "      <td>2024-01-16 06:50:43.736</td>\n",
       "      <td>2024-01-16 07:00:06.406</td>\n",
       "      <td>Bialystoker Pl &amp; Delancey St</td>\n",
       "      <td>5335.03</td>\n",
       "      <td>W Broadway &amp; Watts St</td>\n",
       "      <td>5569.07</td>\n",
       "      <td>40.716226</td>\n",
       "      <td>-73.982612</td>\n",
       "      <td>40.723230</td>\n",
       "      <td>-74.003140</td>\n",
       "      <td>member</td>\n",
       "    </tr>\n",
       "    <tr>\n",
       "      <th>9</th>\n",
       "      <td>7D6E05FA1FDC13DD</td>\n",
       "      <td>electric_bike</td>\n",
       "      <td>2024-01-23 16:03:15.146</td>\n",
       "      <td>2024-01-23 16:05:37.079</td>\n",
       "      <td>Leonard St &amp; Church St</td>\n",
       "      <td>5359.11</td>\n",
       "      <td>W Broadway &amp; Watts St</td>\n",
       "      <td>5569.07</td>\n",
       "      <td>40.717571</td>\n",
       "      <td>-74.005549</td>\n",
       "      <td>40.723230</td>\n",
       "      <td>-74.003140</td>\n",
       "      <td>member</td>\n",
       "    </tr>\n",
       "  </tbody>\n",
       "</table>\n",
       "</div>"
      ],
      "text/plain": [
       "            ride_id  rideable_type               started_at  \\\n",
       "0  62EF1AC5BE598131   classic_bike  2024-01-24 09:03:33.533   \n",
       "1  8464E543DAB27DBF   classic_bike  2024-01-30 08:21:29.510   \n",
       "2  9C04FDC8549F5205  electric_bike  2024-01-22 21:18:25.199   \n",
       "3  7DD1703A3E0D8833  electric_bike  2024-01-31 22:15:49.861   \n",
       "4  6A96FCD170996E59   classic_bike  2024-01-29 22:52:28.276   \n",
       "5  B7E5E6FAA9636FD5  electric_bike  2024-01-18 19:34:03.148   \n",
       "6  7DFBA0228776696D  electric_bike  2024-01-20 11:53:22.638   \n",
       "7  12FBBCF285A43999  electric_bike  2024-01-30 07:45:29.603   \n",
       "8  815B668E8ADAFDA8  electric_bike  2024-01-16 06:50:43.736   \n",
       "9  7D6E05FA1FDC13DD  electric_bike  2024-01-23 16:03:15.146   \n",
       "\n",
       "                  ended_at            start_station_name start_station_id  \\\n",
       "0  2024-01-24 09:06:53.535              E 102 St & 1 Ave          7407.13   \n",
       "1  2024-01-30 08:29:03.304              E 102 St & 1 Ave          7407.13   \n",
       "2  2024-01-22 21:26:24.647               W 35 St & 8 Ave          6526.01   \n",
       "3  2024-01-31 22:22:45.520     Warren St & Roosevelt Ave          6346.07   \n",
       "4  2024-01-29 22:57:05.099               6 Ave & W 33 St          6364.07   \n",
       "5  2024-01-18 19:42:25.392               6 Ave & W 33 St          6364.07   \n",
       "6  2024-01-20 11:57:49.114              E 102 St & 1 Ave          7407.13   \n",
       "7  2024-01-30 07:51:33.407        Leonard St & Church St          5359.11   \n",
       "8  2024-01-16 07:00:06.406  Bialystoker Pl & Delancey St          5335.03   \n",
       "9  2024-01-23 16:05:37.079        Leonard St & Church St          5359.11   \n",
       "\n",
       "            end_station_name end_station_id  start_lat  start_lng    end_lat  \\\n",
       "0   E 103 St & Lexington Ave        7463.09  40.786995 -73.941648  40.790305   \n",
       "1            E 91 St & 2 Ave        7286.01  40.786995 -73.941648  40.781153   \n",
       "2            1 Ave & E 39 St        6303.01  40.752762 -73.992805  40.747140   \n",
       "3     112 St & Northern Blvd        6683.01  40.749190 -73.870540  40.757880   \n",
       "4            W 29 St & 9 Ave        6416.06  40.749013 -73.988484  40.750073   \n",
       "5            1 Ave & E 39 St        6303.01  40.749013 -73.988484  40.747140   \n",
       "6            E 91 St & 2 Ave        7286.01  40.786995 -73.941648  40.781153   \n",
       "7  Pearl St & Hanover Square        4993.02  40.717571 -74.005549  40.704718   \n",
       "8      W Broadway & Watts St        5569.07  40.716226 -73.982612  40.723230   \n",
       "9      W Broadway & Watts St        5569.07  40.717571 -74.005549  40.723230   \n",
       "\n",
       "     end_lng member_casual  \n",
       "0 -73.947558        member  \n",
       "1 -73.949630        member  \n",
       "2 -73.971130        member  \n",
       "3 -73.857630        member  \n",
       "4 -73.998393        member  \n",
       "5 -73.971130        member  \n",
       "6 -73.949630        member  \n",
       "7 -74.009260        member  \n",
       "8 -74.003140        member  \n",
       "9 -74.003140        member  "
      ]
     },
     "execution_count": 55,
     "metadata": {},
     "output_type": "execute_result"
    }
   ],
   "source": [
    "jan_bike_df.head(10)"
   ]
  },
  {
   "cell_type": "markdown",
   "id": "f8269ad1-ca9b-4289-b374-71e1c12a5c15",
   "metadata": {},
   "source": [
    "Show types"
   ]
  },
  {
   "cell_type": "code",
   "execution_count": 56,
   "id": "a2a8c367-0140-48bb-8e7e-62a06788aead",
   "metadata": {},
   "outputs": [
    {
     "name": "stdout",
     "output_type": "stream",
     "text": [
      "<class 'pandas.core.frame.DataFrame'>\n",
      "RangeIndex: 1888085 entries, 0 to 1888084\n",
      "Data columns (total 13 columns):\n",
      " #   Column              Dtype  \n",
      "---  ------              -----  \n",
      " 0   ride_id             object \n",
      " 1   rideable_type       object \n",
      " 2   started_at          object \n",
      " 3   ended_at            object \n",
      " 4   start_station_name  object \n",
      " 5   start_station_id    object \n",
      " 6   end_station_name    object \n",
      " 7   end_station_id      object \n",
      " 8   start_lat           float64\n",
      " 9   start_lng           float64\n",
      " 10  end_lat             float64\n",
      " 11  end_lng             float64\n",
      " 12  member_casual       object \n",
      "dtypes: float64(4), object(9)\n",
      "memory usage: 187.3+ MB\n"
     ]
    }
   ],
   "source": [
    "jan_bike_df.info()"
   ]
  },
  {
   "cell_type": "code",
   "execution_count": 23,
   "id": "5a53fe31-77e3-43a5-8b6c-c7b5c6fd1c63",
   "metadata": {},
   "outputs": [
    {
     "data": {
      "text/html": [
       "<div>\n",
       "<style scoped>\n",
       "    .dataframe tbody tr th:only-of-type {\n",
       "        vertical-align: middle;\n",
       "    }\n",
       "\n",
       "    .dataframe tbody tr th {\n",
       "        vertical-align: top;\n",
       "    }\n",
       "\n",
       "    .dataframe thead th {\n",
       "        text-align: right;\n",
       "    }\n",
       "</style>\n",
       "<table border=\"1\" class=\"dataframe\">\n",
       "  <thead>\n",
       "    <tr style=\"text-align: right;\">\n",
       "      <th></th>\n",
       "      <th>ride_id</th>\n",
       "      <th>rideable_type</th>\n",
       "      <th>started_at</th>\n",
       "      <th>ended_at</th>\n",
       "      <th>start_station_name</th>\n",
       "      <th>start_station_id</th>\n",
       "      <th>end_station_name</th>\n",
       "      <th>end_station_id</th>\n",
       "      <th>start_lat</th>\n",
       "      <th>start_lng</th>\n",
       "      <th>end_lat</th>\n",
       "      <th>end_lng</th>\n",
       "      <th>member_casual</th>\n",
       "    </tr>\n",
       "  </thead>\n",
       "  <tbody>\n",
       "    <tr>\n",
       "      <th>0</th>\n",
       "      <td>62EF1AC5BE598131</td>\n",
       "      <td>classic_bike</td>\n",
       "      <td>2024-01-24 09:03:33.533</td>\n",
       "      <td>2024-01-24 09:06:53.535</td>\n",
       "      <td>E 102 St &amp; 1 Ave</td>\n",
       "      <td>7407.13</td>\n",
       "      <td>E 103 St &amp; Lexington Ave</td>\n",
       "      <td>7463.09</td>\n",
       "      <td>40.786995</td>\n",
       "      <td>-73.941648</td>\n",
       "      <td>40.790305</td>\n",
       "      <td>-73.947558</td>\n",
       "      <td>member</td>\n",
       "    </tr>\n",
       "    <tr>\n",
       "      <th>1</th>\n",
       "      <td>8464E543DAB27DBF</td>\n",
       "      <td>classic_bike</td>\n",
       "      <td>2024-01-30 08:21:29.510</td>\n",
       "      <td>2024-01-30 08:29:03.304</td>\n",
       "      <td>E 102 St &amp; 1 Ave</td>\n",
       "      <td>7407.13</td>\n",
       "      <td>E 91 St &amp; 2 Ave</td>\n",
       "      <td>7286.01</td>\n",
       "      <td>40.786995</td>\n",
       "      <td>-73.941648</td>\n",
       "      <td>40.781153</td>\n",
       "      <td>-73.949630</td>\n",
       "      <td>member</td>\n",
       "    </tr>\n",
       "    <tr>\n",
       "      <th>6</th>\n",
       "      <td>7DFBA0228776696D</td>\n",
       "      <td>electric_bike</td>\n",
       "      <td>2024-01-20 11:53:22.638</td>\n",
       "      <td>2024-01-20 11:57:49.114</td>\n",
       "      <td>E 102 St &amp; 1 Ave</td>\n",
       "      <td>7407.13</td>\n",
       "      <td>E 91 St &amp; 2 Ave</td>\n",
       "      <td>7286.01</td>\n",
       "      <td>40.786995</td>\n",
       "      <td>-73.941648</td>\n",
       "      <td>40.781153</td>\n",
       "      <td>-73.949630</td>\n",
       "      <td>member</td>\n",
       "    </tr>\n",
       "    <tr>\n",
       "      <th>1066</th>\n",
       "      <td>956BDB8C3E7114F6</td>\n",
       "      <td>electric_bike</td>\n",
       "      <td>2024-01-27 11:13:52.057</td>\n",
       "      <td>2024-01-27 11:18:54.896</td>\n",
       "      <td>E 102 St &amp; 1 Ave</td>\n",
       "      <td>7407.13</td>\n",
       "      <td>E 91 St &amp; 2 Ave</td>\n",
       "      <td>7286.01</td>\n",
       "      <td>40.786995</td>\n",
       "      <td>-73.941648</td>\n",
       "      <td>40.781153</td>\n",
       "      <td>-73.949630</td>\n",
       "      <td>member</td>\n",
       "    </tr>\n",
       "    <tr>\n",
       "      <th>1142</th>\n",
       "      <td>2FA628B293F520EA</td>\n",
       "      <td>classic_bike</td>\n",
       "      <td>2024-01-19 09:51:22.231</td>\n",
       "      <td>2024-01-19 09:54:40.919</td>\n",
       "      <td>E 102 St &amp; 1 Ave</td>\n",
       "      <td>7407.13</td>\n",
       "      <td>E 103 St &amp; Lexington Ave</td>\n",
       "      <td>7463.09</td>\n",
       "      <td>40.786995</td>\n",
       "      <td>-73.941648</td>\n",
       "      <td>40.790305</td>\n",
       "      <td>-73.947558</td>\n",
       "      <td>member</td>\n",
       "    </tr>\n",
       "  </tbody>\n",
       "</table>\n",
       "</div>"
      ],
      "text/plain": [
       "               ride_id  rideable_type               started_at  \\\n",
       "0     62EF1AC5BE598131   classic_bike  2024-01-24 09:03:33.533   \n",
       "1     8464E543DAB27DBF   classic_bike  2024-01-30 08:21:29.510   \n",
       "6     7DFBA0228776696D  electric_bike  2024-01-20 11:53:22.638   \n",
       "1066  956BDB8C3E7114F6  electric_bike  2024-01-27 11:13:52.057   \n",
       "1142  2FA628B293F520EA   classic_bike  2024-01-19 09:51:22.231   \n",
       "\n",
       "                     ended_at start_station_name start_station_id  \\\n",
       "0     2024-01-24 09:06:53.535   E 102 St & 1 Ave          7407.13   \n",
       "1     2024-01-30 08:29:03.304   E 102 St & 1 Ave          7407.13   \n",
       "6     2024-01-20 11:57:49.114   E 102 St & 1 Ave          7407.13   \n",
       "1066  2024-01-27 11:18:54.896   E 102 St & 1 Ave          7407.13   \n",
       "1142  2024-01-19 09:54:40.919   E 102 St & 1 Ave          7407.13   \n",
       "\n",
       "              end_station_name end_station_id  start_lat  start_lng  \\\n",
       "0     E 103 St & Lexington Ave        7463.09  40.786995 -73.941648   \n",
       "1              E 91 St & 2 Ave        7286.01  40.786995 -73.941648   \n",
       "6              E 91 St & 2 Ave        7286.01  40.786995 -73.941648   \n",
       "1066           E 91 St & 2 Ave        7286.01  40.786995 -73.941648   \n",
       "1142  E 103 St & Lexington Ave        7463.09  40.786995 -73.941648   \n",
       "\n",
       "        end_lat    end_lng member_casual  \n",
       "0     40.790305 -73.947558        member  \n",
       "1     40.781153 -73.949630        member  \n",
       "6     40.781153 -73.949630        member  \n",
       "1066  40.781153 -73.949630        member  \n",
       "1142  40.790305 -73.947558        member  "
      ]
     },
     "execution_count": 23,
     "metadata": {},
     "output_type": "execute_result"
    }
   ],
   "source": [
    "jan_bike_df[jan_bike_df.start_station_id == \"7407.13\"].head(5)"
   ]
  },
  {
   "cell_type": "code",
   "execution_count": 17,
   "id": "7434648e-a40d-466c-bac5-135d156c96cc",
   "metadata": {},
   "outputs": [],
   "source": [
    "# Reemplazar NaN con cadena vacía y luego convertir a string\n",
    "jan_bike_df['start_station_id'] = jan_bike_df['start_station_id'].astype(str) \n",
    "jan_bike_df['end_station_id'] = jan_bike_df['end_station_id'].astype(str) \n",
    "jan_bike_df['start_station_id'] = jan_bike_df['start_station_id'].replace('nan', np.nan)\n",
    "jan_bike_df['end_station_id'] = jan_bike_df['end_station_id'].replace('nan', np.nan)\n",
    "\n",
    "#jan_bike_df['start_station_id'] = jan_bike_df['start_station_id'].fillna('').astype(str)\n",
    "#jan_bike_df['end_station_id'] = jan_bike_df['end_station_id'].fillna('').astype(str)\n"
   ]
  },
  {
   "cell_type": "code",
   "execution_count": 51,
   "id": "6a79c90e-f3fb-4937-acd5-ca10e63a73d7",
   "metadata": {},
   "outputs": [
    {
     "name": "stdout",
     "output_type": "stream",
     "text": [
      "start_station_id unique: 2224\n",
      "end_station_id unique  : 2186\n",
      "start_station_id unique: 2223\n",
      "end_station_id unique  : 2185\n"
     ]
    }
   ],
   "source": [
    "# Unique start station and end stattion\n",
    "print(\"start_station_id unique:\", len(jan_bike_df['start_station_id'].unique()))\n",
    "print(\"end_station_id unique  :\", len(jan_bike_df['end_station_id'].unique()))\n",
    "print(\"start_station_id unique:\", len(jan_bike_df[jan_bike_df['start_station_id'].notna()]['start_station_id'].unique()))\n",
    "print(\"end_station_id unique  :\", len(jan_bike_df[jan_bike_df['end_station_id'].notna()]['end_station_id'].unique()))"
   ]
  },
  {
   "cell_type": "code",
   "execution_count": 20,
   "id": "0b155442-27bb-47fd-8ba8-29c688a9aeb4",
   "metadata": {},
   "outputs": [
    {
     "data": {
      "text/plain": [
       "array([ 7,  6, 14,  5])"
      ]
     },
     "execution_count": 20,
     "metadata": {},
     "output_type": "execute_result"
    }
   ],
   "source": [
    "jan_bike_df[jan_bike_df['start_station_id'].notna()]['start_station_id'].apply(len).unique()"
   ]
  },
  {
   "cell_type": "code",
   "execution_count": 19,
   "id": "2ec72300-2df1-4936-9763-2c2fb1c3bda3",
   "metadata": {},
   "outputs": [
    {
     "data": {
      "text/plain": [
       "array([ 7,  5,  6, 14, 10])"
      ]
     },
     "execution_count": 19,
     "metadata": {},
     "output_type": "execute_result"
    }
   ],
   "source": [
    "jan_bike_df[jan_bike_df['end_station_id'].notna()]['end_station_id'].apply(len).unique()"
   ]
  },
  {
   "cell_type": "code",
   "execution_count": 21,
   "id": "7f265ffb-38a2-43fc-8861-705b751b4c20",
   "metadata": {},
   "outputs": [
    {
     "data": {
      "text/html": [
       "<div>\n",
       "<style scoped>\n",
       "    .dataframe tbody tr th:only-of-type {\n",
       "        vertical-align: middle;\n",
       "    }\n",
       "\n",
       "    .dataframe tbody tr th {\n",
       "        vertical-align: top;\n",
       "    }\n",
       "\n",
       "    .dataframe thead th {\n",
       "        text-align: right;\n",
       "    }\n",
       "</style>\n",
       "<table border=\"1\" class=\"dataframe\">\n",
       "  <thead>\n",
       "    <tr style=\"text-align: right;\">\n",
       "      <th></th>\n",
       "      <th>ride_id</th>\n",
       "      <th>rideable_type</th>\n",
       "      <th>started_at</th>\n",
       "      <th>ended_at</th>\n",
       "      <th>start_station_name</th>\n",
       "      <th>start_station_id</th>\n",
       "      <th>end_station_name</th>\n",
       "      <th>end_station_id</th>\n",
       "      <th>start_lat</th>\n",
       "      <th>start_lng</th>\n",
       "      <th>end_lat</th>\n",
       "      <th>end_lng</th>\n",
       "      <th>member_casual</th>\n",
       "    </tr>\n",
       "  </thead>\n",
       "  <tbody>\n",
       "    <tr>\n",
       "      <th>141636</th>\n",
       "      <td>E62E28513EE08C6B</td>\n",
       "      <td>electric_bike</td>\n",
       "      <td>2024-01-19 07:12:00.109</td>\n",
       "      <td>2024-01-19 09:39:43.349</td>\n",
       "      <td>E 33 St &amp; 1 Ave</td>\n",
       "      <td>6197.08</td>\n",
       "      <td>NaN</td>\n",
       "      <td>NaN</td>\n",
       "      <td>40.743227</td>\n",
       "      <td>-73.974498</td>\n",
       "      <td>NaN</td>\n",
       "      <td>NaN</td>\n",
       "      <td>member</td>\n",
       "    </tr>\n",
       "    <tr>\n",
       "      <th>141640</th>\n",
       "      <td>389546DFC23A23AE</td>\n",
       "      <td>electric_bike</td>\n",
       "      <td>2024-01-18 07:03:36.279</td>\n",
       "      <td>2024-01-18 08:04:48.735</td>\n",
       "      <td>NaN</td>\n",
       "      <td>NaN</td>\n",
       "      <td>NaN</td>\n",
       "      <td>NaN</td>\n",
       "      <td>NaN</td>\n",
       "      <td>NaN</td>\n",
       "      <td>NaN</td>\n",
       "      <td>NaN</td>\n",
       "      <td>member</td>\n",
       "    </tr>\n",
       "    <tr>\n",
       "      <th>141641</th>\n",
       "      <td>985AE68FECBCEB82</td>\n",
       "      <td>electric_bike</td>\n",
       "      <td>2024-01-27 16:10:13.005</td>\n",
       "      <td>2024-01-27 17:10:23.567</td>\n",
       "      <td>NaN</td>\n",
       "      <td>NaN</td>\n",
       "      <td>NaN</td>\n",
       "      <td>NaN</td>\n",
       "      <td>NaN</td>\n",
       "      <td>NaN</td>\n",
       "      <td>NaN</td>\n",
       "      <td>NaN</td>\n",
       "      <td>member</td>\n",
       "    </tr>\n",
       "    <tr>\n",
       "      <th>141642</th>\n",
       "      <td>BD69DB085E2E6556</td>\n",
       "      <td>electric_bike</td>\n",
       "      <td>2024-01-29 16:11:24.113</td>\n",
       "      <td>2024-01-29 17:12:24.979</td>\n",
       "      <td>NaN</td>\n",
       "      <td>NaN</td>\n",
       "      <td>NaN</td>\n",
       "      <td>NaN</td>\n",
       "      <td>NaN</td>\n",
       "      <td>NaN</td>\n",
       "      <td>NaN</td>\n",
       "      <td>NaN</td>\n",
       "      <td>member</td>\n",
       "    </tr>\n",
       "    <tr>\n",
       "      <th>141643</th>\n",
       "      <td>7D54049196127961</td>\n",
       "      <td>electric_bike</td>\n",
       "      <td>2024-01-29 11:24:57.059</td>\n",
       "      <td>2024-01-29 12:37:24.432</td>\n",
       "      <td>Andrew Ave N &amp; Hall of Fame Tce</td>\n",
       "      <td>8520.01</td>\n",
       "      <td>NaN</td>\n",
       "      <td>NaN</td>\n",
       "      <td>40.858340</td>\n",
       "      <td>-73.910080</td>\n",
       "      <td>NaN</td>\n",
       "      <td>NaN</td>\n",
       "      <td>casual</td>\n",
       "    </tr>\n",
       "  </tbody>\n",
       "</table>\n",
       "</div>"
      ],
      "text/plain": [
       "                 ride_id  rideable_type               started_at  \\\n",
       "141636  E62E28513EE08C6B  electric_bike  2024-01-19 07:12:00.109   \n",
       "141640  389546DFC23A23AE  electric_bike  2024-01-18 07:03:36.279   \n",
       "141641  985AE68FECBCEB82  electric_bike  2024-01-27 16:10:13.005   \n",
       "141642  BD69DB085E2E6556  electric_bike  2024-01-29 16:11:24.113   \n",
       "141643  7D54049196127961  electric_bike  2024-01-29 11:24:57.059   \n",
       "\n",
       "                       ended_at               start_station_name  \\\n",
       "141636  2024-01-19 09:39:43.349                  E 33 St & 1 Ave   \n",
       "141640  2024-01-18 08:04:48.735                              NaN   \n",
       "141641  2024-01-27 17:10:23.567                              NaN   \n",
       "141642  2024-01-29 17:12:24.979                              NaN   \n",
       "141643  2024-01-29 12:37:24.432  Andrew Ave N & Hall of Fame Tce   \n",
       "\n",
       "       start_station_id end_station_name end_station_id  start_lat  start_lng  \\\n",
       "141636          6197.08              NaN            NaN  40.743227 -73.974498   \n",
       "141640              NaN              NaN            NaN        NaN        NaN   \n",
       "141641              NaN              NaN            NaN        NaN        NaN   \n",
       "141642              NaN              NaN            NaN        NaN        NaN   \n",
       "141643          8520.01              NaN            NaN  40.858340 -73.910080   \n",
       "\n",
       "        end_lat  end_lng member_casual  \n",
       "141636      NaN      NaN        member  \n",
       "141640      NaN      NaN        member  \n",
       "141641      NaN      NaN        member  \n",
       "141642      NaN      NaN        member  \n",
       "141643      NaN      NaN        casual  "
      ]
     },
     "execution_count": 21,
     "metadata": {},
     "output_type": "execute_result"
    }
   ],
   "source": [
    "jan_bike_df[jan_bike_df['end_station_id'].isnull()].head(5)"
   ]
  },
  {
   "cell_type": "code",
   "execution_count": 22,
   "id": "f2f15cda-bf84-4760-a452-d388b4b19f03",
   "metadata": {},
   "outputs": [
    {
     "data": {
      "text/html": [
       "<div>\n",
       "<style scoped>\n",
       "    .dataframe tbody tr th:only-of-type {\n",
       "        vertical-align: middle;\n",
       "    }\n",
       "\n",
       "    .dataframe tbody tr th {\n",
       "        vertical-align: top;\n",
       "    }\n",
       "\n",
       "    .dataframe thead th {\n",
       "        text-align: right;\n",
       "    }\n",
       "</style>\n",
       "<table border=\"1\" class=\"dataframe\">\n",
       "  <thead>\n",
       "    <tr style=\"text-align: right;\">\n",
       "      <th></th>\n",
       "      <th>ride_id</th>\n",
       "      <th>rideable_type</th>\n",
       "      <th>started_at</th>\n",
       "      <th>ended_at</th>\n",
       "      <th>start_station_name</th>\n",
       "      <th>start_station_id</th>\n",
       "      <th>end_station_name</th>\n",
       "      <th>end_station_id</th>\n",
       "      <th>start_lat</th>\n",
       "      <th>start_lng</th>\n",
       "      <th>end_lat</th>\n",
       "      <th>end_lng</th>\n",
       "      <th>member_casual</th>\n",
       "    </tr>\n",
       "  </thead>\n",
       "  <tbody>\n",
       "    <tr>\n",
       "      <th>141636</th>\n",
       "      <td>E62E28513EE08C6B</td>\n",
       "      <td>electric_bike</td>\n",
       "      <td>2024-01-19 07:12:00.109</td>\n",
       "      <td>2024-01-19 09:39:43.349</td>\n",
       "      <td>E 33 St &amp; 1 Ave</td>\n",
       "      <td>6197.08</td>\n",
       "      <td>NaN</td>\n",
       "      <td>NaN</td>\n",
       "      <td>40.743227</td>\n",
       "      <td>-73.974498</td>\n",
       "      <td>NaN</td>\n",
       "      <td>NaN</td>\n",
       "      <td>member</td>\n",
       "    </tr>\n",
       "    <tr>\n",
       "      <th>141640</th>\n",
       "      <td>389546DFC23A23AE</td>\n",
       "      <td>electric_bike</td>\n",
       "      <td>2024-01-18 07:03:36.279</td>\n",
       "      <td>2024-01-18 08:04:48.735</td>\n",
       "      <td>NaN</td>\n",
       "      <td>NaN</td>\n",
       "      <td>NaN</td>\n",
       "      <td>NaN</td>\n",
       "      <td>NaN</td>\n",
       "      <td>NaN</td>\n",
       "      <td>NaN</td>\n",
       "      <td>NaN</td>\n",
       "      <td>member</td>\n",
       "    </tr>\n",
       "    <tr>\n",
       "      <th>141641</th>\n",
       "      <td>985AE68FECBCEB82</td>\n",
       "      <td>electric_bike</td>\n",
       "      <td>2024-01-27 16:10:13.005</td>\n",
       "      <td>2024-01-27 17:10:23.567</td>\n",
       "      <td>NaN</td>\n",
       "      <td>NaN</td>\n",
       "      <td>NaN</td>\n",
       "      <td>NaN</td>\n",
       "      <td>NaN</td>\n",
       "      <td>NaN</td>\n",
       "      <td>NaN</td>\n",
       "      <td>NaN</td>\n",
       "      <td>member</td>\n",
       "    </tr>\n",
       "    <tr>\n",
       "      <th>141642</th>\n",
       "      <td>BD69DB085E2E6556</td>\n",
       "      <td>electric_bike</td>\n",
       "      <td>2024-01-29 16:11:24.113</td>\n",
       "      <td>2024-01-29 17:12:24.979</td>\n",
       "      <td>NaN</td>\n",
       "      <td>NaN</td>\n",
       "      <td>NaN</td>\n",
       "      <td>NaN</td>\n",
       "      <td>NaN</td>\n",
       "      <td>NaN</td>\n",
       "      <td>NaN</td>\n",
       "      <td>NaN</td>\n",
       "      <td>member</td>\n",
       "    </tr>\n",
       "    <tr>\n",
       "      <th>141643</th>\n",
       "      <td>7D54049196127961</td>\n",
       "      <td>electric_bike</td>\n",
       "      <td>2024-01-29 11:24:57.059</td>\n",
       "      <td>2024-01-29 12:37:24.432</td>\n",
       "      <td>Andrew Ave N &amp; Hall of Fame Tce</td>\n",
       "      <td>8520.01</td>\n",
       "      <td>NaN</td>\n",
       "      <td>NaN</td>\n",
       "      <td>40.858340</td>\n",
       "      <td>-73.910080</td>\n",
       "      <td>NaN</td>\n",
       "      <td>NaN</td>\n",
       "      <td>casual</td>\n",
       "    </tr>\n",
       "  </tbody>\n",
       "</table>\n",
       "</div>"
      ],
      "text/plain": [
       "                 ride_id  rideable_type               started_at  \\\n",
       "141636  E62E28513EE08C6B  electric_bike  2024-01-19 07:12:00.109   \n",
       "141640  389546DFC23A23AE  electric_bike  2024-01-18 07:03:36.279   \n",
       "141641  985AE68FECBCEB82  electric_bike  2024-01-27 16:10:13.005   \n",
       "141642  BD69DB085E2E6556  electric_bike  2024-01-29 16:11:24.113   \n",
       "141643  7D54049196127961  electric_bike  2024-01-29 11:24:57.059   \n",
       "\n",
       "                       ended_at               start_station_name  \\\n",
       "141636  2024-01-19 09:39:43.349                  E 33 St & 1 Ave   \n",
       "141640  2024-01-18 08:04:48.735                              NaN   \n",
       "141641  2024-01-27 17:10:23.567                              NaN   \n",
       "141642  2024-01-29 17:12:24.979                              NaN   \n",
       "141643  2024-01-29 12:37:24.432  Andrew Ave N & Hall of Fame Tce   \n",
       "\n",
       "       start_station_id end_station_name end_station_id  start_lat  start_lng  \\\n",
       "141636          6197.08              NaN            NaN  40.743227 -73.974498   \n",
       "141640              NaN              NaN            NaN        NaN        NaN   \n",
       "141641              NaN              NaN            NaN        NaN        NaN   \n",
       "141642              NaN              NaN            NaN        NaN        NaN   \n",
       "141643          8520.01              NaN            NaN  40.858340 -73.910080   \n",
       "\n",
       "        end_lat  end_lng member_casual  \n",
       "141636      NaN      NaN        member  \n",
       "141640      NaN      NaN        member  \n",
       "141641      NaN      NaN        member  \n",
       "141642      NaN      NaN        member  \n",
       "141643      NaN      NaN        casual  "
      ]
     },
     "execution_count": 22,
     "metadata": {},
     "output_type": "execute_result"
    }
   ],
   "source": [
    "jan_bike_df[jan_bike_df['end_station_name'].isnull()].head(5)"
   ]
  },
  {
   "cell_type": "code",
   "execution_count": 53,
   "id": "123e35f2-ce84-444b-9bad-ef6ba00ae316",
   "metadata": {},
   "outputs": [
    {
     "data": {
      "text/html": [
       "<div>\n",
       "<style scoped>\n",
       "    .dataframe tbody tr th:only-of-type {\n",
       "        vertical-align: middle;\n",
       "    }\n",
       "\n",
       "    .dataframe tbody tr th {\n",
       "        vertical-align: top;\n",
       "    }\n",
       "\n",
       "    .dataframe thead th {\n",
       "        text-align: right;\n",
       "    }\n",
       "</style>\n",
       "<table border=\"1\" class=\"dataframe\">\n",
       "  <thead>\n",
       "    <tr style=\"text-align: right;\">\n",
       "      <th></th>\n",
       "      <th>ride_id</th>\n",
       "      <th>rideable_type</th>\n",
       "      <th>started_at</th>\n",
       "      <th>ended_at</th>\n",
       "      <th>start_station_name</th>\n",
       "      <th>start_station_id</th>\n",
       "      <th>end_station_name</th>\n",
       "      <th>end_station_id</th>\n",
       "      <th>start_lat</th>\n",
       "      <th>start_lng</th>\n",
       "      <th>end_lat</th>\n",
       "      <th>end_lng</th>\n",
       "      <th>member_casual</th>\n",
       "    </tr>\n",
       "  </thead>\n",
       "  <tbody>\n",
       "    <tr>\n",
       "      <th>269069</th>\n",
       "      <td>71935D4191F7F5A8</td>\n",
       "      <td>classic_bike</td>\n",
       "      <td>2024-01-18 17:13:49.836</td>\n",
       "      <td>2024-01-18 17:21:12.097</td>\n",
       "      <td>Pillar Broadway &amp; W 25 St</td>\n",
       "      <td>6173.08_Pillar</td>\n",
       "      <td>W 30 St &amp; 8 Ave</td>\n",
       "      <td>6373.07</td>\n",
       "      <td>40.74287</td>\n",
       "      <td>-73.98919</td>\n",
       "      <td>40.749653</td>\n",
       "      <td>-73.995208</td>\n",
       "      <td>member</td>\n",
       "    </tr>\n",
       "    <tr>\n",
       "      <th>704701</th>\n",
       "      <td>D8B4843E4DB69848</td>\n",
       "      <td>classic_bike</td>\n",
       "      <td>2024-01-30 15:57:52.067</td>\n",
       "      <td>2024-01-30 16:21:06.751</td>\n",
       "      <td>Pillar Broadway &amp; W 25 St</td>\n",
       "      <td>6173.08_Pillar</td>\n",
       "      <td>2 Ave &amp; E 72 St</td>\n",
       "      <td>6925.09</td>\n",
       "      <td>40.74287</td>\n",
       "      <td>-73.98919</td>\n",
       "      <td>40.768762</td>\n",
       "      <td>-73.958408</td>\n",
       "      <td>member</td>\n",
       "    </tr>\n",
       "  </tbody>\n",
       "</table>\n",
       "</div>"
      ],
      "text/plain": [
       "                 ride_id rideable_type               started_at  \\\n",
       "269069  71935D4191F7F5A8  classic_bike  2024-01-18 17:13:49.836   \n",
       "704701  D8B4843E4DB69848  classic_bike  2024-01-30 15:57:52.067   \n",
       "\n",
       "                       ended_at         start_station_name start_station_id  \\\n",
       "269069  2024-01-18 17:21:12.097  Pillar Broadway & W 25 St   6173.08_Pillar   \n",
       "704701  2024-01-30 16:21:06.751  Pillar Broadway & W 25 St   6173.08_Pillar   \n",
       "\n",
       "       end_station_name end_station_id  start_lat  start_lng    end_lat  \\\n",
       "269069  W 30 St & 8 Ave        6373.07   40.74287  -73.98919  40.749653   \n",
       "704701  2 Ave & E 72 St        6925.09   40.74287  -73.98919  40.768762   \n",
       "\n",
       "          end_lng member_casual  \n",
       "269069 -73.995208        member  \n",
       "704701 -73.958408        member  "
      ]
     },
     "execution_count": 53,
     "metadata": {},
     "output_type": "execute_result"
    }
   ],
   "source": [
    "jan_bike_df[(jan_bike_df['start_station_id'].notna() & (jan_bike_df['start_station_id'].str.len() == 14))].head(5)"
   ]
  },
  {
   "cell_type": "code",
   "execution_count": 52,
   "id": "b09c8aef-3563-4c72-ac3f-46f22120341b",
   "metadata": {},
   "outputs": [
    {
     "data": {
      "text/html": [
       "<div>\n",
       "<style scoped>\n",
       "    .dataframe tbody tr th:only-of-type {\n",
       "        vertical-align: middle;\n",
       "    }\n",
       "\n",
       "    .dataframe tbody tr th {\n",
       "        vertical-align: top;\n",
       "    }\n",
       "\n",
       "    .dataframe thead th {\n",
       "        text-align: right;\n",
       "    }\n",
       "</style>\n",
       "<table border=\"1\" class=\"dataframe\">\n",
       "  <thead>\n",
       "    <tr style=\"text-align: right;\">\n",
       "      <th></th>\n",
       "      <th>ride_id</th>\n",
       "      <th>rideable_type</th>\n",
       "      <th>started_at</th>\n",
       "      <th>ended_at</th>\n",
       "      <th>start_station_name</th>\n",
       "      <th>start_station_id</th>\n",
       "      <th>end_station_name</th>\n",
       "      <th>end_station_id</th>\n",
       "      <th>start_lat</th>\n",
       "      <th>start_lng</th>\n",
       "      <th>end_lat</th>\n",
       "      <th>end_lng</th>\n",
       "      <th>member_casual</th>\n",
       "    </tr>\n",
       "  </thead>\n",
       "  <tbody>\n",
       "    <tr>\n",
       "      <th>680859</th>\n",
       "      <td>DE89417260206638</td>\n",
       "      <td>classic_bike</td>\n",
       "      <td>2024-01-30 15:39:09.564</td>\n",
       "      <td>2024-01-30 15:49:23.804</td>\n",
       "      <td>W 45 St &amp; 8 Ave</td>\n",
       "      <td>6676.02</td>\n",
       "      <td>Pillar Broadway &amp; W 25 St</td>\n",
       "      <td>6173.08_Pillar</td>\n",
       "      <td>40.759291</td>\n",
       "      <td>-73.988597</td>\n",
       "      <td>40.74287</td>\n",
       "      <td>-73.98919</td>\n",
       "      <td>member</td>\n",
       "    </tr>\n",
       "    <tr>\n",
       "      <th>683273</th>\n",
       "      <td>DBEED9CBF9859E6C</td>\n",
       "      <td>classic_bike</td>\n",
       "      <td>2024-01-18 12:23:57.736</td>\n",
       "      <td>2024-01-18 12:29:00.831</td>\n",
       "      <td>E 40 St &amp; 5 Ave</td>\n",
       "      <td>6474.11</td>\n",
       "      <td>Pillar Broadway &amp; W 25 St</td>\n",
       "      <td>6173.08_Pillar</td>\n",
       "      <td>40.752062</td>\n",
       "      <td>-73.981632</td>\n",
       "      <td>40.74287</td>\n",
       "      <td>-73.98919</td>\n",
       "      <td>member</td>\n",
       "    </tr>\n",
       "  </tbody>\n",
       "</table>\n",
       "</div>"
      ],
      "text/plain": [
       "                 ride_id rideable_type               started_at  \\\n",
       "680859  DE89417260206638  classic_bike  2024-01-30 15:39:09.564   \n",
       "683273  DBEED9CBF9859E6C  classic_bike  2024-01-18 12:23:57.736   \n",
       "\n",
       "                       ended_at start_station_name start_station_id  \\\n",
       "680859  2024-01-30 15:49:23.804    W 45 St & 8 Ave          6676.02   \n",
       "683273  2024-01-18 12:29:00.831    E 40 St & 5 Ave          6474.11   \n",
       "\n",
       "                 end_station_name  end_station_id  start_lat  start_lng  \\\n",
       "680859  Pillar Broadway & W 25 St  6173.08_Pillar  40.759291 -73.988597   \n",
       "683273  Pillar Broadway & W 25 St  6173.08_Pillar  40.752062 -73.981632   \n",
       "\n",
       "         end_lat   end_lng member_casual  \n",
       "680859  40.74287 -73.98919        member  \n",
       "683273  40.74287 -73.98919        member  "
      ]
     },
     "execution_count": 52,
     "metadata": {},
     "output_type": "execute_result"
    }
   ],
   "source": [
    "jan_bike_df[jan_bike_df['end_station_id'].notna() & (jan_bike_df['end_station_id'].str.len() == 14)].head(5)"
   ]
  },
  {
   "cell_type": "code",
   "execution_count": 133,
   "id": "e1f2abc5-4ef0-4227-b0be-4fc8267bb80d",
   "metadata": {},
   "outputs": [
    {
     "data": {
      "text/plain": [
       "ride_id                      E62E28513EE08C6B\n",
       "rideable_type                   electric_bike\n",
       "started_at            2024-01-19 07:12:00.109\n",
       "ended_at              2024-01-19 09:39:43.349\n",
       "start_station_name            E 33 St & 1 Ave\n",
       "start_station_id                      6197.08\n",
       "end_station_name                          NaN\n",
       "end_station_id                            NaN\n",
       "start_lat                           40.743227\n",
       "start_lng                          -73.974498\n",
       "end_lat                                   NaN\n",
       "end_lng                                   NaN\n",
       "member_casual                          member\n",
       "Name: 141636, dtype: object"
      ]
     },
     "execution_count": 133,
     "metadata": {},
     "output_type": "execute_result"
    }
   ],
   "source": [
    "jan_bike_df.iloc[141636]"
   ]
  },
  {
   "cell_type": "code",
   "execution_count": 25,
   "id": "bd80a9c1-30db-41ef-a3dc-7f92583ec4d6",
   "metadata": {},
   "outputs": [
    {
     "data": {
      "text/html": [
       "<div>\n",
       "<style scoped>\n",
       "    .dataframe tbody tr th:only-of-type {\n",
       "        vertical-align: middle;\n",
       "    }\n",
       "\n",
       "    .dataframe tbody tr th {\n",
       "        vertical-align: top;\n",
       "    }\n",
       "\n",
       "    .dataframe thead th {\n",
       "        text-align: right;\n",
       "    }\n",
       "</style>\n",
       "<table border=\"1\" class=\"dataframe\">\n",
       "  <thead>\n",
       "    <tr style=\"text-align: right;\">\n",
       "      <th></th>\n",
       "      <th>ride_id</th>\n",
       "      <th>rideable_type</th>\n",
       "      <th>started_at</th>\n",
       "      <th>ended_at</th>\n",
       "      <th>start_station_name</th>\n",
       "      <th>start_station_id</th>\n",
       "      <th>end_station_name</th>\n",
       "      <th>end_station_id</th>\n",
       "      <th>start_lat</th>\n",
       "      <th>start_lng</th>\n",
       "      <th>end_lat</th>\n",
       "      <th>end_lng</th>\n",
       "      <th>member_casual</th>\n",
       "    </tr>\n",
       "  </thead>\n",
       "  <tbody>\n",
       "    <tr>\n",
       "      <th>484151</th>\n",
       "      <td>98AC015EDD61A864</td>\n",
       "      <td>electric_bike</td>\n",
       "      <td>2024-01-27 08:55:59.545</td>\n",
       "      <td>2024-01-27 09:03:28.519</td>\n",
       "      <td>8 Ave &amp; W 38 St</td>\n",
       "      <td>6526.05</td>\n",
       "      <td>Broadway &amp; W 25 St</td>\n",
       "      <td>6173.08</td>\n",
       "      <td>40.754610</td>\n",
       "      <td>-73.991770</td>\n",
       "      <td>40.742869</td>\n",
       "      <td>-73.989186</td>\n",
       "      <td>casual</td>\n",
       "    </tr>\n",
       "    <tr>\n",
       "      <th>484162</th>\n",
       "      <td>F460DB226994CD86</td>\n",
       "      <td>electric_bike</td>\n",
       "      <td>2024-01-31 08:19:23.874</td>\n",
       "      <td>2024-01-31 08:40:54.354</td>\n",
       "      <td>E 85 St &amp; York Ave</td>\n",
       "      <td>7146.04</td>\n",
       "      <td>Broadway &amp; W 25 St</td>\n",
       "      <td>6173.08</td>\n",
       "      <td>40.775369</td>\n",
       "      <td>-73.948034</td>\n",
       "      <td>40.742869</td>\n",
       "      <td>-73.989186</td>\n",
       "      <td>member</td>\n",
       "    </tr>\n",
       "    <tr>\n",
       "      <th>484167</th>\n",
       "      <td>D309FC2E8784AB77</td>\n",
       "      <td>electric_bike</td>\n",
       "      <td>2024-01-27 16:08:03.372</td>\n",
       "      <td>2024-01-27 16:35:04.325</td>\n",
       "      <td>Central Park W &amp; W 97 St</td>\n",
       "      <td>7538.18</td>\n",
       "      <td>Broadway &amp; W 25 St</td>\n",
       "      <td>6173.08</td>\n",
       "      <td>40.792495</td>\n",
       "      <td>-73.964171</td>\n",
       "      <td>40.742869</td>\n",
       "      <td>-73.989186</td>\n",
       "      <td>member</td>\n",
       "    </tr>\n",
       "    <tr>\n",
       "      <th>484171</th>\n",
       "      <td>347164BFA50C02FF</td>\n",
       "      <td>classic_bike</td>\n",
       "      <td>2024-01-31 11:35:53.455</td>\n",
       "      <td>2024-01-31 11:41:01.995</td>\n",
       "      <td>E 32 St &amp; Park Ave</td>\n",
       "      <td>6280.12</td>\n",
       "      <td>Broadway &amp; W 25 St</td>\n",
       "      <td>6173.08</td>\n",
       "      <td>40.745712</td>\n",
       "      <td>-73.981948</td>\n",
       "      <td>40.742869</td>\n",
       "      <td>-73.989186</td>\n",
       "      <td>member</td>\n",
       "    </tr>\n",
       "    <tr>\n",
       "      <th>484175</th>\n",
       "      <td>DAD66AEB5A279988</td>\n",
       "      <td>electric_bike</td>\n",
       "      <td>2024-01-30 09:37:27.477</td>\n",
       "      <td>2024-01-30 09:45:01.260</td>\n",
       "      <td>Carmine St &amp; 6 Ave</td>\n",
       "      <td>5763.03</td>\n",
       "      <td>Broadway &amp; W 25 St</td>\n",
       "      <td>6173.08</td>\n",
       "      <td>40.730386</td>\n",
       "      <td>-74.002150</td>\n",
       "      <td>40.742869</td>\n",
       "      <td>-73.989186</td>\n",
       "      <td>member</td>\n",
       "    </tr>\n",
       "  </tbody>\n",
       "</table>\n",
       "</div>"
      ],
      "text/plain": [
       "                 ride_id  rideable_type               started_at  \\\n",
       "484151  98AC015EDD61A864  electric_bike  2024-01-27 08:55:59.545   \n",
       "484162  F460DB226994CD86  electric_bike  2024-01-31 08:19:23.874   \n",
       "484167  D309FC2E8784AB77  electric_bike  2024-01-27 16:08:03.372   \n",
       "484171  347164BFA50C02FF   classic_bike  2024-01-31 11:35:53.455   \n",
       "484175  DAD66AEB5A279988  electric_bike  2024-01-30 09:37:27.477   \n",
       "\n",
       "                       ended_at        start_station_name start_station_id  \\\n",
       "484151  2024-01-27 09:03:28.519           8 Ave & W 38 St          6526.05   \n",
       "484162  2024-01-31 08:40:54.354        E 85 St & York Ave          7146.04   \n",
       "484167  2024-01-27 16:35:04.325  Central Park W & W 97 St          7538.18   \n",
       "484171  2024-01-31 11:41:01.995        E 32 St & Park Ave          6280.12   \n",
       "484175  2024-01-30 09:45:01.260        Carmine St & 6 Ave          5763.03   \n",
       "\n",
       "          end_station_name end_station_id  start_lat  start_lng    end_lat  \\\n",
       "484151  Broadway & W 25 St        6173.08  40.754610 -73.991770  40.742869   \n",
       "484162  Broadway & W 25 St        6173.08  40.775369 -73.948034  40.742869   \n",
       "484167  Broadway & W 25 St        6173.08  40.792495 -73.964171  40.742869   \n",
       "484171  Broadway & W 25 St        6173.08  40.745712 -73.981948  40.742869   \n",
       "484175  Broadway & W 25 St        6173.08  40.730386 -74.002150  40.742869   \n",
       "\n",
       "          end_lng member_casual  \n",
       "484151 -73.989186        casual  \n",
       "484162 -73.989186        member  \n",
       "484167 -73.989186        member  \n",
       "484171 -73.989186        member  \n",
       "484175 -73.989186        member  "
      ]
     },
     "execution_count": 25,
     "metadata": {},
     "output_type": "execute_result"
    }
   ],
   "source": [
    "jan_bike_df[jan_bike_df['end_station_id'].notna() &  jan_bike_df['end_station_id'].str.startswith('6173.08')].head(5)"
   ]
  },
  {
   "cell_type": "code",
   "execution_count": 24,
   "id": "4c359db1-8ad0-4f91-8a38-b67030bb686a",
   "metadata": {},
   "outputs": [
    {
     "data": {
      "text/html": [
       "<div>\n",
       "<style scoped>\n",
       "    .dataframe tbody tr th:only-of-type {\n",
       "        vertical-align: middle;\n",
       "    }\n",
       "\n",
       "    .dataframe tbody tr th {\n",
       "        vertical-align: top;\n",
       "    }\n",
       "\n",
       "    .dataframe thead th {\n",
       "        text-align: right;\n",
       "    }\n",
       "</style>\n",
       "<table border=\"1\" class=\"dataframe\">\n",
       "  <thead>\n",
       "    <tr style=\"text-align: right;\">\n",
       "      <th></th>\n",
       "      <th>ride_id</th>\n",
       "      <th>rideable_type</th>\n",
       "      <th>started_at</th>\n",
       "      <th>ended_at</th>\n",
       "      <th>start_station_name</th>\n",
       "      <th>start_station_id</th>\n",
       "      <th>end_station_name</th>\n",
       "      <th>end_station_id</th>\n",
       "      <th>start_lat</th>\n",
       "      <th>start_lng</th>\n",
       "      <th>end_lat</th>\n",
       "      <th>end_lng</th>\n",
       "      <th>member_casual</th>\n",
       "    </tr>\n",
       "  </thead>\n",
       "  <tbody>\n",
       "    <tr>\n",
       "      <th>801514</th>\n",
       "      <td>BDB4FC2EAE4A4713</td>\n",
       "      <td>electric_bike</td>\n",
       "      <td>2024-01-29 08:26:40.616</td>\n",
       "      <td>2024-01-29 08:35:54.643</td>\n",
       "      <td>University Pl &amp; E 14 St</td>\n",
       "      <td>5905.14</td>\n",
       "      <td>E 33 St &amp; 1 Ave</td>\n",
       "      <td>6197.08</td>\n",
       "      <td>40.734814</td>\n",
       "      <td>-73.992085</td>\n",
       "      <td>40.743227</td>\n",
       "      <td>-73.974498</td>\n",
       "      <td>member</td>\n",
       "    </tr>\n",
       "    <tr>\n",
       "      <th>801520</th>\n",
       "      <td>5B4A2D9328EE95B8</td>\n",
       "      <td>classic_bike</td>\n",
       "      <td>2024-01-27 15:42:14.053</td>\n",
       "      <td>2024-01-27 15:51:48.967</td>\n",
       "      <td>Broadway &amp; W 29 St</td>\n",
       "      <td>6289.06</td>\n",
       "      <td>E 33 St &amp; 1 Ave</td>\n",
       "      <td>6197.08</td>\n",
       "      <td>40.746201</td>\n",
       "      <td>-73.988557</td>\n",
       "      <td>40.743227</td>\n",
       "      <td>-73.974498</td>\n",
       "      <td>member</td>\n",
       "    </tr>\n",
       "    <tr>\n",
       "      <th>801528</th>\n",
       "      <td>BAB2DBCFFBB219CF</td>\n",
       "      <td>electric_bike</td>\n",
       "      <td>2024-01-29 08:04:43.186</td>\n",
       "      <td>2024-01-29 08:13:06.780</td>\n",
       "      <td>E 43 St &amp; Madison Ave</td>\n",
       "      <td>6551.11</td>\n",
       "      <td>E 33 St &amp; 1 Ave</td>\n",
       "      <td>6197.08</td>\n",
       "      <td>40.753547</td>\n",
       "      <td>-73.978966</td>\n",
       "      <td>40.743227</td>\n",
       "      <td>-73.974498</td>\n",
       "      <td>member</td>\n",
       "    </tr>\n",
       "    <tr>\n",
       "      <th>801539</th>\n",
       "      <td>FE1B5B8A56AF78AA</td>\n",
       "      <td>electric_bike</td>\n",
       "      <td>2024-01-31 08:57:51.651</td>\n",
       "      <td>2024-01-31 09:12:31.325</td>\n",
       "      <td>Greenwich Ave &amp; Charles St</td>\n",
       "      <td>5914.08</td>\n",
       "      <td>E 33 St &amp; 1 Ave</td>\n",
       "      <td>6197.08</td>\n",
       "      <td>40.735238</td>\n",
       "      <td>-74.000271</td>\n",
       "      <td>40.743227</td>\n",
       "      <td>-73.974498</td>\n",
       "      <td>member</td>\n",
       "    </tr>\n",
       "    <tr>\n",
       "      <th>801540</th>\n",
       "      <td>CC552E4B062FD208</td>\n",
       "      <td>electric_bike</td>\n",
       "      <td>2024-01-22 12:21:41.671</td>\n",
       "      <td>2024-01-22 12:25:46.584</td>\n",
       "      <td>E 40 St &amp; Park Ave</td>\n",
       "      <td>6432.11</td>\n",
       "      <td>E 33 St &amp; 1 Ave</td>\n",
       "      <td>6197.08</td>\n",
       "      <td>40.750756</td>\n",
       "      <td>-73.978326</td>\n",
       "      <td>40.743227</td>\n",
       "      <td>-73.974498</td>\n",
       "      <td>member</td>\n",
       "    </tr>\n",
       "  </tbody>\n",
       "</table>\n",
       "</div>"
      ],
      "text/plain": [
       "                 ride_id  rideable_type               started_at  \\\n",
       "801514  BDB4FC2EAE4A4713  electric_bike  2024-01-29 08:26:40.616   \n",
       "801520  5B4A2D9328EE95B8   classic_bike  2024-01-27 15:42:14.053   \n",
       "801528  BAB2DBCFFBB219CF  electric_bike  2024-01-29 08:04:43.186   \n",
       "801539  FE1B5B8A56AF78AA  electric_bike  2024-01-31 08:57:51.651   \n",
       "801540  CC552E4B062FD208  electric_bike  2024-01-22 12:21:41.671   \n",
       "\n",
       "                       ended_at          start_station_name start_station_id  \\\n",
       "801514  2024-01-29 08:35:54.643     University Pl & E 14 St          5905.14   \n",
       "801520  2024-01-27 15:51:48.967          Broadway & W 29 St          6289.06   \n",
       "801528  2024-01-29 08:13:06.780       E 43 St & Madison Ave          6551.11   \n",
       "801539  2024-01-31 09:12:31.325  Greenwich Ave & Charles St          5914.08   \n",
       "801540  2024-01-22 12:25:46.584          E 40 St & Park Ave          6432.11   \n",
       "\n",
       "       end_station_name end_station_id  start_lat  start_lng    end_lat  \\\n",
       "801514  E 33 St & 1 Ave        6197.08  40.734814 -73.992085  40.743227   \n",
       "801520  E 33 St & 1 Ave        6197.08  40.746201 -73.988557  40.743227   \n",
       "801528  E 33 St & 1 Ave        6197.08  40.753547 -73.978966  40.743227   \n",
       "801539  E 33 St & 1 Ave        6197.08  40.735238 -74.000271  40.743227   \n",
       "801540  E 33 St & 1 Ave        6197.08  40.750756 -73.978326  40.743227   \n",
       "\n",
       "          end_lng member_casual  \n",
       "801514 -73.974498        member  \n",
       "801520 -73.974498        member  \n",
       "801528 -73.974498        member  \n",
       "801539 -73.974498        member  \n",
       "801540 -73.974498        member  "
      ]
     },
     "execution_count": 24,
     "metadata": {},
     "output_type": "execute_result"
    }
   ],
   "source": [
    "jan_bike_df[jan_bike_df['end_station_name'].notna() & jan_bike_df['end_station_name'].str.startswith('E 33 St & 1 Ave')].head(5)"
   ]
  },
  {
   "cell_type": "markdown",
   "id": "98537188-b428-4bfc-8c3a-36b8c25dbf95",
   "metadata": {},
   "source": [
    "The "
   ]
  },
  {
   "cell_type": "code",
   "execution_count": 40,
   "id": "35669e2b-e0a5-4ec3-9ceb-ff60271278cd",
   "metadata": {
    "scrolled": true
   },
   "outputs": [
    {
     "name": "stdout",
     "output_type": "stream",
     "text": [
      "9181B759B3DDCB58,electric_bike,2024-01-10 09:00:17.612,2024-01-10 09:25:26.988,E 12 St & 3 Ave,5788.12,190 Morgan,190 Morgan,40.73223272,-73.98889957,40.711071680975735,-73.9320957361997,member\n"
     ]
    }
   ],
   "source": [
    "!cat data/202401/202401-citibike-tripdata_1.csv | grep 9181B759B3DDCB58"
   ]
  },
  {
   "cell_type": "code",
   "execution_count": 61,
   "id": "e15e09c8-2399-4ce1-bccc-152c9eebe317",
   "metadata": {},
   "outputs": [
    {
     "name": "stdout",
     "output_type": "stream",
     "text": [
      "BC6E64B3F0D70EA7,electric_bike,2024-01-28 00:10:15.100,2024-01-28 00:35:59.591,Lexington Ave & E 36 St,6313.1,Jackson St & Leonard St,5332.1,40.7475739589548,-73.9788007736206,40.71638031973561,-73.94821286201477,member\n"
     ]
    }
   ],
   "source": [
    "!cat data/202401/202401-citibike-tripdata_2.csv | grep BC6E64B3F0D70EA7"
   ]
  },
  {
   "cell_type": "markdown",
   "id": "ab231e8a-db25-4e91-b43f-bddcabeadb3f",
   "metadata": {},
   "source": [
    "Unique values of **rideable type**"
   ]
  },
  {
   "cell_type": "code",
   "execution_count": 64,
   "id": "2d270a18-c16a-4981-b0f7-b8b33b7822db",
   "metadata": {},
   "outputs": [
    {
     "data": {
      "text/plain": [
       "array(['classic_bike', 'electric_bike'], dtype=object)"
      ]
     },
     "execution_count": 64,
     "metadata": {},
     "output_type": "execute_result"
    }
   ],
   "source": [
    "jan_bike_df.rideable_type.unique()"
   ]
  },
  {
   "cell_type": "markdown",
   "id": "9c5eb60c-cb00-4d9e-9530-d2cb41a673ab",
   "metadata": {},
   "source": [
    "Unique values of **member casual**"
   ]
  },
  {
   "cell_type": "code",
   "execution_count": 63,
   "id": "6fec7cf9-7134-4b04-80b9-081bf77718de",
   "metadata": {},
   "outputs": [
    {
     "data": {
      "text/plain": [
       "array(['member', 'casual'], dtype=object)"
      ]
     },
     "execution_count": 63,
     "metadata": {},
     "output_type": "execute_result"
    }
   ],
   "source": [
    "# Unique values\n",
    "jan_bike_df.member_casual.unique()"
   ]
  },
  {
   "cell_type": "markdown",
   "id": "16923abe-b59e-4926-ac49-3fe2fa868404",
   "metadata": {},
   "source": [
    "## Download weather dataset"
   ]
  },
  {
   "cell_type": "code",
   "execution_count": 9,
   "id": "091d2658-d2c1-4a0b-a2ac-726f8ecfa9d6",
   "metadata": {},
   "outputs": [],
   "source": [
    "def download_waather_data(\n",
    "    year: int,\n",
    "    start_month: int = 1,\n",
    "    end_month: int = None,\n",
    "    download_folder: str = './'\n",
    "):\n",
    "\n",
    "    assert download_folder, \"Output dir is empty\" \n",
    "    assert start_month >= 1 & start_month <= 12, \"from_month must be between 1 and 12\" \n",
    "    if not end_month:\n",
    "        end_month = from_month\n",
    "    assert end_month >= 1 & end_month <= 12, \"to_month must be between 1 and 12\" \n",
    "    assert start_month <= end_month, \"from_month must be less than or equal to to_month\" \n",
    "\n",
    "    # Ranges of dates\n",
    "    startdate = date(year, start_month, 1)\n",
    "    enddate = date(year, end_month, calendar.monthrange(year=year, month=end_month)[1])\n",
    "    startdate_str = startdate.strftime(\"%Y-%m-%d\")\n",
    "    enddate_str = enddate.strftime(\"%Y-%m-%d\")\n",
    "\n",
    "    print(f\"Downloading weather data from {startdate_str} to {enddate_str}\")\n",
    "    \n",
    "    # set params\n",
    "    dataset = 'GHCND'\n",
    "    station_id = 'GHCND:USW00014732' # LGA\n",
    "    data_types = ['TAVG', 'TMAX', 'TMIN', 'PRCP', 'AWND', 'SNOW', 'SNWD']\n",
    "    \n",
    "    results = []\n",
    "\n",
    "    # Start measuring time\n",
    "    start_time = time.time()\n",
    "\n",
    "    # NOAA limits responses to the first 1,000 hence they must be performed year- and data_type-wise\n",
    "    for i in range(0, len(data_types) - 1, 2):\n",
    "        types = data_types[i:i+2]\n",
    "        data_request = ','.join(types)\n",
    "        dt_results = []\n",
    "        \n",
    "        r = requests.get('https://www.ncdc.noaa.gov/cdo-web/api/v2/data?datasetid='+dataset+'&limit=1000&stationid='+station_id+'&datatypeid='+data_request+'&startdate='+startdate_str+'&enddate='+enddate_str+'&units=standard', headers={'token':TOKEN_NOAA})\n",
    "        time.sleep(0.1)\n",
    "        # load the api response as a json\n",
    "        #print(r.text)\n",
    "        d = json.loads(r.text)\n",
    "        results += d['results']\n",
    "\n",
    "\n",
    "    if len(data_types) % 2 == 1: # pairwise looping will miss the last element if it has an odd number\n",
    "        data_request = data_types[-1]\n",
    "        print('working on '+data_request)\n",
    "    \n",
    "        # temps\n",
    "        # make the api call\n",
    "        r = requests.get('https://www.ncdc.noaa.gov/cdo-web/api/v2/data?datasetid='+dataset+'&limit=1000&stationid='+station_id+'&datatypeid='+data_request+'&startdate='+startdate_str+'&enddate='+enddate_str+'&units=standard', headers={'token':TOKEN_NOAA})\n",
    "        time.sleep(0.1)\n",
    "        # load the api response as a json\n",
    "        d = json.loads(r.text)\n",
    "        results += d['results']\n",
    "\n",
    "\n",
    "    #return results\n",
    "    # get data types we want\n",
    "    wthr = pd.DataFrame(columns=['date', 'param', 'value'])\n",
    "    \n",
    "    for dt in data_types:\n",
    "        dt_data = [[x['date'], x['datatype'], x['value']] for x in results if x['datatype']==dt]\n",
    "        dt_df = pd.DataFrame(dt_data, columns=['date', 'param', 'value'])\n",
    "        wthr = pd.concat([wthr, dt_df])\n",
    "\n",
    "    # remove dupes then pivot so each data type has its own column\n",
    "    wthr = wthr.drop_duplicates()\\\n",
    "            .pivot(index='date', columns=['param'], values=['value']).reset_index()\\\n",
    "            .dropna()\n",
    "    wthr['date'] = pd.to_datetime(wthr['date'])\n",
    "    wthr.columns = ['DATE', 'AWND', 'PRCP', 'SNOW', 'SNWD', 'TAVG', 'TMAX', 'TMIN']\n",
    "    #wthr.columns = ['date', 'AWND', 'PRCP', 'SNOW',  'TAVG', 'TMAX', 'TMIN']\n",
    "    #wthr.columns = [x.lower() for x in wthr.columns]\n",
    "\n",
    "    # Calculate the time taken for the download\n",
    "    end_time = time.time()\n",
    "    download_time = end_time - start_time\n",
    "    print(f\"Download time: {download_time:.2f} seconds.\")\n",
    "\n",
    "    # Save weather data\n",
    "    # Create the full path for saving the file\n",
    "    weather_data_file = f\"{curr_year}-weather.parquet\"\n",
    "    weather_data_path = os.path.join(download_folder, weather_data_file)\n",
    "    wthr.to_parquet(weather_data_path, engine=\"pyarrow\", index=False)"
   ]
  },
  {
   "cell_type": "code",
   "execution_count": 10,
   "id": "129f961a-0045-4bb2-a294-5c182d2d8b35",
   "metadata": {},
   "outputs": [],
   "source": [
    "TOKEN_NOAA = 'pnlCcAXltgBoBYuzwcrPbZJsbCbVAWLE'"
   ]
  },
  {
   "cell_type": "code",
   "execution_count": 4,
   "id": "6128604f-10fa-469f-97eb-f632d8c16422",
   "metadata": {},
   "outputs": [
    {
     "data": {
      "text/plain": [
       "29"
      ]
     },
     "execution_count": 4,
     "metadata": {},
     "output_type": "execute_result"
    }
   ],
   "source": [
    "calendar.monthrange(year=2024, month=2)[1]"
   ]
  },
  {
   "cell_type": "code",
   "execution_count": null,
   "id": "08d3684c-839f-4dd0-8be7-4d9da157424f",
   "metadata": {},
   "outputs": [],
   "source": [
    "RAW_DATASET_DIR"
   ]
  },
  {
   "cell_type": "code",
   "execution_count": 12,
   "id": "4d4ed824-9ea0-4618-9de1-19233288b6da",
   "metadata": {},
   "outputs": [
    {
     "name": "stdout",
     "output_type": "stream",
     "text": [
      "Downloading weather data from 2023-01-01 to 2023-12-31\n",
      "working on SNWD\n"
     ]
    },
    {
     "name": "stderr",
     "output_type": "stream",
     "text": [
      "/tmp/ipykernel_68369/3769119506.py:67: FutureWarning: The behavior of DataFrame concatenation with empty or all-NA entries is deprecated. In a future version, this will no longer exclude empty or all-NA columns when determining the result dtypes. To retain the old behavior, exclude the relevant entries before the concat operation.\n",
      "  wthr = pd.concat([wthr, dt_df])\n"
     ]
    },
    {
     "name": "stdout",
     "output_type": "stream",
     "text": [
      "Download time: 7.91 seconds.\n",
      "Downloading weather data from 2024-01-01 to 2024-12-31\n",
      "working on SNWD\n",
      "Download time: 6.06 seconds.\n"
     ]
    },
    {
     "name": "stderr",
     "output_type": "stream",
     "text": [
      "/tmp/ipykernel_68369/3769119506.py:67: FutureWarning: The behavior of DataFrame concatenation with empty or all-NA entries is deprecated. In a future version, this will no longer exclude empty or all-NA columns when determining the result dtypes. To retain the old behavior, exclude the relevant entries before the concat operation.\n",
      "  wthr = pd.concat([wthr, dt_df])\n"
     ]
    }
   ],
   "source": [
    "# Downloading  train weather data\n",
    "for curr_year in [2023, 2024]:\n",
    "    #curr_year = 2023\n",
    "    start_month = 1\n",
    "    end_month = 12\n",
    "    #train_data_dir = f\"data/parquet/{curr_year}\"\n",
    "    \n",
    "    download_waather_data(\n",
    "        year=curr_year,\n",
    "        start_month=start_month,\n",
    "        end_month=end_month,\n",
    "        #download_folder=train_data_dir\n",
    "        download_folder=RAW_DATASET_DIR\n",
    "    )"
   ]
  },
  {
   "cell_type": "code",
   "execution_count": 85,
   "id": "a9ac01fc-6dcd-4e51-beb0-239542f9977d",
   "metadata": {},
   "outputs": [
    {
     "name": "stdout",
     "output_type": "stream",
     "text": [
      "Downloading weather data from 2024-01-01 to 2024-12-31\n",
      "working on SNWD\n",
      "Download time: 6.30 seconds.\n"
     ]
    },
    {
     "name": "stderr",
     "output_type": "stream",
     "text": [
      "/tmp/ipykernel_1705/3769119506.py:67: FutureWarning: The behavior of DataFrame concatenation with empty or all-NA entries is deprecated. In a future version, this will no longer exclude empty or all-NA columns when determining the result dtypes. To retain the old behavior, exclude the relevant entries before the concat operation.\n",
      "  wthr = pd.concat([wthr, dt_df])\n"
     ]
    }
   ],
   "source": [
    "# Downloading train data\n",
    "curr_year = 2024\n",
    "start_month = 1\n",
    "end_month = 12\n",
    "train_data_dir = f\"data/parquet/{curr_year}\"\n",
    "\n",
    "download_waather_data(\n",
    "    year=curr_year,\n",
    "    start_month=start_month,\n",
    "    end_month=end_month,\n",
    "    download_folder=train_data_dir\n",
    ")"
   ]
  },
  {
   "cell_type": "code",
   "execution_count": 16,
   "id": "760f5231-26d1-4bf4-9c6c-18f8c33a373a",
   "metadata": {},
   "outputs": [],
   "source": [
    "curr_year = 2024\n",
    "#train_data_dir = f\"data/parquet/{curr_year}\"\n",
    "weather_data_file = f\"{curr_year}-weather.parquet\"\n",
    "weather_data_path = os.path.join(RAW_DATASET_DIR, weather_data_file)\n",
    "train_weather_data = pd.read_parquet(weather_data_path)"
   ]
  },
  {
   "cell_type": "code",
   "execution_count": 17,
   "id": "f86b9156-2c40-42cf-a18d-faa3f276d4b0",
   "metadata": {},
   "outputs": [
    {
     "data": {
      "text/plain": [
       "(366, 8)"
      ]
     },
     "execution_count": 17,
     "metadata": {},
     "output_type": "execute_result"
    }
   ],
   "source": [
    "train_weather_data.shape"
   ]
  },
  {
   "cell_type": "code",
   "execution_count": 18,
   "id": "d29febfe-385e-40ef-836e-eef20ec633c6",
   "metadata": {},
   "outputs": [
    {
     "data": {
      "text/html": [
       "<div>\n",
       "<style scoped>\n",
       "    .dataframe tbody tr th:only-of-type {\n",
       "        vertical-align: middle;\n",
       "    }\n",
       "\n",
       "    .dataframe tbody tr th {\n",
       "        vertical-align: top;\n",
       "    }\n",
       "\n",
       "    .dataframe thead th {\n",
       "        text-align: right;\n",
       "    }\n",
       "</style>\n",
       "<table border=\"1\" class=\"dataframe\">\n",
       "  <thead>\n",
       "    <tr style=\"text-align: right;\">\n",
       "      <th></th>\n",
       "      <th>DATE</th>\n",
       "      <th>AWND</th>\n",
       "      <th>PRCP</th>\n",
       "      <th>SNOW</th>\n",
       "      <th>SNWD</th>\n",
       "      <th>TAVG</th>\n",
       "      <th>TMAX</th>\n",
       "      <th>TMIN</th>\n",
       "    </tr>\n",
       "  </thead>\n",
       "  <tbody>\n",
       "    <tr>\n",
       "      <th>0</th>\n",
       "      <td>2024-01-01</td>\n",
       "      <td>6.7</td>\n",
       "      <td>0.01</td>\n",
       "      <td>0.0</td>\n",
       "      <td>0.0</td>\n",
       "      <td>43.0</td>\n",
       "      <td>47.0</td>\n",
       "      <td>36.0</td>\n",
       "    </tr>\n",
       "    <tr>\n",
       "      <th>1</th>\n",
       "      <td>2024-01-02</td>\n",
       "      <td>9.4</td>\n",
       "      <td>0.00</td>\n",
       "      <td>0.0</td>\n",
       "      <td>0.0</td>\n",
       "      <td>37.0</td>\n",
       "      <td>43.0</td>\n",
       "      <td>30.0</td>\n",
       "    </tr>\n",
       "    <tr>\n",
       "      <th>2</th>\n",
       "      <td>2024-01-03</td>\n",
       "      <td>9.2</td>\n",
       "      <td>0.00</td>\n",
       "      <td>0.0</td>\n",
       "      <td>0.0</td>\n",
       "      <td>39.0</td>\n",
       "      <td>43.0</td>\n",
       "      <td>35.0</td>\n",
       "    </tr>\n",
       "    <tr>\n",
       "      <th>3</th>\n",
       "      <td>2024-01-04</td>\n",
       "      <td>15.0</td>\n",
       "      <td>0.00</td>\n",
       "      <td>0.0</td>\n",
       "      <td>0.0</td>\n",
       "      <td>41.0</td>\n",
       "      <td>45.0</td>\n",
       "      <td>29.0</td>\n",
       "    </tr>\n",
       "    <tr>\n",
       "      <th>4</th>\n",
       "      <td>2024-01-05</td>\n",
       "      <td>11.9</td>\n",
       "      <td>0.00</td>\n",
       "      <td>0.0</td>\n",
       "      <td>0.0</td>\n",
       "      <td>32.0</td>\n",
       "      <td>38.0</td>\n",
       "      <td>27.0</td>\n",
       "    </tr>\n",
       "  </tbody>\n",
       "</table>\n",
       "</div>"
      ],
      "text/plain": [
       "        DATE  AWND  PRCP  SNOW  SNWD  TAVG  TMAX  TMIN\n",
       "0 2024-01-01   6.7  0.01   0.0   0.0  43.0  47.0  36.0\n",
       "1 2024-01-02   9.4  0.00   0.0   0.0  37.0  43.0  30.0\n",
       "2 2024-01-03   9.2  0.00   0.0   0.0  39.0  43.0  35.0\n",
       "3 2024-01-04  15.0  0.00   0.0   0.0  41.0  45.0  29.0\n",
       "4 2024-01-05  11.9  0.00   0.0   0.0  32.0  38.0  27.0"
      ]
     },
     "execution_count": 18,
     "metadata": {},
     "output_type": "execute_result"
    }
   ],
   "source": [
    "# Show sample\n",
    "train_weather_data.head()"
   ]
  },
  {
   "cell_type": "code",
   "execution_count": 20,
   "id": "cfdbab3a-3ccb-496e-890d-f50a6d70370c",
   "metadata": {},
   "outputs": [
    {
     "name": "stdout",
     "output_type": "stream",
     "text": [
      "Downloading weather data from 2025-01-01 to 2025-03-31\n",
      "working on SNWD\n",
      "Download time: 6.04 seconds.\n"
     ]
    },
    {
     "name": "stderr",
     "output_type": "stream",
     "text": [
      "/tmp/ipykernel_68369/3769119506.py:67: FutureWarning: The behavior of DataFrame concatenation with empty or all-NA entries is deprecated. In a future version, this will no longer exclude empty or all-NA columns when determining the result dtypes. To retain the old behavior, exclude the relevant entries before the concat operation.\n",
      "  wthr = pd.concat([wthr, dt_df])\n"
     ]
    }
   ],
   "source": [
    "# Downloading test weather data\n",
    "for curr_year in [2025]:\n",
    "    #curr_year = 2025\n",
    "    start_month = 1\n",
    "    end_month = 3\n",
    "    #test_data_dir = f\"data/parquet/{curr_year}\"\n",
    "    \n",
    "    download_waather_data(\n",
    "        year=curr_year,\n",
    "        start_month=start_month,\n",
    "        end_month=end_month,\n",
    "        #download_folder=test_data_dir\n",
    "        download_folder=RAW_DATASET_DIR\n",
    "    )"
   ]
  },
  {
   "cell_type": "code",
   "execution_count": 21,
   "id": "ed0ea74b-6ba9-410b-8430-3fc8af42bf9c",
   "metadata": {},
   "outputs": [],
   "source": [
    "curr_year = 2025\n",
    "#test_data_dir = f\"data/parquet/{curr_year}\"\n",
    "weather_data_file = f\"{curr_year}-weather.parquet\"\n",
    "weather_data_path = os.path.join(RAW_DATASET_DIR, weather_data_file)\n",
    "test_weather_data = pd.read_parquet(weather_data_path)"
   ]
  },
  {
   "cell_type": "code",
   "execution_count": 22,
   "id": "d3bf9f23-d033-41f9-a6bc-5a0f77fe425a",
   "metadata": {},
   "outputs": [
    {
     "data": {
      "text/plain": [
       "(88, 8)"
      ]
     },
     "execution_count": 22,
     "metadata": {},
     "output_type": "execute_result"
    }
   ],
   "source": [
    "test_weather_data.shape"
   ]
  },
  {
   "cell_type": "code",
   "execution_count": 23,
   "id": "5d50c7f0-2476-41fe-86f2-11962fb402cc",
   "metadata": {},
   "outputs": [
    {
     "data": {
      "text/html": [
       "<div>\n",
       "<style scoped>\n",
       "    .dataframe tbody tr th:only-of-type {\n",
       "        vertical-align: middle;\n",
       "    }\n",
       "\n",
       "    .dataframe tbody tr th {\n",
       "        vertical-align: top;\n",
       "    }\n",
       "\n",
       "    .dataframe thead th {\n",
       "        text-align: right;\n",
       "    }\n",
       "</style>\n",
       "<table border=\"1\" class=\"dataframe\">\n",
       "  <thead>\n",
       "    <tr style=\"text-align: right;\">\n",
       "      <th></th>\n",
       "      <th>DATE</th>\n",
       "      <th>AWND</th>\n",
       "      <th>PRCP</th>\n",
       "      <th>SNOW</th>\n",
       "      <th>SNWD</th>\n",
       "      <th>TAVG</th>\n",
       "      <th>TMAX</th>\n",
       "      <th>TMIN</th>\n",
       "    </tr>\n",
       "  </thead>\n",
       "  <tbody>\n",
       "    <tr>\n",
       "      <th>0</th>\n",
       "      <td>2025-01-01</td>\n",
       "      <td>16.1</td>\n",
       "      <td>0.0</td>\n",
       "      <td>0.0</td>\n",
       "      <td>0.0</td>\n",
       "      <td>47.0</td>\n",
       "      <td>52.0</td>\n",
       "      <td>40.0</td>\n",
       "    </tr>\n",
       "    <tr>\n",
       "      <th>1</th>\n",
       "      <td>2025-01-02</td>\n",
       "      <td>20.4</td>\n",
       "      <td>0.0</td>\n",
       "      <td>0.0</td>\n",
       "      <td>0.0</td>\n",
       "      <td>41.0</td>\n",
       "      <td>44.0</td>\n",
       "      <td>35.0</td>\n",
       "    </tr>\n",
       "    <tr>\n",
       "      <th>2</th>\n",
       "      <td>2025-01-03</td>\n",
       "      <td>14.3</td>\n",
       "      <td>0.0</td>\n",
       "      <td>0.0</td>\n",
       "      <td>0.0</td>\n",
       "      <td>36.0</td>\n",
       "      <td>40.0</td>\n",
       "      <td>32.0</td>\n",
       "    </tr>\n",
       "    <tr>\n",
       "      <th>3</th>\n",
       "      <td>2025-01-04</td>\n",
       "      <td>22.1</td>\n",
       "      <td>0.0</td>\n",
       "      <td>0.0</td>\n",
       "      <td>0.0</td>\n",
       "      <td>33.0</td>\n",
       "      <td>34.0</td>\n",
       "      <td>29.0</td>\n",
       "    </tr>\n",
       "    <tr>\n",
       "      <th>4</th>\n",
       "      <td>2025-01-05</td>\n",
       "      <td>16.6</td>\n",
       "      <td>0.0</td>\n",
       "      <td>0.0</td>\n",
       "      <td>0.0</td>\n",
       "      <td>30.0</td>\n",
       "      <td>34.0</td>\n",
       "      <td>28.0</td>\n",
       "    </tr>\n",
       "  </tbody>\n",
       "</table>\n",
       "</div>"
      ],
      "text/plain": [
       "        DATE  AWND  PRCP  SNOW  SNWD  TAVG  TMAX  TMIN\n",
       "0 2025-01-01  16.1   0.0   0.0   0.0  47.0  52.0  40.0\n",
       "1 2025-01-02  20.4   0.0   0.0   0.0  41.0  44.0  35.0\n",
       "2 2025-01-03  14.3   0.0   0.0   0.0  36.0  40.0  32.0\n",
       "3 2025-01-04  22.1   0.0   0.0   0.0  33.0  34.0  29.0\n",
       "4 2025-01-05  16.6   0.0   0.0   0.0  30.0  34.0  28.0"
      ]
     },
     "execution_count": 23,
     "metadata": {},
     "output_type": "execute_result"
    }
   ],
   "source": [
    "# Show sample\n",
    "test_weather_data.head()"
   ]
  },
  {
   "cell_type": "markdown",
   "id": "9a6a2b82-4236-4010-ace5-742ae110a0ee",
   "metadata": {},
   "source": [
    "## Tranform to Parquet"
   ]
  },
  {
   "cell_type": "code",
   "execution_count": 199,
   "id": "fcc539c5-8872-4e57-81df-077e106dbb31",
   "metadata": {},
   "outputs": [],
   "source": [
    "def save_to_single_parquet(\n",
    "    base_path: str,\n",
    "    year: int,\n",
    "    from_month: int = 1,\n",
    "    to_month: int = None,\n",
    "    output_path: str = None\n",
    "):\n",
    "    assert from_month >= 1 & from_month <= 12, \"from_month must be between 1 and 12\" \n",
    "    if not to_month:\n",
    "        to_month = from_month\n",
    "    assert to_month >= 1 & to_month <= 12, \"to_month must be between 1 and 12\" \n",
    "    assert from_month <= to_month, \"from_month must be less than or equal to to_month\" \n",
    "\n",
    "    src_data_dir = os.path.join(base_path, str(year))\n",
    "    dest_data_dir = os.path.join(output_path, str(year))\n",
    "    os.makedirs(src_data_dir, exist_ok=True)\n",
    "    os.makedirs(dest_data_dir, exist_ok=True)\n",
    "\n",
    "    for month in range(from_month, to_month + 1):\n",
    "        zip_file = f\"{year}{month:02}-citibike-tripdata.zip\"\n",
    "        zip_path = os.path.join(src_data_dir, zip_file)\n",
    "        parquet_file = f\"{year}{month:02}-citibike-tripdata.parquet\"\n",
    "        parquet_path = os.path.join(dest_data_dir, parquet_file)\n",
    "    \n",
    "        if os.path.exists(parquet_path):\n",
    "            print(f\"Skip file {zip_path}. Found file {parquet_path}\")\n",
    "            continue\n",
    "        \n",
    "        print(f\"Reading file zip {zip_path}...\")\n",
    "        bike_df = read_csvs_from_zip(zip_path)\n",
    "    \n",
    "        # ride_id\n",
    "        bike_df['ride_id'] = bike_df['ride_id'].astype(str) \n",
    "        \n",
    "        # Preprocess\n",
    "        bike_df['start_station_id'] = bike_df['start_station_id'].astype(str) \n",
    "        bike_df['end_station_id'] = bike_df['end_station_id'].astype(str) \n",
    "        bike_df['start_station_id'] = bike_df['start_station_id'].replace('nan', np.nan)\n",
    "        bike_df['end_station_id'] = bike_df['end_station_id'].replace('nan', np.nan)\n",
    "    \n",
    "        # Transform columns to category type\n",
    "        bike_df['rideable_type'] = bike_df['rideable_type'].astype('category')\n",
    "        bike_df['member_casual'] = bike_df['member_casual'].astype('category')\n",
    "    \n",
    "        # Convert columns to datetime type\n",
    "        bike_df['started_at'] = pd.to_datetime(bike_df['started_at'], errors='coerce')\n",
    "        bike_df['ended_at'] = pd.to_datetime(bike_df['ended_at'], errors='coerce')\n",
    "    \n",
    "        # Partiion file\n",
    "        #bike_df['year'] = bike_df['started_at'].dt.year\n",
    "        #bike_df['month'] = bike_df['started_at'].dt.month\n",
    "        \n",
    "        bike_df.to_parquet(parquet_path, engine=\"pyarrow\", index=False)\n",
    "    \n",
    "        del bike_df\n",
    "\n",
    "        # Trigger garbage collection manually\n",
    "        gc.collect()\n",
    "    \n",
    "    # Trigger garbage collection manually\n",
    "    gc.collect()"
   ]
  },
  {
   "cell_type": "code",
   "execution_count": 201,
   "id": "7d13da20-ac70-420f-bd61-1603f6e36c6e",
   "metadata": {},
   "outputs": [
    {
     "name": "stdout",
     "output_type": "stream",
     "text": [
      "Skip file data/raw/2024/202401-citibike-tripdata.zip. Found file data/parquet/2024/202401-citibike-tripdata.parquet\n",
      "Skip file data/raw/2024/202402-citibike-tripdata.zip. Found file data/parquet/2024/202402-citibike-tripdata.parquet\n",
      "Skip file data/raw/2024/202403-citibike-tripdata.zip. Found file data/parquet/2024/202403-citibike-tripdata.parquet\n",
      "Skip file data/raw/2024/202404-citibike-tripdata.zip. Found file data/parquet/2024/202404-citibike-tripdata.parquet\n",
      "Skip file data/raw/2024/202405-citibike-tripdata.zip. Found file data/parquet/2024/202405-citibike-tripdata.parquet\n",
      "Skip file data/raw/2024/202406-citibike-tripdata.zip. Found file data/parquet/2024/202406-citibike-tripdata.parquet\n",
      "Skip file data/raw/2024/202407-citibike-tripdata.zip. Found file data/parquet/2024/202407-citibike-tripdata.parquet\n",
      "Skip file data/raw/2024/202408-citibike-tripdata.zip. Found file data/parquet/2024/202408-citibike-tripdata.parquet\n",
      "Skip file data/raw/2024/202409-citibike-tripdata.zip. Found file data/parquet/2024/202409-citibike-tripdata.parquet\n",
      "Skip file data/raw/2024/202410-citibike-tripdata.zip. Found file data/parquet/2024/202410-citibike-tripdata.parquet\n",
      "Skip file data/raw/2024/202411-citibike-tripdata.zip. Found file data/parquet/2024/202411-citibike-tripdata.parquet\n",
      "Skip file data/raw/2024/202412-citibike-tripdata.zip. Found file data/parquet/2024/202412-citibike-tripdata.parquet\n",
      "CPU times: user 182 ms, sys: 3.62 ms, total: 185 ms\n",
      "Wall time: 183 ms\n"
     ]
    }
   ],
   "source": [
    "%%time\n",
    "\n",
    "curr_year = 2024\n",
    "from_month = 1\n",
    "to_month = 12\n",
    "train_data_dir = \"data/raw\"\n",
    "train_parquet_data_dir = \"data/parquet\"\n",
    "save_to_single_parquet(\n",
    "    base_path=train_data_dir,\n",
    "    year=curr_year,\n",
    "    from_month=from_month,\n",
    "    to_month=to_month,\n",
    "    output_path=train_parquet_data_dir\n",
    ")"
   ]
  },
  {
   "cell_type": "code",
   "execution_count": 202,
   "id": "28b6b3a8-ed3b-41ca-be70-2082a838c353",
   "metadata": {},
   "outputs": [
    {
     "name": "stdout",
     "output_type": "stream",
     "text": [
      "Skip file data/raw/2025/202501-citibike-tripdata.zip. Found file data/parquet/2025/202501-citibike-tripdata.parquet\n",
      "Skip file data/raw/2025/202502-citibike-tripdata.zip. Found file data/parquet/2025/202502-citibike-tripdata.parquet\n",
      "Skip file data/raw/2025/202503-citibike-tripdata.zip. Found file data/parquet/2025/202503-citibike-tripdata.parquet\n",
      "CPU times: user 169 ms, sys: 0 ns, total: 169 ms\n",
      "Wall time: 167 ms\n"
     ]
    }
   ],
   "source": [
    "%%time\n",
    "\n",
    "curr_year = 2025\n",
    "from_month = 1\n",
    "to_month = 3\n",
    "test_data_dir = \"data/raw\"\n",
    "test_parquet_data_dir = \"data/parquet\"\n",
    "save_to_single_parquet(\n",
    "    base_path=test_data_dir,\n",
    "    year=curr_year,\n",
    "    from_month=from_month,\n",
    "    to_month=to_month,\n",
    "    output_path=test_parquet_data_dir\n",
    ")"
   ]
  },
  {
   "cell_type": "code",
   "execution_count": 83,
   "id": "2b966f2f-e463-4ac0-a6d4-5900cf2d1c3b",
   "metadata": {},
   "outputs": [],
   "source": [
    "curr_month = 1\n",
    "parquet_file_path = f\"{data_dir}/{curr_year}{curr_month:02}-citibike-tripdata.parquet\"\n",
    "jan_bike_df = pd.read_parquet(parquet_file_path)"
   ]
  },
  {
   "cell_type": "code",
   "execution_count": 84,
   "id": "88398577-909a-44b7-befc-56e5dea85c69",
   "metadata": {},
   "outputs": [
    {
     "name": "stdout",
     "output_type": "stream",
     "text": [
      "<class 'pandas.core.frame.DataFrame'>\n",
      "RangeIndex: 1888085 entries, 0 to 1888084\n",
      "Data columns (total 13 columns):\n",
      " #   Column              Dtype         \n",
      "---  ------              -----         \n",
      " 0   ride_id             object        \n",
      " 1   rideable_type       category      \n",
      " 2   started_at          datetime64[ns]\n",
      " 3   ended_at            datetime64[ns]\n",
      " 4   start_station_name  object        \n",
      " 5   start_station_id    object        \n",
      " 6   end_station_name    object        \n",
      " 7   end_station_id      object        \n",
      " 8   start_lat           float64       \n",
      " 9   start_lng           float64       \n",
      " 10  end_lat             float64       \n",
      " 11  end_lng             float64       \n",
      " 12  member_casual       category      \n",
      "dtypes: category(2), datetime64[ns](2), float64(4), object(5)\n",
      "memory usage: 162.1+ MB\n"
     ]
    }
   ],
   "source": [
    "jan_bike_df.info()"
   ]
  },
  {
   "cell_type": "code",
   "execution_count": 81,
   "id": "838f03cc-9852-4b86-bede-de85939adbdd",
   "metadata": {},
   "outputs": [
    {
     "data": {
      "text/html": [
       "<div>\n",
       "<style scoped>\n",
       "    .dataframe tbody tr th:only-of-type {\n",
       "        vertical-align: middle;\n",
       "    }\n",
       "\n",
       "    .dataframe tbody tr th {\n",
       "        vertical-align: top;\n",
       "    }\n",
       "\n",
       "    .dataframe thead th {\n",
       "        text-align: right;\n",
       "    }\n",
       "</style>\n",
       "<table border=\"1\" class=\"dataframe\">\n",
       "  <thead>\n",
       "    <tr style=\"text-align: right;\">\n",
       "      <th></th>\n",
       "      <th>ride_id</th>\n",
       "      <th>rideable_type</th>\n",
       "      <th>started_at</th>\n",
       "      <th>ended_at</th>\n",
       "      <th>start_station_name</th>\n",
       "      <th>start_station_id</th>\n",
       "      <th>end_station_name</th>\n",
       "      <th>end_station_id</th>\n",
       "      <th>start_lat</th>\n",
       "      <th>start_lng</th>\n",
       "      <th>end_lat</th>\n",
       "      <th>end_lng</th>\n",
       "      <th>member_casual</th>\n",
       "    </tr>\n",
       "  </thead>\n",
       "  <tbody>\n",
       "    <tr>\n",
       "      <th>0</th>\n",
       "      <td>62EF1AC5BE598131</td>\n",
       "      <td>classic_bike</td>\n",
       "      <td>2024-01-24 09:03:33.533</td>\n",
       "      <td>2024-01-24 09:06:53.535</td>\n",
       "      <td>E 102 St &amp; 1 Ave</td>\n",
       "      <td>7407.13</td>\n",
       "      <td>E 103 St &amp; Lexington Ave</td>\n",
       "      <td>7463.09</td>\n",
       "      <td>40.786995</td>\n",
       "      <td>-73.941648</td>\n",
       "      <td>40.790305</td>\n",
       "      <td>-73.947558</td>\n",
       "      <td>member</td>\n",
       "    </tr>\n",
       "    <tr>\n",
       "      <th>1</th>\n",
       "      <td>8464E543DAB27DBF</td>\n",
       "      <td>classic_bike</td>\n",
       "      <td>2024-01-30 08:21:29.510</td>\n",
       "      <td>2024-01-30 08:29:03.304</td>\n",
       "      <td>E 102 St &amp; 1 Ave</td>\n",
       "      <td>7407.13</td>\n",
       "      <td>E 91 St &amp; 2 Ave</td>\n",
       "      <td>7286.01</td>\n",
       "      <td>40.786995</td>\n",
       "      <td>-73.941648</td>\n",
       "      <td>40.781153</td>\n",
       "      <td>-73.949630</td>\n",
       "      <td>member</td>\n",
       "    </tr>\n",
       "    <tr>\n",
       "      <th>2</th>\n",
       "      <td>9C04FDC8549F5205</td>\n",
       "      <td>electric_bike</td>\n",
       "      <td>2024-01-22 21:18:25.199</td>\n",
       "      <td>2024-01-22 21:26:24.647</td>\n",
       "      <td>W 35 St &amp; 8 Ave</td>\n",
       "      <td>6526.01</td>\n",
       "      <td>1 Ave &amp; E 39 St</td>\n",
       "      <td>6303.01</td>\n",
       "      <td>40.752762</td>\n",
       "      <td>-73.992805</td>\n",
       "      <td>40.747140</td>\n",
       "      <td>-73.971130</td>\n",
       "      <td>member</td>\n",
       "    </tr>\n",
       "    <tr>\n",
       "      <th>3</th>\n",
       "      <td>7DD1703A3E0D8833</td>\n",
       "      <td>electric_bike</td>\n",
       "      <td>2024-01-31 22:15:49.861</td>\n",
       "      <td>2024-01-31 22:22:45.520</td>\n",
       "      <td>Warren St &amp; Roosevelt Ave</td>\n",
       "      <td>6346.07</td>\n",
       "      <td>112 St &amp; Northern Blvd</td>\n",
       "      <td>6683.01</td>\n",
       "      <td>40.749190</td>\n",
       "      <td>-73.870540</td>\n",
       "      <td>40.757880</td>\n",
       "      <td>-73.857630</td>\n",
       "      <td>member</td>\n",
       "    </tr>\n",
       "    <tr>\n",
       "      <th>4</th>\n",
       "      <td>6A96FCD170996E59</td>\n",
       "      <td>classic_bike</td>\n",
       "      <td>2024-01-29 22:52:28.276</td>\n",
       "      <td>2024-01-29 22:57:05.099</td>\n",
       "      <td>6 Ave &amp; W 33 St</td>\n",
       "      <td>6364.07</td>\n",
       "      <td>W 29 St &amp; 9 Ave</td>\n",
       "      <td>6416.06</td>\n",
       "      <td>40.749013</td>\n",
       "      <td>-73.988484</td>\n",
       "      <td>40.750073</td>\n",
       "      <td>-73.998393</td>\n",
       "      <td>member</td>\n",
       "    </tr>\n",
       "  </tbody>\n",
       "</table>\n",
       "</div>"
      ],
      "text/plain": [
       "            ride_id  rideable_type              started_at  \\\n",
       "0  62EF1AC5BE598131   classic_bike 2024-01-24 09:03:33.533   \n",
       "1  8464E543DAB27DBF   classic_bike 2024-01-30 08:21:29.510   \n",
       "2  9C04FDC8549F5205  electric_bike 2024-01-22 21:18:25.199   \n",
       "3  7DD1703A3E0D8833  electric_bike 2024-01-31 22:15:49.861   \n",
       "4  6A96FCD170996E59   classic_bike 2024-01-29 22:52:28.276   \n",
       "\n",
       "                 ended_at         start_station_name start_station_id  \\\n",
       "0 2024-01-24 09:06:53.535           E 102 St & 1 Ave          7407.13   \n",
       "1 2024-01-30 08:29:03.304           E 102 St & 1 Ave          7407.13   \n",
       "2 2024-01-22 21:26:24.647            W 35 St & 8 Ave          6526.01   \n",
       "3 2024-01-31 22:22:45.520  Warren St & Roosevelt Ave          6346.07   \n",
       "4 2024-01-29 22:57:05.099            6 Ave & W 33 St          6364.07   \n",
       "\n",
       "           end_station_name end_station_id  start_lat  start_lng    end_lat  \\\n",
       "0  E 103 St & Lexington Ave        7463.09  40.786995 -73.941648  40.790305   \n",
       "1           E 91 St & 2 Ave        7286.01  40.786995 -73.941648  40.781153   \n",
       "2           1 Ave & E 39 St        6303.01  40.752762 -73.992805  40.747140   \n",
       "3    112 St & Northern Blvd        6683.01  40.749190 -73.870540  40.757880   \n",
       "4           W 29 St & 9 Ave        6416.06  40.749013 -73.988484  40.750073   \n",
       "\n",
       "     end_lng member_casual  \n",
       "0 -73.947558        member  \n",
       "1 -73.949630        member  \n",
       "2 -73.971130        member  \n",
       "3 -73.857630        member  \n",
       "4 -73.998393        member  "
      ]
     },
     "execution_count": 81,
     "metadata": {},
     "output_type": "execute_result"
    }
   ],
   "source": [
    "jan_bike_df.head(5)"
   ]
  },
  {
   "cell_type": "code",
   "execution_count": 12,
   "id": "e7664bff-d499-43bd-a903-8afb4494e2fb",
   "metadata": {},
   "outputs": [
    {
     "name": "stdout",
     "output_type": "stream",
     "text": [
      "-rw-r--r-- 1 emmuzoo emmuzoo  82M Jul 18 00:45 data/202401-citibike-tripdata.parquet\n",
      "-rw-r--r-- 1 emmuzoo emmuzoo  92M Jul 18 00:45 data/202402-citibike-tripdata.parquet\n",
      "-rw-r--r-- 1 emmuzoo emmuzoo 116M Jul 18 00:45 data/202403-citibike-tripdata.parquet\n",
      "-rw-r--r-- 1 emmuzoo emmuzoo 139M Jul 18 08:53 data/202404-citibike-tripdata.parquet\n",
      "-rw-r--r-- 1 emmuzoo emmuzoo 180M Jul 18 08:54 data/202405-citibike-tripdata.parquet\n",
      "-rw-r--r-- 1 emmuzoo emmuzoo 207M Jul 18 08:55 data/202406-citibike-tripdata.parquet\n"
     ]
    }
   ],
   "source": [
    "!ls -lh data/*.parquet"
   ]
  },
  {
   "cell_type": "code",
   "execution_count": 13,
   "id": "90c4357a-e840-41a9-8d03-167d8383ceab",
   "metadata": {},
   "outputs": [
    {
     "name": "stdout",
     "output_type": "stream",
     "text": [
      "-rw-r--r-- 1 emmuzoo emmuzoo 352M Jul 16 23:41 data/202401-citibike-tripdata.zip\n",
      "-rw-r--r-- 1 emmuzoo emmuzoo 396M Jul 16 23:44 data/202402-citibike-tripdata.zip\n",
      "-rw-r--r-- 1 emmuzoo emmuzoo 497M Jul 16 23:45 data/202403-citibike-tripdata.zip\n",
      "-rw-r--r-- 1 emmuzoo emmuzoo 601M Jul 17 11:05 data/202404-citibike-tripdata.zip\n",
      "-rw-r--r-- 1 emmuzoo emmuzoo 772M Jul 17 11:05 data/202405-citibike-tripdata.zip\n",
      "-rw-r--r-- 1 emmuzoo emmuzoo 893M Jul 17 11:06 data/202406-citibike-tripdata.zip\n",
      "-rw-r--r-- 1 emmuzoo emmuzoo 881M Jul 17 11:07 data/202407-citibike-tripdata.zip\n",
      "-rw-r--r-- 1 emmuzoo emmuzoo 859M Jul 17 11:07 data/202408-citibike-tripdata.zip\n",
      "-rw-r--r-- 1 emmuzoo emmuzoo 932M Jul 17 11:09 data/202409-citibike-tripdata.zip\n",
      "-rw-r--r-- 1 emmuzoo emmuzoo 960M Jul 17 11:10 data/202410-citibike-tripdata.zip\n",
      "-rw-r--r-- 1 emmuzoo emmuzoo 691M Jul 17 11:11 data/202411-citibike-tripdata.zip\n",
      "-rw-r--r-- 1 emmuzoo emmuzoo 430M Jul 17 11:11 data/202412-citibike-tripdata.zip\n"
     ]
    }
   ],
   "source": [
    "!ls -lh data/*.zip"
   ]
  },
  {
   "cell_type": "markdown",
   "id": "d77caffd-baf0-4971-82c5-981d87f48a57",
   "metadata": {},
   "source": [
    "## Save partition"
   ]
  },
  {
   "cell_type": "code",
   "execution_count": 19,
   "id": "7e54a0b3-1f58-40e5-b33b-2d14638d91d2",
   "metadata": {},
   "outputs": [
    {
     "name": "stdout",
     "output_type": "stream",
     "text": [
      "Reading parquet file: 202401-citibike-tripdata.parquet\n",
      "Execution time for 202401-citibike-tripdata.parquet: 4.33 seconds\n",
      "Reading parquet file: 202402-citibike-tripdata.parquet\n",
      "Execution time for 202402-citibike-tripdata.parquet: 4.99 seconds\n",
      "Reading parquet file: 202403-citibike-tripdata.parquet\n",
      "Execution time for 202403-citibike-tripdata.parquet: 5.74 seconds\n",
      "Reading parquet file: 202404-citibike-tripdata.parquet\n",
      "Execution time for 202404-citibike-tripdata.parquet: 6.73 seconds\n",
      "Reading parquet file: 202405-citibike-tripdata.parquet\n",
      "Execution time for 202405-citibike-tripdata.parquet: 8.35 seconds\n",
      "Reading parquet file: 202406-citibike-tripdata.parquet\n",
      "Execution time for 202406-citibike-tripdata.parquet: 11.12 seconds\n",
      "Reading parquet file: 202407-citibike-tripdata.parquet\n",
      "Execution time for 202407-citibike-tripdata.parquet: 11.48 seconds\n",
      "Reading parquet file: 202408-citibike-tripdata.parquet\n",
      "Execution time for 202408-citibike-tripdata.parquet: 10.87 seconds\n",
      "Reading parquet file: 202409-citibike-tripdata.parquet\n",
      "Execution time for 202409-citibike-tripdata.parquet: 11.78 seconds\n",
      "Reading parquet file: 202410-citibike-tripdata.parquet\n",
      "Execution time for 202410-citibike-tripdata.parquet: 12.70 seconds\n",
      "Reading parquet file: 202411-citibike-tripdata.parquet\n",
      "Execution time for 202411-citibike-tripdata.parquet: 8.12 seconds\n",
      "Reading parquet file: 202412-citibike-tripdata.parquet\n",
      "Execution time for 202412-citibike-tripdata.parquet: 4.69 seconds\n"
     ]
    }
   ],
   "source": [
    "curr_year = 2024\n",
    "data_dir = 'data/parquet/2024'\n",
    "partition_dir = 'data/partition/'\n",
    "\n",
    "for curr_month in range(1, 13):\n",
    "    start_time = time.time()\n",
    "    parquet_file = f\"{curr_year}{curr_month:02}-citibike-tripdata.parquet\"\n",
    "    parquet_path = os.path.join(data_dir, parquet_file)\n",
    "\n",
    "    print(f\"Reading parquet file: {parquet_file}\")\n",
    "    bike_df = pd.read_parquet(parquet_path)\n",
    "\n",
    "    # Partiion file\n",
    "    bike_df['year'] = bike_df['started_at'].dt.year\n",
    "    bike_df['month'] = bike_df['started_at'].dt.month\n",
    "\n",
    "    # ride_id\n",
    "    bike_table = pa.Table.from_pandas(bike_df)\n",
    "    pq.write_to_dataset(\n",
    "        bike_table,\n",
    "        root_path=partition_dir,\n",
    "        partition_cols=['year', 'month'],\n",
    "        existing_data_behavior='overwrite_or_ignore'\n",
    "    )\n",
    "    \n",
    "    del bike_table\n",
    "    del bike_df\n",
    "\n",
    "    end_time = time.time()\n",
    "    elapsed_time = end_time - start_time\n",
    "    print(f\"Execution time for {parquet_file}: {elapsed_time:.2f} seconds\")"
   ]
  },
  {
   "cell_type": "markdown",
   "id": "3e57c0b1-4916-42d6-9f00-d4c5b8b87d74",
   "metadata": {},
   "source": [
    "# EDA"
   ]
  },
  {
   "cell_type": "code",
   "execution_count": 3,
   "id": "a592ae70-af38-4189-a551-67c4364b3669",
   "metadata": {},
   "outputs": [
    {
     "name": "stdout",
     "output_type": "stream",
     "text": [
      "CPU times: user 1.59 s, sys: 1.23 s, total: 2.81 s\n",
      "Wall time: 1.65 s\n"
     ]
    }
   ],
   "source": [
    "%%time\n",
    "curr_year = 2024\n",
    "curr_month = 1\n",
    "data_dir = \"data\"\n",
    "#jan_data_path = f\"{data_dir}/{curr_year}{curr_month:02}-citibike-tripdata.parquet\"\n",
    "\n",
    "#jan_bike_df = pd.read_parquet(jan_data_path)"
   ]
  },
  {
   "cell_type": "code",
   "execution_count": 3,
   "id": "b4996bb4-cb4e-44f4-8657-bc899d054ca7",
   "metadata": {},
   "outputs": [],
   "source": [
    "#df = jan_bike_df"
   ]
  },
  {
   "cell_type": "code",
   "execution_count": 2,
   "id": "c06565b5-e69a-4a49-875f-3e7ffc8952ee",
   "metadata": {},
   "outputs": [],
   "source": [
    "def read_quarter(year: int, quarter: int, folder: str = \".\") -> pd.DataFrame:\n",
    "    \"\"\"\n",
    "    Reads CitiBike trip data for a specific quarter and returns a combined DataFrame.\n",
    "    Also prints the execution time.\n",
    "\n",
    "    Args:\n",
    "        year (int): Year in YYYY format, e.g., 2024.\n",
    "        quarter (int): Quarter number (1 to 4).\n",
    "        folder (str): Path to the folder containing the .parquet files. Defaults to current directory.\n",
    "\n",
    "    Returns:\n",
    "        pd.DataFrame: Combined DataFrame with data for the specified quarter.\n",
    "    \"\"\"\n",
    "    if quarter not in [1, 2, 3, 4]:\n",
    "        raise ValueError(\"Quarter must be between 1 and 4.\")\n",
    "\n",
    "    quarter_months = {\n",
    "        1: [1, 2, 3],\n",
    "        2: [4, 5, 6],\n",
    "        3: [7, 8, 9],\n",
    "        4: [10, 11, 12]\n",
    "    }\n",
    "\n",
    "    start_time = time.time()\n",
    "\n",
    "    dataframes = []\n",
    "    for month in quarter_months[quarter]:\n",
    "        file_name = f\"{year}{month:02d}-citibike-tripdata.parquet\"\n",
    "        file_path = os.path.join(folder, file_name)\n",
    "\n",
    "        if os.path.exists(file_path):\n",
    "            df = pd.read_parquet(file_path)\n",
    "            dataframes.append(df)\n",
    "        else:\n",
    "            print(f\"File not found: {file_path}\")\n",
    "\n",
    "    if not dataframes:\n",
    "        raise FileNotFoundError(\"No files were found for the specified quarter.\")\n",
    "\n",
    "    combined_df = pd.concat(dataframes, ignore_index=True)\n",
    "\n",
    "    end_time = time.time()\n",
    "    elapsed_time = end_time - start_time\n",
    "    print(f\"Execution time: {elapsed_time:.2f} seconds\")\n",
    "\n",
    "    return combined_df\n"
   ]
  },
  {
   "cell_type": "code",
   "execution_count": 139,
   "id": "39d92ace-c742-4413-b7ff-7dfbc60b66bd",
   "metadata": {},
   "outputs": [
    {
     "name": "stdout",
     "output_type": "stream",
     "text": [
      "Execution time: 23.36 seconds\n",
      "CPU times: user 21.2 s, sys: 16.6 s, total: 37.8 s\n",
      "Wall time: 23.8 s\n"
     ]
    }
   ],
   "source": [
    "%%time\n",
    "curr_year = 2024\n",
    "curr_month = 1\n",
    "data_dir = \"data\"\n",
    "df = read_quarter(year=2024, quarter=1, folder=data_dir)"
   ]
  },
  {
   "cell_type": "code",
   "execution_count": null,
   "id": "b3495c86-d5aa-4799-baa7-b8b76c32ce4f",
   "metadata": {},
   "outputs": [],
   "source": [
    "%%time\n",
    "\n",
    "data_dir = \"data/pa\"\n",
    "\n",
    "# Lee todos los parquet como un solo Arrow Table\n",
    "dataset = pq.ParquetDataset(\"data/\", use_legacy_dataset=False)  # ruta al directorio\n",
    "table = dataset.read()\n",
    "df = table.to_pandas()\n"
   ]
  },
  {
   "cell_type": "code",
   "execution_count": 140,
   "id": "819c2b43-d053-458e-b8e0-72faf8fac4b6",
   "metadata": {},
   "outputs": [
    {
     "data": {
      "text/plain": [
       "2432608724"
      ]
     },
     "execution_count": 140,
     "metadata": {},
     "output_type": "execute_result"
    }
   ],
   "source": [
    "df.memory_usage(deep=True).sum()"
   ]
  },
  {
   "cell_type": "code",
   "execution_count": 141,
   "id": "43e57f82-6011-4a72-8375-da61fe50a9b2",
   "metadata": {},
   "outputs": [
    {
     "name": "stdout",
     "output_type": "stream",
     "text": [
      "El DataFrame ocupa aproximadamente 2319.92 MB\n"
     ]
    }
   ],
   "source": [
    "tamaño_mb = df.memory_usage(deep=True).sum() / (1024 ** 2)\n",
    "print(f\"El DataFrame ocupa aproximadamente {tamaño_mb:.2f} MB\")"
   ]
  },
  {
   "cell_type": "code",
   "execution_count": 4,
   "id": "50f94413-9dfa-4153-96e0-9a3671f6bed8",
   "metadata": {},
   "outputs": [
    {
     "data": {
      "text/plain": [
       "(6672881, 13)"
      ]
     },
     "execution_count": 4,
     "metadata": {},
     "output_type": "execute_result"
    }
   ],
   "source": [
    "df.shape"
   ]
  },
  {
   "cell_type": "code",
   "execution_count": 5,
   "id": "abc07dbe-d419-44c9-a69d-74f6df3753cc",
   "metadata": {},
   "outputs": [
    {
     "name": "stdout",
     "output_type": "stream",
     "text": [
      "<class 'pandas.core.frame.DataFrame'>\n",
      "RangeIndex: 6672881 entries, 0 to 6672880\n",
      "Data columns (total 13 columns):\n",
      " #   Column              Dtype         \n",
      "---  ------              -----         \n",
      " 0   ride_id             object        \n",
      " 1   rideable_type       category      \n",
      " 2   started_at          datetime64[ns]\n",
      " 3   ended_at            datetime64[ns]\n",
      " 4   start_station_name  object        \n",
      " 5   start_station_id    object        \n",
      " 6   end_station_name    object        \n",
      " 7   end_station_id      object        \n",
      " 8   start_lat           float64       \n",
      " 9   start_lng           float64       \n",
      " 10  end_lat             float64       \n",
      " 11  end_lng             float64       \n",
      " 12  member_casual       category      \n",
      "dtypes: category(2), datetime64[ns](2), float64(4), object(5)\n",
      "memory usage: 572.7+ MB\n"
     ]
    }
   ],
   "source": [
    "df.info()"
   ]
  },
  {
   "cell_type": "markdown",
   "id": "2e16d998-1c33-4867-a9c5-ac1ef4744b37",
   "metadata": {},
   "source": [
    "## Missing values"
   ]
  },
  {
   "cell_type": "markdown",
   "id": "ba016d5f-ed9a-4787-9245-4ffae37d48dc",
   "metadata": {},
   "source": [
    "Lets check for Missing values"
   ]
  },
  {
   "cell_type": "code",
   "execution_count": 20,
   "id": "c566638e-2d30-4a4b-adee-dbdb96b256bb",
   "metadata": {},
   "outputs": [],
   "source": [
    "def missing_values(data_dir, year=2024, chunksize = 100_000):\n",
    "    missing_counts = None\n",
    "    total_rows = 0\n",
    "\n",
    "    for month in range(1, 13):\n",
    "        start_time = time.time()\n",
    "        file_name = f\"{year}{month:02d}-citibike-tripdata.parquet\"\n",
    "        file_path = os.path.join(data_dir, file_name)\n",
    "        \n",
    "        # Read chunks\n",
    "        '''\n",
    "        for chunk in pd.read_parquet(file_path, chunksize=chunksize, engine='pyarrow'):\n",
    "            if missing_totals is None:\n",
    "                missing_totals = chunk.isna().sum()\n",
    "            else:\n",
    "                missing_totals += chunk.isna().sum()\n",
    "        \n",
    "            total_rows += len(chunk)\n",
    "        '''\n",
    "\n",
    "        df = pd.read_parquet(file_path, engine='pyarrow')\n",
    "        if missing_counts is None:\n",
    "            missing_counts = df.isna().sum()\n",
    "        else:\n",
    "            missing_counts += df.isna().sum()\n",
    "\n",
    "        total_rows += len(df)\n",
    "        del df\n",
    "\n",
    "        end_time = time.time()\n",
    "        elapsed_time = end_time - start_time\n",
    "        print(f\"Execution time for {file_name}: {elapsed_time:.2f} seconds\")\n",
    "\n",
    "    missing_percent = (missing_counts / total_rows) * 100\n",
    "    result = pd.DataFrame({\n",
    "        'missing': missing_counts,\n",
    "        'percent': missing_percent\n",
    "    })\n",
    "\n",
    "    # Only return columns with missing values\n",
    "    result = result[result['missing'] > 0].sort_values(by='percent', ascending=False)\n",
    "\n",
    "    return result"
   ]
  },
  {
   "cell_type": "code",
   "execution_count": 21,
   "id": "f141f0f7-8dfc-4de7-95f4-6e90c126eebc",
   "metadata": {},
   "outputs": [],
   "source": [
    "def get_missing_values_by_year(base_path: str, year: int, chunksize: int = 100_000) -> pd.DataFrame:\n",
    "    \"\"\"\n",
    "    Calculates missing value count and percentage for all columns in a partitioned Parquet dataset for a given year.\n",
    "\n",
    "    Parameters:\n",
    "        base_path (str): Root path of the partitioned Parquet dataset.\n",
    "        year (int): The year to filter and analyze (e.g., 2024).\n",
    "        chunksize (int): Number of rows to process per chunk (default 100,000).\n",
    "\n",
    "    Returns:\n",
    "        pd.DataFrame: Summary of missing values with columns: missing, percent.\n",
    "    \"\"\"\n",
    "    dataset = ds.dataset(base_path, format=\"parquet\", partitioning=\"hive\")\n",
    "\n",
    "    # Filter by year partition\n",
    "    fragments = dataset.to_table(filter=(ds.field(\"year\") == year)).to_batches(batch_size=chunksize)\n",
    "\n",
    "    missing_counts = None\n",
    "    total_rows = 0\n",
    "\n",
    "    for batch in fragments:\n",
    "        df = batch.to_pandas()\n",
    "        total_rows += len(df)\n",
    "\n",
    "        # Count missing values in the current chunk\n",
    "        chunk_missing = df.isna().sum()\n",
    "\n",
    "        if missing_counts is None:\n",
    "            missing_counts = chunk_missing\n",
    "        else:\n",
    "            missing_counts += chunk_missing\n",
    "\n",
    "    # Final missing summary\n",
    "    missing_percent = (missing_counts / total_rows) * 100\n",
    "    result = pd.DataFrame({\n",
    "        'missing': missing_counts,\n",
    "        'percent': missing_percent\n",
    "    })\n",
    "\n",
    "    # Only return columns with missing values\n",
    "    result = result[result['missing'] > 0].sort_values(by='percent', ascending=False)\n",
    "\n",
    "    return result"
   ]
  },
  {
   "cell_type": "code",
   "execution_count": 22,
   "id": "5ad229e4-360e-4a59-895b-4a96312867e3",
   "metadata": {},
   "outputs": [
    {
     "name": "stdout",
     "output_type": "stream",
     "text": [
      "total 1960320\n",
      "-rw-r--r-- 1 emmuzoo emmuzoo  85472619 Jul 18 00:45 202401-citibike-tripdata.parquet\n",
      "-rw-r--r-- 1 emmuzoo emmuzoo  96387177 Jul 18 00:45 202402-citibike-tripdata.parquet\n",
      "-rw-r--r-- 1 emmuzoo emmuzoo 121136096 Jul 18 00:45 202403-citibike-tripdata.parquet\n",
      "-rw-r--r-- 1 emmuzoo emmuzoo 145622114 Jul 18 08:53 202404-citibike-tripdata.parquet\n",
      "-rw-r--r-- 1 emmuzoo emmuzoo 187930875 Jul 18 08:54 202405-citibike-tripdata.parquet\n",
      "-rw-r--r-- 1 emmuzoo emmuzoo 216528564 Jul 18 08:55 202406-citibike-tripdata.parquet\n",
      "-rw-r--r-- 1 emmuzoo emmuzoo 213229319 Jul 22 17:40 202407-citibike-tripdata.parquet\n",
      "-rw-r--r-- 1 emmuzoo emmuzoo 206964937 Jul 22 17:40 202408-citibike-tripdata.parquet\n",
      "-rw-r--r-- 1 emmuzoo emmuzoo 226814180 Jul 22 17:41 202409-citibike-tripdata.parquet\n",
      "-rw-r--r-- 1 emmuzoo emmuzoo 233180860 Jul 22 17:41 202410-citibike-tripdata.parquet\n",
      "-rw-r--r-- 1 emmuzoo emmuzoo 168938656 Jul 22 17:42 202411-citibike-tripdata.parquet\n",
      "-rw-r--r-- 1 emmuzoo emmuzoo 105138194 Jul 22 17:42 202412-citibike-tripdata.parquet\n"
     ]
    }
   ],
   "source": [
    "!ls -l data/parquet/2024"
   ]
  },
  {
   "cell_type": "code",
   "execution_count": 23,
   "id": "7dc55b57-430e-410f-a269-3d97ab54707d",
   "metadata": {},
   "outputs": [
    {
     "name": "stdout",
     "output_type": "stream",
     "text": [
      "Execution time for 202401-citibike-tripdata.parquet: 1.82 seconds\n",
      "Execution time for 202402-citibike-tripdata.parquet: 1.80 seconds\n",
      "Execution time for 202403-citibike-tripdata.parquet: 2.25 seconds\n",
      "Execution time for 202404-citibike-tripdata.parquet: 2.86 seconds\n",
      "Execution time for 202405-citibike-tripdata.parquet: 4.14 seconds\n",
      "Execution time for 202406-citibike-tripdata.parquet: 6.48 seconds\n",
      "Execution time for 202407-citibike-tripdata.parquet: 5.71 seconds\n",
      "Execution time for 202408-citibike-tripdata.parquet: 5.51 seconds\n",
      "Execution time for 202409-citibike-tripdata.parquet: 6.43 seconds\n",
      "Execution time for 202410-citibike-tripdata.parquet: 6.15 seconds\n",
      "Execution time for 202411-citibike-tripdata.parquet: 3.32 seconds\n",
      "Execution time for 202412-citibike-tripdata.parquet: 2.04 seconds\n",
      "CPU times: user 52.1 s, sys: 20.3 s, total: 1min 12s\n",
      "Wall time: 48.5 s\n"
     ]
    }
   ],
   "source": [
    "%%time\n",
    "missing_values_df = missing_values(data_dir=\"data/parquet/2024\", year=2024, chunksize = 100_000)\n",
    "#get_missing_values_by_year(base_path=\"data/partition\", year=2024, chunksize = 100_000)"
   ]
  },
  {
   "cell_type": "code",
   "execution_count": 24,
   "id": "466a9c6c-51d3-4c7a-9d23-425d42c8bd98",
   "metadata": {},
   "outputs": [
    {
     "data": {
      "text/html": [
       "<div>\n",
       "<style scoped>\n",
       "    .dataframe tbody tr th:only-of-type {\n",
       "        vertical-align: middle;\n",
       "    }\n",
       "\n",
       "    .dataframe tbody tr th {\n",
       "        vertical-align: top;\n",
       "    }\n",
       "\n",
       "    .dataframe thead th {\n",
       "        text-align: right;\n",
       "    }\n",
       "</style>\n",
       "<table border=\"1\" class=\"dataframe\">\n",
       "  <thead>\n",
       "    <tr style=\"text-align: right;\">\n",
       "      <th></th>\n",
       "      <th>missing</th>\n",
       "      <th>percent</th>\n",
       "    </tr>\n",
       "  </thead>\n",
       "  <tbody>\n",
       "    <tr>\n",
       "      <th>end_station_id</th>\n",
       "      <td>122573</td>\n",
       "      <td>0.276668</td>\n",
       "    </tr>\n",
       "    <tr>\n",
       "      <th>end_lat</th>\n",
       "      <td>122304</td>\n",
       "      <td>0.276061</td>\n",
       "    </tr>\n",
       "    <tr>\n",
       "      <th>end_lng</th>\n",
       "      <td>122304</td>\n",
       "      <td>0.276061</td>\n",
       "    </tr>\n",
       "    <tr>\n",
       "      <th>end_station_name</th>\n",
       "      <td>114545</td>\n",
       "      <td>0.258548</td>\n",
       "    </tr>\n",
       "    <tr>\n",
       "      <th>start_station_name</th>\n",
       "      <td>29835</td>\n",
       "      <td>0.067343</td>\n",
       "    </tr>\n",
       "    <tr>\n",
       "      <th>start_station_id</th>\n",
       "      <td>29835</td>\n",
       "      <td>0.067343</td>\n",
       "    </tr>\n",
       "    <tr>\n",
       "      <th>start_lat</th>\n",
       "      <td>29835</td>\n",
       "      <td>0.067343</td>\n",
       "    </tr>\n",
       "    <tr>\n",
       "      <th>start_lng</th>\n",
       "      <td>29835</td>\n",
       "      <td>0.067343</td>\n",
       "    </tr>\n",
       "  </tbody>\n",
       "</table>\n",
       "</div>"
      ],
      "text/plain": [
       "                    missing   percent\n",
       "end_station_id       122573  0.276668\n",
       "end_lat              122304  0.276061\n",
       "end_lng              122304  0.276061\n",
       "end_station_name     114545  0.258548\n",
       "start_station_name    29835  0.067343\n",
       "start_station_id      29835  0.067343\n",
       "start_lat             29835  0.067343\n",
       "start_lng             29835  0.067343"
      ]
     },
     "execution_count": 24,
     "metadata": {},
     "output_type": "execute_result"
    }
   ],
   "source": [
    "missing_values_df"
   ]
  },
  {
   "cell_type": "code",
   "execution_count": 6,
   "id": "9d467e3a-e185-485c-a570-c0c38728f175",
   "metadata": {},
   "outputs": [
    {
     "data": {
      "text/plain": [
       "ride_id                   0\n",
       "rideable_type             0\n",
       "started_at                0\n",
       "ended_at                  0\n",
       "start_station_name     5822\n",
       "start_station_id       5822\n",
       "end_station_name      16192\n",
       "end_station_id        16427\n",
       "start_lat              5822\n",
       "start_lng              5822\n",
       "end_lat               16344\n",
       "end_lng               16344\n",
       "member_casual             0\n",
       "dtype: int64"
      ]
     },
     "execution_count": 6,
     "metadata": {},
     "output_type": "execute_result"
    }
   ],
   "source": [
    "missing_values_sum = df.isna().sum()\n",
    "missing_values_sum"
   ]
  },
  {
   "cell_type": "code",
   "execution_count": 7,
   "id": "47503599-3bac-4bce-a871-bc4c1a1ca633",
   "metadata": {},
   "outputs": [
    {
     "data": {
      "text/plain": [
       "ride_id               0.000000\n",
       "rideable_type         0.000000\n",
       "started_at            0.000000\n",
       "ended_at              0.000000\n",
       "start_station_name    0.087249\n",
       "start_station_id      0.087249\n",
       "end_station_name      0.242654\n",
       "end_station_id        0.246176\n",
       "start_lat             0.087249\n",
       "start_lng             0.087249\n",
       "end_lat               0.244932\n",
       "end_lng               0.244932\n",
       "member_casual         0.000000\n",
       "dtype: float64"
      ]
     },
     "execution_count": 7,
     "metadata": {},
     "output_type": "execute_result"
    }
   ],
   "source": [
    "missing_values_pct = (df.isna().sum() / len(df)) * 100\n",
    "missing_values_pct"
   ]
  },
  {
   "cell_type": "markdown",
   "id": "952a1345-8f61-4cb9-8a70-5ef0cf68ef0a",
   "metadata": {},
   "source": [
    "## Remove missing values"
   ]
  },
  {
   "cell_type": "code",
   "execution_count": 32,
   "id": "3c492300-369e-4f80-8d7f-c9bbc8f79288",
   "metadata": {},
   "outputs": [],
   "source": [
    "def remove_missing_values(\n",
    "    base_path: str,\n",
    "    year: int,\n",
    "    output_path: str,\n",
    "    #subset: list = None,\n",
    "    #chunksize: int = 100_000\n",
    "):\n",
    "    \"\"\"\n",
    "    Reads a Parquet dataset partitioned by year, removes rows with missing values (optionally by subset of columns),\n",
    "    and writes a clean version to a new Parquet dataset.\n",
    "\n",
    "    Parameters:\n",
    "        base_path (str): Root path of the partitioned Parquet dataset (must include 'year' as partition).\n",
    "        year (int): Year to process (e.g. 2024).\n",
    "        output_path (str): Where to save the cleaned Parquet dataset (partitioned by year and month).\n",
    "        subset (list, optional): Columns to check for missing values. If None, all columns are considered.\n",
    "        chunksize (int): Number of rows per chunk to process.\n",
    "\n",
    "    Returns:\n",
    "        None\n",
    "    \"\"\"\n",
    "\n",
    "    for month in range(1, 13):\n",
    "        start_time = time.time()\n",
    "        file_name = f\"{year}{month:02d}-citibike-tripdata.parquet\"\n",
    "        file_path = os.path.join(base_path, file_name)\n",
    "\n",
    "        print(f\"Remove missing values for {file_name}\")\n",
    "        # Read file parquet\n",
    "        df = pd.read_parquet(file_path, engine='pyarrow')\n",
    "\n",
    "        # Drop rows with missing values\n",
    "        #df_clean = df.dropna(subset=subset)\n",
    "        df.dropna(inplace=True)\n",
    "\n",
    "        if df.empty:\n",
    "            continue\n",
    "\n",
    "        clean_file_path = os.path.join(output_path, file_name)\n",
    "        print(f\"Saving clea file {file_name}\")\n",
    "        df.to_parquet(clean_file_path, engine=\"pyarrow\", index=False)\n",
    "        del df\n",
    "        \n",
    "        end_time = time.time()\n",
    "        elapsed_time = end_time - start_time\n",
    "        print(f\"Execution time for {file_name}: {elapsed_time:.2f} seconds\")\n",
    "    \n"
   ]
  },
  {
   "cell_type": "code",
   "execution_count": 33,
   "id": "5822b0a0-2994-41aa-b2c0-3cb4a436f380",
   "metadata": {},
   "outputs": [
    {
     "name": "stdout",
     "output_type": "stream",
     "text": [
      "Remove missing values for 202401-citibike-tripdata.parquet\n",
      "Saving clea file 202401-citibike-tripdata.parquet\n",
      "Execution time for 202401-citibike-tripdata.parquet: 3.73 seconds\n",
      "Remove missing values for 202402-citibike-tripdata.parquet\n",
      "Saving clea file 202402-citibike-tripdata.parquet\n",
      "Execution time for 202402-citibike-tripdata.parquet: 4.02 seconds\n",
      "Remove missing values for 202403-citibike-tripdata.parquet\n",
      "Saving clea file 202403-citibike-tripdata.parquet\n",
      "Execution time for 202403-citibike-tripdata.parquet: 5.30 seconds\n",
      "Remove missing values for 202404-citibike-tripdata.parquet\n",
      "Saving clea file 202404-citibike-tripdata.parquet\n",
      "Execution time for 202404-citibike-tripdata.parquet: 6.91 seconds\n",
      "Remove missing values for 202405-citibike-tripdata.parquet\n",
      "Saving clea file 202405-citibike-tripdata.parquet\n",
      "Execution time for 202405-citibike-tripdata.parquet: 9.75 seconds\n",
      "Remove missing values for 202406-citibike-tripdata.parquet\n",
      "Saving clea file 202406-citibike-tripdata.parquet\n",
      "Execution time for 202406-citibike-tripdata.parquet: 16.22 seconds\n",
      "Remove missing values for 202407-citibike-tripdata.parquet\n",
      "Saving clea file 202407-citibike-tripdata.parquet\n",
      "Execution time for 202407-citibike-tripdata.parquet: 11.69 seconds\n",
      "Remove missing values for 202408-citibike-tripdata.parquet\n",
      "Saving clea file 202408-citibike-tripdata.parquet\n",
      "Execution time for 202408-citibike-tripdata.parquet: 11.58 seconds\n",
      "Remove missing values for 202409-citibike-tripdata.parquet\n",
      "Saving clea file 202409-citibike-tripdata.parquet\n",
      "Execution time for 202409-citibike-tripdata.parquet: 11.10 seconds\n",
      "Remove missing values for 202410-citibike-tripdata.parquet\n",
      "Saving clea file 202410-citibike-tripdata.parquet\n",
      "Execution time for 202410-citibike-tripdata.parquet: 11.66 seconds\n",
      "Remove missing values for 202411-citibike-tripdata.parquet\n",
      "Saving clea file 202411-citibike-tripdata.parquet\n",
      "Execution time for 202411-citibike-tripdata.parquet: 7.66 seconds\n",
      "Remove missing values for 202412-citibike-tripdata.parquet\n",
      "Saving clea file 202412-citibike-tripdata.parquet\n",
      "Execution time for 202412-citibike-tripdata.parquet: 4.34 seconds\n",
      "CPU times: user 1min 32s, sys: 34.3 s, total: 2min 7s\n",
      "Wall time: 1min 43s\n"
     ]
    }
   ],
   "source": [
    "%%time\n",
    "data_dir = \"data/parquet/2024\"\n",
    "output_path = \"data/clean/2024\"\n",
    "remove_missing_values(base_path=data_dir, year=2024, output_path=output_path)"
   ]
  },
  {
   "cell_type": "code",
   "execution_count": 8,
   "id": "afabafd3-2e1e-4891-8d22-17df6089ae29",
   "metadata": {},
   "outputs": [
    {
     "data": {
      "text/html": [
       "<div>\n",
       "<style scoped>\n",
       "    .dataframe tbody tr th:only-of-type {\n",
       "        vertical-align: middle;\n",
       "    }\n",
       "\n",
       "    .dataframe tbody tr th {\n",
       "        vertical-align: top;\n",
       "    }\n",
       "\n",
       "    .dataframe thead th {\n",
       "        text-align: right;\n",
       "    }\n",
       "</style>\n",
       "<table border=\"1\" class=\"dataframe\">\n",
       "  <thead>\n",
       "    <tr style=\"text-align: right;\">\n",
       "      <th></th>\n",
       "      <th>ride_id</th>\n",
       "      <th>rideable_type</th>\n",
       "      <th>started_at</th>\n",
       "      <th>ended_at</th>\n",
       "      <th>start_station_name</th>\n",
       "      <th>start_station_id</th>\n",
       "      <th>end_station_name</th>\n",
       "      <th>end_station_id</th>\n",
       "      <th>start_lat</th>\n",
       "      <th>start_lng</th>\n",
       "      <th>end_lat</th>\n",
       "      <th>end_lng</th>\n",
       "      <th>member_casual</th>\n",
       "    </tr>\n",
       "  </thead>\n",
       "  <tbody>\n",
       "    <tr>\n",
       "      <th>0</th>\n",
       "      <td>62EF1AC5BE598131</td>\n",
       "      <td>classic_bike</td>\n",
       "      <td>2024-01-24 09:03:33.533</td>\n",
       "      <td>2024-01-24 09:06:53.535</td>\n",
       "      <td>E 102 St &amp; 1 Ave</td>\n",
       "      <td>7407.13</td>\n",
       "      <td>E 103 St &amp; Lexington Ave</td>\n",
       "      <td>7463.09</td>\n",
       "      <td>40.786995</td>\n",
       "      <td>-73.941648</td>\n",
       "      <td>40.790305</td>\n",
       "      <td>-73.947558</td>\n",
       "      <td>member</td>\n",
       "    </tr>\n",
       "    <tr>\n",
       "      <th>1</th>\n",
       "      <td>8464E543DAB27DBF</td>\n",
       "      <td>classic_bike</td>\n",
       "      <td>2024-01-30 08:21:29.510</td>\n",
       "      <td>2024-01-30 08:29:03.304</td>\n",
       "      <td>E 102 St &amp; 1 Ave</td>\n",
       "      <td>7407.13</td>\n",
       "      <td>E 91 St &amp; 2 Ave</td>\n",
       "      <td>7286.01</td>\n",
       "      <td>40.786995</td>\n",
       "      <td>-73.941648</td>\n",
       "      <td>40.781153</td>\n",
       "      <td>-73.949630</td>\n",
       "      <td>member</td>\n",
       "    </tr>\n",
       "    <tr>\n",
       "      <th>2</th>\n",
       "      <td>9C04FDC8549F5205</td>\n",
       "      <td>electric_bike</td>\n",
       "      <td>2024-01-22 21:18:25.199</td>\n",
       "      <td>2024-01-22 21:26:24.647</td>\n",
       "      <td>W 35 St &amp; 8 Ave</td>\n",
       "      <td>6526.01</td>\n",
       "      <td>1 Ave &amp; E 39 St</td>\n",
       "      <td>6303.01</td>\n",
       "      <td>40.752762</td>\n",
       "      <td>-73.992805</td>\n",
       "      <td>40.747140</td>\n",
       "      <td>-73.971130</td>\n",
       "      <td>member</td>\n",
       "    </tr>\n",
       "    <tr>\n",
       "      <th>3</th>\n",
       "      <td>7DD1703A3E0D8833</td>\n",
       "      <td>electric_bike</td>\n",
       "      <td>2024-01-31 22:15:49.861</td>\n",
       "      <td>2024-01-31 22:22:45.520</td>\n",
       "      <td>Warren St &amp; Roosevelt Ave</td>\n",
       "      <td>6346.07</td>\n",
       "      <td>112 St &amp; Northern Blvd</td>\n",
       "      <td>6683.01</td>\n",
       "      <td>40.749190</td>\n",
       "      <td>-73.870540</td>\n",
       "      <td>40.757880</td>\n",
       "      <td>-73.857630</td>\n",
       "      <td>member</td>\n",
       "    </tr>\n",
       "    <tr>\n",
       "      <th>4</th>\n",
       "      <td>6A96FCD170996E59</td>\n",
       "      <td>classic_bike</td>\n",
       "      <td>2024-01-29 22:52:28.276</td>\n",
       "      <td>2024-01-29 22:57:05.099</td>\n",
       "      <td>6 Ave &amp; W 33 St</td>\n",
       "      <td>6364.07</td>\n",
       "      <td>W 29 St &amp; 9 Ave</td>\n",
       "      <td>6416.06</td>\n",
       "      <td>40.749013</td>\n",
       "      <td>-73.988484</td>\n",
       "      <td>40.750073</td>\n",
       "      <td>-73.998393</td>\n",
       "      <td>member</td>\n",
       "    </tr>\n",
       "  </tbody>\n",
       "</table>\n",
       "</div>"
      ],
      "text/plain": [
       "            ride_id  rideable_type              started_at  \\\n",
       "0  62EF1AC5BE598131   classic_bike 2024-01-24 09:03:33.533   \n",
       "1  8464E543DAB27DBF   classic_bike 2024-01-30 08:21:29.510   \n",
       "2  9C04FDC8549F5205  electric_bike 2024-01-22 21:18:25.199   \n",
       "3  7DD1703A3E0D8833  electric_bike 2024-01-31 22:15:49.861   \n",
       "4  6A96FCD170996E59   classic_bike 2024-01-29 22:52:28.276   \n",
       "\n",
       "                 ended_at         start_station_name start_station_id  \\\n",
       "0 2024-01-24 09:06:53.535           E 102 St & 1 Ave          7407.13   \n",
       "1 2024-01-30 08:29:03.304           E 102 St & 1 Ave          7407.13   \n",
       "2 2024-01-22 21:26:24.647            W 35 St & 8 Ave          6526.01   \n",
       "3 2024-01-31 22:22:45.520  Warren St & Roosevelt Ave          6346.07   \n",
       "4 2024-01-29 22:57:05.099            6 Ave & W 33 St          6364.07   \n",
       "\n",
       "           end_station_name end_station_id  start_lat  start_lng    end_lat  \\\n",
       "0  E 103 St & Lexington Ave        7463.09  40.786995 -73.941648  40.790305   \n",
       "1           E 91 St & 2 Ave        7286.01  40.786995 -73.941648  40.781153   \n",
       "2           1 Ave & E 39 St        6303.01  40.752762 -73.992805  40.747140   \n",
       "3    112 St & Northern Blvd        6683.01  40.749190 -73.870540  40.757880   \n",
       "4           W 29 St & 9 Ave        6416.06  40.749013 -73.988484  40.750073   \n",
       "\n",
       "     end_lng member_casual  \n",
       "0 -73.947558        member  \n",
       "1 -73.949630        member  \n",
       "2 -73.971130        member  \n",
       "3 -73.857630        member  \n",
       "4 -73.998393        member  "
      ]
     },
     "execution_count": 8,
     "metadata": {},
     "output_type": "execute_result"
    }
   ],
   "source": [
    "df.dropna(inplace=True)\n",
    "df.head()"
   ]
  },
  {
   "cell_type": "code",
   "execution_count": 9,
   "id": "904b0715-5d42-4e98-9e49-c880f9df81f2",
   "metadata": {},
   "outputs": [
    {
     "data": {
      "text/plain": [
       "(6654050, 13)"
      ]
     },
     "execution_count": 9,
     "metadata": {},
     "output_type": "execute_result"
    }
   ],
   "source": [
    "df.shape"
   ]
  },
  {
   "cell_type": "markdown",
   "id": "c88878b4-38fd-4eac-937e-43d8eb9c81e4",
   "metadata": {},
   "source": [
    "## Categorical Analysis"
   ]
  },
  {
   "cell_type": "code",
   "execution_count": 4,
   "id": "d8bebf14-4add-4904-8a83-8b666f762734",
   "metadata": {},
   "outputs": [],
   "source": [
    "def read_df_feats(\n",
    "    base_path: str,\n",
    "    year: int = 2024,\n",
    "    from_month: int = 1,\n",
    "    to_month: int = None,\n",
    "    feats = None\n",
    ") -> pd.DataFrame:\n",
    "    # List to store individual DataFrames\n",
    "    #if not feats:\n",
    "    #    print(f\"Features is empty\")\n",
    "    #    return None\n",
    "\n",
    "    assert feats, \"Features is empty\" \n",
    "    assert from_month >= 1 & from_month <= 12, \"from_month must be between 1 and 12\" \n",
    "    if not to_month:\n",
    "        to_month = from_month\n",
    "    assert to_month >= 1 & to_month <= 12, \"to_month must be between 1 and 12\" \n",
    "    assert from_month <= to_month, \"from_month must be less than or equal to to_month\" \n",
    "        \n",
    "    df_list = []\n",
    "\n",
    "    print(f\"year: {year}, months: {from_month} to  {to_month}\")\n",
    "    for month in range(from_month, to_month + 1):\n",
    "        start_time = time.time()\n",
    "        file_name = f\"{year}{month:02d}-citibike-tripdata.parquet\"\n",
    "        file_path = os.path.join(base_path, file_name)\n",
    "\n",
    "        print(f\"Read datetime for {file_name}\")\n",
    "        # Read file parquet\n",
    "        df = pd.read_parquet(file_path, engine='pyarrow')\n",
    "\n",
    "        # creating copy of dataframe with required features\n",
    "        df_time = df[feats].copy()\n",
    "        df_list.append(df_time)\n",
    "\n",
    "        del df\n",
    "        \n",
    "        end_time = time.time()\n",
    "        elapsed_time = end_time - start_time\n",
    "        print(f\"Execution time for {file_name}: {elapsed_time:.2f} seconds\")\n",
    "    # Concatenate all DataFrames into a single DataFrame\n",
    "    combined_df = pd.concat(df_list, ignore_index=True)\n",
    "    del df_list\n",
    "    \n",
    "    return combined_df\n",
    "    "
   ]
  },
  {
   "cell_type": "code",
   "execution_count": 24,
   "id": "f8bf6b3d-7551-45c1-bac9-fd6a9b1c3a08",
   "metadata": {},
   "outputs": [
    {
     "name": "stdout",
     "output_type": "stream",
     "text": [
      "Read datetime for 202401-citibike-tripdata.parquet\n",
      "Execution time for 202401-citibike-tripdata.parquet: 1.34 seconds\n",
      "Read datetime for 202402-citibike-tripdata.parquet\n",
      "Execution time for 202402-citibike-tripdata.parquet: 1.33 seconds\n",
      "Read datetime for 202403-citibike-tripdata.parquet\n",
      "Execution time for 202403-citibike-tripdata.parquet: 2.00 seconds\n",
      "Read datetime for 202404-citibike-tripdata.parquet\n",
      "Execution time for 202404-citibike-tripdata.parquet: 2.39 seconds\n",
      "Read datetime for 202405-citibike-tripdata.parquet\n",
      "Execution time for 202405-citibike-tripdata.parquet: 2.66 seconds\n",
      "Read datetime for 202406-citibike-tripdata.parquet\n",
      "Execution time for 202406-citibike-tripdata.parquet: 4.45 seconds\n",
      "Read datetime for 202407-citibike-tripdata.parquet\n",
      "Execution time for 202407-citibike-tripdata.parquet: 4.20 seconds\n",
      "Read datetime for 202408-citibike-tripdata.parquet\n",
      "Execution time for 202408-citibike-tripdata.parquet: 4.31 seconds\n",
      "Read datetime for 202409-citibike-tripdata.parquet\n",
      "Execution time for 202409-citibike-tripdata.parquet: 4.58 seconds\n",
      "Read datetime for 202410-citibike-tripdata.parquet\n",
      "Execution time for 202410-citibike-tripdata.parquet: 4.94 seconds\n",
      "Read datetime for 202411-citibike-tripdata.parquet\n",
      "Execution time for 202411-citibike-tripdata.parquet: 2.21 seconds\n",
      "Read datetime for 202412-citibike-tripdata.parquet\n",
      "Execution time for 202412-citibike-tripdata.parquet: 1.43 seconds\n",
      "CPU times: user 35.7 s, sys: 18.4 s, total: 54.1 s\n",
      "Wall time: 35.9 s\n"
     ]
    }
   ],
   "source": [
    "%%time\n",
    "\n",
    "clean_data_path = \"data/clean/2024\"\n",
    "curr_year = 2024\n",
    "cat_feats = ['rideable_type', 'member_casual']\n",
    "#df_time = read_df_feats(base_path=clean_data_path, year=2024)\n",
    "df_cat = read_df_feats(base_path=clean_data_path, year=curr_year, feats=cat_feats)"
   ]
  },
  {
   "cell_type": "code",
   "execution_count": 26,
   "id": "7c8463b9-9256-422b-9640-f053e6b32bf3",
   "metadata": {},
   "outputs": [
    {
     "data": {
      "text/plain": [
       "0"
      ]
     },
     "execution_count": 26,
     "metadata": {},
     "output_type": "execute_result"
    }
   ],
   "source": [
    "# Trigger garbage collection manually\n",
    "gc.collect()"
   ]
  },
  {
   "cell_type": "code",
   "execution_count": 10,
   "id": "c3e2d9ec-2c35-4b4b-8b4b-b6b633f303ef",
   "metadata": {},
   "outputs": [],
   "source": [
    "# Ordenar las muestras por la característica 'sepal length (cm)' de mayor a menor\n",
    "#df_sorted = df.sort_values(by='duration', ascending=False)"
   ]
  },
  {
   "cell_type": "code",
   "execution_count": 12,
   "id": "b28293d0-0435-4889-8822-ce871f7be4a9",
   "metadata": {},
   "outputs": [],
   "source": [
    "# Crear un gráfico de barras con la característica 'sepal length (cm)' ordenada\n",
    "#plt.figure(figsize=(10, 6))\n",
    "#(df_sorted.index, df_sorted['duration'], color='skyblue')\n",
    "#plt.hist(df['duration'], bins=5, color='skyblue', edgecolor='black')\n",
    "\n",
    "# Personalizar el gráfico\n",
    "#plt.title('Sepal Length Sorted (Mayor a Menor)')\n",
    "#plt.xlabel('Índice')\n",
    "#plt.ylabel('Longitud del sépalo (cm)')\n",
    "#plt.xticks(df_sorted.index)  # Marcar los índices correctamente\n",
    "#plt.show()"
   ]
  },
  {
   "cell_type": "code",
   "execution_count": 29,
   "id": "bbaca46d-183d-4fd0-8c6a-caab605dce92",
   "metadata": {},
   "outputs": [
    {
     "name": "stdout",
     "output_type": "stream",
     "text": [
      "CPU times: user 132 ms, sys: 211 ms, total: 343 ms\n",
      "Wall time: 340 ms\n"
     ]
    }
   ],
   "source": [
    "%%time\n",
    "\n",
    "ride_types = df_cat[\"rideable_type\"].value_counts()"
   ]
  },
  {
   "cell_type": "code",
   "execution_count": 30,
   "id": "fff11b6f-b909-4fc2-a1dd-be61492b2ee4",
   "metadata": {},
   "outputs": [
    {
     "name": "stdout",
     "output_type": "stream",
     "text": [
      "CPU times: user 95.7 ms, sys: 33.1 ms, total: 129 ms\n",
      "Wall time: 78.8 ms\n"
     ]
    },
    {
     "data": {
      "image/png": "[encoded data removed]",
      "text/plain": [
       "<Figure size 640x480 with 1 Axes>"
      ]
     },
     "metadata": {},
     "output_type": "display_data"
    }
   ],
   "source": [
    "%%time\n",
    "\n",
    "sns.barplot(x=ride_types.index, y=ride_types)\n",
    "plt.title(\"Ride Type Distribution\")\n",
    "plt.xlabel(\"Ride Types\")\n",
    "plt.ylabel(\"Ride Type Count\");"
   ]
  },
  {
   "cell_type": "code",
   "execution_count": 32,
   "id": "d62717a2-7fc0-49b2-ab0c-bc36b3d87c7a",
   "metadata": {},
   "outputs": [
    {
     "name": "stdout",
     "output_type": "stream",
     "text": [
      "CPU times: user 150 ms, sys: 188 ms, total: 339 ms\n",
      "Wall time: 338 ms\n"
     ]
    }
   ],
   "source": [
    "%%time\n",
    "\n",
    "member_types = df_cat[\"member_casual\"].value_counts()"
   ]
  },
  {
   "cell_type": "code",
   "execution_count": 33,
   "id": "5aeaa46a-ebda-4f23-893c-022da78aa191",
   "metadata": {},
   "outputs": [
    {
     "name": "stdout",
     "output_type": "stream",
     "text": [
      "CPU times: user 84.7 ms, sys: 13.8 ms, total: 98.4 ms\n",
      "Wall time: 75.3 ms\n"
     ]
    },
    {
     "data": {
      "image/png": "[encoded data removed]",
      "text/plain": [
       "<Figure size 640x480 with 1 Axes>"
      ]
     },
     "metadata": {},
     "output_type": "display_data"
    }
   ],
   "source": [
    "%%time\n",
    "\n",
    "sns.barplot(x=member_types.index, y=member_types)\n",
    "plt.title(\"Member Type Distribution\")\n",
    "plt.xlabel(\"Member Types\")\n",
    "plt.ylabel(\"Member Type Count\");"
   ]
  },
  {
   "cell_type": "code",
   "execution_count": 34,
   "id": "ad4586fd-213b-4460-8d5b-475e8057aede",
   "metadata": {},
   "outputs": [],
   "source": [
    "del df_cat"
   ]
  },
  {
   "cell_type": "code",
   "execution_count": 35,
   "id": "efc7cb69-e929-4b67-856d-26eecaba9649",
   "metadata": {},
   "outputs": [],
   "source": [
    "del ride_types"
   ]
  },
  {
   "cell_type": "code",
   "execution_count": 36,
   "id": "0685e393-9107-4825-bb0b-c5c27d1b7233",
   "metadata": {},
   "outputs": [],
   "source": [
    "del member_types"
   ]
  },
  {
   "cell_type": "code",
   "execution_count": 37,
   "id": "79e333ff-8544-41aa-8115-0536ae181792",
   "metadata": {},
   "outputs": [
    {
     "data": {
      "text/plain": [
       "1024"
      ]
     },
     "execution_count": 37,
     "metadata": {},
     "output_type": "execute_result"
    }
   ],
   "source": [
    "# Trigger garbage collection manually\n",
    "gc.collect()"
   ]
  },
  {
   "cell_type": "markdown",
   "id": "560183d9-d029-4b3e-aea2-2b79c23a9fae",
   "metadata": {},
   "source": [
    "## Trip duration"
   ]
  },
  {
   "cell_type": "code",
   "execution_count": 16,
   "id": "9c19a0b4-a17d-4af4-af24-12662335b620",
   "metadata": {},
   "outputs": [
    {
     "name": "stdout",
     "output_type": "stream",
     "text": [
      "Read datetime for 202401-citibike-tripdata.parquet\n",
      "Execution time for 202401-citibike-tripdata.parquet: 1.56 seconds\n",
      "Read datetime for 202402-citibike-tripdata.parquet\n",
      "Execution time for 202402-citibike-tripdata.parquet: 1.38 seconds\n",
      "Read datetime for 202403-citibike-tripdata.parquet\n",
      "Execution time for 202403-citibike-tripdata.parquet: 1.80 seconds\n",
      "Read datetime for 202404-citibike-tripdata.parquet\n",
      "Execution time for 202404-citibike-tripdata.parquet: 2.10 seconds\n",
      "Read datetime for 202405-citibike-tripdata.parquet\n",
      "Execution time for 202405-citibike-tripdata.parquet: 2.68 seconds\n",
      "Read datetime for 202406-citibike-tripdata.parquet\n",
      "Execution time for 202406-citibike-tripdata.parquet: 4.72 seconds\n",
      "Read datetime for 202407-citibike-tripdata.parquet\n",
      "Execution time for 202407-citibike-tripdata.parquet: 4.95 seconds\n",
      "Read datetime for 202408-citibike-tripdata.parquet\n",
      "Execution time for 202408-citibike-tripdata.parquet: 4.31 seconds\n",
      "Read datetime for 202409-citibike-tripdata.parquet\n",
      "Execution time for 202409-citibike-tripdata.parquet: 4.99 seconds\n",
      "Read datetime for 202410-citibike-tripdata.parquet\n",
      "Execution time for 202410-citibike-tripdata.parquet: 4.95 seconds\n",
      "Read datetime for 202411-citibike-tripdata.parquet\n",
      "Execution time for 202411-citibike-tripdata.parquet: 2.48 seconds\n",
      "Read datetime for 202412-citibike-tripdata.parquet\n",
      "Execution time for 202412-citibike-tripdata.parquet: 1.63 seconds\n",
      "CPU times: user 36.3 s, sys: 19.8 s, total: 56.1 s\n",
      "Wall time: 37.7 s\n"
     ]
    }
   ],
   "source": [
    "%%time\n",
    "# creating copy of dataframe with required features\n",
    "#df_time = df[['started_at', 'ended_at', 'duration_min']].copy()\n",
    "\n",
    "clean_data_path = \"data/clean/2024\"\n",
    "curr_year = 2024\n",
    "dates_feats = ['started_at', 'ended_at']\n",
    "#df_time = read_df_feats(base_path=clean_data_path, year=2024)\n",
    "df_time = read_df_feats(base_path=clean_data_path, year=curr_year, feats=dates_feats)"
   ]
  },
  {
   "cell_type": "code",
   "execution_count": 19,
   "id": "a370662e-4685-40c2-a68b-f30ec16ec07d",
   "metadata": {},
   "outputs": [
    {
     "name": "stdout",
     "output_type": "stream",
     "text": [
      "The DataFrame occupies approximately 673.91 MB\n"
     ]
    }
   ],
   "source": [
    "mb_size = df_time.memory_usage(deep=True).sum() / (1024 ** 2)\n",
    "print(f\"The DataFrame occupies approximately {mb_size:.2f} MB\")"
   ]
  },
  {
   "cell_type": "code",
   "execution_count": 5,
   "id": "08e644dc-22e0-4e50-8df3-442b0a841994",
   "metadata": {},
   "outputs": [],
   "source": [
    "# Duration in minutes\n",
    "#df['duration_min'] = (df['ended_at'] - df['started_at']).dt.total_seconds() / 60\n",
    "df_time['duration_min'] = (df_time['ended_at'] - df_time['started_at']).dt.total_seconds() / 60"
   ]
  },
  {
   "cell_type": "code",
   "execution_count": 6,
   "id": "e68e8713-a619-4ec4-8fb0-1085e557ede5",
   "metadata": {},
   "outputs": [
    {
     "name": "stdout",
     "output_type": "stream",
     "text": [
      "El DataFrame ocupa aproximadamente 1010.87 MB\n"
     ]
    }
   ],
   "source": [
    "mb_size = df_time.memory_usage(deep=True).sum() / (1024 ** 2)\n",
    "print(f\"El DataFrame ocupa aproximadamente {mb_size:.2f} MB\")"
   ]
  },
  {
   "cell_type": "code",
   "execution_count": 7,
   "id": "e7d13a3f-5077-4c3d-977c-8e2acb67abac",
   "metadata": {},
   "outputs": [
    {
     "data": {
      "text/plain": [
       "1537.0006666666666"
      ]
     },
     "execution_count": 7,
     "metadata": {},
     "output_type": "execute_result"
    }
   ],
   "source": [
    "#df['duration_min'].max()\n",
    "df_time['duration_min'].max()"
   ]
  },
  {
   "cell_type": "code",
   "execution_count": 9,
   "id": "ba73fef0-ecd4-42fe-ad14-2122c1034453",
   "metadata": {},
   "outputs": [],
   "source": [
    "# creating copy of dataframe with required features\n",
    "#df_time = df[['started_at', 'ended_at', 'duration_min']].copy()"
   ]
  },
  {
   "cell_type": "code",
   "execution_count": 10,
   "id": "359de7e8-411c-4f10-9dfc-d9a63ed84e42",
   "metadata": {},
   "outputs": [
    {
     "name": "stdout",
     "output_type": "stream",
     "text": [
      "CPU times: user 2min 24s, sys: 9.3 s, total: 2min 33s\n",
      "Wall time: 2min 30s\n"
     ]
    },
    {
     "data": {
      "text/plain": [
       "Text(0.5, 1.0, 'Distribution of Trip Duration')"
      ]
     },
     "execution_count": 10,
     "metadata": {},
     "output_type": "execute_result"
    },
    {
     "data": {
      "image/png": "[encoded data removed]",
      "text/plain": [
       "<Figure size 1000x700 with 1 Axes>"
      ]
     },
     "metadata": {},
     "output_type": "display_data"
    }
   ],
   "source": [
    "%%time\n",
    "# kde Plot\n",
    "plt.figure(figsize=[10,7])\n",
    "sns.kdeplot(data=df_time, x=\"duration_min\", fill=True);\n",
    "plt.title('Distribution of Trip Duration')"
   ]
  },
  {
   "cell_type": "code",
   "execution_count": 14,
   "id": "2b94ffc4-2c8b-4ddd-aa60-15ff400d0b45",
   "metadata": {},
   "outputs": [
    {
     "data": {
      "text/plain": [
       "1418"
      ]
     },
     "execution_count": 14,
     "metadata": {},
     "output_type": "execute_result"
    }
   ],
   "source": [
    "\n",
    "# Trigger garbage collection manually\n",
    "gc.collect()"
   ]
  },
  {
   "cell_type": "markdown",
   "id": "780d01e9-cf99-44be-b4ab-8a36a8d9e852",
   "metadata": {},
   "source": [
    "The distribution is heavily skewed to the right. We need to find the upper limit to declare outliers."
   ]
  },
  {
   "cell_type": "markdown",
   "id": "6a4d5476-686a-4c10-9b06-ba2f667ee457",
   "metadata": {},
   "source": [
    "**Assumptions**\n",
    "\n",
    "Looking at the distribution of travel duration data, we can make the following assumptions:\n",
    "\n",
    "- The maximum travel duration in minutes is 16,000 or more (100 hours), which is clearly incorrect.\n",
    "- If we think logically, a travel duration greater than 45-60 minutes makes no sense, and this is clearly an outlier due to some problem."
   ]
  },
  {
   "cell_type": "markdown",
   "id": "d4678929-b9f5-41d0-b195-fc061bbcb0c3",
   "metadata": {},
   "source": [
    "A way to find the upper limit to declare outliers is using IQR."
   ]
  },
  {
   "cell_type": "code",
   "execution_count": 8,
   "id": "3dd2b7a7-4905-4558-90d0-1cd1a7040064",
   "metadata": {},
   "outputs": [
    {
     "name": "stdout",
     "output_type": "stream",
     "text": [
      "25th Percentile: 5.2527833333333325\n",
      "75th Percentile: 15.742783333333334\n",
      "Median: 9.068266666666666\n",
      "IQR value is 10.490000000000002\n",
      "Upper Limit is 31.477783333333335\n",
      "Lower Limit is -10.48221666666667\n"
     ]
    }
   ],
   "source": [
    "# find upper bound \n",
    "Q3 = np.quantile(df_time['duration_min'],0.75)\n",
    "Q1 = np.quantile(df_time['duration_min'],0.25)\n",
    "IQR = Q3-Q1\n",
    "print(f\"25th Percentile: {Q1}\")\n",
    "print(f\"75th Percentile: {Q3}\")\n",
    "print(f\"Median: {df_time['duration_min'].median()}\")\n",
    "print(f\"IQR value is {IQR}\")\n",
    "print(f\"Upper Limit is {Q3+1.5*IQR}\")\n",
    "print(f\"Lower Limit is {Q1-1.5*IQR}\")"
   ]
  },
  {
   "cell_type": "markdown",
   "id": "ecbaf2a6-d2db-45d6-aa01-f790752cb6e7",
   "metadata": {},
   "source": [
    "Although the upper limit is **27**, we'll consider **60** as the upper limit. We'll assume that any value above that is an outlier caused by a malfunction."
   ]
  },
  {
   "cell_type": "code",
   "execution_count": 10,
   "id": "09c8be77-d0c1-4aa8-bd19-709bf4ecdaf0",
   "metadata": {},
   "outputs": [],
   "source": [
    "df_time = df_time[(df_time['duration_min']>0) & (df_time['duration_min']<60)]"
   ]
  },
  {
   "cell_type": "code",
   "execution_count": 11,
   "id": "a6c6086f-f338-4583-97c6-de25bc25d145",
   "metadata": {},
   "outputs": [
    {
     "name": "stdout",
     "output_type": "stream",
     "text": [
      "The DataFrame occupies approximately 1334.37 MB\n"
     ]
    }
   ],
   "source": [
    "mb_size = df_time.memory_usage(deep=True).sum() / (1024 ** 2)\n",
    "print(f\"The DataFrame occupies approximately {mb_size:.2f} MB\")"
   ]
  },
  {
   "cell_type": "code",
   "execution_count": 12,
   "id": "d5fb78b3-7271-4f57-93f0-b54aa196c2db",
   "metadata": {},
   "outputs": [
    {
     "name": "stdout",
     "output_type": "stream",
     "text": [
      "CPU times: user 2min 29s, sys: 11 s, total: 2min 40s\n",
      "Wall time: 2min 37s\n"
     ]
    },
    {
     "data": {
      "text/plain": [
       "Text(0.5, 1.0, 'Distribution of Trip Duration')"
      ]
     },
     "execution_count": 12,
     "metadata": {},
     "output_type": "execute_result"
    },
    {
     "data": {
      "image/png": "[encoded data removed]",
      "text/plain": [
       "<Figure size 1000x700 with 1 Axes>"
      ]
     },
     "metadata": {},
     "output_type": "display_data"
    }
   ],
   "source": [
    "%%time\n",
    "plt.figure(figsize=[10,7])\n",
    "#sns.kdeplot(temp, fill=True)\n",
    "sns.kdeplot(data=df_time, x=\"duration_min\", fill=True)\n",
    "plt.title('Distribution of Trip Duration')"
   ]
  },
  {
   "cell_type": "code",
   "execution_count": 23,
   "id": "d6501dcc-067e-4a79-9f1d-bdea7492edf2",
   "metadata": {},
   "outputs": [
    {
     "data": {
      "text/html": [
       "<div>\n",
       "<style scoped>\n",
       "    .dataframe tbody tr th:only-of-type {\n",
       "        vertical-align: middle;\n",
       "    }\n",
       "\n",
       "    .dataframe tbody tr th {\n",
       "        vertical-align: top;\n",
       "    }\n",
       "\n",
       "    .dataframe thead th {\n",
       "        text-align: right;\n",
       "    }\n",
       "</style>\n",
       "<table border=\"1\" class=\"dataframe\">\n",
       "  <thead>\n",
       "    <tr style=\"text-align: right;\">\n",
       "      <th></th>\n",
       "      <th>started_at</th>\n",
       "      <th>ended_at</th>\n",
       "      <th>duration_min</th>\n",
       "    </tr>\n",
       "  </thead>\n",
       "  <tbody>\n",
       "  </tbody>\n",
       "</table>\n",
       "</div>"
      ],
      "text/plain": [
       "Empty DataFrame\n",
       "Columns: [started_at, ended_at, duration_min]\n",
       "Index: []"
      ]
     },
     "execution_count": 23,
     "metadata": {},
     "output_type": "execute_result"
    }
   ],
   "source": [
    "df_time[(df_time['duration_min']>0) & (df_time['duration_min']<1)]"
   ]
  },
  {
   "cell_type": "code",
   "execution_count": 13,
   "id": "d126d78e-c728-4f83-8cc2-cc33c06b27f3",
   "metadata": {},
   "outputs": [
    {
     "data": {
      "text/html": [
       "<div>\n",
       "<style scoped>\n",
       "    .dataframe tbody tr th:only-of-type {\n",
       "        vertical-align: middle;\n",
       "    }\n",
       "\n",
       "    .dataframe tbody tr th {\n",
       "        vertical-align: top;\n",
       "    }\n",
       "\n",
       "    .dataframe thead th {\n",
       "        text-align: right;\n",
       "    }\n",
       "</style>\n",
       "<table border=\"1\" class=\"dataframe\">\n",
       "  <thead>\n",
       "    <tr style=\"text-align: right;\">\n",
       "      <th></th>\n",
       "      <th>started_at</th>\n",
       "      <th>ended_at</th>\n",
       "      <th>duration_min</th>\n",
       "    </tr>\n",
       "  </thead>\n",
       "  <tbody>\n",
       "  </tbody>\n",
       "</table>\n",
       "</div>"
      ],
      "text/plain": [
       "Empty DataFrame\n",
       "Columns: [started_at, ended_at, duration_min]\n",
       "Index: []"
      ]
     },
     "execution_count": 13,
     "metadata": {},
     "output_type": "execute_result"
    }
   ],
   "source": [
    "df_time[(df_time['duration_min']<0)]"
   ]
  },
  {
   "cell_type": "code",
   "execution_count": 20,
   "id": "276de4fb-03b9-4b5e-98b5-d81a278b3b0b",
   "metadata": {},
   "outputs": [],
   "source": [
    "del df_time"
   ]
  },
  {
   "cell_type": "code",
   "execution_count": 21,
   "id": "c8192d4e-0ea8-4907-92c0-071ec100cc59",
   "metadata": {},
   "outputs": [
    {
     "data": {
      "text/plain": [
       "0"
      ]
     },
     "execution_count": 21,
     "metadata": {},
     "output_type": "execute_result"
    }
   ],
   "source": [
    "# Trigger garbage collection manually\n",
    "gc.collect()"
   ]
  },
  {
   "cell_type": "markdown",
   "id": "bf80b0af-7e29-4647-bdef-4d395a30cf11",
   "metadata": {},
   "source": [
    "## Temporal Analysis "
   ]
  },
  {
   "cell_type": "code",
   "execution_count": 4,
   "id": "fbb487c6-1b71-492f-82d6-d32005ed35a7",
   "metadata": {},
   "outputs": [
    {
     "name": "stdout",
     "output_type": "stream",
     "text": [
      "Read datetime for 202401-citibike-tripdata.parquet\n",
      "Execution time for 202401-citibike-tripdata.parquet: 1.80 seconds\n",
      "Read datetime for 202402-citibike-tripdata.parquet\n",
      "Execution time for 202402-citibike-tripdata.parquet: 1.94 seconds\n",
      "Read datetime for 202403-citibike-tripdata.parquet\n",
      "Execution time for 202403-citibike-tripdata.parquet: 2.18 seconds\n",
      "Read datetime for 202404-citibike-tripdata.parquet\n",
      "Execution time for 202404-citibike-tripdata.parquet: 2.90 seconds\n",
      "Read datetime for 202405-citibike-tripdata.parquet\n",
      "Execution time for 202405-citibike-tripdata.parquet: 3.47 seconds\n",
      "Read datetime for 202406-citibike-tripdata.parquet\n",
      "Execution time for 202406-citibike-tripdata.parquet: 6.68 seconds\n",
      "Read datetime for 202407-citibike-tripdata.parquet\n",
      "Execution time for 202407-citibike-tripdata.parquet: 4.97 seconds\n",
      "Read datetime for 202408-citibike-tripdata.parquet\n",
      "Execution time for 202408-citibike-tripdata.parquet: 5.92 seconds\n",
      "Read datetime for 202409-citibike-tripdata.parquet\n",
      "Execution time for 202409-citibike-tripdata.parquet: 6.48 seconds\n",
      "Read datetime for 202410-citibike-tripdata.parquet\n",
      "Execution time for 202410-citibike-tripdata.parquet: 6.64 seconds\n",
      "Read datetime for 202411-citibike-tripdata.parquet\n",
      "Execution time for 202411-citibike-tripdata.parquet: 3.20 seconds\n",
      "Read datetime for 202412-citibike-tripdata.parquet\n",
      "Execution time for 202412-citibike-tripdata.parquet: 2.31 seconds\n"
     ]
    }
   ],
   "source": [
    "%%time \n",
    "#dt_df =  df[['started_at', 'ended_at']].copy()\n",
    "\n",
    "clean_data_path = \"data/clean/2024\"\n",
    "curr_year = 2024\n",
    "dates_feats = ['started_at']\n",
    "dt_df = read_df_feats(base_path=clean_data_path, year=curr_year, from_month=1, to_month=12, feats=dates_feats)"
   ]
  },
  {
   "cell_type": "code",
   "execution_count": 5,
   "id": "30016147-efc9-4007-bc95-7714a924f10d",
   "metadata": {},
   "outputs": [
    {
     "name": "stdout",
     "output_type": "stream",
     "text": [
      "The DataFrame occupies approximately 673.91 MB\n"
     ]
    }
   ],
   "source": [
    "mb_size = dt_df.memory_usage(deep=True).sum() / (1024 ** 2)\n",
    "print(f\"The DataFrame occupies approximately {mb_size:.2f} MB\")"
   ]
  },
  {
   "cell_type": "code",
   "execution_count": 68,
   "id": "8b6edb23-1752-4ee3-9bff-2ba1405ad0e5",
   "metadata": {},
   "outputs": [
    {
     "data": {
      "text/plain": [
       "0"
      ]
     },
     "execution_count": 68,
     "metadata": {},
     "output_type": "execute_result"
    }
   ],
   "source": [
    "# Trigger garbage collection manually\n",
    "gc.collect()"
   ]
  },
  {
   "cell_type": "code",
   "execution_count": null,
   "id": "a9470671-daaf-4548-846b-50500257a874",
   "metadata": {},
   "outputs": [],
   "source": [
    "%%time\n",
    "# creating hour of day\n",
    "dt_df['HOD'] =  dt_df['started_at'].dt.hour\n",
    "\n",
    "# creating day of the year feature\n",
    "dt_df['DOY'] = dt_df['started_at'].dt.dayofyear\n",
    "\n",
    "# creating day of the week feature\n",
    "dt_df['DOW'] = dt_df['started_at'].dt.dayofweek\n",
    "dt_df['weekday'] = dt_df[\"started_at\"].dt.day_name()\n",
    "\n",
    "# creating day of the month feature\n",
    "dt_df['DOM'] = dt_df['started_at'].dt.day\n",
    "\n",
    "# creating day of the month feature\n",
    "dt_df['DOY'] = dt_df['started_at'].dt.dayofyear\n",
    "\n",
    "# creating year column\n",
    "dt_df['year'] = dt_df['started_at'].dt.year\n",
    "\n",
    "# creating month number column\n",
    "dt_df['month_num'] = dt_df['started_at'].dt.month\n",
    "dt_df['month'] = dt_df['started_at'].dt.month_name()\n",
    "\n",
    "# convert datetime column to just date\n",
    "dt_df['date'] = pd.to_datetime(dt_df['started_at']).dt.date"
   ]
  },
  {
   "cell_type": "markdown",
   "id": "5e2330a6-23a9-4073-8eb9-72ced664e299",
   "metadata": {},
   "source": [
    "### Month of year"
   ]
  },
  {
   "cell_type": "code",
   "execution_count": 8,
   "id": "8816779d-0bad-4ee1-a716-8da1209aa50b",
   "metadata": {},
   "outputs": [
    {
     "name": "stdout",
     "output_type": "stream",
     "text": [
      "CPU times: user 990 ms, sys: 265 ms, total: 1.25 s\n",
      "Wall time: 1.24 s\n"
     ]
    }
   ],
   "source": [
    "%%time\n",
    "# creating month number column\n",
    "dt_df['month_num'] = dt_df['started_at'].dt.month\n",
    "#dt_df['month'] = dt_df['started_at'].dt.month_name()"
   ]
  },
  {
   "cell_type": "code",
   "execution_count": 9,
   "id": "68f2d34b-bb4f-40a2-b62d-600477e8700d",
   "metadata": {},
   "outputs": [
    {
     "data": {
      "text/html": [
       "<div>\n",
       "<style scoped>\n",
       "    .dataframe tbody tr th:only-of-type {\n",
       "        vertical-align: middle;\n",
       "    }\n",
       "\n",
       "    .dataframe tbody tr th {\n",
       "        vertical-align: top;\n",
       "    }\n",
       "\n",
       "    .dataframe thead th {\n",
       "        text-align: right;\n",
       "    }\n",
       "</style>\n",
       "<table border=\"1\" class=\"dataframe\">\n",
       "  <thead>\n",
       "    <tr style=\"text-align: right;\">\n",
       "      <th></th>\n",
       "      <th>started_at</th>\n",
       "      <th>ended_at</th>\n",
       "      <th>month_num</th>\n",
       "    </tr>\n",
       "  </thead>\n",
       "  <tbody>\n",
       "    <tr>\n",
       "      <th>0</th>\n",
       "      <td>2024-01-24 09:03:33.533</td>\n",
       "      <td>2024-01-24 09:06:53.535</td>\n",
       "      <td>1</td>\n",
       "    </tr>\n",
       "    <tr>\n",
       "      <th>1</th>\n",
       "      <td>2024-01-30 08:21:29.510</td>\n",
       "      <td>2024-01-30 08:29:03.304</td>\n",
       "      <td>1</td>\n",
       "    </tr>\n",
       "    <tr>\n",
       "      <th>2</th>\n",
       "      <td>2024-01-22 21:18:25.199</td>\n",
       "      <td>2024-01-22 21:26:24.647</td>\n",
       "      <td>1</td>\n",
       "    </tr>\n",
       "    <tr>\n",
       "      <th>3</th>\n",
       "      <td>2024-01-31 22:15:49.861</td>\n",
       "      <td>2024-01-31 22:22:45.520</td>\n",
       "      <td>1</td>\n",
       "    </tr>\n",
       "    <tr>\n",
       "      <th>4</th>\n",
       "      <td>2024-01-29 22:52:28.276</td>\n",
       "      <td>2024-01-29 22:57:05.099</td>\n",
       "      <td>1</td>\n",
       "    </tr>\n",
       "  </tbody>\n",
       "</table>\n",
       "</div>"
      ],
      "text/plain": [
       "               started_at                ended_at  month_num\n",
       "0 2024-01-24 09:03:33.533 2024-01-24 09:06:53.535          1\n",
       "1 2024-01-30 08:21:29.510 2024-01-30 08:29:03.304          1\n",
       "2 2024-01-22 21:18:25.199 2024-01-22 21:26:24.647          1\n",
       "3 2024-01-31 22:15:49.861 2024-01-31 22:22:45.520          1\n",
       "4 2024-01-29 22:52:28.276 2024-01-29 22:57:05.099          1"
      ]
     },
     "execution_count": 9,
     "metadata": {},
     "output_type": "execute_result"
    }
   ],
   "source": [
    "dt_df.head(5)"
   ]
  },
  {
   "cell_type": "code",
   "execution_count": 16,
   "id": "a0019240-fdb4-4952-849a-dd475105ee72",
   "metadata": {},
   "outputs": [
    {
     "name": "stdout",
     "output_type": "stream",
     "text": [
      "CPU times: user 677 ms, sys: 648 ms, total: 1.32 s\n",
      "Wall time: 1.33 s\n"
     ]
    }
   ],
   "source": [
    "%%time\n",
    "#df_weekdata = df['DOW'].value_counts().reset_index()\n",
    "#df_monthdata = dt_df[['date', 'month', 'month_num']].value_counts().reset_index()\n",
    "#df_monthdata.columns = ['date', 'month', 'month_num', 'trips']\n",
    "\n",
    "#df_monthdata = dt_df[['month', 'month_num']].value_counts().reset_index()\n",
    "#df_monthdata.columns = ['month', 'month_num', 'trips']\n",
    "#df_monthdata = df_monthdata.sort_values(by='month_num', ascending=True).reset_index(drop=True)\n",
    "\n",
    "df_monthdata = dt_df[['month_num']].value_counts().reset_index()\n",
    "df_monthdata.columns = ['month_num', 'trips']\n",
    "df_monthdata['month'] = df_monthdata['month_num'].apply(lambda x: calendar.month_name[x])\n",
    "df_monthdata = df_monthdata.sort_values(by='month_num', ascending=True).reset_index(drop=True)"
   ]
  },
  {
   "cell_type": "code",
   "execution_count": 17,
   "id": "c0b9c8ee-ab5b-46db-b82b-eb7a7feab67e",
   "metadata": {},
   "outputs": [
    {
     "data": {
      "text/html": [
       "<div>\n",
       "<style scoped>\n",
       "    .dataframe tbody tr th:only-of-type {\n",
       "        vertical-align: middle;\n",
       "    }\n",
       "\n",
       "    .dataframe tbody tr th {\n",
       "        vertical-align: top;\n",
       "    }\n",
       "\n",
       "    .dataframe thead th {\n",
       "        text-align: right;\n",
       "    }\n",
       "</style>\n",
       "<table border=\"1\" class=\"dataframe\">\n",
       "  <thead>\n",
       "    <tr style=\"text-align: right;\">\n",
       "      <th></th>\n",
       "      <th>month_num</th>\n",
       "      <th>trips</th>\n",
       "      <th>month</th>\n",
       "    </tr>\n",
       "  </thead>\n",
       "  <tbody>\n",
       "    <tr>\n",
       "      <th>0</th>\n",
       "      <td>1</td>\n",
       "      <td>1881808</td>\n",
       "      <td>January</td>\n",
       "    </tr>\n",
       "    <tr>\n",
       "      <th>1</th>\n",
       "      <td>2</td>\n",
       "      <td>2116002</td>\n",
       "      <td>February</td>\n",
       "    </tr>\n",
       "    <tr>\n",
       "      <th>2</th>\n",
       "      <td>3</td>\n",
       "      <td>2656178</td>\n",
       "      <td>March</td>\n",
       "    </tr>\n",
       "    <tr>\n",
       "      <th>3</th>\n",
       "      <td>4</td>\n",
       "      <td>3208973</td>\n",
       "      <td>April</td>\n",
       "    </tr>\n",
       "    <tr>\n",
       "      <th>4</th>\n",
       "      <td>5</td>\n",
       "      <td>4124878</td>\n",
       "      <td>May</td>\n",
       "    </tr>\n",
       "  </tbody>\n",
       "</table>\n",
       "</div>"
      ],
      "text/plain": [
       "   month_num    trips     month\n",
       "0          1  1881808   January\n",
       "1          2  2116002  February\n",
       "2          3  2656178     March\n",
       "3          4  3208973     April\n",
       "4          5  4124878       May"
      ]
     },
     "execution_count": 17,
     "metadata": {},
     "output_type": "execute_result"
    }
   ],
   "source": [
    "df_monthdata.head(5)"
   ]
  },
  {
   "cell_type": "code",
   "execution_count": 52,
   "id": "f050297d-0a62-425b-98b4-25cd32472c11",
   "metadata": {},
   "outputs": [
    {
     "data": {
      "image/png": "[encoded data removed]",
      "text/plain": [
       "<Figure size 1500x800 with 1 Axes>"
      ]
     },
     "metadata": {},
     "output_type": "display_data"
    },
    {
     "name": "stdout",
     "output_type": "stream",
     "text": [
      "CPU times: user 364 ms, sys: 148 ms, total: 512 ms\n",
      "Wall time: 317 ms\n"
     ]
    }
   ],
   "source": [
    "%%time\n",
    "plt.figure(figsize=[15,8])\n",
    "#plot=sns.boxplot(data=df_weekdata, x=df_weekdata['weekday'], y=df_weekdata['trips'], hue='')\n",
    "#plot=sns.boxplot(data=df_weekdata, x='weekday', y='trips', hue='weekday')\n",
    "plot=sns.barplot(df_monthdata, x=\"month\", y=\"trips\", hue=\"month\", legend=False)\n",
    "plt.title('citibike trips by month of year (2024)')\n",
    "plt.show();"
   ]
  },
  {
   "cell_type": "code",
   "execution_count": 53,
   "id": "01ba30ae-40f3-45bf-9134-8c2f610f45ee",
   "metadata": {},
   "outputs": [],
   "source": [
    "del df_monthdata"
   ]
  },
  {
   "cell_type": "code",
   "execution_count": 54,
   "id": "e081178e-fc3b-4a86-b35a-d63471457265",
   "metadata": {},
   "outputs": [
    {
     "ename": "NameError",
     "evalue": "name 'dt_df' is not defined",
     "output_type": "error",
     "traceback": [
      "\u001b[31m---------------------------------------------------------------------------\u001b[39m",
      "\u001b[31mNameError\u001b[39m                                 Traceback (most recent call last)",
      "\u001b[36mCell\u001b[39m\u001b[36m \u001b[39m\u001b[32mIn[54]\u001b[39m\u001b[32m, line 2\u001b[39m\n\u001b[32m      1\u001b[39m month_feat = \u001b[33m'\u001b[39m\u001b[33mmonth_num\u001b[39m\u001b[33m'\u001b[39m\n\u001b[32m----> \u001b[39m\u001b[32m2\u001b[39m \u001b[38;5;28;01mif\u001b[39;00m month_feat \u001b[38;5;129;01min\u001b[39;00m \u001b[43mdt_df\u001b[49m.columns:\n\u001b[32m      3\u001b[39m     \u001b[38;5;28mprint\u001b[39m(\u001b[33mf\u001b[39m\u001b[33m'\u001b[39m\u001b[33mDroping colums \u001b[39m\u001b[38;5;132;01m{\u001b[39;00mmonth_feat\u001b[38;5;132;01m}\u001b[39;00m\u001b[33m'\u001b[39m)\n\u001b[32m      4\u001b[39m     \u001b[38;5;66;03m# Drop column 'B' inplace\u001b[39;00m\n",
      "\u001b[31mNameError\u001b[39m: name 'dt_df' is not defined"
     ]
    }
   ],
   "source": [
    "month_feat = 'month_num'\n",
    "if month_feat in dt_df.columns:\n",
    "    print(f'Droping colums {month_feat}')\n",
    "    # Drop column 'B' inplace\n",
    "    dt_df.drop(month_feat, axis=1, inplace=True)"
   ]
  },
  {
   "cell_type": "code",
   "execution_count": 56,
   "id": "4603b5c3-061a-4a9d-8081-73fc73d9dc8b",
   "metadata": {},
   "outputs": [
    {
     "data": {
      "text/plain": [
       "0"
      ]
     },
     "execution_count": 56,
     "metadata": {},
     "output_type": "execute_result"
    }
   ],
   "source": [
    "# Trigger garbage collection manually\n",
    "gc.collect()"
   ]
  },
  {
   "cell_type": "markdown",
   "id": "a888c1f9-d8f7-4181-bd60-b3a1d53aadf9",
   "metadata": {},
   "source": [
    "### Day of week"
   ]
  },
  {
   "cell_type": "code",
   "execution_count": 24,
   "id": "e3bdb694-52ac-49f8-afb3-0052b9eb3e06",
   "metadata": {},
   "outputs": [],
   "source": [
    "# creating day of the week feature\n",
    "dt_df['DOW'] = dt_df['started_at'].dt.dayofweek\n",
    "#dt_df['weekday'] = dt_df[\"started_at\"].dt.day_name()"
   ]
  },
  {
   "cell_type": "code",
   "execution_count": 26,
   "id": "a494ee12-7771-4856-8ef7-1b597114b476",
   "metadata": {},
   "outputs": [
    {
     "name": "stdout",
     "output_type": "stream",
     "text": [
      "CPU times: user 583 ms, sys: 689 ms, total: 1.27 s\n",
      "Wall time: 1.28 s\n"
     ]
    }
   ],
   "source": [
    "%%time\n",
    "#df_weekdata = df['DOW'].value_counts().reset_index()\n",
    "#df_weekdata = dt_df[['date', 'weekday', 'DOW']].value_counts().reset_index()\n",
    "#df_weekdata.columns = ['date', 'weekday', 'DOW', 'trips']\n",
    "#df_weekdata = df_weekdata.sort_values(by='DOW', ascending=True)\n",
    "\n",
    "#df_weekdata = dt_df[['weekday', 'DOW']].value_counts().reset_index()\n",
    "#df_weekdata.columns = ['weekday', 'DOW', 'trips']\n",
    "#df_weekdata = df_weekdata.sort_values(by='DOW', ascending=True).reset_index(drop=True)\n",
    "\n",
    "df_weekdata = dt_df[['DOW']].value_counts().reset_index()\n",
    "df_weekdata.columns = ['DOW', 'trips']\n",
    "df_weekdata['weekday'] = df_weekdata['DOW'].apply(lambda x: calendar.day_name[x])\n",
    "df_weekdata = df_weekdata.sort_values(by='DOW', ascending=True).reset_index(drop=True)"
   ]
  },
  {
   "cell_type": "code",
   "execution_count": 27,
   "id": "9a34af49-90ae-463a-bad5-001d00c61a49",
   "metadata": {},
   "outputs": [
    {
     "data": {
      "text/html": [
       "<div>\n",
       "<style scoped>\n",
       "    .dataframe tbody tr th:only-of-type {\n",
       "        vertical-align: middle;\n",
       "    }\n",
       "\n",
       "    .dataframe tbody tr th {\n",
       "        vertical-align: top;\n",
       "    }\n",
       "\n",
       "    .dataframe thead th {\n",
       "        text-align: right;\n",
       "    }\n",
       "</style>\n",
       "<table border=\"1\" class=\"dataframe\">\n",
       "  <thead>\n",
       "    <tr style=\"text-align: right;\">\n",
       "      <th></th>\n",
       "      <th>DOW</th>\n",
       "      <th>trips</th>\n",
       "      <th>weekday</th>\n",
       "    </tr>\n",
       "  </thead>\n",
       "  <tbody>\n",
       "    <tr>\n",
       "      <th>0</th>\n",
       "      <td>0</td>\n",
       "      <td>6254509</td>\n",
       "      <td>Monday</td>\n",
       "    </tr>\n",
       "    <tr>\n",
       "      <th>1</th>\n",
       "      <td>1</td>\n",
       "      <td>6686758</td>\n",
       "      <td>Tuesday</td>\n",
       "    </tr>\n",
       "    <tr>\n",
       "      <th>2</th>\n",
       "      <td>2</td>\n",
       "      <td>6642703</td>\n",
       "      <td>Wednesday</td>\n",
       "    </tr>\n",
       "    <tr>\n",
       "      <th>3</th>\n",
       "      <td>3</td>\n",
       "      <td>6497142</td>\n",
       "      <td>Thursday</td>\n",
       "    </tr>\n",
       "    <tr>\n",
       "      <th>4</th>\n",
       "      <td>4</td>\n",
       "      <td>6560312</td>\n",
       "      <td>Friday</td>\n",
       "    </tr>\n",
       "    <tr>\n",
       "      <th>5</th>\n",
       "      <td>5</td>\n",
       "      <td>6020598</td>\n",
       "      <td>Saturday</td>\n",
       "    </tr>\n",
       "    <tr>\n",
       "      <th>6</th>\n",
       "      <td>6</td>\n",
       "      <td>5503557</td>\n",
       "      <td>Sunday</td>\n",
       "    </tr>\n",
       "  </tbody>\n",
       "</table>\n",
       "</div>"
      ],
      "text/plain": [
       "   DOW    trips    weekday\n",
       "0    0  6254509     Monday\n",
       "1    1  6686758    Tuesday\n",
       "2    2  6642703  Wednesday\n",
       "3    3  6497142   Thursday\n",
       "4    4  6560312     Friday\n",
       "5    5  6020598   Saturday\n",
       "6    6  5503557     Sunday"
      ]
     },
     "execution_count": 27,
     "metadata": {},
     "output_type": "execute_result"
    }
   ],
   "source": [
    "df_weekdata.head(7)"
   ]
  },
  {
   "cell_type": "code",
   "execution_count": 102,
   "id": "48d78eab-ac61-435d-ba48-5bf740751fca",
   "metadata": {},
   "outputs": [],
   "source": [
    "#plt.figure(figsize=[15,8])\n",
    "#plot=sns.boxplot(data=df_weekdata, x=df_weekdata['weekday'], y=df_weekdata['trips'], hue='')\n",
    "#plot=sns.boxplot(data=dt_df, x='weekday',  hue='weekday')\n",
    "#plt.title('Distribution of Number of trips by Day of week for year 20XX')\n",
    "#plt.show();"
   ]
  },
  {
   "cell_type": "code",
   "execution_count": 57,
   "id": "d0d060a5-ae0e-4a3e-8246-86d6f00f33dd",
   "metadata": {},
   "outputs": [
    {
     "data": {
      "image/png": "[encoded data removed]",
      "text/plain": [
       "<Figure size 1500x800 with 1 Axes>"
      ]
     },
     "metadata": {},
     "output_type": "display_data"
    },
    {
     "name": "stdout",
     "output_type": "stream",
     "text": [
      "CPU times: user 314 ms, sys: 119 ms, total: 433 ms\n",
      "Wall time: 242 ms\n"
     ]
    }
   ],
   "source": [
    "%%time\n",
    "plt.figure(figsize=[15,8])\n",
    "#plot=sns.boxplot(data=df_weekdata, x=df_weekdata['weekday'], y=df_weekdata['trips'], hue='')\n",
    "#plot=sns.boxplot(data=df_weekdata, x='weekday', y='trips', hue='weekday')\n",
    "plot=sns.barplot(df_weekdata, x=\"weekday\", y=\"trips\", hue=\"weekday\", legend=False)\n",
    "plt.title('citibike trips by day of week (20XX)')\n",
    "plt.show();"
   ]
  },
  {
   "cell_type": "code",
   "execution_count": 58,
   "id": "4feffc9c-5bdb-4d10-a0b9-35282912afa5",
   "metadata": {},
   "outputs": [],
   "source": [
    "del df_weekdata"
   ]
  },
  {
   "cell_type": "code",
   "execution_count": 29,
   "id": "f4407ebf-9745-4f0f-afec-3b4a4690ed61",
   "metadata": {},
   "outputs": [
    {
     "name": "stdout",
     "output_type": "stream",
     "text": [
      "Droping colums DOW\n"
     ]
    }
   ],
   "source": [
    "dow_feat = 'DOW'\n",
    "if dow_feat in dt_df.columns:\n",
    "    print(f'Droping colums {dow_feat}')\n",
    "    # Drop column 'B' inplace\n",
    "    dt_df.drop(dow_feat, axis=1, inplace=True)"
   ]
  },
  {
   "cell_type": "code",
   "execution_count": 60,
   "id": "64bf1063-be2c-4002-9823-a9c20612b641",
   "metadata": {},
   "outputs": [
    {
     "data": {
      "text/plain": [
       "0"
      ]
     },
     "execution_count": 60,
     "metadata": {},
     "output_type": "execute_result"
    }
   ],
   "source": [
    "# Trigger garbage collection manually\n",
    "gc.collect()"
   ]
  },
  {
   "cell_type": "markdown",
   "id": "b422e0e3-b7fd-47f1-b7d8-9c3823ca9062",
   "metadata": {},
   "source": [
    "### Day of year"
   ]
  },
  {
   "cell_type": "code",
   "execution_count": 30,
   "id": "becb6e47-e0ea-4519-beba-c7229b72c583",
   "metadata": {},
   "outputs": [],
   "source": [
    "# creating day of the year feature\n",
    "dt_df['DOY'] = dt_df['started_at'].dt.dayofyear"
   ]
  },
  {
   "cell_type": "code",
   "execution_count": 31,
   "id": "ecf6b370-00e4-45de-b6c4-4881a3a10589",
   "metadata": {},
   "outputs": [
    {
     "data": {
      "text/html": [
       "<div>\n",
       "<style scoped>\n",
       "    .dataframe tbody tr th:only-of-type {\n",
       "        vertical-align: middle;\n",
       "    }\n",
       "\n",
       "    .dataframe tbody tr th {\n",
       "        vertical-align: top;\n",
       "    }\n",
       "\n",
       "    .dataframe thead th {\n",
       "        text-align: right;\n",
       "    }\n",
       "</style>\n",
       "<table border=\"1\" class=\"dataframe\">\n",
       "  <thead>\n",
       "    <tr style=\"text-align: right;\">\n",
       "      <th></th>\n",
       "      <th>started_at</th>\n",
       "      <th>ended_at</th>\n",
       "      <th>DOY</th>\n",
       "    </tr>\n",
       "  </thead>\n",
       "  <tbody>\n",
       "    <tr>\n",
       "      <th>0</th>\n",
       "      <td>2024-01-24 09:03:33.533</td>\n",
       "      <td>2024-01-24 09:06:53.535</td>\n",
       "      <td>24</td>\n",
       "    </tr>\n",
       "    <tr>\n",
       "      <th>1</th>\n",
       "      <td>2024-01-30 08:21:29.510</td>\n",
       "      <td>2024-01-30 08:29:03.304</td>\n",
       "      <td>30</td>\n",
       "    </tr>\n",
       "    <tr>\n",
       "      <th>2</th>\n",
       "      <td>2024-01-22 21:18:25.199</td>\n",
       "      <td>2024-01-22 21:26:24.647</td>\n",
       "      <td>22</td>\n",
       "    </tr>\n",
       "    <tr>\n",
       "      <th>3</th>\n",
       "      <td>2024-01-31 22:15:49.861</td>\n",
       "      <td>2024-01-31 22:22:45.520</td>\n",
       "      <td>31</td>\n",
       "    </tr>\n",
       "    <tr>\n",
       "      <th>4</th>\n",
       "      <td>2024-01-29 22:52:28.276</td>\n",
       "      <td>2024-01-29 22:57:05.099</td>\n",
       "      <td>29</td>\n",
       "    </tr>\n",
       "  </tbody>\n",
       "</table>\n",
       "</div>"
      ],
      "text/plain": [
       "               started_at                ended_at  DOY\n",
       "0 2024-01-24 09:03:33.533 2024-01-24 09:06:53.535   24\n",
       "1 2024-01-30 08:21:29.510 2024-01-30 08:29:03.304   30\n",
       "2 2024-01-22 21:18:25.199 2024-01-22 21:26:24.647   22\n",
       "3 2024-01-31 22:15:49.861 2024-01-31 22:22:45.520   31\n",
       "4 2024-01-29 22:52:28.276 2024-01-29 22:57:05.099   29"
      ]
     },
     "execution_count": 31,
     "metadata": {},
     "output_type": "execute_result"
    }
   ],
   "source": [
    "dt_df.head(5)"
   ]
  },
  {
   "cell_type": "code",
   "execution_count": 32,
   "id": "7bd39d2b-a2a7-4cfe-b497-345c224e30fc",
   "metadata": {},
   "outputs": [
    {
     "name": "stdout",
     "output_type": "stream",
     "text": [
      "CPU times: user 676 ms, sys: 640 ms, total: 1.32 s\n",
      "Wall time: 1.31 s\n"
     ]
    }
   ],
   "source": [
    "%%time\n",
    "#df_weekdata = df['DOW'].value_counts().reset_index()\n",
    "df_doydata = dt_df[['DOY']].value_counts().reset_index()\n",
    "df_doydata.columns = ['day', 'trips']\n",
    "df_doydata = df_doydata.sort_values(by='day', ascending=True).reset_index(drop=True)"
   ]
  },
  {
   "cell_type": "code",
   "execution_count": 33,
   "id": "d37d33d6-2e0f-4d55-b9d2-98460fb5a8c7",
   "metadata": {},
   "outputs": [
    {
     "data": {
      "text/html": [
       "<div>\n",
       "<style scoped>\n",
       "    .dataframe tbody tr th:only-of-type {\n",
       "        vertical-align: middle;\n",
       "    }\n",
       "\n",
       "    .dataframe tbody tr th {\n",
       "        vertical-align: top;\n",
       "    }\n",
       "\n",
       "    .dataframe thead th {\n",
       "        text-align: right;\n",
       "    }\n",
       "</style>\n",
       "<table border=\"1\" class=\"dataframe\">\n",
       "  <thead>\n",
       "    <tr style=\"text-align: right;\">\n",
       "      <th></th>\n",
       "      <th>day</th>\n",
       "      <th>trips</th>\n",
       "    </tr>\n",
       "  </thead>\n",
       "  <tbody>\n",
       "    <tr>\n",
       "      <th>0</th>\n",
       "      <td>1</td>\n",
       "      <td>47031</td>\n",
       "    </tr>\n",
       "    <tr>\n",
       "      <th>1</th>\n",
       "      <td>2</td>\n",
       "      <td>67838</td>\n",
       "    </tr>\n",
       "    <tr>\n",
       "      <th>2</th>\n",
       "      <td>3</td>\n",
       "      <td>76213</td>\n",
       "    </tr>\n",
       "    <tr>\n",
       "      <th>3</th>\n",
       "      <td>4</td>\n",
       "      <td>77273</td>\n",
       "    </tr>\n",
       "    <tr>\n",
       "      <th>4</th>\n",
       "      <td>5</td>\n",
       "      <td>72233</td>\n",
       "    </tr>\n",
       "  </tbody>\n",
       "</table>\n",
       "</div>"
      ],
      "text/plain": [
       "   day  trips\n",
       "0    1  47031\n",
       "1    2  67838\n",
       "2    3  76213\n",
       "3    4  77273\n",
       "4    5  72233"
      ]
     },
     "execution_count": 33,
     "metadata": {},
     "output_type": "execute_result"
    }
   ],
   "source": [
    "df_doydata.head(5)"
   ]
  },
  {
   "cell_type": "code",
   "execution_count": 36,
   "id": "8340c08c-4852-49ff-8d36-bf47f4edda35",
   "metadata": {},
   "outputs": [
    {
     "name": "stdout",
     "output_type": "stream",
     "text": [
      "CPU times: user 2 μs, sys: 2 μs, total: 4 μs\n",
      "Wall time: 6.44 μs\n"
     ]
    },
    {
     "data": {
      "image/png": "[encoded data removed]",
      "text/plain": [
       "<Figure size 1400x600 with 1 Axes>"
      ]
     },
     "metadata": {},
     "output_type": "display_data"
    }
   ],
   "source": [
    "%time\n",
    "# Graficar\n",
    "plt.figure(figsize=(14, 6))\n",
    "sns.scatterplot(data=df_doydata, x='day', y='trips', alpha=0.6, color='royalblue')\n",
    "plt.title(\"citibike trips by day of year (2024)\", fontsize=16)\n",
    "plt.xlabel(\"Day of year\")\n",
    "plt.ylabel(\"citibike rips\")\n",
    "plt.grid(True, linestyle='--', alpha=0.3)\n",
    "plt.tight_layout()\n",
    "plt.show()"
   ]
  },
  {
   "cell_type": "code",
   "execution_count": 50,
   "id": "d274783a-5543-4094-813e-d4306a5d9397",
   "metadata": {},
   "outputs": [],
   "source": [
    "del df_doydata"
   ]
  },
  {
   "cell_type": "code",
   "execution_count": 37,
   "id": "e607868b-88ff-49f0-9892-e07076cc85ac",
   "metadata": {},
   "outputs": [
    {
     "name": "stdout",
     "output_type": "stream",
     "text": [
      "Droping colums DOY\n"
     ]
    }
   ],
   "source": [
    "doy_feat = 'DOY'\n",
    "if doy_feat in dt_df.columns:\n",
    "    print(f'Droping colums {doy_feat}')\n",
    "    # Drop column 'B' inplace\n",
    "    dt_df.drop(doy_feat, axis=1, inplace=True)"
   ]
  },
  {
   "cell_type": "code",
   "execution_count": 51,
   "id": "15dd889b-d529-45f2-b1e9-5e4582dbf2f3",
   "metadata": {},
   "outputs": [
    {
     "data": {
      "text/plain": [
       "0"
      ]
     },
     "execution_count": 51,
     "metadata": {},
     "output_type": "execute_result"
    }
   ],
   "source": [
    "# Trigger garbage collection manually\n",
    "gc.collect()"
   ]
  },
  {
   "cell_type": "markdown",
   "id": "29ec619f-4591-4104-b3ab-122404ed49ea",
   "metadata": {},
   "source": [
    "### Hour of day"
   ]
  },
  {
   "cell_type": "code",
   "execution_count": 38,
   "id": "573af5ea-7b56-4258-8b8d-96c08d2db634",
   "metadata": {},
   "outputs": [
    {
     "name": "stdout",
     "output_type": "stream",
     "text": [
      "CPU times: user 833 ms, sys: 243 ms, total: 1.08 s\n",
      "Wall time: 1.08 s\n"
     ]
    }
   ],
   "source": [
    "%%time\n",
    "# creating hour of day\n",
    "dt_df['HOD'] =  dt_df['started_at'].dt.hour"
   ]
  },
  {
   "cell_type": "code",
   "execution_count": 40,
   "id": "7fec15d8-46d9-4423-8a00-43b5d0718d38",
   "metadata": {},
   "outputs": [
    {
     "data": {
      "text/html": [
       "<div>\n",
       "<style scoped>\n",
       "    .dataframe tbody tr th:only-of-type {\n",
       "        vertical-align: middle;\n",
       "    }\n",
       "\n",
       "    .dataframe tbody tr th {\n",
       "        vertical-align: top;\n",
       "    }\n",
       "\n",
       "    .dataframe thead th {\n",
       "        text-align: right;\n",
       "    }\n",
       "</style>\n",
       "<table border=\"1\" class=\"dataframe\">\n",
       "  <thead>\n",
       "    <tr style=\"text-align: right;\">\n",
       "      <th></th>\n",
       "      <th>started_at</th>\n",
       "      <th>ended_at</th>\n",
       "      <th>HOD</th>\n",
       "    </tr>\n",
       "  </thead>\n",
       "  <tbody>\n",
       "    <tr>\n",
       "      <th>0</th>\n",
       "      <td>2024-01-24 09:03:33.533</td>\n",
       "      <td>2024-01-24 09:06:53.535</td>\n",
       "      <td>9</td>\n",
       "    </tr>\n",
       "    <tr>\n",
       "      <th>1</th>\n",
       "      <td>2024-01-30 08:21:29.510</td>\n",
       "      <td>2024-01-30 08:29:03.304</td>\n",
       "      <td>8</td>\n",
       "    </tr>\n",
       "    <tr>\n",
       "      <th>2</th>\n",
       "      <td>2024-01-22 21:18:25.199</td>\n",
       "      <td>2024-01-22 21:26:24.647</td>\n",
       "      <td>21</td>\n",
       "    </tr>\n",
       "    <tr>\n",
       "      <th>3</th>\n",
       "      <td>2024-01-31 22:15:49.861</td>\n",
       "      <td>2024-01-31 22:22:45.520</td>\n",
       "      <td>22</td>\n",
       "    </tr>\n",
       "    <tr>\n",
       "      <th>4</th>\n",
       "      <td>2024-01-29 22:52:28.276</td>\n",
       "      <td>2024-01-29 22:57:05.099</td>\n",
       "      <td>22</td>\n",
       "    </tr>\n",
       "  </tbody>\n",
       "</table>\n",
       "</div>"
      ],
      "text/plain": [
       "               started_at                ended_at  HOD\n",
       "0 2024-01-24 09:03:33.533 2024-01-24 09:06:53.535    9\n",
       "1 2024-01-30 08:21:29.510 2024-01-30 08:29:03.304    8\n",
       "2 2024-01-22 21:18:25.199 2024-01-22 21:26:24.647   21\n",
       "3 2024-01-31 22:15:49.861 2024-01-31 22:22:45.520   22\n",
       "4 2024-01-29 22:52:28.276 2024-01-29 22:57:05.099   22"
      ]
     },
     "execution_count": 40,
     "metadata": {},
     "output_type": "execute_result"
    }
   ],
   "source": [
    "dt_df.head(5)"
   ]
  },
  {
   "cell_type": "code",
   "execution_count": 41,
   "id": "b06b782d-d87c-4690-a368-2d53896dc8fd",
   "metadata": {},
   "outputs": [
    {
     "name": "stdout",
     "output_type": "stream",
     "text": [
      "CPU times: user 624 ms, sys: 635 ms, total: 1.26 s\n",
      "Wall time: 1.27 s\n"
     ]
    }
   ],
   "source": [
    "%%time\n",
    "#df_weekdata = df['DOW'].value_counts().reset_index()\n",
    "df_hourdata = dt_df[['HOD']].value_counts().reset_index()\n",
    "df_hourdata.columns = ['hour', 'trips']\n",
    "df_hourdata = df_hourdata.sort_values(by='hour', ascending=True).reset_index(drop=True)"
   ]
  },
  {
   "cell_type": "code",
   "execution_count": 42,
   "id": "05ab8890-6f45-4a8a-903a-4db36a0f11d8",
   "metadata": {},
   "outputs": [
    {
     "data": {
      "text/html": [
       "<div>\n",
       "<style scoped>\n",
       "    .dataframe tbody tr th:only-of-type {\n",
       "        vertical-align: middle;\n",
       "    }\n",
       "\n",
       "    .dataframe tbody tr th {\n",
       "        vertical-align: top;\n",
       "    }\n",
       "\n",
       "    .dataframe thead th {\n",
       "        text-align: right;\n",
       "    }\n",
       "</style>\n",
       "<table border=\"1\" class=\"dataframe\">\n",
       "  <thead>\n",
       "    <tr style=\"text-align: right;\">\n",
       "      <th></th>\n",
       "      <th>hour</th>\n",
       "      <th>trips</th>\n",
       "    </tr>\n",
       "  </thead>\n",
       "  <tbody>\n",
       "    <tr>\n",
       "      <th>0</th>\n",
       "      <td>0</td>\n",
       "      <td>620604</td>\n",
       "    </tr>\n",
       "    <tr>\n",
       "      <th>1</th>\n",
       "      <td>1</td>\n",
       "      <td>373159</td>\n",
       "    </tr>\n",
       "    <tr>\n",
       "      <th>2</th>\n",
       "      <td>2</td>\n",
       "      <td>238739</td>\n",
       "    </tr>\n",
       "    <tr>\n",
       "      <th>3</th>\n",
       "      <td>3</td>\n",
       "      <td>159232</td>\n",
       "    </tr>\n",
       "    <tr>\n",
       "      <th>4</th>\n",
       "      <td>4</td>\n",
       "      <td>143742</td>\n",
       "    </tr>\n",
       "  </tbody>\n",
       "</table>\n",
       "</div>"
      ],
      "text/plain": [
       "   hour   trips\n",
       "0     0  620604\n",
       "1     1  373159\n",
       "2     2  238739\n",
       "3     3  159232\n",
       "4     4  143742"
      ]
     },
     "execution_count": 42,
     "metadata": {},
     "output_type": "execute_result"
    }
   ],
   "source": [
    "df_hourdata.head(5)"
   ]
  },
  {
   "cell_type": "code",
   "execution_count": 44,
   "id": "8aba733b-0c7e-4e42-b017-122ff9246c8d",
   "metadata": {},
   "outputs": [
    {
     "data": {
      "image/png": "[encoded data removed]",
      "text/plain": [
       "<Figure size 1500x800 with 1 Axes>"
      ]
     },
     "metadata": {},
     "output_type": "display_data"
    },
    {
     "name": "stdout",
     "output_type": "stream",
     "text": [
      "CPU times: user 514 ms, sys: 127 ms, total: 641 ms\n",
      "Wall time: 459 ms\n"
     ]
    }
   ],
   "source": [
    "%%time\n",
    "plt.figure(figsize=[15,8])\n",
    "#plot=sns.boxplot(data=df_weekdata, x=df_weekdata['weekday'], y=df_weekdata['trips'], hue='')\n",
    "#plot=sns.boxplot(data=df_weekdata, x='weekday', y='trips', hue='weekday')\n",
    "plot=sns.barplot(df_hourdata, x=\"hour\", y=\"trips\", hue=\"hour\", legend=False)\n",
    "plt.title('citibike trips by hour of day (2024)')\n",
    "plt.show();"
   ]
  },
  {
   "cell_type": "code",
   "execution_count": 48,
   "id": "5617cc3c-502e-4933-ba73-01e5f6317f90",
   "metadata": {},
   "outputs": [],
   "source": [
    "del df_hourdata"
   ]
  },
  {
   "cell_type": "code",
   "execution_count": 45,
   "id": "e5b0d039-111e-47bc-81af-fe5f94a76154",
   "metadata": {},
   "outputs": [],
   "source": [
    "# Remove datatime dataframe\n",
    "del dt_df"
   ]
  },
  {
   "cell_type": "code",
   "execution_count": 82,
   "id": "dbdd0b22-eab2-46a1-a11e-01af5e611e6b",
   "metadata": {},
   "outputs": [
    {
     "data": {
      "text/plain": [
       "0"
      ]
     },
     "execution_count": 82,
     "metadata": {},
     "output_type": "execute_result"
    }
   ],
   "source": [
    "# Trigger garbage collection manually\n",
    "gc.collect()"
   ]
  },
  {
   "cell_type": "markdown",
   "id": "bf101cc9-c80f-41da-a8fc-7b64b703e628",
   "metadata": {},
   "source": [
    "### Holidays"
   ]
  },
  {
   "cell_type": "code",
   "execution_count": null,
   "id": "73a90d74-1309-4de7-8082-20b4b3f8aa63",
   "metadata": {},
   "outputs": [],
   "source": []
  },
  {
   "cell_type": "code",
   "execution_count": null,
   "id": "c04a99a6-5b4c-40dc-98a6-07b585620aa5",
   "metadata": {},
   "outputs": [],
   "source": []
  },
  {
   "cell_type": "code",
   "execution_count": null,
   "id": "f3b7d257-8407-4215-816d-bd68aeb10066",
   "metadata": {},
   "outputs": [],
   "source": []
  },
  {
   "cell_type": "code",
   "execution_count": null,
   "id": "11a784c5-29a3-4988-b656-d736a924213d",
   "metadata": {},
   "outputs": [],
   "source": []
  },
  {
   "cell_type": "markdown",
   "id": "9b969e58-785a-4f78-8538-e6f6fe738639",
   "metadata": {},
   "source": [
    "## Station Analysis"
   ]
  },
  {
   "cell_type": "markdown",
   "id": "9b411b6e-ae1d-4d3a-8d9b-9a8f7db0ea89",
   "metadata": {},
   "source": [
    "### Busy Station"
   ]
  },
  {
   "cell_type": "code",
   "execution_count": 33,
   "id": "59adc54e-2d84-47d9-ba06-e991f7dfaeb3",
   "metadata": {},
   "outputs": [
    {
     "name": "stdout",
     "output_type": "stream",
     "text": [
      "year: 2024, months: 1 to  1\n",
      "Read datetime for 202401-citibike-tripdata.parquet\n",
      "Execution time for 202401-citibike-tripdata.parquet: 3.29 seconds\n",
      "CPU times: user 1.56 s, sys: 1.81 s, total: 3.37 s\n",
      "Wall time: 3.29 s\n"
     ]
    }
   ],
   "source": [
    "%%time\n",
    "\n",
    "clean_data_path = \"data/clean/2024\"\n",
    "curr_year = 2024\n",
    "station_feats = ['start_station_name']\n",
    "start_stationroutes_df = read_df_feats(base_path=clean_data_path, year=curr_year, feats=station_feats)"
   ]
  },
  {
   "cell_type": "code",
   "execution_count": 8,
   "id": "152cef18-0caa-4295-92c8-1db04f381506",
   "metadata": {},
   "outputs": [
    {
     "name": "stdout",
     "output_type": "stream",
     "text": [
      "CPU times: user 3.4 s, sys: 33.2 ms, total: 3.43 s\n",
      "Wall time: 3.37 s\n"
     ]
    }
   ],
   "source": [
    "%%time\n",
    "# Count most common routes\n",
    "#top_start_station = df['start_station_name'].value_counts().head(20).reset_index()\n",
    "top_start_station = start_stationroutes_df['start_station_name'].value_counts().reset_index()\n",
    "top_start_station.columns = ['start_station_name', 'trips']\n",
    "\n",
    "# Reverse order for nicer plotting\n",
    "top_start_station = top_start_station.sort_values(by='trips', ascending=False)"
   ]
  },
  {
   "cell_type": "code",
   "execution_count": 34,
   "id": "23971024-b699-4764-94e7-7906a9dc73fd",
   "metadata": {},
   "outputs": [
    {
     "data": {
      "text/plain": [
       "0"
      ]
     },
     "execution_count": 34,
     "metadata": {},
     "output_type": "execute_result"
    }
   ],
   "source": [
    "# Trigger garbage collection manually\n",
    "gc.collect()"
   ]
  },
  {
   "cell_type": "code",
   "execution_count": 10,
   "id": "a3b2f611-463f-461b-99da-3733119600a5",
   "metadata": {},
   "outputs": [
    {
     "data": {
      "image/png": "[encoded data removed]",
      "text/plain": [
       "<Figure size 1000x800 with 1 Axes>"
      ]
     },
     "metadata": {},
     "output_type": "display_data"
    },
    {
     "name": "stdout",
     "output_type": "stream",
     "text": [
      "CPU times: user 554 ms, sys: 255 ms, total: 809 ms\n",
      "Wall time: 470 ms\n"
     ]
    }
   ],
   "source": [
    "%%time\n",
    "# Plot\n",
    "plt.figure(figsize=(10, 8))\n",
    "sns.barplot(data=top_start_station.head(20), x='trips', y='start_station_name', palette='Blues_d', hue='start_station_name')\n",
    "plt.title('Top 20 Most Popular Citi Bike Station in NYC')\n",
    "plt.xlabel('Number of Rides')\n",
    "plt.ylabel('Route')\n",
    "plt.tight_layout()\n",
    "plt.show()"
   ]
  },
  {
   "cell_type": "code",
   "execution_count": 11,
   "id": "91078bc4-d407-4a92-a215-942142518f00",
   "metadata": {},
   "outputs": [],
   "source": [
    "del start_stationroutes_df"
   ]
  },
  {
   "cell_type": "code",
   "execution_count": 12,
   "id": "a6f0af66-107d-4764-9a39-12c9fd57bb04",
   "metadata": {},
   "outputs": [],
   "source": [
    "del top_start_station"
   ]
  },
  {
   "cell_type": "code",
   "execution_count": 3,
   "id": "2f556e29-e3e7-4b1b-a616-81043e5deaf0",
   "metadata": {},
   "outputs": [
    {
     "data": {
      "text/plain": [
       "0"
      ]
     },
     "execution_count": 3,
     "metadata": {},
     "output_type": "execute_result"
    }
   ],
   "source": [
    "# Trigger garbage collection manually\n",
    "gc.collect()"
   ]
  },
  {
   "cell_type": "code",
   "execution_count": 4,
   "id": "9b8416df-9944-49db-8278-7123db772ae4",
   "metadata": {},
   "outputs": [
    {
     "data": {
      "text/plain": [
       "['Annotated',\n",
       " 'Dict',\n",
       " 'In',\n",
       " 'Out',\n",
       " 'Tuple',\n",
       " 'Unit',\n",
       " '_',\n",
       " '_3',\n",
       " '__',\n",
       " '___',\n",
       " '__builtin__',\n",
       " '__builtins__',\n",
       " '__doc__',\n",
       " '__loader__',\n",
       " '__name__',\n",
       " '__package__',\n",
       " '__session__',\n",
       " '__spec__',\n",
       " '_dh',\n",
       " '_i',\n",
       " '_i1',\n",
       " '_i2',\n",
       " '_i3',\n",
       " '_i4',\n",
       " '_ih',\n",
       " '_ii',\n",
       " '_iii',\n",
       " '_oh',\n",
       " 'calendar',\n",
       " 'ds',\n",
       " 'duckdb',\n",
       " 'exit',\n",
       " 'gc',\n",
       " 'get_ipython',\n",
       " 'glob',\n",
       " 'haversine',\n",
       " 'holidays',\n",
       " 'logging',\n",
       " 'np',\n",
       " 'open',\n",
       " 'os',\n",
       " 'pa',\n",
       " 'pd',\n",
       " 'plt',\n",
       " 'pq',\n",
       " 'quit',\n",
       " 'read_df_feats',\n",
       " 'requests',\n",
       " 'sns',\n",
       " 'time',\n",
       " 'zipfile']"
      ]
     },
     "execution_count": 4,
     "metadata": {},
     "output_type": "execute_result"
    }
   ],
   "source": [
    "dir()"
   ]
  },
  {
   "cell_type": "markdown",
   "id": "fbebfda8-25ff-4ef4-8a18-7d426ef834bc",
   "metadata": {},
   "source": [
    "### Route"
   ]
  },
  {
   "cell_type": "code",
   "execution_count": 10,
   "id": "055b222b-de6f-4b6c-aad2-aafea92f0314",
   "metadata": {},
   "outputs": [],
   "source": [
    "# Route from start station to end station\n",
    "#routes_df['route'] = stations_df['start_station_name'] + ' to ' + stations_df['end_station_name']"
   ]
  },
  {
   "cell_type": "code",
   "execution_count": 3,
   "id": "c6bb1bef-17a9-4eeb-993c-d65b5c6ab7c9",
   "metadata": {},
   "outputs": [
    {
     "name": "stdout",
     "output_type": "stream",
     "text": [
      "year: 2024, months: 1 to  3\n",
      "Read datetime for 202401-citibike-tripdata.parquet\n",
      "Execution time for 202401-citibike-tripdata.parquet: 1.79 seconds\n",
      "Read datetime for 202402-citibike-tripdata.parquet\n",
      "Execution time for 202402-citibike-tripdata.parquet: 1.71 seconds\n",
      "Read datetime for 202403-citibike-tripdata.parquet\n",
      "Execution time for 202403-citibike-tripdata.parquet: 1.99 seconds\n",
      "year: 2024, months: 4 to  6\n",
      "Read datetime for 202404-citibike-tripdata.parquet\n",
      "Execution time for 202404-citibike-tripdata.parquet: 2.33 seconds\n",
      "Read datetime for 202405-citibike-tripdata.parquet\n",
      "Execution time for 202405-citibike-tripdata.parquet: 2.97 seconds\n",
      "Read datetime for 202406-citibike-tripdata.parquet\n",
      "Execution time for 202406-citibike-tripdata.parquet: 4.78 seconds\n",
      "year: 2024, months: 7 to  9\n",
      "Read datetime for 202407-citibike-tripdata.parquet\n",
      "Execution time for 202407-citibike-tripdata.parquet: 4.74 seconds\n",
      "Read datetime for 202408-citibike-tripdata.parquet\n",
      "Execution time for 202408-citibike-tripdata.parquet: 4.63 seconds\n",
      "Read datetime for 202409-citibike-tripdata.parquet\n",
      "Execution time for 202409-citibike-tripdata.parquet: 5.19 seconds\n",
      "year: 2024, months: 10 to  12\n",
      "Read datetime for 202410-citibike-tripdata.parquet\n",
      "Execution time for 202410-citibike-tripdata.parquet: 4.78 seconds\n",
      "Read datetime for 202411-citibike-tripdata.parquet\n",
      "Execution time for 202411-citibike-tripdata.parquet: 2.47 seconds\n",
      "Read datetime for 202412-citibike-tripdata.parquet\n",
      "Execution time for 202412-citibike-tripdata.parquet: 1.78 seconds\n",
      "CPU times: user 44 s, sys: 30.3 s, total: 1min 14s\n",
      "Wall time: 55.6 s\n"
     ]
    },
    {
     "data": {
      "text/plain": [
       "0"
      ]
     },
     "execution_count": 3,
     "metadata": {},
     "output_type": "execute_result"
    }
   ],
   "source": [
    "%%time\n",
    "\n",
    "clean_data_path = \"data/clean/2024\"\n",
    "curr_year = 2024\n",
    "station_feats = ['start_station_name', 'end_station_name']\n",
    "\n",
    "df_list = []\n",
    "page_size = 3\n",
    "for page_num in range(1, 5):\n",
    "    from_month = (page_num - 1) * page_size\n",
    "    to_month = from_month + page_size\n",
    "    stations_df = read_df_feats(base_path=clean_data_path, year=curr_year, from_month=from_month + 1, to_month=to_month, feats=station_feats)\n",
    "\n",
    "    routes = stations_df['start_station_name'] + ' to ' + stations_df['end_station_name']\n",
    "    df_list.append(routes)\n",
    "    \n",
    "    del stations_df\n",
    "    #del routes\n",
    "    # Trigger garbage collection manually\n",
    "    gc.collect()\n",
    "\n",
    "# Trigger garbage collection manually\n",
    "gc.collect()\n",
    "\n",
    "routes_df = pd.concat(df_list, axis=0, ignore_index=True).to_frame()\n",
    "routes_df.columns = ['route']\n",
    "del df_list\n",
    "\n",
    "# Trigger garbage collection manually\n",
    "gc.collect()"
   ]
  },
  {
   "cell_type": "code",
   "execution_count": 4,
   "id": "df355558-4558-4a38-87ef-ee3ebbe32890",
   "metadata": {},
   "outputs": [
    {
     "data": {
      "text/plain": [
       "0"
      ]
     },
     "execution_count": 4,
     "metadata": {},
     "output_type": "execute_result"
    }
   ],
   "source": [
    "# Trigger garbage collection manually\n",
    "gc.collect()"
   ]
  },
  {
   "cell_type": "code",
   "execution_count": 5,
   "id": "377d30f8-307f-4ae4-8560-9f21a65bb175",
   "metadata": {},
   "outputs": [
    {
     "data": {
      "text/html": [
       "<div>\n",
       "<style scoped>\n",
       "    .dataframe tbody tr th:only-of-type {\n",
       "        vertical-align: middle;\n",
       "    }\n",
       "\n",
       "    .dataframe tbody tr th {\n",
       "        vertical-align: top;\n",
       "    }\n",
       "\n",
       "    .dataframe thead th {\n",
       "        text-align: right;\n",
       "    }\n",
       "</style>\n",
       "<table border=\"1\" class=\"dataframe\">\n",
       "  <thead>\n",
       "    <tr style=\"text-align: right;\">\n",
       "      <th></th>\n",
       "      <th>route</th>\n",
       "    </tr>\n",
       "  </thead>\n",
       "  <tbody>\n",
       "    <tr>\n",
       "      <th>0</th>\n",
       "      <td>E 102 St &amp; 1 Ave to E 103 St &amp; Lexington Ave</td>\n",
       "    </tr>\n",
       "    <tr>\n",
       "      <th>1</th>\n",
       "      <td>E 102 St &amp; 1 Ave to E 91 St &amp; 2 Ave</td>\n",
       "    </tr>\n",
       "    <tr>\n",
       "      <th>2</th>\n",
       "      <td>W 35 St &amp; 8 Ave to 1 Ave &amp; E 39 St</td>\n",
       "    </tr>\n",
       "    <tr>\n",
       "      <th>3</th>\n",
       "      <td>Warren St &amp; Roosevelt Ave to 112 St &amp; Northern...</td>\n",
       "    </tr>\n",
       "    <tr>\n",
       "      <th>4</th>\n",
       "      <td>6 Ave &amp; W 33 St to W 29 St &amp; 9 Ave</td>\n",
       "    </tr>\n",
       "  </tbody>\n",
       "</table>\n",
       "</div>"
      ],
      "text/plain": [
       "                                               route\n",
       "0       E 102 St & 1 Ave to E 103 St & Lexington Ave\n",
       "1                E 102 St & 1 Ave to E 91 St & 2 Ave\n",
       "2                 W 35 St & 8 Ave to 1 Ave & E 39 St\n",
       "3  Warren St & Roosevelt Ave to 112 St & Northern...\n",
       "4                 6 Ave & W 33 St to W 29 St & 9 Ave"
      ]
     },
     "execution_count": 5,
     "metadata": {},
     "output_type": "execute_result"
    }
   ],
   "source": [
    "routes_df.head(5)"
   ]
  },
  {
   "cell_type": "code",
   "execution_count": 6,
   "id": "26d6fa5d-58df-4723-9fea-a91d1c744d9b",
   "metadata": {},
   "outputs": [],
   "source": [
    "clean_data_path = \"data/clean/2024\"\n",
    "routes_file = \"routes.parquet\"\n",
    "routes_path = os.path.join(clean_data_path, routes_file)\n",
    "routes_df.to_parquet(routes_path, engine='pyarrow')"
   ]
  },
  {
   "cell_type": "code",
   "execution_count": 7,
   "id": "b5bea9bd-3e02-48d9-b95a-c81cfa22106e",
   "metadata": {},
   "outputs": [
    {
     "data": {
      "text/plain": [
       "0"
      ]
     },
     "execution_count": 7,
     "metadata": {},
     "output_type": "execute_result"
    }
   ],
   "source": [
    "#del stations_df\n",
    "# Trigger garbage collection manually\n",
    "gc.collect()"
   ]
  },
  {
   "cell_type": "code",
   "execution_count": 9,
   "id": "e25b9c62-d84a-47fe-b5eb-478c4fed0308",
   "metadata": {},
   "outputs": [
    {
     "name": "stdout",
     "output_type": "stream",
     "text": [
      "The DataFrame occupies approximately 3926.21 MB\n"
     ]
    }
   ],
   "source": [
    "mb_size = routes_df.memory_usage(deep=True).sum() / (1024 ** 2)\n",
    "print(f\"The DataFrame occupies approximately {mb_size:.2f} MB\")"
   ]
  },
  {
   "cell_type": "code",
   "execution_count": 10,
   "id": "bb6ce2b9-fdc8-4564-83a1-cc263e26dc0d",
   "metadata": {},
   "outputs": [
    {
     "data": {
      "text/plain": [
       "0"
      ]
     },
     "execution_count": 10,
     "metadata": {},
     "output_type": "execute_result"
    }
   ],
   "source": [
    "# Trigger garbage collection manually\n",
    "gc.collect()"
   ]
  },
  {
   "cell_type": "code",
   "execution_count": 11,
   "id": "e2381012-7015-403d-8f05-c33614e60ad6",
   "metadata": {},
   "outputs": [
    {
     "name": "stdout",
     "output_type": "stream",
     "text": [
      "total 2.5G\n",
      "-rw-r--r-- 1 emmuzoo emmuzoo  82M Jul 22 20:55 202401-citibike-tripdata.parquet\n",
      "-rw-r--r-- 1 emmuzoo emmuzoo  92M Jul 22 20:55 202402-citibike-tripdata.parquet\n",
      "-rw-r--r-- 1 emmuzoo emmuzoo 116M Jul 22 20:55 202403-citibike-tripdata.parquet\n",
      "-rw-r--r-- 1 emmuzoo emmuzoo 139M Jul 22 20:55 202404-citibike-tripdata.parquet\n",
      "-rw-r--r-- 1 emmuzoo emmuzoo 179M Jul 22 20:55 202405-citibike-tripdata.parquet\n",
      "-rw-r--r-- 1 emmuzoo emmuzoo 206M Jul 22 20:56 202406-citibike-tripdata.parquet\n",
      "-rw-r--r-- 1 emmuzoo emmuzoo 203M Jul 22 20:56 202407-citibike-tripdata.parquet\n",
      "-rw-r--r-- 1 emmuzoo emmuzoo 197M Jul 22 20:56 202408-citibike-tripdata.parquet\n",
      "-rw-r--r-- 1 emmuzoo emmuzoo 216M Jul 22 20:56 202409-citibike-tripdata.parquet\n",
      "-rw-r--r-- 1 emmuzoo emmuzoo 222M Jul 22 20:56 202410-citibike-tripdata.parquet\n",
      "-rw-r--r-- 1 emmuzoo emmuzoo 161M Jul 22 20:57 202411-citibike-tripdata.parquet\n",
      "-rw-r--r-- 1 emmuzoo emmuzoo 100M Jul 22 20:57 202412-citibike-tripdata.parquet\n",
      "-rw-r--r-- 1 emmuzoo emmuzoo 460M Jul 23 13:42 routes.parquet\n",
      "-rw-r--r-- 1 emmuzoo emmuzoo 120M Jul 23 11:49 stations.parquet\n"
     ]
    }
   ],
   "source": [
    "!ls -lh \"{clean_data_path}\""
   ]
  },
  {
   "cell_type": "code",
   "execution_count": 12,
   "id": "b65d544a-fbaa-49b5-a9c0-c9e87b7650ed",
   "metadata": {},
   "outputs": [
    {
     "data": {
      "text/plain": [
       "0"
      ]
     },
     "execution_count": 12,
     "metadata": {},
     "output_type": "execute_result"
    }
   ],
   "source": [
    "# Trigger garbage collection manually\n",
    "gc.collect()"
   ]
  },
  {
   "cell_type": "code",
   "execution_count": 14,
   "id": "be0d272d-d24a-497f-8b85-035091707358",
   "metadata": {},
   "outputs": [],
   "source": [
    "# Count most common routes\n",
    "top_routes = routes_df['route'].value_counts().reset_index()\n",
    "top_routes.columns = ['route', 'trips']\n",
    "\n",
    "# Reverse order for nicer plotting\n",
    "top_routes = top_routes.sort_values(by='trips', ascending=False)"
   ]
  },
  {
   "cell_type": "code",
   "execution_count": 15,
   "id": "6649d879-6453-4236-93a4-23c03f6324bd",
   "metadata": {},
   "outputs": [
    {
     "data": {
      "text/html": [
       "<div>\n",
       "<style scoped>\n",
       "    .dataframe tbody tr th:only-of-type {\n",
       "        vertical-align: middle;\n",
       "    }\n",
       "\n",
       "    .dataframe tbody tr th {\n",
       "        vertical-align: top;\n",
       "    }\n",
       "\n",
       "    .dataframe thead th {\n",
       "        text-align: right;\n",
       "    }\n",
       "</style>\n",
       "<table border=\"1\" class=\"dataframe\">\n",
       "  <thead>\n",
       "    <tr style=\"text-align: right;\">\n",
       "      <th></th>\n",
       "      <th>route</th>\n",
       "      <th>trips</th>\n",
       "    </tr>\n",
       "  </thead>\n",
       "  <tbody>\n",
       "    <tr>\n",
       "      <th>0</th>\n",
       "      <td>Central Park S &amp; 6 Ave to Central Park S &amp; 6 Ave</td>\n",
       "      <td>15571</td>\n",
       "    </tr>\n",
       "    <tr>\n",
       "      <th>1</th>\n",
       "      <td>7 Ave &amp; Central Park South to 7 Ave &amp; Central ...</td>\n",
       "      <td>12616</td>\n",
       "    </tr>\n",
       "    <tr>\n",
       "      <th>2</th>\n",
       "      <td>Roosevelt Island Tramway to Roosevelt Island T...</td>\n",
       "      <td>8827</td>\n",
       "    </tr>\n",
       "    <tr>\n",
       "      <th>3</th>\n",
       "      <td>River Ter &amp; Warren St to Vesey Pl &amp; River Terrace</td>\n",
       "      <td>7367</td>\n",
       "    </tr>\n",
       "    <tr>\n",
       "      <th>4</th>\n",
       "      <td>Soissons Landing to Soissons Landing</td>\n",
       "      <td>6232</td>\n",
       "    </tr>\n",
       "  </tbody>\n",
       "</table>\n",
       "</div>"
      ],
      "text/plain": [
       "                                               route  trips\n",
       "0   Central Park S & 6 Ave to Central Park S & 6 Ave  15571\n",
       "1  7 Ave & Central Park South to 7 Ave & Central ...  12616\n",
       "2  Roosevelt Island Tramway to Roosevelt Island T...   8827\n",
       "3  River Ter & Warren St to Vesey Pl & River Terrace   7367\n",
       "4               Soissons Landing to Soissons Landing   6232"
      ]
     },
     "execution_count": 15,
     "metadata": {},
     "output_type": "execute_result"
    }
   ],
   "source": [
    "top_routes.head(5)"
   ]
  },
  {
   "cell_type": "code",
   "execution_count": 17,
   "id": "c84495ab-5815-480d-89bc-b9f9eef7694a",
   "metadata": {},
   "outputs": [
    {
     "data": {
      "image/png": "[encoded data removed]",
      "text/plain": [
       "<Figure size 1000x800 with 1 Axes>"
      ]
     },
     "metadata": {},
     "output_type": "display_data"
    },
    {
     "name": "stdout",
     "output_type": "stream",
     "text": [
      "CPU times: user 909 ms, sys: 563 ms, total: 1.47 s\n",
      "Wall time: 649 ms\n"
     ]
    }
   ],
   "source": [
    "%%time\n",
    "# Plot\n",
    "plt.figure(figsize=(10, 8))\n",
    "sns.barplot(data=top_routes.head(20), x='trips', y='route', palette='Blues_d', hue='route')\n",
    "plt.title('Top 20 Most Popular Citi Bike Routes in NYC')\n",
    "plt.xlabel('Number of Rides')\n",
    "plt.ylabel('Route')\n",
    "plt.tight_layout()\n",
    "plt.show()"
   ]
  },
  {
   "cell_type": "code",
   "execution_count": 18,
   "id": "907e7c1a-0ad4-42e8-8cd3-5125e12502a3",
   "metadata": {},
   "outputs": [],
   "source": [
    "#df[ df['route'].str.startswith(\"Central\") ][[\"route\", \"start_station_name\", \"end_station_name\"]]"
   ]
  },
  {
   "cell_type": "code",
   "execution_count": 19,
   "id": "425c928d-c090-41db-b666-1b0f583595a3",
   "metadata": {},
   "outputs": [],
   "source": [
    "#df[ df['start_station_name'] == df['end_station_name'] ][[\"route\", \"start_station_name\", \"end_station_name\", \"duration_min\"]].shape"
   ]
  },
  {
   "cell_type": "code",
   "execution_count": 20,
   "id": "6f6500fa-865c-4c88-bc5a-d21fdca57806",
   "metadata": {},
   "outputs": [],
   "source": [
    "#df[ df['start_station_name'] != df['end_station_name'] ][[\"route\", \"start_station_name\", \"end_station_name\", \"duration_min\"]]"
   ]
  },
  {
   "cell_type": "code",
   "execution_count": 21,
   "id": "6cfc4d3f-8c17-4333-9e6b-a05a409b5284",
   "metadata": {},
   "outputs": [],
   "source": [
    "#top_start_station.head(5)"
   ]
  },
  {
   "cell_type": "code",
   "execution_count": 22,
   "id": "b05f260d-fad2-4adc-a0ff-a8127ae86fd9",
   "metadata": {},
   "outputs": [],
   "source": [
    "#top_routes[top_routes['route'].str.startswith(\"W 21\")]"
   ]
  },
  {
   "cell_type": "code",
   "execution_count": 23,
   "id": "7bbb6f90-4eaf-4c61-b86c-c5c5bd2e2b82",
   "metadata": {},
   "outputs": [],
   "source": [
    "#top_routes[top_routes['route'].str.startswith(\"1 Ave & E 68 St\")]"
   ]
  },
  {
   "cell_type": "code",
   "execution_count": 25,
   "id": "c3c0875f-03d5-41e9-ab11-105034fae412",
   "metadata": {},
   "outputs": [],
   "source": [
    "del routes_df"
   ]
  },
  {
   "cell_type": "code",
   "execution_count": 28,
   "id": "7fb63a79-36a0-48cd-8260-58b8b0e3e822",
   "metadata": {},
   "outputs": [],
   "source": [
    "del top_routes"
   ]
  },
  {
   "cell_type": "code",
   "execution_count": 30,
   "id": "70d5d4e3-4f33-416c-bdc9-9eace9aab511",
   "metadata": {},
   "outputs": [
    {
     "data": {
      "text/plain": [
       "0"
      ]
     },
     "execution_count": 30,
     "metadata": {},
     "output_type": "execute_result"
    }
   ],
   "source": [
    "# Trigger garbage collection manually\n",
    "gc.collect()"
   ]
  },
  {
   "cell_type": "code",
   "execution_count": 27,
   "id": "5a747bfe-de6c-49d6-8729-ee8d5880cf53",
   "metadata": {},
   "outputs": [
    {
     "data": {
      "text/plain": [
       "['Annotated',\n",
       " 'Dict',\n",
       " 'In',\n",
       " 'Out',\n",
       " 'Tuple',\n",
       " 'Unit',\n",
       " '_',\n",
       " '_10',\n",
       " '_12',\n",
       " '_15',\n",
       " '_24',\n",
       " '_26',\n",
       " '_3',\n",
       " '_4',\n",
       " '_5',\n",
       " '_7',\n",
       " '_8',\n",
       " '__',\n",
       " '___',\n",
       " '__builtin__',\n",
       " '__builtins__',\n",
       " '__doc__',\n",
       " '__loader__',\n",
       " '__name__',\n",
       " '__package__',\n",
       " '__session__',\n",
       " '__spec__',\n",
       " '_dh',\n",
       " '_exit_code',\n",
       " '_i',\n",
       " '_i1',\n",
       " '_i10',\n",
       " '_i11',\n",
       " '_i12',\n",
       " '_i13',\n",
       " '_i14',\n",
       " '_i15',\n",
       " '_i16',\n",
       " '_i17',\n",
       " '_i18',\n",
       " '_i19',\n",
       " '_i2',\n",
       " '_i20',\n",
       " '_i21',\n",
       " '_i22',\n",
       " '_i23',\n",
       " '_i24',\n",
       " '_i25',\n",
       " '_i26',\n",
       " '_i27',\n",
       " '_i3',\n",
       " '_i4',\n",
       " '_i5',\n",
       " '_i6',\n",
       " '_i7',\n",
       " '_i8',\n",
       " '_i9',\n",
       " '_ih',\n",
       " '_ii',\n",
       " '_iii',\n",
       " '_oh',\n",
       " 'calendar',\n",
       " 'clean_data_path',\n",
       " 'curr_year',\n",
       " 'ds',\n",
       " 'duckdb',\n",
       " 'exit',\n",
       " 'from_month',\n",
       " 'gc',\n",
       " 'get_ipython',\n",
       " 'glob',\n",
       " 'haversine',\n",
       " 'holidays',\n",
       " 'logging',\n",
       " 'mb_size',\n",
       " 'np',\n",
       " 'open',\n",
       " 'os',\n",
       " 'pa',\n",
       " 'page_num',\n",
       " 'page_size',\n",
       " 'pd',\n",
       " 'plt',\n",
       " 'pq',\n",
       " 'quit',\n",
       " 'read_df_feats',\n",
       " 'requests',\n",
       " 'routes',\n",
       " 'routes_file',\n",
       " 'routes_path',\n",
       " 'sns',\n",
       " 'station_feats',\n",
       " 'time',\n",
       " 'to_month',\n",
       " 'top_routes',\n",
       " 'zipfile']"
      ]
     },
     "execution_count": 27,
     "metadata": {},
     "output_type": "execute_result"
    }
   ],
   "source": [
    "dir()"
   ]
  },
  {
   "cell_type": "markdown",
   "id": "1c88c987-98e6-4934-9e45-7be2c7985aa7",
   "metadata": {},
   "source": [
    "# Final"
   ]
  },
  {
   "cell_type": "markdown",
   "id": "4c738c70-72fa-43fa-9a71-dd3abb88c1fa",
   "metadata": {},
   "source": [
    "## Citibike trips"
   ]
  },
  {
   "cell_type": "code",
   "execution_count": 63,
   "id": "addcb2d3-e469-45a2-b3d7-6e590c7d7bfe",
   "metadata": {},
   "outputs": [],
   "source": [
    "def create_final_ds(\n",
    "    base_path: str,\n",
    "    year: int = 2024,\n",
    "    from_month: int = 1,\n",
    "    to_month: int = None,\n",
    "    output_path: str = None\n",
    ") -> pd.DataFrame:\n",
    "    # List to store individual DataFrames\n",
    "    #if not feats:\n",
    "    #    print(f\"Features is empty\")\n",
    "    #    return None\n",
    "    \n",
    "    assert from_month >= 1 & from_month <= 12, \"from_month must be between 1 and 12\" \n",
    "    if not to_month:\n",
    "        to_month = from_month\n",
    "    assert to_month >= 1 & to_month <= 12, \"to_month must be between 1 and 12\" \n",
    "    assert from_month <= to_month, \"from_month must be less than or equal to to_month\" \n",
    "        \n",
    "    df_list = []\n",
    "\n",
    "    # Obtener los días festivos de EE.UU. para 2023\n",
    "    us_holidays = holidays.US(years=year)\n",
    "\n",
    "    #src_data_dir = os.path.join(base_path, str(year))\n",
    "    #dest_data_dir = os.path.join(output_path, str(year))\n",
    "    #os.makedirs(src_data_dir, exist_ok=True)\n",
    "    #os.makedirs(dest_data_dir, exist_ok=True)\n",
    "\n",
    "    print(f\"year: {year}, months: {from_month} to  {to_month}\")\n",
    "    for month in range(from_month, to_month + 1):\n",
    "        start_time = time.time()\n",
    "        file_name = f\"{year}{month:02d}-citibike-tripdata.parquet\"\n",
    "        #file_path = os.path.join(src_data_dir, file_name)\n",
    "        file_path = os.path.join(base_path, file_name)\n",
    "\n",
    "        print(f\"Read datetime for {file_name}\")\n",
    "        # Read file parquet\n",
    "        df = pd.read_parquet(file_path, engine='pyarrow')\n",
    "\n",
    "        # Remove duration trip less than 0 and grester than 60\n",
    "        df['duration_min'] = (df['ended_at'] - df['started_at']).dt.total_seconds() / 60\n",
    "        df = df[(df['duration_min']>0) & (df['duration_min']<60)]\n",
    "        \n",
    "        # Create 'date' column\n",
    "        df['date'] = df['started_at'].dt.date\n",
    "        df['hour'] = df['started_at'].dt.hour\n",
    "        \n",
    "        # Group trips \n",
    "        bike_trips_df = df.groupby(['date', 'hour']).size().reset_index(name='trips')\n",
    "        \n",
    "        # Create  holiday' column\n",
    "        bike_trips_df['holiday'] = bike_trips_df['date'].apply(lambda x: 1 if x in us_holidays else 0)\n",
    "\n",
    "        # Create 'date' y 'hour' columnas  para formar una fecha completa\n",
    "        #bike_trips_df['date'] = pd.to_datetime(bike_trips_df['date'].astype(str) + ' ' + bike_trips_df['hour'].astype(str) + ':00')\n",
    "        bike_trips_df['date'] = pd.to_datetime(bike_trips_df['date'])\n",
    "\n",
    "        # Drop columns\n",
    "        #bike_trips_df.drop(columns=[\"hour\"], inplace=True)\n",
    "        \n",
    "        # creating copy of dataframe with required features\n",
    "        df_list.append(bike_trips_df)\n",
    "\n",
    "        # Remove dataframe\n",
    "        del df\n",
    "        #del bike_trips_df\n",
    "\n",
    "        # Trigger garbage collection manually\n",
    "        gc.collect()\n",
    "        \n",
    "        end_time = time.time()\n",
    "        elapsed_time = end_time - start_time\n",
    "        print(f\"Execution time for {file_name}: {elapsed_time:.2f} seconds\")\n",
    "\n",
    "    # Trigger garbage collection manually\n",
    "    gc.collect()\n",
    "\n",
    "    # Concatenate all DataFrames into a single DataFrame\n",
    "    combined_df = pd.concat(df_list, ignore_index=True)\n",
    "    del df_list\n",
    "    \n",
    "    parquet_file = f\"{year}-citibike-tripdata.parquet\"\n",
    "    #parquet_path = os.path.join(dest_data_dir, parquet_file)\n",
    "    parquet_path = os.path.join(output_path, parquet_file)\n",
    "    combined_df.to_parquet(parquet_path, engine=\"pyarrow\", index=False)\n",
    "\n",
    "    del combined_df\n",
    "        \n",
    "    # Trigger garbage collection manually\n",
    "    gc.collect()\n",
    "    \n",
    "    #return combined_df\n",
    "    "
   ]
  },
  {
   "cell_type": "code",
   "execution_count": 64,
   "id": "ffb8fbbd-881c-4fe0-91c3-7b2bfc78b095",
   "metadata": {},
   "outputs": [
    {
     "data": {
      "text/plain": [
       "3041"
      ]
     },
     "execution_count": 64,
     "metadata": {},
     "output_type": "execute_result"
    }
   ],
   "source": [
    "# Trigger garbage collection manually\n",
    "gc.collect()"
   ]
  },
  {
   "cell_type": "code",
   "execution_count": 65,
   "id": "670fde78-516d-48dd-9a06-74a6cdddb362",
   "metadata": {},
   "outputs": [
    {
     "name": "stdout",
     "output_type": "stream",
     "text": [
      "year: 2024, months: 1 to  12\n",
      "Read datetime for 202401-citibike-tripdata.parquet\n",
      "Execution time for 202401-citibike-tripdata.parquet: 2.57 seconds\n",
      "Read datetime for 202402-citibike-tripdata.parquet\n",
      "Execution time for 202402-citibike-tripdata.parquet: 2.86 seconds\n",
      "Read datetime for 202403-citibike-tripdata.parquet\n",
      "Execution time for 202403-citibike-tripdata.parquet: 3.49 seconds\n",
      "Read datetime for 202404-citibike-tripdata.parquet\n",
      "Execution time for 202404-citibike-tripdata.parquet: 4.21 seconds\n",
      "Read datetime for 202405-citibike-tripdata.parquet\n",
      "Execution time for 202405-citibike-tripdata.parquet: 4.71 seconds\n",
      "Read datetime for 202406-citibike-tripdata.parquet\n",
      "Execution time for 202406-citibike-tripdata.parquet: 8.76 seconds\n",
      "Read datetime for 202407-citibike-tripdata.parquet\n",
      "Execution time for 202407-citibike-tripdata.parquet: 8.85 seconds\n",
      "Read datetime for 202408-citibike-tripdata.parquet\n",
      "Execution time for 202408-citibike-tripdata.parquet: 8.37 seconds\n",
      "Read datetime for 202409-citibike-tripdata.parquet\n",
      "Execution time for 202409-citibike-tripdata.parquet: 6.27 seconds\n",
      "Read datetime for 202410-citibike-tripdata.parquet\n",
      "Execution time for 202410-citibike-tripdata.parquet: 8.62 seconds\n",
      "Read datetime for 202411-citibike-tripdata.parquet\n",
      "Execution time for 202411-citibike-tripdata.parquet: 5.29 seconds\n",
      "Read datetime for 202412-citibike-tripdata.parquet\n",
      "Execution time for 202412-citibike-tripdata.parquet: 3.22 seconds\n",
      "CPU times: user 1min 2s, sys: 26.3 s, total: 1min 29s\n",
      "Wall time: 1min 7s\n"
     ]
    }
   ],
   "source": [
    "%%time\n",
    "\n",
    "curr_year=2024\n",
    "from_month=1\n",
    "to_month=12\n",
    "src_train_data_path = f\"data/parquet/{curr_year}\"\n",
    "final_train_data_path = f\"data/final/{curr_year}\"\n",
    "\n",
    "create_final_ds(\n",
    "    base_path=src_train_data_path,\n",
    "    year=curr_year,\n",
    "    from_month=from_month,\n",
    "    to_month=to_month,\n",
    "    output_path=final_train_data_path\n",
    ")"
   ]
  },
  {
   "cell_type": "code",
   "execution_count": 69,
   "id": "86674806-8fc1-4695-8c82-8c31221ceed9",
   "metadata": {},
   "outputs": [],
   "source": [
    "# Show sample\n",
    "curr_year = 2024\n",
    "final_train_data_path = f\"data/final/{curr_year}\"\n",
    "parquet_file = f\"{curr_year}-citibike-tripdata.parquet\"\n",
    "parquet_path = os.path.join(final_train_data_path, parquet_file)\n",
    "final_train_ds_df = pd.read_parquet(parquet_path)"
   ]
  },
  {
   "cell_type": "code",
   "execution_count": 67,
   "id": "e55629a8-d65f-42b6-937f-4f5b4303c43e",
   "metadata": {},
   "outputs": [
    {
     "data": {
      "text/plain": [
       "(8795, 4)"
      ]
     },
     "execution_count": 67,
     "metadata": {},
     "output_type": "execute_result"
    }
   ],
   "source": [
    "final_train_ds_df.shape"
   ]
  },
  {
   "cell_type": "code",
   "execution_count": 70,
   "id": "32650aa1-7955-407b-9884-6238714ea41c",
   "metadata": {},
   "outputs": [
    {
     "name": "stdout",
     "output_type": "stream",
     "text": [
      "<class 'pandas.core.frame.DataFrame'>\n",
      "RangeIndex: 8795 entries, 0 to 8794\n",
      "Data columns (total 4 columns):\n",
      " #   Column   Non-Null Count  Dtype         \n",
      "---  ------   --------------  -----         \n",
      " 0   date     8795 non-null   datetime64[ns]\n",
      " 1   hour     8795 non-null   int32         \n",
      " 2   trips    8795 non-null   int64         \n",
      " 3   holiday  8795 non-null   int64         \n",
      "dtypes: datetime64[ns](1), int32(1), int64(2)\n",
      "memory usage: 240.6 KB\n"
     ]
    }
   ],
   "source": [
    "final_train_ds_df.info()"
   ]
  },
  {
   "cell_type": "code",
   "execution_count": 68,
   "id": "80485ee4-f458-47c9-a496-41f4c323294e",
   "metadata": {},
   "outputs": [
    {
     "data": {
      "text/html": [
       "<div>\n",
       "<style scoped>\n",
       "    .dataframe tbody tr th:only-of-type {\n",
       "        vertical-align: middle;\n",
       "    }\n",
       "\n",
       "    .dataframe tbody tr th {\n",
       "        vertical-align: top;\n",
       "    }\n",
       "\n",
       "    .dataframe thead th {\n",
       "        text-align: right;\n",
       "    }\n",
       "</style>\n",
       "<table border=\"1\" class=\"dataframe\">\n",
       "  <thead>\n",
       "    <tr style=\"text-align: right;\">\n",
       "      <th></th>\n",
       "      <th>date</th>\n",
       "      <th>hour</th>\n",
       "      <th>trips</th>\n",
       "      <th>holiday</th>\n",
       "    </tr>\n",
       "  </thead>\n",
       "  <tbody>\n",
       "    <tr>\n",
       "      <th>0</th>\n",
       "      <td>2023-12-31</td>\n",
       "      <td>23</td>\n",
       "      <td>278</td>\n",
       "      <td>0</td>\n",
       "    </tr>\n",
       "    <tr>\n",
       "      <th>1</th>\n",
       "      <td>2024-01-01</td>\n",
       "      <td>0</td>\n",
       "      <td>1863</td>\n",
       "      <td>1</td>\n",
       "    </tr>\n",
       "    <tr>\n",
       "      <th>2</th>\n",
       "      <td>2024-01-01</td>\n",
       "      <td>1</td>\n",
       "      <td>2291</td>\n",
       "      <td>1</td>\n",
       "    </tr>\n",
       "    <tr>\n",
       "      <th>3</th>\n",
       "      <td>2024-01-01</td>\n",
       "      <td>2</td>\n",
       "      <td>1903</td>\n",
       "      <td>1</td>\n",
       "    </tr>\n",
       "    <tr>\n",
       "      <th>4</th>\n",
       "      <td>2024-01-01</td>\n",
       "      <td>3</td>\n",
       "      <td>1081</td>\n",
       "      <td>1</td>\n",
       "    </tr>\n",
       "  </tbody>\n",
       "</table>\n",
       "</div>"
      ],
      "text/plain": [
       "        date  hour  trips  holiday\n",
       "0 2023-12-31    23    278        0\n",
       "1 2024-01-01     0   1863        1\n",
       "2 2024-01-01     1   2291        1\n",
       "3 2024-01-01     2   1903        1\n",
       "4 2024-01-01     3   1081        1"
      ]
     },
     "execution_count": 68,
     "metadata": {},
     "output_type": "execute_result"
    }
   ],
   "source": [
    "final_train_ds_df.head()"
   ]
  },
  {
   "cell_type": "code",
   "execution_count": 71,
   "id": "67f2cd89-bf4f-4735-b402-9c9e66dbdcac",
   "metadata": {},
   "outputs": [
    {
     "name": "stdout",
     "output_type": "stream",
     "text": [
      "year: 2025, months: 1 to  3\n",
      "Read datetime for 202501-citibike-tripdata.parquet\n",
      "Execution time for 202501-citibike-tripdata.parquet: 2.81 seconds\n",
      "Read datetime for 202502-citibike-tripdata.parquet\n",
      "Execution time for 202502-citibike-tripdata.parquet: 2.69 seconds\n",
      "Read datetime for 202503-citibike-tripdata.parquet\n",
      "Execution time for 202503-citibike-tripdata.parquet: 4.28 seconds\n",
      "CPU times: user 9.47 s, sys: 3.17 s, total: 12.6 s\n",
      "Wall time: 10 s\n"
     ]
    }
   ],
   "source": [
    "%%time\n",
    "\n",
    "# Generate test data\n",
    "curr_year = 2025\n",
    "from_month=1\n",
    "to_month=3\n",
    "test_data_path = f\"data/parquet/{curr_year}\"\n",
    "final_test_data_path = f\"data/final/{curr_year}\"\n",
    "\n",
    "create_final_ds(\n",
    "    base_path=test_data_path,\n",
    "    year=curr_year,\n",
    "    from_month=from_month,\n",
    "    to_month=to_month,\n",
    "    output_path=final_test_data_path\n",
    ")"
   ]
  },
  {
   "cell_type": "code",
   "execution_count": 73,
   "id": "dacd956c-c884-4343-ab00-06c1e34c32dd",
   "metadata": {},
   "outputs": [],
   "source": [
    "curr_year = 2025\n",
    "final_test_data_path = f\"data/final/{curr_year}\"\n",
    "parquet_file = f\"{curr_year}-citibike-tripdata.parquet\"\n",
    "parquet_path = os.path.join(final_test_data_path, parquet_file)\n",
    "final_test_ds_df = pd.read_parquet(parquet_path)"
   ]
  },
  {
   "cell_type": "code",
   "execution_count": 74,
   "id": "a5f09607-ad0a-4dcd-87a6-5847103b1fa1",
   "metadata": {},
   "outputs": [
    {
     "data": {
      "text/plain": [
       "(2162, 4)"
      ]
     },
     "execution_count": 74,
     "metadata": {},
     "output_type": "execute_result"
    }
   ],
   "source": [
    "final_test_ds_df.shape"
   ]
  },
  {
   "cell_type": "code",
   "execution_count": 76,
   "id": "80752b96-af91-4eeb-8ab5-070f9d88d6ba",
   "metadata": {},
   "outputs": [
    {
     "name": "stdout",
     "output_type": "stream",
     "text": [
      "<class 'pandas.core.frame.DataFrame'>\n",
      "RangeIndex: 2162 entries, 0 to 2161\n",
      "Data columns (total 4 columns):\n",
      " #   Column   Non-Null Count  Dtype         \n",
      "---  ------   --------------  -----         \n",
      " 0   date     2162 non-null   datetime64[ns]\n",
      " 1   hour     2162 non-null   int32         \n",
      " 2   trips    2162 non-null   int64         \n",
      " 3   holiday  2162 non-null   int64         \n",
      "dtypes: datetime64[ns](1), int32(1), int64(2)\n",
      "memory usage: 59.2 KB\n"
     ]
    }
   ],
   "source": [
    "final_test_ds_df.info()"
   ]
  },
  {
   "cell_type": "code",
   "execution_count": 77,
   "id": "cc88f12c-c7c6-400e-b997-43e2aba4b22a",
   "metadata": {},
   "outputs": [
    {
     "data": {
      "text/html": [
       "<div>\n",
       "<style scoped>\n",
       "    .dataframe tbody tr th:only-of-type {\n",
       "        vertical-align: middle;\n",
       "    }\n",
       "\n",
       "    .dataframe tbody tr th {\n",
       "        vertical-align: top;\n",
       "    }\n",
       "\n",
       "    .dataframe thead th {\n",
       "        text-align: right;\n",
       "    }\n",
       "</style>\n",
       "<table border=\"1\" class=\"dataframe\">\n",
       "  <thead>\n",
       "    <tr style=\"text-align: right;\">\n",
       "      <th></th>\n",
       "      <th>date</th>\n",
       "      <th>hour</th>\n",
       "      <th>trips</th>\n",
       "      <th>holiday</th>\n",
       "    </tr>\n",
       "  </thead>\n",
       "  <tbody>\n",
       "    <tr>\n",
       "      <th>0</th>\n",
       "      <td>2024-12-31</td>\n",
       "      <td>23</td>\n",
       "      <td>162</td>\n",
       "      <td>0</td>\n",
       "    </tr>\n",
       "    <tr>\n",
       "      <th>1</th>\n",
       "      <td>2025-01-01</td>\n",
       "      <td>0</td>\n",
       "      <td>1585</td>\n",
       "      <td>1</td>\n",
       "    </tr>\n",
       "    <tr>\n",
       "      <th>2</th>\n",
       "      <td>2025-01-01</td>\n",
       "      <td>1</td>\n",
       "      <td>2682</td>\n",
       "      <td>1</td>\n",
       "    </tr>\n",
       "    <tr>\n",
       "      <th>3</th>\n",
       "      <td>2025-01-01</td>\n",
       "      <td>2</td>\n",
       "      <td>2263</td>\n",
       "      <td>1</td>\n",
       "    </tr>\n",
       "    <tr>\n",
       "      <th>4</th>\n",
       "      <td>2025-01-01</td>\n",
       "      <td>3</td>\n",
       "      <td>1326</td>\n",
       "      <td>1</td>\n",
       "    </tr>\n",
       "  </tbody>\n",
       "</table>\n",
       "</div>"
      ],
      "text/plain": [
       "        date  hour  trips  holiday\n",
       "0 2024-12-31    23    162        0\n",
       "1 2025-01-01     0   1585        1\n",
       "2 2025-01-01     1   2682        1\n",
       "3 2025-01-01     2   2263        1\n",
       "4 2025-01-01     3   1326        1"
      ]
     },
     "execution_count": 77,
     "metadata": {},
     "output_type": "execute_result"
    }
   ],
   "source": [
    "final_test_ds_df.head()"
   ]
  },
  {
   "cell_type": "markdown",
   "id": "97e30eca-8052-43ed-835d-dbcfcc3bcc0c",
   "metadata": {},
   "source": [
    "## Weather data"
   ]
  },
  {
   "cell_type": "code",
   "execution_count": 93,
   "id": "1f23ed14-6a4e-44df-a1ad-193b30dfa82d",
   "metadata": {},
   "outputs": [],
   "source": [
    "# Read train weather data\n",
    "curr_year = 2024\n",
    "train_data_dir = f\"data/parquet/{curr_year}\"\n",
    "weather_data_file = f\"{curr_year}-weather.parquet\"\n",
    "weather_data_path = os.path.join(train_data_dir, weather_data_file)\n",
    "train_weather_data = pd.read_parquet(weather_data_path)"
   ]
  },
  {
   "cell_type": "code",
   "execution_count": 107,
   "id": "52547b50-7e16-4b40-8f1c-fbe0a189e92c",
   "metadata": {},
   "outputs": [
    {
     "data": {
      "text/plain": [
       "(366, 8)"
      ]
     },
     "execution_count": 107,
     "metadata": {},
     "output_type": "execute_result"
    }
   ],
   "source": [
    "train_weather_data.shape"
   ]
  },
  {
   "cell_type": "code",
   "execution_count": 108,
   "id": "163b23de-e073-4b82-8808-2ed5be9949e4",
   "metadata": {},
   "outputs": [
    {
     "data": {
      "text/html": [
       "<div>\n",
       "<style scoped>\n",
       "    .dataframe tbody tr th:only-of-type {\n",
       "        vertical-align: middle;\n",
       "    }\n",
       "\n",
       "    .dataframe tbody tr th {\n",
       "        vertical-align: top;\n",
       "    }\n",
       "\n",
       "    .dataframe thead th {\n",
       "        text-align: right;\n",
       "    }\n",
       "</style>\n",
       "<table border=\"1\" class=\"dataframe\">\n",
       "  <thead>\n",
       "    <tr style=\"text-align: right;\">\n",
       "      <th></th>\n",
       "      <th>DATE</th>\n",
       "      <th>AWND</th>\n",
       "      <th>PRCP</th>\n",
       "      <th>SNOW</th>\n",
       "      <th>SNWD</th>\n",
       "      <th>TAVG</th>\n",
       "      <th>TMAX</th>\n",
       "      <th>TMIN</th>\n",
       "    </tr>\n",
       "  </thead>\n",
       "  <tbody>\n",
       "    <tr>\n",
       "      <th>0</th>\n",
       "      <td>2024-01-01</td>\n",
       "      <td>6.7</td>\n",
       "      <td>0.01</td>\n",
       "      <td>0.0</td>\n",
       "      <td>0.0</td>\n",
       "      <td>43.0</td>\n",
       "      <td>47.0</td>\n",
       "      <td>36.0</td>\n",
       "    </tr>\n",
       "    <tr>\n",
       "      <th>1</th>\n",
       "      <td>2024-01-02</td>\n",
       "      <td>9.4</td>\n",
       "      <td>0.00</td>\n",
       "      <td>0.0</td>\n",
       "      <td>0.0</td>\n",
       "      <td>37.0</td>\n",
       "      <td>43.0</td>\n",
       "      <td>30.0</td>\n",
       "    </tr>\n",
       "    <tr>\n",
       "      <th>2</th>\n",
       "      <td>2024-01-03</td>\n",
       "      <td>9.2</td>\n",
       "      <td>0.00</td>\n",
       "      <td>0.0</td>\n",
       "      <td>0.0</td>\n",
       "      <td>39.0</td>\n",
       "      <td>43.0</td>\n",
       "      <td>35.0</td>\n",
       "    </tr>\n",
       "    <tr>\n",
       "      <th>3</th>\n",
       "      <td>2024-01-04</td>\n",
       "      <td>15.0</td>\n",
       "      <td>0.00</td>\n",
       "      <td>0.0</td>\n",
       "      <td>0.0</td>\n",
       "      <td>41.0</td>\n",
       "      <td>45.0</td>\n",
       "      <td>29.0</td>\n",
       "    </tr>\n",
       "    <tr>\n",
       "      <th>4</th>\n",
       "      <td>2024-01-05</td>\n",
       "      <td>11.9</td>\n",
       "      <td>0.00</td>\n",
       "      <td>0.0</td>\n",
       "      <td>0.0</td>\n",
       "      <td>32.0</td>\n",
       "      <td>38.0</td>\n",
       "      <td>27.0</td>\n",
       "    </tr>\n",
       "  </tbody>\n",
       "</table>\n",
       "</div>"
      ],
      "text/plain": [
       "        DATE  AWND  PRCP  SNOW  SNWD  TAVG  TMAX  TMIN\n",
       "0 2024-01-01   6.7  0.01   0.0   0.0  43.0  47.0  36.0\n",
       "1 2024-01-02   9.4  0.00   0.0   0.0  37.0  43.0  30.0\n",
       "2 2024-01-03   9.2  0.00   0.0   0.0  39.0  43.0  35.0\n",
       "3 2024-01-04  15.0  0.00   0.0   0.0  41.0  45.0  29.0\n",
       "4 2024-01-05  11.9  0.00   0.0   0.0  32.0  38.0  27.0"
      ]
     },
     "execution_count": 108,
     "metadata": {},
     "output_type": "execute_result"
    }
   ],
   "source": [
    "train_weather_data.head(5)"
   ]
  },
  {
   "cell_type": "code",
   "execution_count": 122,
   "id": "6ce7d74a-54c7-468d-aa7c-ceee6b466042",
   "metadata": {},
   "outputs": [
    {
     "data": {
      "text/html": [
       "<div>\n",
       "<style scoped>\n",
       "    .dataframe tbody tr th:only-of-type {\n",
       "        vertical-align: middle;\n",
       "    }\n",
       "\n",
       "    .dataframe tbody tr th {\n",
       "        vertical-align: top;\n",
       "    }\n",
       "\n",
       "    .dataframe thead th {\n",
       "        text-align: right;\n",
       "    }\n",
       "</style>\n",
       "<table border=\"1\" class=\"dataframe\">\n",
       "  <thead>\n",
       "    <tr style=\"text-align: right;\">\n",
       "      <th></th>\n",
       "      <th>DATE</th>\n",
       "      <th>TMAX</th>\n",
       "      <th>TMIN</th>\n",
       "      <th>SNOW</th>\n",
       "    </tr>\n",
       "  </thead>\n",
       "  <tbody>\n",
       "    <tr>\n",
       "      <th>0</th>\n",
       "      <td>2024-01-01</td>\n",
       "      <td>47.0</td>\n",
       "      <td>36.0</td>\n",
       "      <td>0.0</td>\n",
       "    </tr>\n",
       "    <tr>\n",
       "      <th>1</th>\n",
       "      <td>2024-01-02</td>\n",
       "      <td>43.0</td>\n",
       "      <td>30.0</td>\n",
       "      <td>0.0</td>\n",
       "    </tr>\n",
       "    <tr>\n",
       "      <th>2</th>\n",
       "      <td>2024-01-03</td>\n",
       "      <td>43.0</td>\n",
       "      <td>35.0</td>\n",
       "      <td>0.0</td>\n",
       "    </tr>\n",
       "    <tr>\n",
       "      <th>3</th>\n",
       "      <td>2024-01-04</td>\n",
       "      <td>45.0</td>\n",
       "      <td>29.0</td>\n",
       "      <td>0.0</td>\n",
       "    </tr>\n",
       "    <tr>\n",
       "      <th>4</th>\n",
       "      <td>2024-01-05</td>\n",
       "      <td>38.0</td>\n",
       "      <td>27.0</td>\n",
       "      <td>0.0</td>\n",
       "    </tr>\n",
       "  </tbody>\n",
       "</table>\n",
       "</div>"
      ],
      "text/plain": [
       "        DATE  TMAX  TMIN  SNOW\n",
       "0 2024-01-01  47.0  36.0   0.0\n",
       "1 2024-01-02  43.0  30.0   0.0\n",
       "2 2024-01-03  43.0  35.0   0.0\n",
       "3 2024-01-04  45.0  29.0   0.0\n",
       "4 2024-01-05  38.0  27.0   0.0"
      ]
     },
     "execution_count": 122,
     "metadata": {},
     "output_type": "execute_result"
    }
   ],
   "source": [
    "train_climate = train_weather_data[['DATE','TMAX','TMIN','SNOW']]\n",
    "train_climate.head()"
   ]
  },
  {
   "cell_type": "code",
   "execution_count": 124,
   "id": "666a6153-9b6b-4cd7-8992-bacb19c224fb",
   "metadata": {},
   "outputs": [
    {
     "data": {
      "text/plain": [
       "'data/final/2024/2024-weather.parquet'"
      ]
     },
     "execution_count": 124,
     "metadata": {},
     "output_type": "execute_result"
    }
   ],
   "source": [
    "# File\n",
    "curr_year = 2024\n",
    "train_weather_data_file = f\"{curr_year}-weather.parquet\"\n",
    "# Source\n",
    "src_train_data_dir = f\"data/parquet/{curr_year}\"\n",
    "src_train_weather_data_path = os.path.join(src_train_data_dir, train_weather_data_file)\n",
    "# Target\n",
    "dest_train_data_dir = f\"data/final/{curr_year}\"\n",
    "dest_train_weather_data_path = os.path.join(dest_train_data_dir, train_weather_data_file)\n",
    "# Copy\n",
    "shutil.copyfile(src_train_weather_data_path, dest_train_weather_data_path)"
   ]
  },
  {
   "cell_type": "code",
   "execution_count": 114,
   "id": "aba58edc-8db9-4f90-b9e1-d97f7af5fdac",
   "metadata": {},
   "outputs": [],
   "source": [
    "curr_year = 2025\n",
    "test_data_dir = f\"data/parquet/{curr_year}\"\n",
    "weather_data_file = f\"{curr_year}-weather.parquet\"\n",
    "weather_data_path = os.path.join(test_data_dir, weather_data_file)\n",
    "test_weather_data = pd.read_parquet(weather_data_path)"
   ]
  },
  {
   "cell_type": "code",
   "execution_count": 115,
   "id": "ac48d959-a10f-4a2f-83e7-c22ff8a8752e",
   "metadata": {},
   "outputs": [
    {
     "data": {
      "text/plain": [
       "(88, 8)"
      ]
     },
     "execution_count": 115,
     "metadata": {},
     "output_type": "execute_result"
    }
   ],
   "source": [
    "test_weather_data.shape"
   ]
  },
  {
   "cell_type": "code",
   "execution_count": 116,
   "id": "8644e9e7-6b6d-4935-89c7-b11fd4abd1f0",
   "metadata": {},
   "outputs": [
    {
     "data": {
      "text/html": [
       "<div>\n",
       "<style scoped>\n",
       "    .dataframe tbody tr th:only-of-type {\n",
       "        vertical-align: middle;\n",
       "    }\n",
       "\n",
       "    .dataframe tbody tr th {\n",
       "        vertical-align: top;\n",
       "    }\n",
       "\n",
       "    .dataframe thead th {\n",
       "        text-align: right;\n",
       "    }\n",
       "</style>\n",
       "<table border=\"1\" class=\"dataframe\">\n",
       "  <thead>\n",
       "    <tr style=\"text-align: right;\">\n",
       "      <th></th>\n",
       "      <th>DATE</th>\n",
       "      <th>AWND</th>\n",
       "      <th>PRCP</th>\n",
       "      <th>SNOW</th>\n",
       "      <th>SNWD</th>\n",
       "      <th>TAVG</th>\n",
       "      <th>TMAX</th>\n",
       "      <th>TMIN</th>\n",
       "    </tr>\n",
       "  </thead>\n",
       "  <tbody>\n",
       "    <tr>\n",
       "      <th>0</th>\n",
       "      <td>2025-01-01</td>\n",
       "      <td>16.1</td>\n",
       "      <td>0.0</td>\n",
       "      <td>0.0</td>\n",
       "      <td>0.0</td>\n",
       "      <td>47.0</td>\n",
       "      <td>52.0</td>\n",
       "      <td>40.0</td>\n",
       "    </tr>\n",
       "    <tr>\n",
       "      <th>1</th>\n",
       "      <td>2025-01-02</td>\n",
       "      <td>20.4</td>\n",
       "      <td>0.0</td>\n",
       "      <td>0.0</td>\n",
       "      <td>0.0</td>\n",
       "      <td>41.0</td>\n",
       "      <td>44.0</td>\n",
       "      <td>35.0</td>\n",
       "    </tr>\n",
       "    <tr>\n",
       "      <th>2</th>\n",
       "      <td>2025-01-03</td>\n",
       "      <td>14.3</td>\n",
       "      <td>0.0</td>\n",
       "      <td>0.0</td>\n",
       "      <td>0.0</td>\n",
       "      <td>36.0</td>\n",
       "      <td>40.0</td>\n",
       "      <td>32.0</td>\n",
       "    </tr>\n",
       "    <tr>\n",
       "      <th>3</th>\n",
       "      <td>2025-01-04</td>\n",
       "      <td>22.1</td>\n",
       "      <td>0.0</td>\n",
       "      <td>0.0</td>\n",
       "      <td>0.0</td>\n",
       "      <td>33.0</td>\n",
       "      <td>34.0</td>\n",
       "      <td>29.0</td>\n",
       "    </tr>\n",
       "    <tr>\n",
       "      <th>4</th>\n",
       "      <td>2025-01-05</td>\n",
       "      <td>16.6</td>\n",
       "      <td>0.0</td>\n",
       "      <td>0.0</td>\n",
       "      <td>0.0</td>\n",
       "      <td>30.0</td>\n",
       "      <td>34.0</td>\n",
       "      <td>28.0</td>\n",
       "    </tr>\n",
       "  </tbody>\n",
       "</table>\n",
       "</div>"
      ],
      "text/plain": [
       "        DATE  AWND  PRCP  SNOW  SNWD  TAVG  TMAX  TMIN\n",
       "0 2025-01-01  16.1   0.0   0.0   0.0  47.0  52.0  40.0\n",
       "1 2025-01-02  20.4   0.0   0.0   0.0  41.0  44.0  35.0\n",
       "2 2025-01-03  14.3   0.0   0.0   0.0  36.0  40.0  32.0\n",
       "3 2025-01-04  22.1   0.0   0.0   0.0  33.0  34.0  29.0\n",
       "4 2025-01-05  16.6   0.0   0.0   0.0  30.0  34.0  28.0"
      ]
     },
     "execution_count": 116,
     "metadata": {},
     "output_type": "execute_result"
    }
   ],
   "source": [
    "test_weather_data.head(5)"
   ]
  },
  {
   "cell_type": "code",
   "execution_count": 125,
   "id": "214244dc-d582-412c-bf84-bb0815204f0f",
   "metadata": {},
   "outputs": [
    {
     "data": {
      "text/html": [
       "<div>\n",
       "<style scoped>\n",
       "    .dataframe tbody tr th:only-of-type {\n",
       "        vertical-align: middle;\n",
       "    }\n",
       "\n",
       "    .dataframe tbody tr th {\n",
       "        vertical-align: top;\n",
       "    }\n",
       "\n",
       "    .dataframe thead th {\n",
       "        text-align: right;\n",
       "    }\n",
       "</style>\n",
       "<table border=\"1\" class=\"dataframe\">\n",
       "  <thead>\n",
       "    <tr style=\"text-align: right;\">\n",
       "      <th></th>\n",
       "      <th>DATE</th>\n",
       "      <th>TMAX</th>\n",
       "      <th>TMIN</th>\n",
       "      <th>SNOW</th>\n",
       "    </tr>\n",
       "  </thead>\n",
       "  <tbody>\n",
       "    <tr>\n",
       "      <th>0</th>\n",
       "      <td>2025-01-01</td>\n",
       "      <td>52.0</td>\n",
       "      <td>40.0</td>\n",
       "      <td>0.0</td>\n",
       "    </tr>\n",
       "    <tr>\n",
       "      <th>1</th>\n",
       "      <td>2025-01-02</td>\n",
       "      <td>44.0</td>\n",
       "      <td>35.0</td>\n",
       "      <td>0.0</td>\n",
       "    </tr>\n",
       "    <tr>\n",
       "      <th>2</th>\n",
       "      <td>2025-01-03</td>\n",
       "      <td>40.0</td>\n",
       "      <td>32.0</td>\n",
       "      <td>0.0</td>\n",
       "    </tr>\n",
       "    <tr>\n",
       "      <th>3</th>\n",
       "      <td>2025-01-04</td>\n",
       "      <td>34.0</td>\n",
       "      <td>29.0</td>\n",
       "      <td>0.0</td>\n",
       "    </tr>\n",
       "    <tr>\n",
       "      <th>4</th>\n",
       "      <td>2025-01-05</td>\n",
       "      <td>34.0</td>\n",
       "      <td>28.0</td>\n",
       "      <td>0.0</td>\n",
       "    </tr>\n",
       "  </tbody>\n",
       "</table>\n",
       "</div>"
      ],
      "text/plain": [
       "        DATE  TMAX  TMIN  SNOW\n",
       "0 2025-01-01  52.0  40.0   0.0\n",
       "1 2025-01-02  44.0  35.0   0.0\n",
       "2 2025-01-03  40.0  32.0   0.0\n",
       "3 2025-01-04  34.0  29.0   0.0\n",
       "4 2025-01-05  34.0  28.0   0.0"
      ]
     },
     "execution_count": 125,
     "metadata": {},
     "output_type": "execute_result"
    }
   ],
   "source": [
    "test_climate = test_weather_data[['DATE','TMAX','TMIN','SNOW']]\n",
    "test_climate.head()"
   ]
  },
  {
   "cell_type": "code",
   "execution_count": 126,
   "id": "b3c06b99-6e67-4189-afcf-ae12b042a0f0",
   "metadata": {},
   "outputs": [
    {
     "data": {
      "text/plain": [
       "'data/final/2025/2025-weather.parquet'"
      ]
     },
     "execution_count": 126,
     "metadata": {},
     "output_type": "execute_result"
    }
   ],
   "source": [
    "# File\n",
    "curr_year = 2025\n",
    "test_weather_data_file = f\"{curr_year}-weather.parquet\"\n",
    "# Source\n",
    "src_test_data_dir = f\"data/parquet/{curr_year}\"\n",
    "src_test_weather_data_path = os.path.join(src_test_data_dir, test_weather_data_file)\n",
    "# Target\n",
    "dest_test_data_dir = f\"data/final/{curr_year}\"\n",
    "dest_test_weather_data_path = os.path.join(dest_test_data_dir, test_weather_data_file)\n",
    "# Copy\n",
    "shutil.copyfile(src_test_weather_data_path, dest_test_weather_data_path)"
   ]
  },
  {
   "cell_type": "code",
   "execution_count": 118,
   "id": "be7ff4e6-5fd3-4f5a-b408-b9447085fdf8",
   "metadata": {},
   "outputs": [],
   "source": [
    "\n",
    "df_modeling = final_train_ds_df.merge(train_climate, how='inner', left_on='date', right_on='DATE')"
   ]
  },
  {
   "cell_type": "code",
   "execution_count": 119,
   "id": "9b96cec2-9f42-42c8-aeab-f76390a5329a",
   "metadata": {},
   "outputs": [
    {
     "data": {
      "text/html": [
       "<div>\n",
       "<style scoped>\n",
       "    .dataframe tbody tr th:only-of-type {\n",
       "        vertical-align: middle;\n",
       "    }\n",
       "\n",
       "    .dataframe tbody tr th {\n",
       "        vertical-align: top;\n",
       "    }\n",
       "\n",
       "    .dataframe thead th {\n",
       "        text-align: right;\n",
       "    }\n",
       "</style>\n",
       "<table border=\"1\" class=\"dataframe\">\n",
       "  <thead>\n",
       "    <tr style=\"text-align: right;\">\n",
       "      <th></th>\n",
       "      <th>date</th>\n",
       "      <th>hour</th>\n",
       "      <th>trips</th>\n",
       "      <th>holiday</th>\n",
       "      <th>DATE</th>\n",
       "      <th>TMAX</th>\n",
       "      <th>TMIN</th>\n",
       "      <th>SNOW</th>\n",
       "    </tr>\n",
       "  </thead>\n",
       "  <tbody>\n",
       "    <tr>\n",
       "      <th>0</th>\n",
       "      <td>2024-01-01</td>\n",
       "      <td>0</td>\n",
       "      <td>1863</td>\n",
       "      <td>1</td>\n",
       "      <td>2024-01-01</td>\n",
       "      <td>47.0</td>\n",
       "      <td>36.0</td>\n",
       "      <td>0.0</td>\n",
       "    </tr>\n",
       "    <tr>\n",
       "      <th>1</th>\n",
       "      <td>2024-01-01</td>\n",
       "      <td>1</td>\n",
       "      <td>2291</td>\n",
       "      <td>1</td>\n",
       "      <td>2024-01-01</td>\n",
       "      <td>47.0</td>\n",
       "      <td>36.0</td>\n",
       "      <td>0.0</td>\n",
       "    </tr>\n",
       "    <tr>\n",
       "      <th>2</th>\n",
       "      <td>2024-01-01</td>\n",
       "      <td>2</td>\n",
       "      <td>1903</td>\n",
       "      <td>1</td>\n",
       "      <td>2024-01-01</td>\n",
       "      <td>47.0</td>\n",
       "      <td>36.0</td>\n",
       "      <td>0.0</td>\n",
       "    </tr>\n",
       "    <tr>\n",
       "      <th>3</th>\n",
       "      <td>2024-01-01</td>\n",
       "      <td>3</td>\n",
       "      <td>1081</td>\n",
       "      <td>1</td>\n",
       "      <td>2024-01-01</td>\n",
       "      <td>47.0</td>\n",
       "      <td>36.0</td>\n",
       "      <td>0.0</td>\n",
       "    </tr>\n",
       "    <tr>\n",
       "      <th>4</th>\n",
       "      <td>2024-01-01</td>\n",
       "      <td>4</td>\n",
       "      <td>636</td>\n",
       "      <td>1</td>\n",
       "      <td>2024-01-01</td>\n",
       "      <td>47.0</td>\n",
       "      <td>36.0</td>\n",
       "      <td>0.0</td>\n",
       "    </tr>\n",
       "    <tr>\n",
       "      <th>...</th>\n",
       "      <td>...</td>\n",
       "      <td>...</td>\n",
       "      <td>...</td>\n",
       "      <td>...</td>\n",
       "      <td>...</td>\n",
       "      <td>...</td>\n",
       "      <td>...</td>\n",
       "      <td>...</td>\n",
       "    </tr>\n",
       "    <tr>\n",
       "      <th>8789</th>\n",
       "      <td>2024-12-31</td>\n",
       "      <td>19</td>\n",
       "      <td>3914</td>\n",
       "      <td>0</td>\n",
       "      <td>2024-12-31</td>\n",
       "      <td>53.0</td>\n",
       "      <td>44.0</td>\n",
       "      <td>0.0</td>\n",
       "    </tr>\n",
       "    <tr>\n",
       "      <th>8790</th>\n",
       "      <td>2024-12-31</td>\n",
       "      <td>20</td>\n",
       "      <td>2151</td>\n",
       "      <td>0</td>\n",
       "      <td>2024-12-31</td>\n",
       "      <td>53.0</td>\n",
       "      <td>44.0</td>\n",
       "      <td>0.0</td>\n",
       "    </tr>\n",
       "    <tr>\n",
       "      <th>8791</th>\n",
       "      <td>2024-12-31</td>\n",
       "      <td>21</td>\n",
       "      <td>914</td>\n",
       "      <td>0</td>\n",
       "      <td>2024-12-31</td>\n",
       "      <td>53.0</td>\n",
       "      <td>44.0</td>\n",
       "      <td>0.0</td>\n",
       "    </tr>\n",
       "    <tr>\n",
       "      <th>8792</th>\n",
       "      <td>2024-12-31</td>\n",
       "      <td>22</td>\n",
       "      <td>447</td>\n",
       "      <td>0</td>\n",
       "      <td>2024-12-31</td>\n",
       "      <td>53.0</td>\n",
       "      <td>44.0</td>\n",
       "      <td>0.0</td>\n",
       "    </tr>\n",
       "    <tr>\n",
       "      <th>8793</th>\n",
       "      <td>2024-12-31</td>\n",
       "      <td>23</td>\n",
       "      <td>1039</td>\n",
       "      <td>0</td>\n",
       "      <td>2024-12-31</td>\n",
       "      <td>53.0</td>\n",
       "      <td>44.0</td>\n",
       "      <td>0.0</td>\n",
       "    </tr>\n",
       "  </tbody>\n",
       "</table>\n",
       "<p>8794 rows × 8 columns</p>\n",
       "</div>"
      ],
      "text/plain": [
       "           date  hour  trips  holiday       DATE  TMAX  TMIN  SNOW\n",
       "0    2024-01-01     0   1863        1 2024-01-01  47.0  36.0   0.0\n",
       "1    2024-01-01     1   2291        1 2024-01-01  47.0  36.0   0.0\n",
       "2    2024-01-01     2   1903        1 2024-01-01  47.0  36.0   0.0\n",
       "3    2024-01-01     3   1081        1 2024-01-01  47.0  36.0   0.0\n",
       "4    2024-01-01     4    636        1 2024-01-01  47.0  36.0   0.0\n",
       "...         ...   ...    ...      ...        ...   ...   ...   ...\n",
       "8789 2024-12-31    19   3914        0 2024-12-31  53.0  44.0   0.0\n",
       "8790 2024-12-31    20   2151        0 2024-12-31  53.0  44.0   0.0\n",
       "8791 2024-12-31    21    914        0 2024-12-31  53.0  44.0   0.0\n",
       "8792 2024-12-31    22    447        0 2024-12-31  53.0  44.0   0.0\n",
       "8793 2024-12-31    23   1039        0 2024-12-31  53.0  44.0   0.0\n",
       "\n",
       "[8794 rows x 8 columns]"
      ]
     },
     "execution_count": 119,
     "metadata": {},
     "output_type": "execute_result"
    }
   ],
   "source": [
    "df_modeling"
   ]
  },
  {
   "cell_type": "markdown",
   "id": "557609ba-ec6e-4fbf-a18d-02d3c4ea28bc",
   "metadata": {},
   "source": [
    "# Feature Importance"
   ]
  },
  {
   "cell_type": "code",
   "execution_count": null,
   "id": "124cb728-0250-49c9-9d21-0d2d07eb983d",
   "metadata": {},
   "outputs": [],
   "source": [
    "def feature_importance_xgb(\n",
    "    train_df, \n",
    "    target_column,\n",
    "    num_feats, \n",
    "    ordinal_cat_feats, \n",
    "    target_cat_feats,\n",
    "    params=None\n",
    "):\n",
    "    \"\"\"Calculates feature importance using XGBoost.\"\"\"\n",
    "    #X = train_df.drop(columns=[target_column])\n",
    "    print(f\"[TRAIN] Ordinal_cat_feats: {ordinal_cat_feats}\")\n",
    "    print(f\"[TRAIN] Target_cat_feats : {target_cat_feats}\")\n",
    "    print(f\"[TRAIN] num_feats        : {num_feats}\")\n",
    "    feats = num_feats + target_cat_feats + ordinal_cat_feats\n",
    "    X_train = train_df[feats]\n",
    "    y_train = train_df[target_column]\n",
    "\n",
    "    if not params:\n",
    "        params = {\n",
    "            'objective': 'reg:squarederror',\n",
    "            #'tree_method': 'hist',\n",
    "            '_estimators': 100,\n",
    "            'random_state': 42\n",
    "        }\n",
    "\n",
    "    enc = make_column_transformer(\n",
    "        #(StandardScaler(), numerical_features),\n",
    "        ('passthrough', num_feats),\n",
    "        (TargetEncoder(), target_cat_feats),\n",
    "        (OrdinalEncoder(handle_unknown=\"use_encoded_value\", unknown_value=np.nan),\n",
    "         ordinal_cat_feats),\n",
    "        remainder=\"passthrough\",\n",
    "        verbose_feature_names_out=True,\n",
    "    )\n",
    "    feature_types = [\"c\" if fn in ordinal_cat_feats else \"q\" \n",
    "                     for fn in X_train.columns]\n",
    "\n",
    "    print(f\"[TRAIN] Params: {params}\")\n",
    "    print(f\"[TRAIN] feature_types: {feature_types}\")\n",
    "    # Detecta la GPU\n",
    "    gpu_id = detect_gpu()\n",
    "    if gpu_id >= 0:\n",
    "        print(f\"Detected GPU, using GPU {gpu_id}.\")\n",
    "        params['device'] = 'cuda'\n",
    "    else:\n",
    "        print(\"No GPU detected, using CPU.\")\n",
    "        params['device'] = 'cpu'\n",
    "        \n",
    "    reg = xgb.XGBRegressor(\n",
    "        **params, \n",
    "        feature_types=feature_types,\n",
    "        enable_categorical=True\n",
    "    )\n",
    "    #pipeline = make_pipeline(enc, reg)\n",
    "    pipeline = make_pipeline(enc, reg)    \n",
    "    pipeline.fit(X_train, y_train)\n",
    "    #model = xgb.XGBRegressor(objective='reg:squarederror', n_estimators=100, random_state=42)\n",
    "    #pipeline = build_pipeline(model, categorical_features, numerical_features)\n",
    "    #pipeline.fit(X, y)\n",
    "    #importance = pd.Series(model.feature_importances_, index=X.columns).sort_values(ascending=False)\n",
    "    # check XGBoost is using the feature type correctly.\n",
    "    model_types = reg.get_booster().feature_types\n",
    "    assert model_types is not None\n",
    "    for a, b in zip(model_types, feature_types):\n",
    "        assert a == b\n",
    "    '''\n",
    "    xgb_model = pipeline.named_steps['xgbregressor'] \n",
    "    preprocessor = pipeline.named_steps['preprocessor']]\n",
    "    importance = pd.Series(\n",
    "        xgb_model.feature_importances_, \n",
    "        index=preprocessor.get_feature_names_out()\n",
    "    ).sort_values(ascending=False)\n",
    "    #plot_feature_importance(importance, \"XGBoost Feature Importance\")\n",
    "    return importance\n",
    "    '''\n",
    "    return pipeline"
   ]
  },
  {
   "cell_type": "code",
   "execution_count": null,
   "id": "190f72d9-39e8-4ae7-a39d-d7f9925bcaf3",
   "metadata": {},
   "outputs": [],
   "source": [
    "# Target variable\n",
    "target_column = 'quantity'\n",
    "num_feats = [\n",
    "    'weekday_sin', 'weekday_cos',\n",
    "    'week_sin', 'week_cos',\n",
    "    'month_sin', 'month_cos',\n",
    "    #'year'\n",
    "]\n",
    "target_cat_feats = [\n",
    "    'rideable_type',\n",
    "    'member_casual', \n",
    "    'start_station_id', \n",
    "    'end_station_id', \n",
    "    'route'\n",
    "]\n",
    "\n",
    "all_feats = num_feats + ordinal_cat_feats + target_cat_feats"
   ]
  },
  {
   "cell_type": "code",
   "execution_count": null,
   "id": "29e6dfe0-c63f-43d4-bf71-456670b957a2",
   "metadata": {},
   "outputs": [],
   "source": [
    "%%time\n",
    "\n",
    "xgb_importance_results = feature_importance_xgb(\n",
    "    train, target_column,\n",
    "    num_feats, \n",
    "    ordinal_cat_feats, \n",
    "    target_cat_feats,\n",
    ")"
   ]
  },
  {
   "cell_type": "markdown",
   "id": "fee1a74b-4fc2-4316-b676-8780e34d8826",
   "metadata": {},
   "source": [
    "# Preprocess"
   ]
  },
  {
   "cell_type": "code",
   "execution_count": 70,
   "id": "2406cc4f-6581-46c8-b262-c3dc4fb01ae9",
   "metadata": {},
   "outputs": [],
   "source": [
    "\n",
    "def compute_distance(row: pd.Series) -> float:\n",
    "    \"\"\"\n",
    "    Compute the haversine distance in kilometers between the start and end coordinates of a trip.\n",
    "\n",
    "    Parameters\n",
    "    ----------\n",
    "    row : pd.Series\n",
    "        A row from a pandas DataFrame containing the following columns:\n",
    "        - 'start_lat' (float): Latitude of the start station\n",
    "        - 'start_lng' (float): Longitude of the start station\n",
    "        - 'end_lat' (float): Latitude of the end station\n",
    "        - 'end_lng' (float): Longitude of the end station\n",
    "\n",
    "    Returns\n",
    "    -------\n",
    "    float\n",
    "        The haversine distance in kilometers between the start and end points.\n",
    "        Returns np.nan if any coordinate is missing (NaN).\n",
    "    \"\"\"\n",
    "    start = (row['start_lat'], row['start_lng'])\n",
    "    end = (row['end_lat'], row['end_lng'])\n",
    "\n",
    "    if pd.isna(start[0]) or pd.isna(start[1]) or pd.isna(end[0]) or pd.isna(end[1]):\n",
    "        return np.nan\n",
    "\n",
    "    return haversine(start, end, unit=Unit.KILOMETERS)\n"
   ]
  },
  {
   "cell_type": "code",
   "execution_count": 71,
   "id": "42343ce0-d93c-4202-bb4a-039f3097c9e2",
   "metadata": {},
   "outputs": [],
   "source": [
    "def preprocess_data(df: pd.DataFrame) -> pd.DataFrame:\n",
    "    # \n",
    "    # Verificar la longitud de los identificadores en Start Station ID y End Station ID\n",
    "    #df['start_station_id'] = df['start_station_id'].fillna('').astype(str)  # Asegurarse de que sea un string\n",
    "    #df['end_station_id'] = df['end_station_id'].fillna('').astype(str)  # Asegurarse de que sea un string\n",
    "    df['start_station_id'] = df['start_station_id'].astype(str) \n",
    "    df['end_station_id'] = df['end_station_id'].astype(str) \n",
    "    df['start_station_id'] = df['start_station_id'].replace('nan', np.nan)\n",
    "    df['end_station_id'] = df['end_station_id'].replace('nan', np.nan)\n",
    "\n",
    "    #  Transform columns to category type\n",
    "    df['rideable_type'] = df['rideable_type'].astype('category')\n",
    "    df['member_casual'] = df['member_casual'].astype('category')\n",
    "    \n",
    "    # Convert columns to datetime type\n",
    "    df['started_at'] = df.to_datetime(df['started_at'])\n",
    "    df['ended_at'] = df.to_datetime(df['ended_at'])\n",
    "    \n",
    "    # Duration in minutes\n",
    "    df['duration'] = (df['ended_at'] - df['started_at']).dt.total_seconds() / 60\n",
    "    \n",
    "    # creating day of the year feature\n",
    "    df['DOY'] = df['Date'].dt.dayofyear\n",
    "    \n",
    "    # creating day of the week feature\n",
    "    df['DOW'] = df['Date'].dt.dayofweek\n",
    "    \n",
    "    # creating day of the month feature\n",
    "    df['DOM'] = df['Date'].dt.day\n",
    "    \n",
    "    # creating year column\n",
    "    df['year'] = df['Date'].dt.year\n",
    "    \n",
    "    # creating month number column\n",
    "    df['month_num'] = df['Date'].dt.month\n",
    "\n",
    "    # Route from start station to end station\n",
    "    df['route'] = df['start station id'] + '_to_' + df['end station id']\n",
    "\n",
    "    # drop 'Start Station Name' y 'End Station Name' colums\n",
    "    # Drop columns\n",
    "    drop_columns = [\n",
    "        'ride_id', \n",
    "        'start station name', 'end station name'\n",
    "    ]\n",
    "    df = df.drop(columns=drop_columns)\n",
    "\n",
    "    # Distance\n",
    "    df['distance_km'] = df.apply(compute_distance, axis=1)\n",
    "\n",
    "    return df"
   ]
  },
  {
   "cell_type": "code",
   "execution_count": 104,
   "id": "5cf91596-8dbb-4c7c-8fb4-463bc0dda5eb",
   "metadata": {},
   "outputs": [
    {
     "data": {
      "text/plain": [
       "ride_id                  0\n",
       "rideable_type            0\n",
       "started_at               0\n",
       "ended_at                 0\n",
       "start_station_name    1160\n",
       "start_station_id         0\n",
       "end_station_name      5505\n",
       "end_station_id           0\n",
       "start_lat             1160\n",
       "start_lng             1160\n",
       "end_lat               5486\n",
       "end_lng               5486\n",
       "member_casual            0\n",
       "dtype: int64"
      ]
     },
     "execution_count": 104,
     "metadata": {},
     "output_type": "execute_result"
    }
   ],
   "source": []
  },
  {
   "cell_type": "code",
   "execution_count": null,
   "id": "ed65bbb6-e748-4d64-95a7-6746890a9f14",
   "metadata": {},
   "outputs": [],
   "source": [
    "Checking duplicates"
   ]
  },
  {
   "cell_type": "code",
   "execution_count": 40,
   "id": "2874e607-8403-4701-a9fc-a54ee888246c",
   "metadata": {},
   "outputs": [
    {
     "name": "stdout",
     "output_type": "stream",
     "text": [
      "['member' 'casual']\n",
      "['classic_bike' 'electric_bike']\n"
     ]
    }
   ],
   "source": [
    "# Checking for null values\n",
    "print(jan_bike_df.member_casual.unique())\n",
    "\n",
    "print(jan_bike_df.rideable_type.unique())"
   ]
  },
  {
   "cell_type": "markdown",
   "id": "e24592b0-c2b3-4396-831f-2feac2816469",
   "metadata": {},
   "source": [
    "## Feature Engineering"
   ]
  },
  {
   "cell_type": "code",
   "execution_count": null,
   "id": "dc03f275-11d1-4447-860f-2d5b05e416bc",
   "metadata": {},
   "outputs": [],
   "source": [
    "def feature_engineering(df: pd.DataFrame) -> pd.DataFrame:\n",
    "    # Add dayofweek\n",
    "    df['dayofweek'] = df['started_at'].dt.dayofweek \n",
    "    \n",
    "    # Add month\n",
    "    df['mooth'] = df['started_at'].dt.month\n",
    "\n",
    "    return df"
   ]
  },
  {
   "cell_type": "code",
   "execution_count": null,
   "id": "392af1bb-0dcb-4f2d-921e-6aadd4565ccc",
   "metadata": {},
   "outputs": [],
   "source": []
  },
  {
   "cell_type": "code",
   "execution_count": null,
   "id": "f9cc98ee-9552-4002-9970-77d37429ad6b",
   "metadata": {},
   "outputs": [],
   "source": []
  }
 ],
 "metadata": {
  "kernelspec": {
   "display_name": "Python 3 (ipykernel)",
   "language": "python",
   "name": "python3"
  },
  "language_info": {
   "codemirror_mode": {
    "name": "ipython",
    "version": 3
   },
   "file_extension": ".py",
   "mimetype": "text/x-python",
   "name": "python",
   "nbconvert_exporter": "python",
   "pygments_lexer": "ipython3",
   "version": "3.12.3"
  }
 },
 "nbformat": 4,
 "nbformat_minor": 5
}
