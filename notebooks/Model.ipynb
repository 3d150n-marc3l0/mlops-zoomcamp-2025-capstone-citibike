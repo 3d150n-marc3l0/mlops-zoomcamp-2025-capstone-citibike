{
 "cells": [
  {
   "cell_type": "markdown",
   "id": "a03efb58-9e75-4e03-b16c-5408e8838e38",
   "metadata": {},
   "source": [
    "# Import"
   ]
  },
  {
   "cell_type": "code",
   "execution_count": 6,
   "id": "82121888-6ec2-43cf-bef8-5c972a1e2c7e",
   "metadata": {},
   "outputs": [],
   "source": [
    "import logging\n",
    "from typing import Tuple, Dict, Any\n",
    "from typing_extensions import Annotated\n",
    "#from haversine import haversine, Unit\n",
    "\n",
    "#import pandas as pd\n",
    "import numpy as np\n",
    "\n",
    "import os\n",
    "import requests\n",
    "import json\n",
    "import time\n",
    "\n",
    "from pathlib import Path\n",
    "import calendar\n",
    "import holidays\n",
    "from datetime import date, timedelta\n",
    "\n",
    "\n",
    "\n",
    "from xgboost import XGBClassifier, XGBRegressor\n",
    "from sklearn.model_selection import train_test_split\n",
    "from sklearn.metrics import mean_absolute_error, mean_squared_error, r2_score\n",
    "from sklearn.preprocessing import StandardScaler\n",
    "from sklearn.model_selection import KFold, cross_val_score\n",
    "from sklearn.ensemble import RandomForestRegressor\n",
    "\n",
    "import xgboost as xgb\n",
    "\n",
    "import optuna        # HPO\n",
    "import mlflow        # Tracking\n",
    "from mlflow.models import infer_signature\n",
    "\n",
    "import matplotlib.pyplot as plt\n",
    "import seaborn as sns\n",
    "from  matplotlib.lines import Line2D\n",
    "\n",
    "from bokeh.plotting import figure, show\n",
    "from bokeh.io import output_notebook"
   ]
  },
  {
   "cell_type": "code",
   "execution_count": 2,
   "id": "9ca72166-e0c6-4720-b6c6-42d1aad54939",
   "metadata": {},
   "outputs": [],
   "source": [
    "#from dotenv import load_dotenv\n",
    "#dotenv_path = Path('../.env')\n",
    "#load_dotenv(dotenv_path=dotenv_path)"
   ]
  },
  {
   "cell_type": "markdown",
   "id": "ed86d3c1-faa3-4804-9989-fbb1055c27cd",
   "metadata": {},
   "source": [
    "# Dataset"
   ]
  },
  {
   "cell_type": "markdown",
   "id": "0028c7ef-6afc-4f21-9f22-85eadfee40d8",
   "metadata": {},
   "source": [
    "### Train data"
   ]
  },
  {
   "cell_type": "code",
   "execution_count": 2,
   "id": "75c64fdc-8e5d-4205-aa92-6892478e7950",
   "metadata": {},
   "outputs": [
    {
     "data": {
      "text/plain": [
       "'data/final/2024'"
      ]
     },
     "execution_count": 2,
     "metadata": {},
     "output_type": "execute_result"
    }
   ],
   "source": [
    "# Train directory\n",
    "train_year = 2024\n",
    "src_train_data_path = f\"data/final/{train_year}\"\n",
    "src_train_data_path"
   ]
  },
  {
   "cell_type": "code",
   "execution_count": 3,
   "id": "82fca462-b8c3-4e4d-b4c5-35c8ba5ba964",
   "metadata": {},
   "outputs": [],
   "source": [
    "# Read train trips data\n",
    "\n",
    "train_trips_file = f\"{train_year}-citibike-tripdata.parquet\"\n",
    "train_trips_path = os.path.join(src_train_data_path, train_trips_file)\n",
    "train_trips_data = pd.read_parquet(train_trips_path)"
   ]
  },
  {
   "cell_type": "code",
   "execution_count": 4,
   "id": "9ab793ab-4d3d-4876-b553-212433de3a37",
   "metadata": {},
   "outputs": [
    {
     "data": {
      "text/plain": [
       "(8795, 4)"
      ]
     },
     "execution_count": 4,
     "metadata": {},
     "output_type": "execute_result"
    }
   ],
   "source": [
    "train_trips_data.shape"
   ]
  },
  {
   "cell_type": "code",
   "execution_count": 5,
   "id": "81c23bba-c9b6-4f24-a414-c17e67b0dcdb",
   "metadata": {},
   "outputs": [
    {
     "name": "stdout",
     "output_type": "stream",
     "text": [
      "<class 'pandas.core.frame.DataFrame'>\n",
      "RangeIndex: 8795 entries, 0 to 8794\n",
      "Data columns (total 4 columns):\n",
      " #   Column   Non-Null Count  Dtype         \n",
      "---  ------   --------------  -----         \n",
      " 0   date     8795 non-null   datetime64[ns]\n",
      " 1   hour     8795 non-null   int32         \n",
      " 2   trips    8795 non-null   int64         \n",
      " 3   holiday  8795 non-null   int64         \n",
      "dtypes: datetime64[ns](1), int32(1), int64(2)\n",
      "memory usage: 240.6 KB\n"
     ]
    }
   ],
   "source": [
    "train_trips_data.info()"
   ]
  },
  {
   "cell_type": "code",
   "execution_count": 6,
   "id": "b43062c0-178d-4f70-8a70-cd033a29a348",
   "metadata": {},
   "outputs": [
    {
     "data": {
      "text/html": [
       "<div>\n",
       "<style scoped>\n",
       "    .dataframe tbody tr th:only-of-type {\n",
       "        vertical-align: middle;\n",
       "    }\n",
       "\n",
       "    .dataframe tbody tr th {\n",
       "        vertical-align: top;\n",
       "    }\n",
       "\n",
       "    .dataframe thead th {\n",
       "        text-align: right;\n",
       "    }\n",
       "</style>\n",
       "<table border=\"1\" class=\"dataframe\">\n",
       "  <thead>\n",
       "    <tr style=\"text-align: right;\">\n",
       "      <th></th>\n",
       "      <th>date</th>\n",
       "      <th>hour</th>\n",
       "      <th>trips</th>\n",
       "      <th>holiday</th>\n",
       "    </tr>\n",
       "  </thead>\n",
       "  <tbody>\n",
       "    <tr>\n",
       "      <th>0</th>\n",
       "      <td>2023-12-31</td>\n",
       "      <td>23</td>\n",
       "      <td>278</td>\n",
       "      <td>0</td>\n",
       "    </tr>\n",
       "    <tr>\n",
       "      <th>1</th>\n",
       "      <td>2024-01-01</td>\n",
       "      <td>0</td>\n",
       "      <td>1863</td>\n",
       "      <td>1</td>\n",
       "    </tr>\n",
       "    <tr>\n",
       "      <th>2</th>\n",
       "      <td>2024-01-01</td>\n",
       "      <td>1</td>\n",
       "      <td>2291</td>\n",
       "      <td>1</td>\n",
       "    </tr>\n",
       "    <tr>\n",
       "      <th>3</th>\n",
       "      <td>2024-01-01</td>\n",
       "      <td>2</td>\n",
       "      <td>1903</td>\n",
       "      <td>1</td>\n",
       "    </tr>\n",
       "    <tr>\n",
       "      <th>4</th>\n",
       "      <td>2024-01-01</td>\n",
       "      <td>3</td>\n",
       "      <td>1081</td>\n",
       "      <td>1</td>\n",
       "    </tr>\n",
       "  </tbody>\n",
       "</table>\n",
       "</div>"
      ],
      "text/plain": [
       "        date  hour  trips  holiday\n",
       "0 2023-12-31    23    278        0\n",
       "1 2024-01-01     0   1863        1\n",
       "2 2024-01-01     1   2291        1\n",
       "3 2024-01-01     2   1903        1\n",
       "4 2024-01-01     3   1081        1"
      ]
     },
     "execution_count": 6,
     "metadata": {},
     "output_type": "execute_result"
    }
   ],
   "source": [
    "train_trips_data[train_trips_data['date'] >= '2023-12-31'].head(5)\n",
    "#train_trips_data.head(5)"
   ]
  },
  {
   "cell_type": "code",
   "execution_count": 7,
   "id": "cc0adbb0-4718-48fc-815a-5af86f269fd3",
   "metadata": {},
   "outputs": [
    {
     "data": {
      "text/html": [
       "<div>\n",
       "<style scoped>\n",
       "    .dataframe tbody tr th:only-of-type {\n",
       "        vertical-align: middle;\n",
       "    }\n",
       "\n",
       "    .dataframe tbody tr th {\n",
       "        vertical-align: top;\n",
       "    }\n",
       "\n",
       "    .dataframe thead th {\n",
       "        text-align: right;\n",
       "    }\n",
       "</style>\n",
       "<table border=\"1\" class=\"dataframe\">\n",
       "  <thead>\n",
       "    <tr style=\"text-align: right;\">\n",
       "      <th></th>\n",
       "      <th>date</th>\n",
       "      <th>hour</th>\n",
       "      <th>trips</th>\n",
       "      <th>holiday</th>\n",
       "    </tr>\n",
       "  </thead>\n",
       "  <tbody>\n",
       "  </tbody>\n",
       "</table>\n",
       "</div>"
      ],
      "text/plain": [
       "Empty DataFrame\n",
       "Columns: [date, hour, trips, holiday]\n",
       "Index: []"
      ]
     },
     "execution_count": 7,
     "metadata": {},
     "output_type": "execute_result"
    }
   ],
   "source": [
    "train_trips_data[train_trips_data['date'] > '2024-12-31']"
   ]
  },
  {
   "cell_type": "code",
   "execution_count": 8,
   "id": "936983c7-bba2-4ec7-8cea-eba0797b09ea",
   "metadata": {},
   "outputs": [
    {
     "data": {
      "text/html": [
       "<div>\n",
       "<style scoped>\n",
       "    .dataframe tbody tr th:only-of-type {\n",
       "        vertical-align: middle;\n",
       "    }\n",
       "\n",
       "    .dataframe tbody tr th {\n",
       "        vertical-align: top;\n",
       "    }\n",
       "\n",
       "    .dataframe thead th {\n",
       "        text-align: right;\n",
       "    }\n",
       "</style>\n",
       "<table border=\"1\" class=\"dataframe\">\n",
       "  <thead>\n",
       "    <tr style=\"text-align: right;\">\n",
       "      <th></th>\n",
       "      <th>date</th>\n",
       "      <th>hour</th>\n",
       "      <th>trips</th>\n",
       "      <th>holiday</th>\n",
       "    </tr>\n",
       "  </thead>\n",
       "  <tbody>\n",
       "    <tr>\n",
       "      <th>0</th>\n",
       "      <td>2023-12-31</td>\n",
       "      <td>23</td>\n",
       "      <td>278</td>\n",
       "      <td>0</td>\n",
       "    </tr>\n",
       "    <tr>\n",
       "      <th>1</th>\n",
       "      <td>2024-01-01</td>\n",
       "      <td>0</td>\n",
       "      <td>1863</td>\n",
       "      <td>1</td>\n",
       "    </tr>\n",
       "    <tr>\n",
       "      <th>2</th>\n",
       "      <td>2024-01-01</td>\n",
       "      <td>1</td>\n",
       "      <td>2291</td>\n",
       "      <td>1</td>\n",
       "    </tr>\n",
       "    <tr>\n",
       "      <th>3</th>\n",
       "      <td>2024-01-01</td>\n",
       "      <td>2</td>\n",
       "      <td>1903</td>\n",
       "      <td>1</td>\n",
       "    </tr>\n",
       "    <tr>\n",
       "      <th>4</th>\n",
       "      <td>2024-01-01</td>\n",
       "      <td>3</td>\n",
       "      <td>1081</td>\n",
       "      <td>1</td>\n",
       "    </tr>\n",
       "  </tbody>\n",
       "</table>\n",
       "</div>"
      ],
      "text/plain": [
       "        date  hour  trips  holiday\n",
       "0 2023-12-31    23    278        0\n",
       "1 2024-01-01     0   1863        1\n",
       "2 2024-01-01     1   2291        1\n",
       "3 2024-01-01     2   1903        1\n",
       "4 2024-01-01     3   1081        1"
      ]
     },
     "execution_count": 8,
     "metadata": {},
     "output_type": "execute_result"
    }
   ],
   "source": [
    "train_trips_data.head(5)"
   ]
  },
  {
   "cell_type": "code",
   "execution_count": 9,
   "id": "6870cc03-47e4-4459-be75-2c4dfd54953b",
   "metadata": {},
   "outputs": [],
   "source": [
    "# Read train wwather data\n",
    "\n",
    "train_weather_data_file = f\"{train_year}-weather.parquet\"\n",
    "train_weather_data_path = os.path.join(src_train_data_path, train_weather_data_file)\n",
    "train_weather_data = pd.read_parquet(train_weather_data_path)"
   ]
  },
  {
   "cell_type": "code",
   "execution_count": 10,
   "id": "3d53ec30-9c03-4628-baa0-161466446c05",
   "metadata": {},
   "outputs": [
    {
     "data": {
      "text/plain": [
       "(366, 8)"
      ]
     },
     "execution_count": 10,
     "metadata": {},
     "output_type": "execute_result"
    }
   ],
   "source": [
    "train_weather_data.shape"
   ]
  },
  {
   "cell_type": "code",
   "execution_count": 11,
   "id": "36992e30-205a-4544-88ea-22afbddd91b6",
   "metadata": {},
   "outputs": [
    {
     "name": "stdout",
     "output_type": "stream",
     "text": [
      "<class 'pandas.core.frame.DataFrame'>\n",
      "RangeIndex: 366 entries, 0 to 365\n",
      "Data columns (total 8 columns):\n",
      " #   Column  Non-Null Count  Dtype         \n",
      "---  ------  --------------  -----         \n",
      " 0   DATE    366 non-null    datetime64[ns]\n",
      " 1   AWND    366 non-null    float64       \n",
      " 2   PRCP    366 non-null    float64       \n",
      " 3   SNOW    366 non-null    float64       \n",
      " 4   SNWD    366 non-null    float64       \n",
      " 5   TAVG    366 non-null    float64       \n",
      " 6   TMAX    366 non-null    float64       \n",
      " 7   TMIN    366 non-null    float64       \n",
      "dtypes: datetime64[ns](1), float64(7)\n",
      "memory usage: 23.0 KB\n"
     ]
    }
   ],
   "source": [
    "train_weather_data.info()"
   ]
  },
  {
   "cell_type": "code",
   "execution_count": 12,
   "id": "8d7b5120-b432-41af-9413-cd63824f5e5b",
   "metadata": {},
   "outputs": [
    {
     "data": {
      "text/html": [
       "<div>\n",
       "<style scoped>\n",
       "    .dataframe tbody tr th:only-of-type {\n",
       "        vertical-align: middle;\n",
       "    }\n",
       "\n",
       "    .dataframe tbody tr th {\n",
       "        vertical-align: top;\n",
       "    }\n",
       "\n",
       "    .dataframe thead th {\n",
       "        text-align: right;\n",
       "    }\n",
       "</style>\n",
       "<table border=\"1\" class=\"dataframe\">\n",
       "  <thead>\n",
       "    <tr style=\"text-align: right;\">\n",
       "      <th></th>\n",
       "      <th>DATE</th>\n",
       "      <th>AWND</th>\n",
       "      <th>PRCP</th>\n",
       "      <th>SNOW</th>\n",
       "      <th>SNWD</th>\n",
       "      <th>TAVG</th>\n",
       "      <th>TMAX</th>\n",
       "      <th>TMIN</th>\n",
       "    </tr>\n",
       "  </thead>\n",
       "  <tbody>\n",
       "    <tr>\n",
       "      <th>0</th>\n",
       "      <td>2024-01-01</td>\n",
       "      <td>6.7</td>\n",
       "      <td>0.01</td>\n",
       "      <td>0.0</td>\n",
       "      <td>0.0</td>\n",
       "      <td>43.0</td>\n",
       "      <td>47.0</td>\n",
       "      <td>36.0</td>\n",
       "    </tr>\n",
       "    <tr>\n",
       "      <th>1</th>\n",
       "      <td>2024-01-02</td>\n",
       "      <td>9.4</td>\n",
       "      <td>0.00</td>\n",
       "      <td>0.0</td>\n",
       "      <td>0.0</td>\n",
       "      <td>37.0</td>\n",
       "      <td>43.0</td>\n",
       "      <td>30.0</td>\n",
       "    </tr>\n",
       "    <tr>\n",
       "      <th>2</th>\n",
       "      <td>2024-01-03</td>\n",
       "      <td>9.2</td>\n",
       "      <td>0.00</td>\n",
       "      <td>0.0</td>\n",
       "      <td>0.0</td>\n",
       "      <td>39.0</td>\n",
       "      <td>43.0</td>\n",
       "      <td>35.0</td>\n",
       "    </tr>\n",
       "    <tr>\n",
       "      <th>3</th>\n",
       "      <td>2024-01-04</td>\n",
       "      <td>15.0</td>\n",
       "      <td>0.00</td>\n",
       "      <td>0.0</td>\n",
       "      <td>0.0</td>\n",
       "      <td>41.0</td>\n",
       "      <td>45.0</td>\n",
       "      <td>29.0</td>\n",
       "    </tr>\n",
       "    <tr>\n",
       "      <th>4</th>\n",
       "      <td>2024-01-05</td>\n",
       "      <td>11.9</td>\n",
       "      <td>0.00</td>\n",
       "      <td>0.0</td>\n",
       "      <td>0.0</td>\n",
       "      <td>32.0</td>\n",
       "      <td>38.0</td>\n",
       "      <td>27.0</td>\n",
       "    </tr>\n",
       "  </tbody>\n",
       "</table>\n",
       "</div>"
      ],
      "text/plain": [
       "        DATE  AWND  PRCP  SNOW  SNWD  TAVG  TMAX  TMIN\n",
       "0 2024-01-01   6.7  0.01   0.0   0.0  43.0  47.0  36.0\n",
       "1 2024-01-02   9.4  0.00   0.0   0.0  37.0  43.0  30.0\n",
       "2 2024-01-03   9.2  0.00   0.0   0.0  39.0  43.0  35.0\n",
       "3 2024-01-04  15.0  0.00   0.0   0.0  41.0  45.0  29.0\n",
       "4 2024-01-05  11.9  0.00   0.0   0.0  32.0  38.0  27.0"
      ]
     },
     "execution_count": 12,
     "metadata": {},
     "output_type": "execute_result"
    }
   ],
   "source": [
    "train_weather_data.head(5)"
   ]
  },
  {
   "cell_type": "markdown",
   "id": "4a997dc3-c211-4f59-afd9-f56db0ac8d4c",
   "metadata": {},
   "source": [
    "## Test data"
   ]
  },
  {
   "cell_type": "code",
   "execution_count": 13,
   "id": "52c1195a-adf5-4e58-8671-c1d571bdf990",
   "metadata": {},
   "outputs": [
    {
     "data": {
      "text/plain": [
       "'data/final/2025'"
      ]
     },
     "execution_count": 13,
     "metadata": {},
     "output_type": "execute_result"
    }
   ],
   "source": [
    "# Test directory\n",
    "test_year = 2025\n",
    "src_test_data_path = f\"data/final/{test_year}\"\n",
    "src_test_data_path"
   ]
  },
  {
   "cell_type": "code",
   "execution_count": 14,
   "id": "7929ccba-a093-45d6-b385-63d2d05f50a8",
   "metadata": {},
   "outputs": [],
   "source": [
    "# Read test trips data\n",
    "\n",
    "test_trips_file = f\"{test_year}-citibike-tripdata.parquet\"\n",
    "test_trips_path = os.path.join(src_test_data_path, test_trips_file)\n",
    "test_trips_data = pd.read_parquet(test_trips_path)"
   ]
  },
  {
   "cell_type": "code",
   "execution_count": 15,
   "id": "6171eb19-fbdf-412b-99da-04cca2def7fd",
   "metadata": {},
   "outputs": [
    {
     "data": {
      "text/plain": [
       "(2162, 4)"
      ]
     },
     "execution_count": 15,
     "metadata": {},
     "output_type": "execute_result"
    }
   ],
   "source": [
    "test_trips_data.shape"
   ]
  },
  {
   "cell_type": "code",
   "execution_count": 16,
   "id": "9e1590ec-3cd2-45cb-ae88-11b7743a8adb",
   "metadata": {},
   "outputs": [
    {
     "name": "stdout",
     "output_type": "stream",
     "text": [
      "<class 'pandas.core.frame.DataFrame'>\n",
      "RangeIndex: 2162 entries, 0 to 2161\n",
      "Data columns (total 4 columns):\n",
      " #   Column   Non-Null Count  Dtype         \n",
      "---  ------   --------------  -----         \n",
      " 0   date     2162 non-null   datetime64[ns]\n",
      " 1   hour     2162 non-null   int32         \n",
      " 2   trips    2162 non-null   int64         \n",
      " 3   holiday  2162 non-null   int64         \n",
      "dtypes: datetime64[ns](1), int32(1), int64(2)\n",
      "memory usage: 59.2 KB\n"
     ]
    }
   ],
   "source": [
    "test_trips_data.info()"
   ]
  },
  {
   "cell_type": "code",
   "execution_count": 17,
   "id": "8f7ac442-2ca9-4d4e-8629-53c08c87cfea",
   "metadata": {},
   "outputs": [
    {
     "data": {
      "text/html": [
       "<div>\n",
       "<style scoped>\n",
       "    .dataframe tbody tr th:only-of-type {\n",
       "        vertical-align: middle;\n",
       "    }\n",
       "\n",
       "    .dataframe tbody tr th {\n",
       "        vertical-align: top;\n",
       "    }\n",
       "\n",
       "    .dataframe thead th {\n",
       "        text-align: right;\n",
       "    }\n",
       "</style>\n",
       "<table border=\"1\" class=\"dataframe\">\n",
       "  <thead>\n",
       "    <tr style=\"text-align: right;\">\n",
       "      <th></th>\n",
       "      <th>date</th>\n",
       "      <th>hour</th>\n",
       "      <th>trips</th>\n",
       "      <th>holiday</th>\n",
       "    </tr>\n",
       "  </thead>\n",
       "  <tbody>\n",
       "    <tr>\n",
       "      <th>0</th>\n",
       "      <td>2024-12-31</td>\n",
       "      <td>23</td>\n",
       "      <td>162</td>\n",
       "      <td>0</td>\n",
       "    </tr>\n",
       "    <tr>\n",
       "      <th>1</th>\n",
       "      <td>2025-01-01</td>\n",
       "      <td>0</td>\n",
       "      <td>1585</td>\n",
       "      <td>1</td>\n",
       "    </tr>\n",
       "    <tr>\n",
       "      <th>2</th>\n",
       "      <td>2025-01-01</td>\n",
       "      <td>1</td>\n",
       "      <td>2682</td>\n",
       "      <td>1</td>\n",
       "    </tr>\n",
       "    <tr>\n",
       "      <th>3</th>\n",
       "      <td>2025-01-01</td>\n",
       "      <td>2</td>\n",
       "      <td>2263</td>\n",
       "      <td>1</td>\n",
       "    </tr>\n",
       "    <tr>\n",
       "      <th>4</th>\n",
       "      <td>2025-01-01</td>\n",
       "      <td>3</td>\n",
       "      <td>1326</td>\n",
       "      <td>1</td>\n",
       "    </tr>\n",
       "  </tbody>\n",
       "</table>\n",
       "</div>"
      ],
      "text/plain": [
       "        date  hour  trips  holiday\n",
       "0 2024-12-31    23    162        0\n",
       "1 2025-01-01     0   1585        1\n",
       "2 2025-01-01     1   2682        1\n",
       "3 2025-01-01     2   2263        1\n",
       "4 2025-01-01     3   1326        1"
      ]
     },
     "execution_count": 17,
     "metadata": {},
     "output_type": "execute_result"
    }
   ],
   "source": [
    "test_trips_data.head(5)"
   ]
  },
  {
   "cell_type": "code",
   "execution_count": 18,
   "id": "f70d7fdf-5d83-4a35-8bb4-df981eb2a22a",
   "metadata": {},
   "outputs": [],
   "source": [
    "# Read test wwather data\n",
    "\n",
    "test_weather_data_file = f\"{test_year}-weather.parquet\"\n",
    "test_weather_data_path = os.path.join(src_test_data_path, test_weather_data_file)\n",
    "test_weather_data = pd.read_parquet(test_weather_data_path)"
   ]
  },
  {
   "cell_type": "code",
   "execution_count": 19,
   "id": "e57eeb3f-305a-438c-bf54-619bd468f471",
   "metadata": {},
   "outputs": [
    {
     "data": {
      "text/plain": [
       "(88, 8)"
      ]
     },
     "execution_count": 19,
     "metadata": {},
     "output_type": "execute_result"
    }
   ],
   "source": [
    "test_weather_data.shape"
   ]
  },
  {
   "cell_type": "code",
   "execution_count": 20,
   "id": "3eac0926-f3cc-4896-b830-85e56259007a",
   "metadata": {},
   "outputs": [
    {
     "name": "stdout",
     "output_type": "stream",
     "text": [
      "<class 'pandas.core.frame.DataFrame'>\n",
      "RangeIndex: 88 entries, 0 to 87\n",
      "Data columns (total 8 columns):\n",
      " #   Column  Non-Null Count  Dtype         \n",
      "---  ------  --------------  -----         \n",
      " 0   DATE    88 non-null     datetime64[ns]\n",
      " 1   AWND    88 non-null     float64       \n",
      " 2   PRCP    88 non-null     float64       \n",
      " 3   SNOW    88 non-null     float64       \n",
      " 4   SNWD    88 non-null     float64       \n",
      " 5   TAVG    88 non-null     float64       \n",
      " 6   TMAX    88 non-null     float64       \n",
      " 7   TMIN    88 non-null     float64       \n",
      "dtypes: datetime64[ns](1), float64(7)\n",
      "memory usage: 5.6 KB\n"
     ]
    }
   ],
   "source": [
    "test_weather_data.info()"
   ]
  },
  {
   "cell_type": "code",
   "execution_count": 21,
   "id": "fa6bb95a-94d0-4dd5-b75e-cc331aa52684",
   "metadata": {},
   "outputs": [
    {
     "data": {
      "text/html": [
       "<div>\n",
       "<style scoped>\n",
       "    .dataframe tbody tr th:only-of-type {\n",
       "        vertical-align: middle;\n",
       "    }\n",
       "\n",
       "    .dataframe tbody tr th {\n",
       "        vertical-align: top;\n",
       "    }\n",
       "\n",
       "    .dataframe thead th {\n",
       "        text-align: right;\n",
       "    }\n",
       "</style>\n",
       "<table border=\"1\" class=\"dataframe\">\n",
       "  <thead>\n",
       "    <tr style=\"text-align: right;\">\n",
       "      <th></th>\n",
       "      <th>DATE</th>\n",
       "      <th>AWND</th>\n",
       "      <th>PRCP</th>\n",
       "      <th>SNOW</th>\n",
       "      <th>SNWD</th>\n",
       "      <th>TAVG</th>\n",
       "      <th>TMAX</th>\n",
       "      <th>TMIN</th>\n",
       "    </tr>\n",
       "  </thead>\n",
       "  <tbody>\n",
       "    <tr>\n",
       "      <th>0</th>\n",
       "      <td>2025-01-01</td>\n",
       "      <td>16.1</td>\n",
       "      <td>0.0</td>\n",
       "      <td>0.0</td>\n",
       "      <td>0.0</td>\n",
       "      <td>47.0</td>\n",
       "      <td>52.0</td>\n",
       "      <td>40.0</td>\n",
       "    </tr>\n",
       "    <tr>\n",
       "      <th>1</th>\n",
       "      <td>2025-01-02</td>\n",
       "      <td>20.4</td>\n",
       "      <td>0.0</td>\n",
       "      <td>0.0</td>\n",
       "      <td>0.0</td>\n",
       "      <td>41.0</td>\n",
       "      <td>44.0</td>\n",
       "      <td>35.0</td>\n",
       "    </tr>\n",
       "    <tr>\n",
       "      <th>2</th>\n",
       "      <td>2025-01-03</td>\n",
       "      <td>14.3</td>\n",
       "      <td>0.0</td>\n",
       "      <td>0.0</td>\n",
       "      <td>0.0</td>\n",
       "      <td>36.0</td>\n",
       "      <td>40.0</td>\n",
       "      <td>32.0</td>\n",
       "    </tr>\n",
       "    <tr>\n",
       "      <th>3</th>\n",
       "      <td>2025-01-04</td>\n",
       "      <td>22.1</td>\n",
       "      <td>0.0</td>\n",
       "      <td>0.0</td>\n",
       "      <td>0.0</td>\n",
       "      <td>33.0</td>\n",
       "      <td>34.0</td>\n",
       "      <td>29.0</td>\n",
       "    </tr>\n",
       "    <tr>\n",
       "      <th>4</th>\n",
       "      <td>2025-01-05</td>\n",
       "      <td>16.6</td>\n",
       "      <td>0.0</td>\n",
       "      <td>0.0</td>\n",
       "      <td>0.0</td>\n",
       "      <td>30.0</td>\n",
       "      <td>34.0</td>\n",
       "      <td>28.0</td>\n",
       "    </tr>\n",
       "  </tbody>\n",
       "</table>\n",
       "</div>"
      ],
      "text/plain": [
       "        DATE  AWND  PRCP  SNOW  SNWD  TAVG  TMAX  TMIN\n",
       "0 2025-01-01  16.1   0.0   0.0   0.0  47.0  52.0  40.0\n",
       "1 2025-01-02  20.4   0.0   0.0   0.0  41.0  44.0  35.0\n",
       "2 2025-01-03  14.3   0.0   0.0   0.0  36.0  40.0  32.0\n",
       "3 2025-01-04  22.1   0.0   0.0   0.0  33.0  34.0  29.0\n",
       "4 2025-01-05  16.6   0.0   0.0   0.0  30.0  34.0  28.0"
      ]
     },
     "execution_count": 21,
     "metadata": {},
     "output_type": "execute_result"
    }
   ],
   "source": [
    "test_weather_data.head(5)"
   ]
  },
  {
   "cell_type": "markdown",
   "id": "2fc736fb-df85-4697-8074-15de825e34bf",
   "metadata": {},
   "source": [
    "# Feature Engineering"
   ]
  },
  {
   "cell_type": "code",
   "execution_count": 22,
   "id": "dffb110f-9f77-4bb3-ae61-340a05d504c6",
   "metadata": {},
   "outputs": [],
   "source": [
    "def preprocess_data(\n",
    "    df: pd.DataFrame\n",
    ") -> pd.DataFrame:\n",
    "\n",
    "    data = df.copy()\n",
    "    \n",
    "    # Create hout of day\n",
    "    #data['hr'] = data['date'].dt.hour\n",
    "    \n",
    "    # Create day of the week feature\n",
    "    data['weekday'] = data['date'].dt.dayofweek\n",
    "\n",
    "    # Create day of the year feature\n",
    "    data[\"day\"] = data[\"date\"].dt.day\n",
    "\n",
    "    # Create day of the year feature\n",
    "    data['week_num'] = data['date'].dt.isocalendar().week\n",
    "\n",
    "    # Create month number column\n",
    "    data['mnth'] = data['date'].dt.month\n",
    "    \n",
    "    # Create year column\n",
    "    data['year'] =data['date'].dt.year\n",
    "    \n",
    "    # New Features\n",
    "    #data['hr_sin'] = np.sin(data.hr * (2.*np.pi/24))\n",
    "    #data['hr_cos'] = np.cos(data.hr * (2.*np.pi/24))\n",
    "    data['hr_sin'] = np.sin(data.hour * (2.*np.pi/24))\n",
    "    data['hr_cos'] = np.cos(data.hour * (2.*np.pi/24))\n",
    "    data['weekday_sin'] = np.sin(data.weekday * (2.*np.pi/7))\n",
    "    data['weekday_cos'] = np.cos(data.weekday * (2.*np.pi/7))\n",
    "    data['week_sin'] = np.sin(2 * np.pi * (data.week_num-1) / 52)\n",
    "    data['week_cos'] = np.cos(2 * np.pi * (data.week_num-1) / 52)\n",
    "    data['mnth_sin'] = np.sin((data.mnth - 1) * (2.*np.pi/12))\n",
    "    data['mnth_cos'] = np.cos((data.mnth - 1) * (2.*np.pi/12))\n",
    "    data['day_sin'] = np.sin((data.day - 1) * (2.*np.pi/366))\n",
    "    data['day_cos'] = np.cos((data.day - 1) * (2.*np.pi/366))\n",
    "    \n",
    "\n",
    "    # drop 'Start Station Name' y 'End Station Name' colums\n",
    "    # Drop columns\n",
    "    drop_columns = [\n",
    "        'date', 'hour',\n",
    "        #'hr', \n",
    "        'weekday', 'mnth', 'week_num', 'day',\n",
    "        'DATE', 'AWND', 'PRCP', 'SNOW', 'SNWD', 'TAVG', \n",
    "    ]\n",
    "    data = data.drop(columns=drop_columns)\n",
    "\n",
    "    return data"
   ]
  },
  {
   "cell_type": "markdown",
   "id": "bb93432f-f3bd-4f09-bd0f-568095598a84",
   "metadata": {},
   "source": [
    "##  Train data"
   ]
  },
  {
   "cell_type": "code",
   "execution_count": 23,
   "id": "ff0bd431-236f-4a7e-a030-6f3f22b4ae05",
   "metadata": {},
   "outputs": [],
   "source": [
    "# Train data\n",
    "train_trips_modeling_data = train_trips_data.merge(train_weather_data, how='inner', left_on='date', right_on='DATE')"
   ]
  },
  {
   "cell_type": "code",
   "execution_count": 24,
   "id": "7b898a0f-2883-457f-b4fc-24eb4bc9337d",
   "metadata": {},
   "outputs": [
    {
     "data": {
      "text/plain": [
       "((8794, 12), (8795, 4))"
      ]
     },
     "execution_count": 24,
     "metadata": {},
     "output_type": "execute_result"
    }
   ],
   "source": [
    "# Compare shape data\n",
    "train_trips_modeling_data.shape, train_trips_data.shape"
   ]
  },
  {
   "cell_type": "code",
   "execution_count": 25,
   "id": "328736f3-f026-4aac-abf7-d3afa1609d5a",
   "metadata": {},
   "outputs": [
    {
     "data": {
      "text/html": [
       "<div>\n",
       "<style scoped>\n",
       "    .dataframe tbody tr th:only-of-type {\n",
       "        vertical-align: middle;\n",
       "    }\n",
       "\n",
       "    .dataframe tbody tr th {\n",
       "        vertical-align: top;\n",
       "    }\n",
       "\n",
       "    .dataframe thead th {\n",
       "        text-align: right;\n",
       "    }\n",
       "</style>\n",
       "<table border=\"1\" class=\"dataframe\">\n",
       "  <thead>\n",
       "    <tr style=\"text-align: right;\">\n",
       "      <th></th>\n",
       "      <th>date</th>\n",
       "      <th>hour</th>\n",
       "      <th>trips</th>\n",
       "      <th>holiday</th>\n",
       "      <th>DATE</th>\n",
       "      <th>AWND</th>\n",
       "      <th>PRCP</th>\n",
       "      <th>SNOW</th>\n",
       "      <th>SNWD</th>\n",
       "      <th>TAVG</th>\n",
       "      <th>TMAX</th>\n",
       "      <th>TMIN</th>\n",
       "    </tr>\n",
       "  </thead>\n",
       "  <tbody>\n",
       "    <tr>\n",
       "      <th>0</th>\n",
       "      <td>2024-01-01</td>\n",
       "      <td>0</td>\n",
       "      <td>1863</td>\n",
       "      <td>1</td>\n",
       "      <td>2024-01-01</td>\n",
       "      <td>6.7</td>\n",
       "      <td>0.01</td>\n",
       "      <td>0.0</td>\n",
       "      <td>0.0</td>\n",
       "      <td>43.0</td>\n",
       "      <td>47.0</td>\n",
       "      <td>36.0</td>\n",
       "    </tr>\n",
       "    <tr>\n",
       "      <th>1</th>\n",
       "      <td>2024-01-01</td>\n",
       "      <td>1</td>\n",
       "      <td>2291</td>\n",
       "      <td>1</td>\n",
       "      <td>2024-01-01</td>\n",
       "      <td>6.7</td>\n",
       "      <td>0.01</td>\n",
       "      <td>0.0</td>\n",
       "      <td>0.0</td>\n",
       "      <td>43.0</td>\n",
       "      <td>47.0</td>\n",
       "      <td>36.0</td>\n",
       "    </tr>\n",
       "    <tr>\n",
       "      <th>2</th>\n",
       "      <td>2024-01-01</td>\n",
       "      <td>2</td>\n",
       "      <td>1903</td>\n",
       "      <td>1</td>\n",
       "      <td>2024-01-01</td>\n",
       "      <td>6.7</td>\n",
       "      <td>0.01</td>\n",
       "      <td>0.0</td>\n",
       "      <td>0.0</td>\n",
       "      <td>43.0</td>\n",
       "      <td>47.0</td>\n",
       "      <td>36.0</td>\n",
       "    </tr>\n",
       "    <tr>\n",
       "      <th>3</th>\n",
       "      <td>2024-01-01</td>\n",
       "      <td>3</td>\n",
       "      <td>1081</td>\n",
       "      <td>1</td>\n",
       "      <td>2024-01-01</td>\n",
       "      <td>6.7</td>\n",
       "      <td>0.01</td>\n",
       "      <td>0.0</td>\n",
       "      <td>0.0</td>\n",
       "      <td>43.0</td>\n",
       "      <td>47.0</td>\n",
       "      <td>36.0</td>\n",
       "    </tr>\n",
       "    <tr>\n",
       "      <th>4</th>\n",
       "      <td>2024-01-01</td>\n",
       "      <td>4</td>\n",
       "      <td>636</td>\n",
       "      <td>1</td>\n",
       "      <td>2024-01-01</td>\n",
       "      <td>6.7</td>\n",
       "      <td>0.01</td>\n",
       "      <td>0.0</td>\n",
       "      <td>0.0</td>\n",
       "      <td>43.0</td>\n",
       "      <td>47.0</td>\n",
       "      <td>36.0</td>\n",
       "    </tr>\n",
       "  </tbody>\n",
       "</table>\n",
       "</div>"
      ],
      "text/plain": [
       "        date  hour  trips  holiday       DATE  AWND  PRCP  SNOW  SNWD  TAVG  \\\n",
       "0 2024-01-01     0   1863        1 2024-01-01   6.7  0.01   0.0   0.0  43.0   \n",
       "1 2024-01-01     1   2291        1 2024-01-01   6.7  0.01   0.0   0.0  43.0   \n",
       "2 2024-01-01     2   1903        1 2024-01-01   6.7  0.01   0.0   0.0  43.0   \n",
       "3 2024-01-01     3   1081        1 2024-01-01   6.7  0.01   0.0   0.0  43.0   \n",
       "4 2024-01-01     4    636        1 2024-01-01   6.7  0.01   0.0   0.0  43.0   \n",
       "\n",
       "   TMAX  TMIN  \n",
       "0  47.0  36.0  \n",
       "1  47.0  36.0  \n",
       "2  47.0  36.0  \n",
       "3  47.0  36.0  \n",
       "4  47.0  36.0  "
      ]
     },
     "execution_count": 25,
     "metadata": {},
     "output_type": "execute_result"
    }
   ],
   "source": [
    "# Show sample data\n",
    "train_trips_modeling_data.head(5)"
   ]
  },
  {
   "cell_type": "code",
   "execution_count": 26,
   "id": "5d2170de-72c6-42e2-9e1a-e1dbeee3e017",
   "metadata": {},
   "outputs": [],
   "source": [
    "# Feature engineering\n",
    "train_trips_modeling_feats = preprocess_data(\n",
    "    train_trips_modeling_data\n",
    ")"
   ]
  },
  {
   "cell_type": "code",
   "execution_count": 27,
   "id": "964809fd-8745-4ca5-8a3d-7c91192f1b29",
   "metadata": {},
   "outputs": [
    {
     "data": {
      "text/plain": [
       "(8794, 15)"
      ]
     },
     "execution_count": 27,
     "metadata": {},
     "output_type": "execute_result"
    }
   ],
   "source": [
    "train_trips_modeling_feats.shape"
   ]
  },
  {
   "cell_type": "code",
   "execution_count": 28,
   "id": "b4351be1-a05d-4990-8ee3-9f935c54da4f",
   "metadata": {},
   "outputs": [
    {
     "data": {
      "text/html": [
       "<div>\n",
       "<style scoped>\n",
       "    .dataframe tbody tr th:only-of-type {\n",
       "        vertical-align: middle;\n",
       "    }\n",
       "\n",
       "    .dataframe tbody tr th {\n",
       "        vertical-align: top;\n",
       "    }\n",
       "\n",
       "    .dataframe thead th {\n",
       "        text-align: right;\n",
       "    }\n",
       "</style>\n",
       "<table border=\"1\" class=\"dataframe\">\n",
       "  <thead>\n",
       "    <tr style=\"text-align: right;\">\n",
       "      <th></th>\n",
       "      <th>trips</th>\n",
       "      <th>holiday</th>\n",
       "      <th>TMAX</th>\n",
       "      <th>TMIN</th>\n",
       "      <th>year</th>\n",
       "      <th>hr_sin</th>\n",
       "      <th>hr_cos</th>\n",
       "      <th>weekday_sin</th>\n",
       "      <th>weekday_cos</th>\n",
       "      <th>week_sin</th>\n",
       "      <th>week_cos</th>\n",
       "      <th>mnth_sin</th>\n",
       "      <th>mnth_cos</th>\n",
       "      <th>day_sin</th>\n",
       "      <th>day_cos</th>\n",
       "    </tr>\n",
       "  </thead>\n",
       "  <tbody>\n",
       "    <tr>\n",
       "      <th>0</th>\n",
       "      <td>1863</td>\n",
       "      <td>1</td>\n",
       "      <td>47.0</td>\n",
       "      <td>36.0</td>\n",
       "      <td>2024</td>\n",
       "      <td>0.000000</td>\n",
       "      <td>1.000000</td>\n",
       "      <td>0.0</td>\n",
       "      <td>1.0</td>\n",
       "      <td>0.0</td>\n",
       "      <td>1.0</td>\n",
       "      <td>0.0</td>\n",
       "      <td>1.0</td>\n",
       "      <td>0.0</td>\n",
       "      <td>1.0</td>\n",
       "    </tr>\n",
       "    <tr>\n",
       "      <th>1</th>\n",
       "      <td>2291</td>\n",
       "      <td>1</td>\n",
       "      <td>47.0</td>\n",
       "      <td>36.0</td>\n",
       "      <td>2024</td>\n",
       "      <td>0.258819</td>\n",
       "      <td>0.965926</td>\n",
       "      <td>0.0</td>\n",
       "      <td>1.0</td>\n",
       "      <td>0.0</td>\n",
       "      <td>1.0</td>\n",
       "      <td>0.0</td>\n",
       "      <td>1.0</td>\n",
       "      <td>0.0</td>\n",
       "      <td>1.0</td>\n",
       "    </tr>\n",
       "    <tr>\n",
       "      <th>2</th>\n",
       "      <td>1903</td>\n",
       "      <td>1</td>\n",
       "      <td>47.0</td>\n",
       "      <td>36.0</td>\n",
       "      <td>2024</td>\n",
       "      <td>0.500000</td>\n",
       "      <td>0.866025</td>\n",
       "      <td>0.0</td>\n",
       "      <td>1.0</td>\n",
       "      <td>0.0</td>\n",
       "      <td>1.0</td>\n",
       "      <td>0.0</td>\n",
       "      <td>1.0</td>\n",
       "      <td>0.0</td>\n",
       "      <td>1.0</td>\n",
       "    </tr>\n",
       "    <tr>\n",
       "      <th>3</th>\n",
       "      <td>1081</td>\n",
       "      <td>1</td>\n",
       "      <td>47.0</td>\n",
       "      <td>36.0</td>\n",
       "      <td>2024</td>\n",
       "      <td>0.707107</td>\n",
       "      <td>0.707107</td>\n",
       "      <td>0.0</td>\n",
       "      <td>1.0</td>\n",
       "      <td>0.0</td>\n",
       "      <td>1.0</td>\n",
       "      <td>0.0</td>\n",
       "      <td>1.0</td>\n",
       "      <td>0.0</td>\n",
       "      <td>1.0</td>\n",
       "    </tr>\n",
       "    <tr>\n",
       "      <th>4</th>\n",
       "      <td>636</td>\n",
       "      <td>1</td>\n",
       "      <td>47.0</td>\n",
       "      <td>36.0</td>\n",
       "      <td>2024</td>\n",
       "      <td>0.866025</td>\n",
       "      <td>0.500000</td>\n",
       "      <td>0.0</td>\n",
       "      <td>1.0</td>\n",
       "      <td>0.0</td>\n",
       "      <td>1.0</td>\n",
       "      <td>0.0</td>\n",
       "      <td>1.0</td>\n",
       "      <td>0.0</td>\n",
       "      <td>1.0</td>\n",
       "    </tr>\n",
       "  </tbody>\n",
       "</table>\n",
       "</div>"
      ],
      "text/plain": [
       "   trips  holiday  TMAX  TMIN  year    hr_sin    hr_cos  weekday_sin  \\\n",
       "0   1863        1  47.0  36.0  2024  0.000000  1.000000          0.0   \n",
       "1   2291        1  47.0  36.0  2024  0.258819  0.965926          0.0   \n",
       "2   1903        1  47.0  36.0  2024  0.500000  0.866025          0.0   \n",
       "3   1081        1  47.0  36.0  2024  0.707107  0.707107          0.0   \n",
       "4    636        1  47.0  36.0  2024  0.866025  0.500000          0.0   \n",
       "\n",
       "   weekday_cos  week_sin  week_cos  mnth_sin  mnth_cos  day_sin  day_cos  \n",
       "0          1.0       0.0       1.0       0.0       1.0      0.0      1.0  \n",
       "1          1.0       0.0       1.0       0.0       1.0      0.0      1.0  \n",
       "2          1.0       0.0       1.0       0.0       1.0      0.0      1.0  \n",
       "3          1.0       0.0       1.0       0.0       1.0      0.0      1.0  \n",
       "4          1.0       0.0       1.0       0.0       1.0      0.0      1.0  "
      ]
     },
     "execution_count": 28,
     "metadata": {},
     "output_type": "execute_result"
    }
   ],
   "source": [
    "train_trips_modeling_feats.head(5)"
   ]
  },
  {
   "cell_type": "markdown",
   "id": "2fffc88a-aeec-4682-b2ed-a13632762a78",
   "metadata": {},
   "source": [
    "## Test data"
   ]
  },
  {
   "cell_type": "markdown",
   "id": "6c41a79d-3ff4-4f53-b356-d6a887921844",
   "metadata": {},
   "source": [
    "Merge trips and weather data"
   ]
  },
  {
   "cell_type": "code",
   "execution_count": 29,
   "id": "fa460fdb-bf25-4c0e-8ce7-a0189de908b4",
   "metadata": {},
   "outputs": [],
   "source": [
    "# Train data\n",
    "test_trips_modeling_data = test_trips_data.merge(test_weather_data, how='inner', left_on='date', right_on='DATE')"
   ]
  },
  {
   "cell_type": "code",
   "execution_count": 30,
   "id": "76067790-9dd0-436c-8851-b7cfc8f35ffd",
   "metadata": {},
   "outputs": [
    {
     "data": {
      "text/plain": [
       "((2113, 12), (2162, 4))"
      ]
     },
     "execution_count": 30,
     "metadata": {},
     "output_type": "execute_result"
    }
   ],
   "source": [
    "test_trips_modeling_data.shape, test_trips_data.shape"
   ]
  },
  {
   "cell_type": "code",
   "execution_count": 31,
   "id": "ed34b865-87c7-464d-912f-40473737ec8f",
   "metadata": {},
   "outputs": [
    {
     "data": {
      "text/html": [
       "<div>\n",
       "<style scoped>\n",
       "    .dataframe tbody tr th:only-of-type {\n",
       "        vertical-align: middle;\n",
       "    }\n",
       "\n",
       "    .dataframe tbody tr th {\n",
       "        vertical-align: top;\n",
       "    }\n",
       "\n",
       "    .dataframe thead th {\n",
       "        text-align: right;\n",
       "    }\n",
       "</style>\n",
       "<table border=\"1\" class=\"dataframe\">\n",
       "  <thead>\n",
       "    <tr style=\"text-align: right;\">\n",
       "      <th></th>\n",
       "      <th>date</th>\n",
       "      <th>hour</th>\n",
       "      <th>trips</th>\n",
       "      <th>holiday</th>\n",
       "      <th>DATE</th>\n",
       "      <th>AWND</th>\n",
       "      <th>PRCP</th>\n",
       "      <th>SNOW</th>\n",
       "      <th>SNWD</th>\n",
       "      <th>TAVG</th>\n",
       "      <th>TMAX</th>\n",
       "      <th>TMIN</th>\n",
       "    </tr>\n",
       "  </thead>\n",
       "  <tbody>\n",
       "    <tr>\n",
       "      <th>0</th>\n",
       "      <td>2025-01-01</td>\n",
       "      <td>0</td>\n",
       "      <td>1585</td>\n",
       "      <td>1</td>\n",
       "      <td>2025-01-01</td>\n",
       "      <td>16.1</td>\n",
       "      <td>0.0</td>\n",
       "      <td>0.0</td>\n",
       "      <td>0.0</td>\n",
       "      <td>47.0</td>\n",
       "      <td>52.0</td>\n",
       "      <td>40.0</td>\n",
       "    </tr>\n",
       "    <tr>\n",
       "      <th>1</th>\n",
       "      <td>2025-01-01</td>\n",
       "      <td>1</td>\n",
       "      <td>2682</td>\n",
       "      <td>1</td>\n",
       "      <td>2025-01-01</td>\n",
       "      <td>16.1</td>\n",
       "      <td>0.0</td>\n",
       "      <td>0.0</td>\n",
       "      <td>0.0</td>\n",
       "      <td>47.0</td>\n",
       "      <td>52.0</td>\n",
       "      <td>40.0</td>\n",
       "    </tr>\n",
       "    <tr>\n",
       "      <th>2</th>\n",
       "      <td>2025-01-01</td>\n",
       "      <td>2</td>\n",
       "      <td>2263</td>\n",
       "      <td>1</td>\n",
       "      <td>2025-01-01</td>\n",
       "      <td>16.1</td>\n",
       "      <td>0.0</td>\n",
       "      <td>0.0</td>\n",
       "      <td>0.0</td>\n",
       "      <td>47.0</td>\n",
       "      <td>52.0</td>\n",
       "      <td>40.0</td>\n",
       "    </tr>\n",
       "    <tr>\n",
       "      <th>3</th>\n",
       "      <td>2025-01-01</td>\n",
       "      <td>3</td>\n",
       "      <td>1326</td>\n",
       "      <td>1</td>\n",
       "      <td>2025-01-01</td>\n",
       "      <td>16.1</td>\n",
       "      <td>0.0</td>\n",
       "      <td>0.0</td>\n",
       "      <td>0.0</td>\n",
       "      <td>47.0</td>\n",
       "      <td>52.0</td>\n",
       "      <td>40.0</td>\n",
       "    </tr>\n",
       "    <tr>\n",
       "      <th>4</th>\n",
       "      <td>2025-01-01</td>\n",
       "      <td>4</td>\n",
       "      <td>754</td>\n",
       "      <td>1</td>\n",
       "      <td>2025-01-01</td>\n",
       "      <td>16.1</td>\n",
       "      <td>0.0</td>\n",
       "      <td>0.0</td>\n",
       "      <td>0.0</td>\n",
       "      <td>47.0</td>\n",
       "      <td>52.0</td>\n",
       "      <td>40.0</td>\n",
       "    </tr>\n",
       "  </tbody>\n",
       "</table>\n",
       "</div>"
      ],
      "text/plain": [
       "        date  hour  trips  holiday       DATE  AWND  PRCP  SNOW  SNWD  TAVG  \\\n",
       "0 2025-01-01     0   1585        1 2025-01-01  16.1   0.0   0.0   0.0  47.0   \n",
       "1 2025-01-01     1   2682        1 2025-01-01  16.1   0.0   0.0   0.0  47.0   \n",
       "2 2025-01-01     2   2263        1 2025-01-01  16.1   0.0   0.0   0.0  47.0   \n",
       "3 2025-01-01     3   1326        1 2025-01-01  16.1   0.0   0.0   0.0  47.0   \n",
       "4 2025-01-01     4    754        1 2025-01-01  16.1   0.0   0.0   0.0  47.0   \n",
       "\n",
       "   TMAX  TMIN  \n",
       "0  52.0  40.0  \n",
       "1  52.0  40.0  \n",
       "2  52.0  40.0  \n",
       "3  52.0  40.0  \n",
       "4  52.0  40.0  "
      ]
     },
     "execution_count": 31,
     "metadata": {},
     "output_type": "execute_result"
    }
   ],
   "source": [
    "test_trips_modeling_data.head(5)"
   ]
  },
  {
   "cell_type": "code",
   "execution_count": 32,
   "id": "2278ccc6-1155-4d66-a1ff-be20e88f260f",
   "metadata": {},
   "outputs": [],
   "source": [
    "# Feature engineering\n",
    "test_trips_modeling_feats = preprocess_data(\n",
    "    test_trips_modeling_data\n",
    ")"
   ]
  },
  {
   "cell_type": "code",
   "execution_count": 33,
   "id": "5c80e2a3-9929-4997-b44b-2269661e7ec6",
   "metadata": {},
   "outputs": [
    {
     "data": {
      "text/plain": [
       "(2113, 15)"
      ]
     },
     "execution_count": 33,
     "metadata": {},
     "output_type": "execute_result"
    }
   ],
   "source": [
    "test_trips_modeling_feats.shape"
   ]
  },
  {
   "cell_type": "code",
   "execution_count": 34,
   "id": "ba8743c1-c162-4cce-bb80-f65eb2d7da6b",
   "metadata": {},
   "outputs": [
    {
     "data": {
      "text/html": [
       "<div>\n",
       "<style scoped>\n",
       "    .dataframe tbody tr th:only-of-type {\n",
       "        vertical-align: middle;\n",
       "    }\n",
       "\n",
       "    .dataframe tbody tr th {\n",
       "        vertical-align: top;\n",
       "    }\n",
       "\n",
       "    .dataframe thead th {\n",
       "        text-align: right;\n",
       "    }\n",
       "</style>\n",
       "<table border=\"1\" class=\"dataframe\">\n",
       "  <thead>\n",
       "    <tr style=\"text-align: right;\">\n",
       "      <th></th>\n",
       "      <th>trips</th>\n",
       "      <th>holiday</th>\n",
       "      <th>TMAX</th>\n",
       "      <th>TMIN</th>\n",
       "      <th>year</th>\n",
       "      <th>hr_sin</th>\n",
       "      <th>hr_cos</th>\n",
       "      <th>weekday_sin</th>\n",
       "      <th>weekday_cos</th>\n",
       "      <th>week_sin</th>\n",
       "      <th>week_cos</th>\n",
       "      <th>mnth_sin</th>\n",
       "      <th>mnth_cos</th>\n",
       "      <th>day_sin</th>\n",
       "      <th>day_cos</th>\n",
       "    </tr>\n",
       "  </thead>\n",
       "  <tbody>\n",
       "    <tr>\n",
       "      <th>0</th>\n",
       "      <td>1585</td>\n",
       "      <td>1</td>\n",
       "      <td>52.0</td>\n",
       "      <td>40.0</td>\n",
       "      <td>2025</td>\n",
       "      <td>0.000000</td>\n",
       "      <td>1.000000</td>\n",
       "      <td>0.974928</td>\n",
       "      <td>-0.222521</td>\n",
       "      <td>0.0</td>\n",
       "      <td>1.0</td>\n",
       "      <td>0.0</td>\n",
       "      <td>1.0</td>\n",
       "      <td>0.0</td>\n",
       "      <td>1.0</td>\n",
       "    </tr>\n",
       "    <tr>\n",
       "      <th>1</th>\n",
       "      <td>2682</td>\n",
       "      <td>1</td>\n",
       "      <td>52.0</td>\n",
       "      <td>40.0</td>\n",
       "      <td>2025</td>\n",
       "      <td>0.258819</td>\n",
       "      <td>0.965926</td>\n",
       "      <td>0.974928</td>\n",
       "      <td>-0.222521</td>\n",
       "      <td>0.0</td>\n",
       "      <td>1.0</td>\n",
       "      <td>0.0</td>\n",
       "      <td>1.0</td>\n",
       "      <td>0.0</td>\n",
       "      <td>1.0</td>\n",
       "    </tr>\n",
       "    <tr>\n",
       "      <th>2</th>\n",
       "      <td>2263</td>\n",
       "      <td>1</td>\n",
       "      <td>52.0</td>\n",
       "      <td>40.0</td>\n",
       "      <td>2025</td>\n",
       "      <td>0.500000</td>\n",
       "      <td>0.866025</td>\n",
       "      <td>0.974928</td>\n",
       "      <td>-0.222521</td>\n",
       "      <td>0.0</td>\n",
       "      <td>1.0</td>\n",
       "      <td>0.0</td>\n",
       "      <td>1.0</td>\n",
       "      <td>0.0</td>\n",
       "      <td>1.0</td>\n",
       "    </tr>\n",
       "    <tr>\n",
       "      <th>3</th>\n",
       "      <td>1326</td>\n",
       "      <td>1</td>\n",
       "      <td>52.0</td>\n",
       "      <td>40.0</td>\n",
       "      <td>2025</td>\n",
       "      <td>0.707107</td>\n",
       "      <td>0.707107</td>\n",
       "      <td>0.974928</td>\n",
       "      <td>-0.222521</td>\n",
       "      <td>0.0</td>\n",
       "      <td>1.0</td>\n",
       "      <td>0.0</td>\n",
       "      <td>1.0</td>\n",
       "      <td>0.0</td>\n",
       "      <td>1.0</td>\n",
       "    </tr>\n",
       "    <tr>\n",
       "      <th>4</th>\n",
       "      <td>754</td>\n",
       "      <td>1</td>\n",
       "      <td>52.0</td>\n",
       "      <td>40.0</td>\n",
       "      <td>2025</td>\n",
       "      <td>0.866025</td>\n",
       "      <td>0.500000</td>\n",
       "      <td>0.974928</td>\n",
       "      <td>-0.222521</td>\n",
       "      <td>0.0</td>\n",
       "      <td>1.0</td>\n",
       "      <td>0.0</td>\n",
       "      <td>1.0</td>\n",
       "      <td>0.0</td>\n",
       "      <td>1.0</td>\n",
       "    </tr>\n",
       "  </tbody>\n",
       "</table>\n",
       "</div>"
      ],
      "text/plain": [
       "   trips  holiday  TMAX  TMIN  year    hr_sin    hr_cos  weekday_sin  \\\n",
       "0   1585        1  52.0  40.0  2025  0.000000  1.000000     0.974928   \n",
       "1   2682        1  52.0  40.0  2025  0.258819  0.965926     0.974928   \n",
       "2   2263        1  52.0  40.0  2025  0.500000  0.866025     0.974928   \n",
       "3   1326        1  52.0  40.0  2025  0.707107  0.707107     0.974928   \n",
       "4    754        1  52.0  40.0  2025  0.866025  0.500000     0.974928   \n",
       "\n",
       "   weekday_cos  week_sin  week_cos  mnth_sin  mnth_cos  day_sin  day_cos  \n",
       "0    -0.222521       0.0       1.0       0.0       1.0      0.0      1.0  \n",
       "1    -0.222521       0.0       1.0       0.0       1.0      0.0      1.0  \n",
       "2    -0.222521       0.0       1.0       0.0       1.0      0.0      1.0  \n",
       "3    -0.222521       0.0       1.0       0.0       1.0      0.0      1.0  \n",
       "4    -0.222521       0.0       1.0       0.0       1.0      0.0      1.0  "
      ]
     },
     "execution_count": 34,
     "metadata": {},
     "output_type": "execute_result"
    }
   ],
   "source": [
    "test_trips_modeling_feats.head(5)"
   ]
  },
  {
   "cell_type": "code",
   "execution_count": 35,
   "id": "5c668358-10bb-42a7-8d40-3b696e2b8ae5",
   "metadata": {},
   "outputs": [],
   "source": [
    "df = pd.concat([train_trips_data, test_trips_data], ignore_index=True)"
   ]
  },
  {
   "cell_type": "code",
   "execution_count": 36,
   "id": "04772305-088e-476b-b16e-578ad77dee75",
   "metadata": {},
   "outputs": [
    {
     "data": {
      "text/plain": [
       "(10957, 4)"
      ]
     },
     "execution_count": 36,
     "metadata": {},
     "output_type": "execute_result"
    }
   ],
   "source": [
    "df.shape"
   ]
  },
  {
   "cell_type": "code",
   "execution_count": 37,
   "id": "ff8a59d6-1d77-4715-b79b-757e0b89185f",
   "metadata": {},
   "outputs": [
    {
     "data": {
      "text/html": [
       "<div>\n",
       "<style scoped>\n",
       "    .dataframe tbody tr th:only-of-type {\n",
       "        vertical-align: middle;\n",
       "    }\n",
       "\n",
       "    .dataframe tbody tr th {\n",
       "        vertical-align: top;\n",
       "    }\n",
       "\n",
       "    .dataframe thead th {\n",
       "        text-align: right;\n",
       "    }\n",
       "</style>\n",
       "<table border=\"1\" class=\"dataframe\">\n",
       "  <thead>\n",
       "    <tr style=\"text-align: right;\">\n",
       "      <th></th>\n",
       "      <th>date</th>\n",
       "      <th>hour</th>\n",
       "      <th>trips</th>\n",
       "      <th>holiday</th>\n",
       "    </tr>\n",
       "  </thead>\n",
       "  <tbody>\n",
       "    <tr>\n",
       "      <th>0</th>\n",
       "      <td>2023-12-31</td>\n",
       "      <td>23</td>\n",
       "      <td>278</td>\n",
       "      <td>0</td>\n",
       "    </tr>\n",
       "    <tr>\n",
       "      <th>1</th>\n",
       "      <td>2024-01-01</td>\n",
       "      <td>0</td>\n",
       "      <td>1863</td>\n",
       "      <td>1</td>\n",
       "    </tr>\n",
       "    <tr>\n",
       "      <th>2</th>\n",
       "      <td>2024-01-01</td>\n",
       "      <td>1</td>\n",
       "      <td>2291</td>\n",
       "      <td>1</td>\n",
       "    </tr>\n",
       "    <tr>\n",
       "      <th>3</th>\n",
       "      <td>2024-01-01</td>\n",
       "      <td>2</td>\n",
       "      <td>1903</td>\n",
       "      <td>1</td>\n",
       "    </tr>\n",
       "    <tr>\n",
       "      <th>4</th>\n",
       "      <td>2024-01-01</td>\n",
       "      <td>3</td>\n",
       "      <td>1081</td>\n",
       "      <td>1</td>\n",
       "    </tr>\n",
       "  </tbody>\n",
       "</table>\n",
       "</div>"
      ],
      "text/plain": [
       "        date  hour  trips  holiday\n",
       "0 2023-12-31    23    278        0\n",
       "1 2024-01-01     0   1863        1\n",
       "2 2024-01-01     1   2291        1\n",
       "3 2024-01-01     2   1903        1\n",
       "4 2024-01-01     3   1081        1"
      ]
     },
     "execution_count": 37,
     "metadata": {},
     "output_type": "execute_result"
    }
   ],
   "source": [
    "df.head(5)"
   ]
  },
  {
   "cell_type": "code",
   "execution_count": 38,
   "id": "95ad69b3-b345-4488-8e74-9179b09eb94c",
   "metadata": {},
   "outputs": [
    {
     "data": {
      "text/html": [
       "<div>\n",
       "<style scoped>\n",
       "    .dataframe tbody tr th:only-of-type {\n",
       "        vertical-align: middle;\n",
       "    }\n",
       "\n",
       "    .dataframe tbody tr th {\n",
       "        vertical-align: top;\n",
       "    }\n",
       "\n",
       "    .dataframe thead th {\n",
       "        text-align: right;\n",
       "    }\n",
       "</style>\n",
       "<table border=\"1\" class=\"dataframe\">\n",
       "  <thead>\n",
       "    <tr style=\"text-align: right;\">\n",
       "      <th></th>\n",
       "      <th>date</th>\n",
       "      <th>hour</th>\n",
       "      <th>trips</th>\n",
       "      <th>holiday</th>\n",
       "    </tr>\n",
       "  </thead>\n",
       "  <tbody>\n",
       "    <tr>\n",
       "      <th>10952</th>\n",
       "      <td>2025-03-31</td>\n",
       "      <td>19</td>\n",
       "      <td>5963</td>\n",
       "      <td>0</td>\n",
       "    </tr>\n",
       "    <tr>\n",
       "      <th>10953</th>\n",
       "      <td>2025-03-31</td>\n",
       "      <td>20</td>\n",
       "      <td>4289</td>\n",
       "      <td>0</td>\n",
       "    </tr>\n",
       "    <tr>\n",
       "      <th>10954</th>\n",
       "      <td>2025-03-31</td>\n",
       "      <td>21</td>\n",
       "      <td>1577</td>\n",
       "      <td>0</td>\n",
       "    </tr>\n",
       "    <tr>\n",
       "      <th>10955</th>\n",
       "      <td>2025-03-31</td>\n",
       "      <td>22</td>\n",
       "      <td>532</td>\n",
       "      <td>0</td>\n",
       "    </tr>\n",
       "    <tr>\n",
       "      <th>10956</th>\n",
       "      <td>2025-03-31</td>\n",
       "      <td>23</td>\n",
       "      <td>404</td>\n",
       "      <td>0</td>\n",
       "    </tr>\n",
       "  </tbody>\n",
       "</table>\n",
       "</div>"
      ],
      "text/plain": [
       "            date  hour  trips  holiday\n",
       "10952 2025-03-31    19   5963        0\n",
       "10953 2025-03-31    20   4289        0\n",
       "10954 2025-03-31    21   1577        0\n",
       "10955 2025-03-31    22    532        0\n",
       "10956 2025-03-31    23    404        0"
      ]
     },
     "execution_count": 38,
     "metadata": {},
     "output_type": "execute_result"
    }
   ],
   "source": [
    "df.tail(5)"
   ]
  },
  {
   "cell_type": "code",
   "execution_count": 39,
   "id": "4e66868f-2680-48ab-95f3-e5faca2183e1",
   "metadata": {},
   "outputs": [
    {
     "data": {
      "text/html": [
       "<div>\n",
       "<style scoped>\n",
       "    .dataframe tbody tr th:only-of-type {\n",
       "        vertical-align: middle;\n",
       "    }\n",
       "\n",
       "    .dataframe tbody tr th {\n",
       "        vertical-align: top;\n",
       "    }\n",
       "\n",
       "    .dataframe thead th {\n",
       "        text-align: right;\n",
       "    }\n",
       "</style>\n",
       "<table border=\"1\" class=\"dataframe\">\n",
       "  <thead>\n",
       "    <tr style=\"text-align: right;\">\n",
       "      <th></th>\n",
       "      <th>date</th>\n",
       "      <th>hour</th>\n",
       "      <th>trips</th>\n",
       "      <th>holiday</th>\n",
       "    </tr>\n",
       "  </thead>\n",
       "  <tbody>\n",
       "    <tr>\n",
       "      <th>8796</th>\n",
       "      <td>2025-01-01</td>\n",
       "      <td>0</td>\n",
       "      <td>1585</td>\n",
       "      <td>1</td>\n",
       "    </tr>\n",
       "    <tr>\n",
       "      <th>8797</th>\n",
       "      <td>2025-01-01</td>\n",
       "      <td>1</td>\n",
       "      <td>2682</td>\n",
       "      <td>1</td>\n",
       "    </tr>\n",
       "    <tr>\n",
       "      <th>8798</th>\n",
       "      <td>2025-01-01</td>\n",
       "      <td>2</td>\n",
       "      <td>2263</td>\n",
       "      <td>1</td>\n",
       "    </tr>\n",
       "    <tr>\n",
       "      <th>8799</th>\n",
       "      <td>2025-01-01</td>\n",
       "      <td>3</td>\n",
       "      <td>1326</td>\n",
       "      <td>1</td>\n",
       "    </tr>\n",
       "    <tr>\n",
       "      <th>8800</th>\n",
       "      <td>2025-01-01</td>\n",
       "      <td>4</td>\n",
       "      <td>754</td>\n",
       "      <td>1</td>\n",
       "    </tr>\n",
       "    <tr>\n",
       "      <th>...</th>\n",
       "      <td>...</td>\n",
       "      <td>...</td>\n",
       "      <td>...</td>\n",
       "      <td>...</td>\n",
       "    </tr>\n",
       "    <tr>\n",
       "      <th>10952</th>\n",
       "      <td>2025-03-31</td>\n",
       "      <td>19</td>\n",
       "      <td>5963</td>\n",
       "      <td>0</td>\n",
       "    </tr>\n",
       "    <tr>\n",
       "      <th>10953</th>\n",
       "      <td>2025-03-31</td>\n",
       "      <td>20</td>\n",
       "      <td>4289</td>\n",
       "      <td>0</td>\n",
       "    </tr>\n",
       "    <tr>\n",
       "      <th>10954</th>\n",
       "      <td>2025-03-31</td>\n",
       "      <td>21</td>\n",
       "      <td>1577</td>\n",
       "      <td>0</td>\n",
       "    </tr>\n",
       "    <tr>\n",
       "      <th>10955</th>\n",
       "      <td>2025-03-31</td>\n",
       "      <td>22</td>\n",
       "      <td>532</td>\n",
       "      <td>0</td>\n",
       "    </tr>\n",
       "    <tr>\n",
       "      <th>10956</th>\n",
       "      <td>2025-03-31</td>\n",
       "      <td>23</td>\n",
       "      <td>404</td>\n",
       "      <td>0</td>\n",
       "    </tr>\n",
       "  </tbody>\n",
       "</table>\n",
       "<p>2161 rows × 4 columns</p>\n",
       "</div>"
      ],
      "text/plain": [
       "            date  hour  trips  holiday\n",
       "8796  2025-01-01     0   1585        1\n",
       "8797  2025-01-01     1   2682        1\n",
       "8798  2025-01-01     2   2263        1\n",
       "8799  2025-01-01     3   1326        1\n",
       "8800  2025-01-01     4    754        1\n",
       "...          ...   ...    ...      ...\n",
       "10952 2025-03-31    19   5963        0\n",
       "10953 2025-03-31    20   4289        0\n",
       "10954 2025-03-31    21   1577        0\n",
       "10955 2025-03-31    22    532        0\n",
       "10956 2025-03-31    23    404        0\n",
       "\n",
       "[2161 rows x 4 columns]"
      ]
     },
     "execution_count": 39,
     "metadata": {},
     "output_type": "execute_result"
    }
   ],
   "source": [
    "df[df[\"date\"] >= \"2025-01-01\"]"
   ]
  },
  {
   "cell_type": "markdown",
   "id": "940eccf2-adf9-4555-a5fd-1389beeb1540",
   "metadata": {},
   "source": [
    "# Feature Importance"
   ]
  },
  {
   "cell_type": "code",
   "execution_count": 40,
   "id": "c6a4f3ec-67a5-4c56-94a4-856367d036d7",
   "metadata": {},
   "outputs": [],
   "source": [
    "def feature_importance_xgb(\n",
    "    train_df, \n",
    "    target_column,\n",
    "    num_feats, \n",
    "    ordinal_cat_feats, \n",
    "    target_cat_feats,\n",
    "    params=None\n",
    "):\n",
    "    \"\"\"Calculates feature importance using XGBoost.\"\"\"\n",
    "    #X = train_df.drop(columns=[target_column])\n",
    "    print(f\"[TRAIN] Ordinal_cat_feats: {ordinal_cat_feats}\")\n",
    "    print(f\"[TRAIN] Target_cat_feats : {target_cat_feats}\")\n",
    "    print(f\"[TRAIN] num_feats        : {num_feats}\")\n",
    "    feats = num_feats + target_cat_feats + ordinal_cat_feats\n",
    "    X_train = train_df[feats]\n",
    "    y_train = train_df[target_column]\n",
    "\n",
    "    if not params:\n",
    "        params = {\n",
    "            'objective': 'reg:squarederror',\n",
    "            #'tree_method': 'hist',\n",
    "            '_estimators': 100,\n",
    "            'random_state': 42\n",
    "        }\n",
    "\n",
    "    enc = make_column_transformer(\n",
    "        #(StandardScaler(), numerical_features),\n",
    "        ('passthrough', num_feats),\n",
    "        (TargetEncoder(), target_cat_feats),\n",
    "        (OrdinalEncoder(handle_unknown=\"use_encoded_value\", unknown_value=np.nan),\n",
    "         ordinal_cat_feats),\n",
    "        remainder=\"passthrough\",\n",
    "        verbose_feature_names_out=True,\n",
    "    )\n",
    "    feature_types = [\"c\" if fn in ordinal_cat_feats else \"q\" \n",
    "                     for fn in X_train.columns]\n",
    "\n",
    "    print(f\"[TRAIN] Params: {params}\")\n",
    "    print(f\"[TRAIN] feature_types: {feature_types}\")\n",
    "    # Detecta la GPU\n",
    "    gpu_id = detect_gpu()\n",
    "    if gpu_id >= 0:\n",
    "        print(f\"Detected GPU, using GPU {gpu_id}.\")\n",
    "        params['device'] = 'cuda'\n",
    "    else:\n",
    "        print(\"No GPU detected, using CPU.\")\n",
    "        params['device'] = 'cpu'\n",
    "        \n",
    "    reg = xgb.XGBRegressor(\n",
    "        **params, \n",
    "        feature_types=feature_types,\n",
    "        enable_categorical=True\n",
    "    )\n",
    "    #pipeline = make_pipeline(enc, reg)\n",
    "    pipeline = make_pipeline(enc, reg)    \n",
    "    pipeline.fit(X_train, y_train)\n",
    "    #model = xgb.XGBRegressor(objective='reg:squarederror', n_estimators=100, random_state=42)\n",
    "    #pipeline = build_pipeline(model, categorical_features, numerical_features)\n",
    "    #pipeline.fit(X, y)\n",
    "    #importance = pd.Series(model.feature_importances_, index=X.columns).sort_values(ascending=False)\n",
    "    # check XGBoost is using the feature type correctly.\n",
    "    model_types = reg.get_booster().feature_types\n",
    "    assert model_types is not None\n",
    "    for a, b in zip(model_types, feature_types):\n",
    "        assert a == b\n",
    "    '''\n",
    "    xgb_model = pipeline.named_steps['xgbregressor'] \n",
    "    preprocessor = pipeline.named_steps['preprocessor']]\n",
    "    importance = pd.Series(\n",
    "        xgb_model.feature_importances_, \n",
    "        index=preprocessor.get_feature_names_out()\n",
    "    ).sort_values(ascending=False)\n",
    "    #plot_feature_importance(importance, \"XGBoost Feature Importance\")\n",
    "    return importance\n",
    "    '''\n",
    "    return pipeline"
   ]
  },
  {
   "cell_type": "code",
   "execution_count": 41,
   "id": "b062e892-e2d9-4ee8-a959-a77415af9607",
   "metadata": {},
   "outputs": [],
   "source": [
    "def run_rf_model(df, target_column='trips', standardize=False):\n",
    "    \"\"\"\n",
    "    Train an XGBoost model on the given dataset and return the results.\n",
    "    \n",
    "    Parameters:\n",
    "    - df: DataFrame containing the dataset\n",
    "    - target_column: the name of the column to predict (default is 'trips')\n",
    "    - standardize: whether to apply StandardScaler to features (default is False)\n",
    "    \n",
    "    Returns:\n",
    "    - MSE: mean squared error of the model on the test set\n",
    "    - importance_df: DataFrame containing feature importances\n",
    "    \"\"\"\n",
    "    \n",
    "    # Define features (X) and target (y)\n",
    "    X = df.drop(columns=[target_column])  # Features\n",
    "    y = df[target_column]  # Target\n",
    "    \n",
    "    # Split the dataset into training and testing sets\n",
    "    X_train, X_test, y_train, y_test = train_test_split(X, y, test_size=0.2, random_state=42)\n",
    "    \n",
    "    # Apply StandardScaler if specified\n",
    "    if standardize:\n",
    "        scaler = StandardScaler()\n",
    "        X_train = scaler.fit_transform(X_train)\n",
    "        X_test = scaler.transform(X_test)\n",
    "    \n",
    "    # Create and train the XGBoost model\n",
    "    #model = xgb.XGBRegressor(n_estimators=100, random_state=42)\n",
    "    model = RandomForestRegressor(n_estimators=100, random_state=42)\n",
    "    \n",
    "    model.fit(X_train, y_train)\n",
    "    \n",
    "    # Predict on the test set\n",
    "    y_pred = model.predict(X_test)\n",
    "    \n",
    "    # Calculate Mean Squared Error (MSE)\n",
    "    mse = mean_squared_error(y_test, y_pred)\n",
    "    print(f\"Mean Squared Error (MSE): {mse}\")\n",
    "    \n",
    "    # Get feature importances\n",
    "    feature_importances = model.feature_importances_\n",
    "    \n",
    "    # Create a DataFrame for feature importances\n",
    "    importance_df = pd.DataFrame({\n",
    "        'Feature': X.columns,\n",
    "        'Importance': feature_importances\n",
    "    })\n",
    "    \n",
    "    # Sort the features by importance\n",
    "    importance_df = importance_df.sort_values(by='Importance', ascending=False)\n",
    "    \n",
    "    # Visualize feature importances\n",
    "    plt.figure(figsize=(10, 6))\n",
    "    plt.barh(importance_df['Feature'], importance_df['Importance'])\n",
    "    plt.xlabel('Importance')\n",
    "    plt.ylabel('Features')\n",
    "    plt.title(f'Feature Importance with XGBoost ({\"Standardized\" if standardize else \"Original\"})')\n",
    "    plt.gca().invert_yaxis()  # Invert y-axis to show the most important features at the top\n",
    "    plt.show()\n",
    "    \n",
    "    # Return the MSE and the feature importances DataFrame\n",
    "    return mse, importance_df"
   ]
  },
  {
   "cell_type": "code",
   "execution_count": 42,
   "id": "66fef67d-eaa3-4065-b716-da4ba6287490",
   "metadata": {},
   "outputs": [],
   "source": [
    "def run_xgboost_model(df, target_column='trips', standardize=False):\n",
    "    \"\"\"\n",
    "    Train an XGBoost model on the given dataset and return the results.\n",
    "    \n",
    "    Parameters:\n",
    "    - df: DataFrame containing the dataset\n",
    "    - target_column: the name of the column to predict (default is 'trips')\n",
    "    - standardize: whether to apply StandardScaler to features (default is False)\n",
    "    \n",
    "    Returns:\n",
    "    - MSE: mean squared error of the model on the test set\n",
    "    - importance_df: DataFrame containing feature importances\n",
    "    \"\"\"\n",
    "    \n",
    "    # Define features (X) and target (y)\n",
    "    X = df.drop(columns=[target_column])  # Features\n",
    "    y = df[target_column]  # Target\n",
    "    \n",
    "    # Split the dataset into training and testing sets\n",
    "    X_train, X_test, y_train, y_test = train_test_split(X, y, test_size=0.2, random_state=42)\n",
    "    \n",
    "    # Apply StandardScaler if specified\n",
    "    if standardize:\n",
    "        scaler = StandardScaler()\n",
    "        X_train = scaler.fit_transform(X_train)\n",
    "        X_test = scaler.transform(X_test)\n",
    "    \n",
    "    # Create and train the XGBoost model\n",
    "    model = xgb.XGBRegressor(n_estimators=100, random_state=42)\n",
    "    model.fit(X_train, y_train)\n",
    "    \n",
    "    # Predict on the test set\n",
    "    y_pred = model.predict(X_test)\n",
    "    \n",
    "    # Calculate Mean Squared Error (MSE)\n",
    "    mse = mean_squared_error(y_test, y_pred)\n",
    "    print(f\"Mean Squared Error (MSE): {mse}\")\n",
    "    \n",
    "    # Get feature importances\n",
    "    feature_importances = model.feature_importances_\n",
    "    \n",
    "    # Create a DataFrame for feature importances\n",
    "    importance_df = pd.DataFrame({\n",
    "        'Feature': X.columns,\n",
    "        'Importance': feature_importances\n",
    "    })\n",
    "    \n",
    "    # Sort the features by importance\n",
    "    importance_df = importance_df.sort_values(by='Importance', ascending=False)\n",
    "    \n",
    "    # Visualize feature importances\n",
    "    plt.figure(figsize=(10, 6))\n",
    "    plt.barh(importance_df['Feature'], importance_df['Importance'])\n",
    "    plt.xlabel('Importance')\n",
    "    plt.ylabel('Features')\n",
    "    plt.title(f'Feature Importance with XGBoost ({\"Standardized\" if standardize else \"Original\"})')\n",
    "    plt.gca().invert_yaxis()  # Invert y-axis to show the most important features at the top\n",
    "    plt.show()\n",
    "    \n",
    "    # Return the MSE and the feature importances DataFrame\n",
    "    return mse, importance_df"
   ]
  },
  {
   "cell_type": "code",
   "execution_count": 43,
   "id": "3a68a6ae-8c7d-4b79-981c-e0503bd3029f",
   "metadata": {},
   "outputs": [],
   "source": [
    "#train_modeling_df.head(10)"
   ]
  },
  {
   "cell_type": "code",
   "execution_count": 44,
   "id": "87438fa3-ec79-4a23-bfd3-296c4863c98c",
   "metadata": {},
   "outputs": [],
   "source": [
    "# Target variable\n",
    "target_column = 'quantity'\n",
    "num_feats = [\n",
    "    'hr_sin', 'hr_cos',\n",
    "    'weekday_sin', 'weekday_cos',\n",
    "    'week_sin', 'week_cos',\n",
    "    'month_sin', 'month_cos',\n",
    "    #'year'\n",
    "]\n",
    "target_cat_feats = [\n",
    "    'holiday'\n",
    "]\n",
    "\n",
    "features = num_feats + target_cat_feats"
   ]
  },
  {
   "cell_type": "code",
   "execution_count": 45,
   "id": "bf4a819d-56b8-4a8a-a953-2d97a35aaf25",
   "metadata": {},
   "outputs": [],
   "source": [
    "# Run the function without standardization\n",
    "#mse_no_scaling_v1, importance_no_scaling_v1 = run_xgboost_model(train_modeling_df, standardize=True)"
   ]
  },
  {
   "cell_type": "code",
   "execution_count": 46,
   "id": "5378abb6-625c-4d61-a68f-3065990edfea",
   "metadata": {},
   "outputs": [],
   "source": [
    "#importance_no_scaling_v1"
   ]
  },
  {
   "cell_type": "code",
   "execution_count": 47,
   "id": "9c107566-933e-4d62-866a-0ae4de314b75",
   "metadata": {},
   "outputs": [],
   "source": [
    "#mse_no_scaling_v1"
   ]
  },
  {
   "cell_type": "markdown",
   "id": "3251b855-f24a-488d-b760-5d90dde211e5",
   "metadata": {},
   "source": [
    "**Results Summary**:\n",
    "\n",
    "From the feature importance ranking, it seems like mnth_cos is the most important feature, followed by hr_cos and hr_sin. This suggests that the model finds the cosine of the month, and the sine/cosine transformations of the hour, to be particularly significant in predicting the number of trips.\n",
    "\n",
    "**Observations**:\n",
    "\n",
    "1. **Top Features**:\n",
    "\n",
    "    - mnth_cos (0.554790): The cosine of the month has the highest importance. This makes sense because, as you mentioned earlier, the month influences the seasonality of the bike trips, and this transformation captures that cyclical pattern well.\n",
    "\n",
    "    - hr_cos (0.173692) and hr_sin (0.122146): The hour of the day also has a notable impact on the trips, which is expected since bike usage is often tied to specific hours (commuting times, peak hours, etc.).\n",
    "\n",
    "2. **Weaker Features**:\n",
    "\n",
    "    - weekday_sin (0.040693) and week_sin (0.031937): These features seem to have a relatively lower importance, but they still capture cyclical information about the weekday and week.\n",
    "\n",
    "    - holiday (0.023217): Interestingly, holidays appear to have a smaller influence on the prediction of trips in your model. It could be that, in NYC, bike trips on holidays are still somewhat predictable based on the time of day and the month (as opposed to being entirely different from non-holiday days).\n",
    "\n",
    "3. **Least Important**:\n",
    "\n",
    "    - year (0.000000): This feature has zero importance, which is interesting. It could indicate that, in this specific dataset, the year does not add predictive value, likely because the model is already capturing the time-based seasonality (e.g., month, day of the week). This could be specific to the range of data you've provided, or it could mean that the changes from one year to the next aren’t as significant as the other time-related features.\n",
    "\n",
    "    - day (0.009931): The day of the month also has a very low importance, which is expected because, for bike trips, it’s typically more about the time of day or season (month/week) rather than the specific day.\n",
    "\n",
    "**A Few Thoughts**:\n",
    "\n",
    "* **Cyclical Features**: The strong performance of the sin/cos transformations of the hour and month supports the idea that XGBoost is capturing the cyclical nature of these features. This is a good sign that these transformations are useful in representing patterns in bike usage.\n",
    "\n",
    "* **Year and Day**: The fact that year is showing up with zero importance suggests that the model isn't benefiting from it in the current dataset. It could mean that the cyclical features already capture the time patterns sufficiently, or that the data range doesn't span enough years for \"year\" to matter. You could experiment with removing year and day and check if the model's performance remains the same, which would confirm that they don't add much value.\n",
    "\n",
    "* **Next Steps**: You could further test by:\n",
    "\n",
    "    - **Feature selection**: Try removing some of the lower-ranked features (like day or year) to see if the model performance improves.\n",
    "\n",
    "    - **Model Tuning**: Experiment with hyperparameter tuning for XGBoost to see if it influences the feature importances or the overall MSE.\n",
    "\n",
    "    - **Further Exploratory Analysis**: You could dive deeper into understanding how mnth_cos and hr_cos relate to actual bike usage during different times of the year.\n",
    "\n",
    "**Overall Takeaway**:\n",
    "\n",
    "It looks like the cyclical features (like hour, month) play a major role in predicting bike trips, and the year and day might not be very informative in this case. You might want to experiment with removing the least important features (like year and day) and see if that simplifies your model without losing much predictive power.\n",
    "\n",
    "Do you have any specific questions or would you like to dive deeper into any particular aspect of this? Let me know!"
   ]
  },
  {
   "cell_type": "code",
   "execution_count": 48,
   "id": "0042a37b-f140-436a-a627-7d25cb9e9c89",
   "metadata": {},
   "outputs": [],
   "source": [
    "#train_modeling_v2_df = train_modeling_df.drop(columns=[\"day\", \"year\", \"weekday_cos\", \"mnth_sin\", \"week_cos\"])\n",
    "#train_modeling_v2_df = train_modeling_df.drop(columns=[\"day\", \"year\"])"
   ]
  },
  {
   "cell_type": "code",
   "execution_count": 49,
   "id": "fa90f36f-976b-4b66-8409-17410037b0c1",
   "metadata": {},
   "outputs": [],
   "source": [
    "#train_modeling_v2_df.head(5)"
   ]
  },
  {
   "cell_type": "code",
   "execution_count": 50,
   "id": "f85a01c1-1976-48ab-94de-1b45006ae660",
   "metadata": {},
   "outputs": [],
   "source": [
    "# Run the function without standardization\n",
    "#mse_no_scaling_v2, importance_no_scaling_v2 = run_xgboost_model(train_modeling_v2_df, standardize=True)"
   ]
  },
  {
   "cell_type": "code",
   "execution_count": 51,
   "id": "164d0445-59b8-45c4-9a49-e31bf9fd9186",
   "metadata": {},
   "outputs": [],
   "source": [
    "#importance_no_scaling_v2"
   ]
  },
  {
   "cell_type": "code",
   "execution_count": 52,
   "id": "479bd427-5eb4-4ca9-a355-1548bbbdeb48",
   "metadata": {},
   "outputs": [],
   "source": [
    "#mse_no_scaling_v1, mse_no_scaling_v2"
   ]
  },
  {
   "cell_type": "code",
   "execution_count": 53,
   "id": "84ded087-05f4-46b4-8e48-abc1ce6b0033",
   "metadata": {},
   "outputs": [],
   "source": [
    "#mse_no_scaling_v1 - mse_no_scaling_v2"
   ]
  },
  {
   "cell_type": "code",
   "execution_count": null,
   "id": "e14b3f0e-0c0e-4d11-a13f-711a4330e53d",
   "metadata": {},
   "outputs": [],
   "source": []
  },
  {
   "cell_type": "code",
   "execution_count": 54,
   "id": "5c1ca9e2-2dcc-4491-9d99-a180cd7ea5f4",
   "metadata": {},
   "outputs": [],
   "source": [
    "# Run the function without standardization\n",
    "#mse_no_scaling_v1, importance_no_scaling_v1 = run_rf_model(train_modeling_df, standardize=False)"
   ]
  },
  {
   "cell_type": "code",
   "execution_count": 55,
   "id": "94a52ba8-c8da-48f7-be8d-105931c8e7d2",
   "metadata": {},
   "outputs": [],
   "source": [
    "#train_modeling_v2_df = train_modeling_df.drop(columns=[\"day\", \"year\"])"
   ]
  },
  {
   "cell_type": "code",
   "execution_count": 56,
   "id": "da6bc061-0718-456c-af70-7a0f655908dd",
   "metadata": {},
   "outputs": [],
   "source": [
    "#train_modeling_v2_df.head(5)"
   ]
  },
  {
   "cell_type": "code",
   "execution_count": 57,
   "id": "788e6fc9-3fae-4ab3-9790-a2ac2d129fa5",
   "metadata": {},
   "outputs": [],
   "source": [
    "# Run the function without standardization\n",
    "#mse_no_scaling_v2, importance_no_scaling_v2 = run_rf_model(train_modeling_v2_df, standardize=False)"
   ]
  },
  {
   "cell_type": "code",
   "execution_count": 58,
   "id": "7df67e87-6805-47ac-a690-49dc5ed707c7",
   "metadata": {},
   "outputs": [],
   "source": [
    "#mse_no_scaling_v1, mse_no_scaling_v2"
   ]
  },
  {
   "cell_type": "code",
   "execution_count": null,
   "id": "2c8974cd-3573-4bc9-b077-b6a81d988936",
   "metadata": {},
   "outputs": [],
   "source": []
  },
  {
   "cell_type": "code",
   "execution_count": null,
   "id": "cf8e4d03-375a-4136-824c-67245115d4e7",
   "metadata": {},
   "outputs": [],
   "source": []
  },
  {
   "cell_type": "markdown",
   "id": "9943f5d7-486e-422a-b870-e6fcee93d2cc",
   "metadata": {},
   "source": [
    "## Run"
   ]
  },
  {
   "cell_type": "code",
   "execution_count": 59,
   "id": "00ef62df-1fcc-4557-b51d-c7ee7b2d0c2c",
   "metadata": {},
   "outputs": [
    {
     "data": {
      "text/html": [
       "<div>\n",
       "<style scoped>\n",
       "    .dataframe tbody tr th:only-of-type {\n",
       "        vertical-align: middle;\n",
       "    }\n",
       "\n",
       "    .dataframe tbody tr th {\n",
       "        vertical-align: top;\n",
       "    }\n",
       "\n",
       "    .dataframe thead th {\n",
       "        text-align: right;\n",
       "    }\n",
       "</style>\n",
       "<table border=\"1\" class=\"dataframe\">\n",
       "  <thead>\n",
       "    <tr style=\"text-align: right;\">\n",
       "      <th></th>\n",
       "      <th>trips</th>\n",
       "      <th>holiday</th>\n",
       "      <th>TMAX</th>\n",
       "      <th>TMIN</th>\n",
       "      <th>year</th>\n",
       "      <th>hr_sin</th>\n",
       "      <th>hr_cos</th>\n",
       "      <th>weekday_sin</th>\n",
       "      <th>weekday_cos</th>\n",
       "      <th>week_sin</th>\n",
       "      <th>week_cos</th>\n",
       "      <th>mnth_sin</th>\n",
       "      <th>mnth_cos</th>\n",
       "      <th>day_sin</th>\n",
       "      <th>day_cos</th>\n",
       "    </tr>\n",
       "  </thead>\n",
       "  <tbody>\n",
       "    <tr>\n",
       "      <th>0</th>\n",
       "      <td>1863</td>\n",
       "      <td>1</td>\n",
       "      <td>47.0</td>\n",
       "      <td>36.0</td>\n",
       "      <td>2024</td>\n",
       "      <td>0.000000</td>\n",
       "      <td>1.000000</td>\n",
       "      <td>0.0</td>\n",
       "      <td>1.0</td>\n",
       "      <td>0.0</td>\n",
       "      <td>1.0</td>\n",
       "      <td>0.0</td>\n",
       "      <td>1.0</td>\n",
       "      <td>0.0</td>\n",
       "      <td>1.0</td>\n",
       "    </tr>\n",
       "    <tr>\n",
       "      <th>1</th>\n",
       "      <td>2291</td>\n",
       "      <td>1</td>\n",
       "      <td>47.0</td>\n",
       "      <td>36.0</td>\n",
       "      <td>2024</td>\n",
       "      <td>0.258819</td>\n",
       "      <td>0.965926</td>\n",
       "      <td>0.0</td>\n",
       "      <td>1.0</td>\n",
       "      <td>0.0</td>\n",
       "      <td>1.0</td>\n",
       "      <td>0.0</td>\n",
       "      <td>1.0</td>\n",
       "      <td>0.0</td>\n",
       "      <td>1.0</td>\n",
       "    </tr>\n",
       "    <tr>\n",
       "      <th>2</th>\n",
       "      <td>1903</td>\n",
       "      <td>1</td>\n",
       "      <td>47.0</td>\n",
       "      <td>36.0</td>\n",
       "      <td>2024</td>\n",
       "      <td>0.500000</td>\n",
       "      <td>0.866025</td>\n",
       "      <td>0.0</td>\n",
       "      <td>1.0</td>\n",
       "      <td>0.0</td>\n",
       "      <td>1.0</td>\n",
       "      <td>0.0</td>\n",
       "      <td>1.0</td>\n",
       "      <td>0.0</td>\n",
       "      <td>1.0</td>\n",
       "    </tr>\n",
       "    <tr>\n",
       "      <th>3</th>\n",
       "      <td>1081</td>\n",
       "      <td>1</td>\n",
       "      <td>47.0</td>\n",
       "      <td>36.0</td>\n",
       "      <td>2024</td>\n",
       "      <td>0.707107</td>\n",
       "      <td>0.707107</td>\n",
       "      <td>0.0</td>\n",
       "      <td>1.0</td>\n",
       "      <td>0.0</td>\n",
       "      <td>1.0</td>\n",
       "      <td>0.0</td>\n",
       "      <td>1.0</td>\n",
       "      <td>0.0</td>\n",
       "      <td>1.0</td>\n",
       "    </tr>\n",
       "    <tr>\n",
       "      <th>4</th>\n",
       "      <td>636</td>\n",
       "      <td>1</td>\n",
       "      <td>47.0</td>\n",
       "      <td>36.0</td>\n",
       "      <td>2024</td>\n",
       "      <td>0.866025</td>\n",
       "      <td>0.500000</td>\n",
       "      <td>0.0</td>\n",
       "      <td>1.0</td>\n",
       "      <td>0.0</td>\n",
       "      <td>1.0</td>\n",
       "      <td>0.0</td>\n",
       "      <td>1.0</td>\n",
       "      <td>0.0</td>\n",
       "      <td>1.0</td>\n",
       "    </tr>\n",
       "  </tbody>\n",
       "</table>\n",
       "</div>"
      ],
      "text/plain": [
       "   trips  holiday  TMAX  TMIN  year    hr_sin    hr_cos  weekday_sin  \\\n",
       "0   1863        1  47.0  36.0  2024  0.000000  1.000000          0.0   \n",
       "1   2291        1  47.0  36.0  2024  0.258819  0.965926          0.0   \n",
       "2   1903        1  47.0  36.0  2024  0.500000  0.866025          0.0   \n",
       "3   1081        1  47.0  36.0  2024  0.707107  0.707107          0.0   \n",
       "4    636        1  47.0  36.0  2024  0.866025  0.500000          0.0   \n",
       "\n",
       "   weekday_cos  week_sin  week_cos  mnth_sin  mnth_cos  day_sin  day_cos  \n",
       "0          1.0       0.0       1.0       0.0       1.0      0.0      1.0  \n",
       "1          1.0       0.0       1.0       0.0       1.0      0.0      1.0  \n",
       "2          1.0       0.0       1.0       0.0       1.0      0.0      1.0  \n",
       "3          1.0       0.0       1.0       0.0       1.0      0.0      1.0  \n",
       "4          1.0       0.0       1.0       0.0       1.0      0.0      1.0  "
      ]
     },
     "execution_count": 59,
     "metadata": {},
     "output_type": "execute_result"
    }
   ],
   "source": [
    "train_trips_modeling_feats.head(5)"
   ]
  },
  {
   "cell_type": "code",
   "execution_count": 60,
   "id": "ac29a296-12fe-457f-9f37-df92cb6e51ad",
   "metadata": {},
   "outputs": [
    {
     "name": "stdout",
     "output_type": "stream",
     "text": [
      "Mean Squared Error (MSE): 432087.625\n"
     ]
    },
    {
     "data": {
      "image/png": "[encoded data removed]",
      "text/plain": [
       "<Figure size 1000x600 with 1 Axes>"
      ]
     },
     "metadata": {},
     "output_type": "display_data"
    }
   ],
   "source": [
    "# Run the function without standardization\n",
    "mse_no_scaling_v1, importance_no_scaling_v1 = run_xgboost_model(train_trips_modeling_feats, standardize=False)"
   ]
  },
  {
   "cell_type": "code",
   "execution_count": 61,
   "id": "21483d30-cae0-44f7-a228-9a601586027c",
   "metadata": {},
   "outputs": [
    {
     "data": {
      "text/html": [
       "<div>\n",
       "<style scoped>\n",
       "    .dataframe tbody tr th:only-of-type {\n",
       "        vertical-align: middle;\n",
       "    }\n",
       "\n",
       "    .dataframe tbody tr th {\n",
       "        vertical-align: top;\n",
       "    }\n",
       "\n",
       "    .dataframe thead th {\n",
       "        text-align: right;\n",
       "    }\n",
       "</style>\n",
       "<table border=\"1\" class=\"dataframe\">\n",
       "  <thead>\n",
       "    <tr style=\"text-align: right;\">\n",
       "      <th></th>\n",
       "      <th>Feature</th>\n",
       "      <th>Importance</th>\n",
       "    </tr>\n",
       "  </thead>\n",
       "  <tbody>\n",
       "    <tr>\n",
       "      <th>5</th>\n",
       "      <td>hr_cos</td>\n",
       "      <td>0.295054</td>\n",
       "    </tr>\n",
       "    <tr>\n",
       "      <th>4</th>\n",
       "      <td>hr_sin</td>\n",
       "      <td>0.169816</td>\n",
       "    </tr>\n",
       "    <tr>\n",
       "      <th>1</th>\n",
       "      <td>TMAX</td>\n",
       "      <td>0.163086</td>\n",
       "    </tr>\n",
       "    <tr>\n",
       "      <th>6</th>\n",
       "      <td>weekday_sin</td>\n",
       "      <td>0.096319</td>\n",
       "    </tr>\n",
       "    <tr>\n",
       "      <th>0</th>\n",
       "      <td>holiday</td>\n",
       "      <td>0.048622</td>\n",
       "    </tr>\n",
       "    <tr>\n",
       "      <th>10</th>\n",
       "      <td>mnth_sin</td>\n",
       "      <td>0.044148</td>\n",
       "    </tr>\n",
       "    <tr>\n",
       "      <th>11</th>\n",
       "      <td>mnth_cos</td>\n",
       "      <td>0.043883</td>\n",
       "    </tr>\n",
       "    <tr>\n",
       "      <th>8</th>\n",
       "      <td>week_sin</td>\n",
       "      <td>0.042769</td>\n",
       "    </tr>\n",
       "    <tr>\n",
       "      <th>2</th>\n",
       "      <td>TMIN</td>\n",
       "      <td>0.041592</td>\n",
       "    </tr>\n",
       "    <tr>\n",
       "      <th>9</th>\n",
       "      <td>week_cos</td>\n",
       "      <td>0.026837</td>\n",
       "    </tr>\n",
       "    <tr>\n",
       "      <th>12</th>\n",
       "      <td>day_sin</td>\n",
       "      <td>0.015989</td>\n",
       "    </tr>\n",
       "    <tr>\n",
       "      <th>7</th>\n",
       "      <td>weekday_cos</td>\n",
       "      <td>0.011885</td>\n",
       "    </tr>\n",
       "    <tr>\n",
       "      <th>3</th>\n",
       "      <td>year</td>\n",
       "      <td>0.000000</td>\n",
       "    </tr>\n",
       "    <tr>\n",
       "      <th>13</th>\n",
       "      <td>day_cos</td>\n",
       "      <td>0.000000</td>\n",
       "    </tr>\n",
       "  </tbody>\n",
       "</table>\n",
       "</div>"
      ],
      "text/plain": [
       "        Feature  Importance\n",
       "5        hr_cos    0.295054\n",
       "4        hr_sin    0.169816\n",
       "1          TMAX    0.163086\n",
       "6   weekday_sin    0.096319\n",
       "0       holiday    0.048622\n",
       "10     mnth_sin    0.044148\n",
       "11     mnth_cos    0.043883\n",
       "8      week_sin    0.042769\n",
       "2          TMIN    0.041592\n",
       "9      week_cos    0.026837\n",
       "12      day_sin    0.015989\n",
       "7   weekday_cos    0.011885\n",
       "3          year    0.000000\n",
       "13      day_cos    0.000000"
      ]
     },
     "execution_count": 61,
     "metadata": {},
     "output_type": "execute_result"
    }
   ],
   "source": [
    "importance_no_scaling_v1"
   ]
  },
  {
   "cell_type": "code",
   "execution_count": 62,
   "id": "e46b3657-d7d3-4fb5-9e6b-9fd55fa43a18",
   "metadata": {},
   "outputs": [
    {
     "data": {
      "text/plain": [
       "432087.625"
      ]
     },
     "execution_count": 62,
     "metadata": {},
     "output_type": "execute_result"
    }
   ],
   "source": [
    "mse_no_scaling_v1"
   ]
  },
  {
   "cell_type": "code",
   "execution_count": 63,
   "id": "e00ea0da-cd33-4bbe-bbcc-63dc3f938dc7",
   "metadata": {},
   "outputs": [
    {
     "name": "stdout",
     "output_type": "stream",
     "text": [
      "Mean Squared Error (MSE): 420261.4375\n"
     ]
    },
    {
     "data": {
      "image/png": "[encoded data removed]",
      "text/plain": [
       "<Figure size 1000x600 with 1 Axes>"
      ]
     },
     "metadata": {},
     "output_type": "display_data"
    }
   ],
   "source": [
    "# Run the function without standardization\n",
    "drop_cols_v2= [\"year\", \"day_cos\", \"day_sin\"]\n",
    "#drop_cols_v2= [\"year\", \"day_cos\"]\n",
    "mse_no_scaling_v2, importance_no_scaling_v2 = run_xgboost_model(train_trips_modeling_feats.drop(columns=drop_cols_v2), standardize=False)"
   ]
  },
  {
   "cell_type": "code",
   "execution_count": 64,
   "id": "8d1620bb-7b0d-410c-b660-f4ece2906166",
   "metadata": {},
   "outputs": [
    {
     "data": {
      "text/html": [
       "<div>\n",
       "<style scoped>\n",
       "    .dataframe tbody tr th:only-of-type {\n",
       "        vertical-align: middle;\n",
       "    }\n",
       "\n",
       "    .dataframe tbody tr th {\n",
       "        vertical-align: top;\n",
       "    }\n",
       "\n",
       "    .dataframe thead th {\n",
       "        text-align: right;\n",
       "    }\n",
       "</style>\n",
       "<table border=\"1\" class=\"dataframe\">\n",
       "  <thead>\n",
       "    <tr style=\"text-align: right;\">\n",
       "      <th></th>\n",
       "      <th>Feature</th>\n",
       "      <th>Importance</th>\n",
       "    </tr>\n",
       "  </thead>\n",
       "  <tbody>\n",
       "    <tr>\n",
       "      <th>4</th>\n",
       "      <td>hr_cos</td>\n",
       "      <td>0.294361</td>\n",
       "    </tr>\n",
       "    <tr>\n",
       "      <th>3</th>\n",
       "      <td>hr_sin</td>\n",
       "      <td>0.172043</td>\n",
       "    </tr>\n",
       "    <tr>\n",
       "      <th>1</th>\n",
       "      <td>TMAX</td>\n",
       "      <td>0.151924</td>\n",
       "    </tr>\n",
       "    <tr>\n",
       "      <th>5</th>\n",
       "      <td>weekday_sin</td>\n",
       "      <td>0.094316</td>\n",
       "    </tr>\n",
       "    <tr>\n",
       "      <th>9</th>\n",
       "      <td>mnth_sin</td>\n",
       "      <td>0.059854</td>\n",
       "    </tr>\n",
       "    <tr>\n",
       "      <th>0</th>\n",
       "      <td>holiday</td>\n",
       "      <td>0.055093</td>\n",
       "    </tr>\n",
       "    <tr>\n",
       "      <th>10</th>\n",
       "      <td>mnth_cos</td>\n",
       "      <td>0.052366</td>\n",
       "    </tr>\n",
       "    <tr>\n",
       "      <th>7</th>\n",
       "      <td>week_sin</td>\n",
       "      <td>0.041268</td>\n",
       "    </tr>\n",
       "    <tr>\n",
       "      <th>2</th>\n",
       "      <td>TMIN</td>\n",
       "      <td>0.039058</td>\n",
       "    </tr>\n",
       "    <tr>\n",
       "      <th>8</th>\n",
       "      <td>week_cos</td>\n",
       "      <td>0.025906</td>\n",
       "    </tr>\n",
       "    <tr>\n",
       "      <th>6</th>\n",
       "      <td>weekday_cos</td>\n",
       "      <td>0.013810</td>\n",
       "    </tr>\n",
       "  </tbody>\n",
       "</table>\n",
       "</div>"
      ],
      "text/plain": [
       "        Feature  Importance\n",
       "4        hr_cos    0.294361\n",
       "3        hr_sin    0.172043\n",
       "1          TMAX    0.151924\n",
       "5   weekday_sin    0.094316\n",
       "9      mnth_sin    0.059854\n",
       "0       holiday    0.055093\n",
       "10     mnth_cos    0.052366\n",
       "7      week_sin    0.041268\n",
       "2          TMIN    0.039058\n",
       "8      week_cos    0.025906\n",
       "6   weekday_cos    0.013810"
      ]
     },
     "execution_count": 64,
     "metadata": {},
     "output_type": "execute_result"
    }
   ],
   "source": [
    "importance_no_scaling_v2"
   ]
  },
  {
   "cell_type": "code",
   "execution_count": 65,
   "id": "027cb340-19a1-46e0-a954-62ea2c8a3f45",
   "metadata": {},
   "outputs": [
    {
     "data": {
      "text/plain": [
       "420261.4375"
      ]
     },
     "execution_count": 65,
     "metadata": {},
     "output_type": "execute_result"
    }
   ],
   "source": [
    "mse_no_scaling_v2"
   ]
  },
  {
   "cell_type": "code",
   "execution_count": 66,
   "id": "251b0feb-7671-49f7-a035-8ceda1706eac",
   "metadata": {},
   "outputs": [
    {
     "data": {
      "text/plain": [
       "(432087.625, 420261.4375, True)"
      ]
     },
     "execution_count": 66,
     "metadata": {},
     "output_type": "execute_result"
    }
   ],
   "source": [
    "mse_no_scaling_v1, mse_no_scaling_v2, (mse_no_scaling_v1 > mse_no_scaling_v2)"
   ]
  },
  {
   "cell_type": "code",
   "execution_count": 67,
   "id": "5a039d47-20a4-46e8-bd12-af6f9b52ab60",
   "metadata": {},
   "outputs": [
    {
     "name": "stdout",
     "output_type": "stream",
     "text": [
      "Mean Squared Error (MSE): 453142.3125\n"
     ]
    },
    {
     "data": {
      "image/png": "[encoded data removed]",
      "text/plain": [
       "<Figure size 1000x600 with 1 Axes>"
      ]
     },
     "metadata": {},
     "output_type": "display_data"
    }
   ],
   "source": [
    "# Run the function without standardization\n",
    "#drop_cols_v3 = drop_cols_v2 + [\"weekday_cos\"]\n",
    "drop_cols_v3 = drop_cols_v2 + [\"weekday_cos\", \"week_cos\"]\n",
    "mse_no_scaling_v3, importance_no_scaling_v3 = run_xgboost_model(train_trips_modeling_feats.drop(columns=drop_cols_v3), standardize=False)"
   ]
  },
  {
   "cell_type": "code",
   "execution_count": 68,
   "id": "cf96de6b-7e2f-4696-84fc-cef191d6b064",
   "metadata": {},
   "outputs": [
    {
     "data": {
      "text/html": [
       "<div>\n",
       "<style scoped>\n",
       "    .dataframe tbody tr th:only-of-type {\n",
       "        vertical-align: middle;\n",
       "    }\n",
       "\n",
       "    .dataframe tbody tr th {\n",
       "        vertical-align: top;\n",
       "    }\n",
       "\n",
       "    .dataframe thead th {\n",
       "        text-align: right;\n",
       "    }\n",
       "</style>\n",
       "<table border=\"1\" class=\"dataframe\">\n",
       "  <thead>\n",
       "    <tr style=\"text-align: right;\">\n",
       "      <th></th>\n",
       "      <th>Feature</th>\n",
       "      <th>Importance</th>\n",
       "    </tr>\n",
       "  </thead>\n",
       "  <tbody>\n",
       "    <tr>\n",
       "      <th>4</th>\n",
       "      <td>hr_cos</td>\n",
       "      <td>0.340797</td>\n",
       "    </tr>\n",
       "    <tr>\n",
       "      <th>3</th>\n",
       "      <td>hr_sin</td>\n",
       "      <td>0.200880</td>\n",
       "    </tr>\n",
       "    <tr>\n",
       "      <th>1</th>\n",
       "      <td>TMAX</td>\n",
       "      <td>0.155005</td>\n",
       "    </tr>\n",
       "    <tr>\n",
       "      <th>5</th>\n",
       "      <td>weekday_sin</td>\n",
       "      <td>0.090589</td>\n",
       "    </tr>\n",
       "    <tr>\n",
       "      <th>0</th>\n",
       "      <td>holiday</td>\n",
       "      <td>0.057842</td>\n",
       "    </tr>\n",
       "    <tr>\n",
       "      <th>7</th>\n",
       "      <td>mnth_sin</td>\n",
       "      <td>0.045595</td>\n",
       "    </tr>\n",
       "    <tr>\n",
       "      <th>6</th>\n",
       "      <td>week_sin</td>\n",
       "      <td>0.043198</td>\n",
       "    </tr>\n",
       "    <tr>\n",
       "      <th>2</th>\n",
       "      <td>TMIN</td>\n",
       "      <td>0.036638</td>\n",
       "    </tr>\n",
       "    <tr>\n",
       "      <th>8</th>\n",
       "      <td>mnth_cos</td>\n",
       "      <td>0.029456</td>\n",
       "    </tr>\n",
       "  </tbody>\n",
       "</table>\n",
       "</div>"
      ],
      "text/plain": [
       "       Feature  Importance\n",
       "4       hr_cos    0.340797\n",
       "3       hr_sin    0.200880\n",
       "1         TMAX    0.155005\n",
       "5  weekday_sin    0.090589\n",
       "0      holiday    0.057842\n",
       "7     mnth_sin    0.045595\n",
       "6     week_sin    0.043198\n",
       "2         TMIN    0.036638\n",
       "8     mnth_cos    0.029456"
      ]
     },
     "execution_count": 68,
     "metadata": {},
     "output_type": "execute_result"
    }
   ],
   "source": [
    "importance_no_scaling_v3"
   ]
  },
  {
   "cell_type": "code",
   "execution_count": 69,
   "id": "caeb35bf-0f5c-4164-a4d3-6aa764c2e971",
   "metadata": {},
   "outputs": [
    {
     "data": {
      "text/plain": [
       "453142.3125"
      ]
     },
     "execution_count": 69,
     "metadata": {},
     "output_type": "execute_result"
    }
   ],
   "source": [
    "mse_no_scaling_v3"
   ]
  },
  {
   "cell_type": "code",
   "execution_count": 70,
   "id": "7f3e5a72-9800-4eb3-8ea0-631333330b99",
   "metadata": {},
   "outputs": [
    {
     "data": {
      "text/plain": [
       "(432087.625, 420261.4375, 453142.3125, False)"
      ]
     },
     "execution_count": 70,
     "metadata": {},
     "output_type": "execute_result"
    }
   ],
   "source": [
    "mse_no_scaling_v1, mse_no_scaling_v2, mse_no_scaling_v3, (mse_no_scaling_v1 > mse_no_scaling_v3)"
   ]
  },
  {
   "cell_type": "markdown",
   "id": "e52bb245-bb7f-4682-9abb-236830c5244f",
   "metadata": {},
   "source": [
    "## Select Features"
   ]
  },
  {
   "cell_type": "code",
   "execution_count": 71,
   "id": "a6b872ee-e640-4913-be8a-6fdb37d7968a",
   "metadata": {},
   "outputs": [
    {
     "name": "stdout",
     "output_type": "stream",
     "text": [
      "['trips', 'holiday', 'TMAX', 'TMIN', 'hr_sin', 'hr_cos', 'weekday_sin', 'weekday_cos', 'week_sin', 'week_cos', 'mnth_sin', 'mnth_cos']\n"
     ]
    }
   ],
   "source": [
    "# Target columns\n",
    "target_column = \"trips\"\n",
    "\n",
    "# Drop columns\n",
    "drop_cols = [\"year\", \"day_cos\", \"day_sin\"]\n",
    "\n",
    "# All features\n",
    "all_features = train_trips_modeling_feats.columns\n",
    "\n",
    "# Filtering features\n",
    "features = [feat for feat in all_features if feat not in drop_cols]\n",
    "print(features)"
   ]
  },
  {
   "cell_type": "code",
   "execution_count": 72,
   "id": "1bc0d1ac-09b4-4594-a666-f1634168047b",
   "metadata": {},
   "outputs": [],
   "source": [
    "# Train trips selectiong featutes\n",
    "train_trips_modeling = train_trips_modeling_feats[features]"
   ]
  },
  {
   "cell_type": "code",
   "execution_count": 73,
   "id": "3c79bf27-1161-4dfa-a1c8-437d0fb83dc1",
   "metadata": {},
   "outputs": [
    {
     "data": {
      "text/plain": [
       "(8794, 12)"
      ]
     },
     "execution_count": 73,
     "metadata": {},
     "output_type": "execute_result"
    }
   ],
   "source": [
    "train_trips_modeling.shape"
   ]
  },
  {
   "cell_type": "code",
   "execution_count": 74,
   "id": "034d9701-5339-47fc-a463-438e3fb032ca",
   "metadata": {},
   "outputs": [
    {
     "data": {
      "text/html": [
       "<div>\n",
       "<style scoped>\n",
       "    .dataframe tbody tr th:only-of-type {\n",
       "        vertical-align: middle;\n",
       "    }\n",
       "\n",
       "    .dataframe tbody tr th {\n",
       "        vertical-align: top;\n",
       "    }\n",
       "\n",
       "    .dataframe thead th {\n",
       "        text-align: right;\n",
       "    }\n",
       "</style>\n",
       "<table border=\"1\" class=\"dataframe\">\n",
       "  <thead>\n",
       "    <tr style=\"text-align: right;\">\n",
       "      <th></th>\n",
       "      <th>trips</th>\n",
       "      <th>holiday</th>\n",
       "      <th>TMAX</th>\n",
       "      <th>TMIN</th>\n",
       "      <th>hr_sin</th>\n",
       "      <th>hr_cos</th>\n",
       "      <th>weekday_sin</th>\n",
       "      <th>weekday_cos</th>\n",
       "      <th>week_sin</th>\n",
       "      <th>week_cos</th>\n",
       "      <th>mnth_sin</th>\n",
       "      <th>mnth_cos</th>\n",
       "    </tr>\n",
       "  </thead>\n",
       "  <tbody>\n",
       "    <tr>\n",
       "      <th>0</th>\n",
       "      <td>1863</td>\n",
       "      <td>1</td>\n",
       "      <td>47.0</td>\n",
       "      <td>36.0</td>\n",
       "      <td>0.000000</td>\n",
       "      <td>1.000000</td>\n",
       "      <td>0.0</td>\n",
       "      <td>1.0</td>\n",
       "      <td>0.0</td>\n",
       "      <td>1.0</td>\n",
       "      <td>0.0</td>\n",
       "      <td>1.0</td>\n",
       "    </tr>\n",
       "    <tr>\n",
       "      <th>1</th>\n",
       "      <td>2291</td>\n",
       "      <td>1</td>\n",
       "      <td>47.0</td>\n",
       "      <td>36.0</td>\n",
       "      <td>0.258819</td>\n",
       "      <td>0.965926</td>\n",
       "      <td>0.0</td>\n",
       "      <td>1.0</td>\n",
       "      <td>0.0</td>\n",
       "      <td>1.0</td>\n",
       "      <td>0.0</td>\n",
       "      <td>1.0</td>\n",
       "    </tr>\n",
       "    <tr>\n",
       "      <th>2</th>\n",
       "      <td>1903</td>\n",
       "      <td>1</td>\n",
       "      <td>47.0</td>\n",
       "      <td>36.0</td>\n",
       "      <td>0.500000</td>\n",
       "      <td>0.866025</td>\n",
       "      <td>0.0</td>\n",
       "      <td>1.0</td>\n",
       "      <td>0.0</td>\n",
       "      <td>1.0</td>\n",
       "      <td>0.0</td>\n",
       "      <td>1.0</td>\n",
       "    </tr>\n",
       "    <tr>\n",
       "      <th>3</th>\n",
       "      <td>1081</td>\n",
       "      <td>1</td>\n",
       "      <td>47.0</td>\n",
       "      <td>36.0</td>\n",
       "      <td>0.707107</td>\n",
       "      <td>0.707107</td>\n",
       "      <td>0.0</td>\n",
       "      <td>1.0</td>\n",
       "      <td>0.0</td>\n",
       "      <td>1.0</td>\n",
       "      <td>0.0</td>\n",
       "      <td>1.0</td>\n",
       "    </tr>\n",
       "    <tr>\n",
       "      <th>4</th>\n",
       "      <td>636</td>\n",
       "      <td>1</td>\n",
       "      <td>47.0</td>\n",
       "      <td>36.0</td>\n",
       "      <td>0.866025</td>\n",
       "      <td>0.500000</td>\n",
       "      <td>0.0</td>\n",
       "      <td>1.0</td>\n",
       "      <td>0.0</td>\n",
       "      <td>1.0</td>\n",
       "      <td>0.0</td>\n",
       "      <td>1.0</td>\n",
       "    </tr>\n",
       "  </tbody>\n",
       "</table>\n",
       "</div>"
      ],
      "text/plain": [
       "   trips  holiday  TMAX  TMIN    hr_sin    hr_cos  weekday_sin  weekday_cos  \\\n",
       "0   1863        1  47.0  36.0  0.000000  1.000000          0.0          1.0   \n",
       "1   2291        1  47.0  36.0  0.258819  0.965926          0.0          1.0   \n",
       "2   1903        1  47.0  36.0  0.500000  0.866025          0.0          1.0   \n",
       "3   1081        1  47.0  36.0  0.707107  0.707107          0.0          1.0   \n",
       "4    636        1  47.0  36.0  0.866025  0.500000          0.0          1.0   \n",
       "\n",
       "   week_sin  week_cos  mnth_sin  mnth_cos  \n",
       "0       0.0       1.0       0.0       1.0  \n",
       "1       0.0       1.0       0.0       1.0  \n",
       "2       0.0       1.0       0.0       1.0  \n",
       "3       0.0       1.0       0.0       1.0  \n",
       "4       0.0       1.0       0.0       1.0  "
      ]
     },
     "execution_count": 74,
     "metadata": {},
     "output_type": "execute_result"
    }
   ],
   "source": [
    "train_trips_modeling.head(5)"
   ]
  },
  {
   "cell_type": "code",
   "execution_count": 75,
   "id": "70e77fa4-4d2f-41c8-9f9c-a5d85cb28a75",
   "metadata": {},
   "outputs": [],
   "source": [
    "# Test trips selectiong featutes\n",
    "test_trips_modeling = test_trips_modeling_feats[features]"
   ]
  },
  {
   "cell_type": "code",
   "execution_count": 76,
   "id": "e80f491b-58fc-4a05-a10d-69ef34d767b7",
   "metadata": {},
   "outputs": [
    {
     "data": {
      "text/plain": [
       "(2113, 12)"
      ]
     },
     "execution_count": 76,
     "metadata": {},
     "output_type": "execute_result"
    }
   ],
   "source": [
    "test_trips_modeling.shape"
   ]
  },
  {
   "cell_type": "code",
   "execution_count": 77,
   "id": "c81ce913-ae27-4a68-a1fb-d93fd49acf6c",
   "metadata": {},
   "outputs": [
    {
     "data": {
      "text/html": [
       "<div>\n",
       "<style scoped>\n",
       "    .dataframe tbody tr th:only-of-type {\n",
       "        vertical-align: middle;\n",
       "    }\n",
       "\n",
       "    .dataframe tbody tr th {\n",
       "        vertical-align: top;\n",
       "    }\n",
       "\n",
       "    .dataframe thead th {\n",
       "        text-align: right;\n",
       "    }\n",
       "</style>\n",
       "<table border=\"1\" class=\"dataframe\">\n",
       "  <thead>\n",
       "    <tr style=\"text-align: right;\">\n",
       "      <th></th>\n",
       "      <th>trips</th>\n",
       "      <th>holiday</th>\n",
       "      <th>TMAX</th>\n",
       "      <th>TMIN</th>\n",
       "      <th>hr_sin</th>\n",
       "      <th>hr_cos</th>\n",
       "      <th>weekday_sin</th>\n",
       "      <th>weekday_cos</th>\n",
       "      <th>week_sin</th>\n",
       "      <th>week_cos</th>\n",
       "      <th>mnth_sin</th>\n",
       "      <th>mnth_cos</th>\n",
       "    </tr>\n",
       "  </thead>\n",
       "  <tbody>\n",
       "    <tr>\n",
       "      <th>0</th>\n",
       "      <td>1585</td>\n",
       "      <td>1</td>\n",
       "      <td>52.0</td>\n",
       "      <td>40.0</td>\n",
       "      <td>0.000000</td>\n",
       "      <td>1.000000</td>\n",
       "      <td>0.974928</td>\n",
       "      <td>-0.222521</td>\n",
       "      <td>0.0</td>\n",
       "      <td>1.0</td>\n",
       "      <td>0.0</td>\n",
       "      <td>1.0</td>\n",
       "    </tr>\n",
       "    <tr>\n",
       "      <th>1</th>\n",
       "      <td>2682</td>\n",
       "      <td>1</td>\n",
       "      <td>52.0</td>\n",
       "      <td>40.0</td>\n",
       "      <td>0.258819</td>\n",
       "      <td>0.965926</td>\n",
       "      <td>0.974928</td>\n",
       "      <td>-0.222521</td>\n",
       "      <td>0.0</td>\n",
       "      <td>1.0</td>\n",
       "      <td>0.0</td>\n",
       "      <td>1.0</td>\n",
       "    </tr>\n",
       "    <tr>\n",
       "      <th>2</th>\n",
       "      <td>2263</td>\n",
       "      <td>1</td>\n",
       "      <td>52.0</td>\n",
       "      <td>40.0</td>\n",
       "      <td>0.500000</td>\n",
       "      <td>0.866025</td>\n",
       "      <td>0.974928</td>\n",
       "      <td>-0.222521</td>\n",
       "      <td>0.0</td>\n",
       "      <td>1.0</td>\n",
       "      <td>0.0</td>\n",
       "      <td>1.0</td>\n",
       "    </tr>\n",
       "    <tr>\n",
       "      <th>3</th>\n",
       "      <td>1326</td>\n",
       "      <td>1</td>\n",
       "      <td>52.0</td>\n",
       "      <td>40.0</td>\n",
       "      <td>0.707107</td>\n",
       "      <td>0.707107</td>\n",
       "      <td>0.974928</td>\n",
       "      <td>-0.222521</td>\n",
       "      <td>0.0</td>\n",
       "      <td>1.0</td>\n",
       "      <td>0.0</td>\n",
       "      <td>1.0</td>\n",
       "    </tr>\n",
       "    <tr>\n",
       "      <th>4</th>\n",
       "      <td>754</td>\n",
       "      <td>1</td>\n",
       "      <td>52.0</td>\n",
       "      <td>40.0</td>\n",
       "      <td>0.866025</td>\n",
       "      <td>0.500000</td>\n",
       "      <td>0.974928</td>\n",
       "      <td>-0.222521</td>\n",
       "      <td>0.0</td>\n",
       "      <td>1.0</td>\n",
       "      <td>0.0</td>\n",
       "      <td>1.0</td>\n",
       "    </tr>\n",
       "  </tbody>\n",
       "</table>\n",
       "</div>"
      ],
      "text/plain": [
       "   trips  holiday  TMAX  TMIN    hr_sin    hr_cos  weekday_sin  weekday_cos  \\\n",
       "0   1585        1  52.0  40.0  0.000000  1.000000     0.974928    -0.222521   \n",
       "1   2682        1  52.0  40.0  0.258819  0.965926     0.974928    -0.222521   \n",
       "2   2263        1  52.0  40.0  0.500000  0.866025     0.974928    -0.222521   \n",
       "3   1326        1  52.0  40.0  0.707107  0.707107     0.974928    -0.222521   \n",
       "4    754        1  52.0  40.0  0.866025  0.500000     0.974928    -0.222521   \n",
       "\n",
       "   week_sin  week_cos  mnth_sin  mnth_cos  \n",
       "0       0.0       1.0       0.0       1.0  \n",
       "1       0.0       1.0       0.0       1.0  \n",
       "2       0.0       1.0       0.0       1.0  \n",
       "3       0.0       1.0       0.0       1.0  \n",
       "4       0.0       1.0       0.0       1.0  "
      ]
     },
     "execution_count": 77,
     "metadata": {},
     "output_type": "execute_result"
    }
   ],
   "source": [
    "test_trips_modeling.head(5)"
   ]
  },
  {
   "cell_type": "code",
   "execution_count": 78,
   "id": "bce02ecd-5fce-4704-af6c-691d20a4e301",
   "metadata": {},
   "outputs": [],
   "source": [
    "FINAL_DATA_DIR=\"../s3/data/final\""
   ]
  },
  {
   "cell_type": "code",
   "execution_count": null,
   "id": "addb2098-c611-4f40-a460-ba959a9a0da8",
   "metadata": {},
   "outputs": [],
   "source": []
  },
  {
   "cell_type": "markdown",
   "id": "55859647-8677-4975-8816-39c3c0ea0da7",
   "metadata": {},
   "source": [
    "# Training "
   ]
  },
  {
   "cell_type": "markdown",
   "id": "49217755-8d96-4366-bcf6-9afd7ee1f673",
   "metadata": {},
   "source": [
    "\n",
    "https://whattodevnow.medium.com/using-localstack-with-docker-compose-to-mock-aws-services-bb25a5b01d4b\n",
    "\n",
    "https://freedium.cfd/https://medium.com/@saveriomazza/local-mlflow-runs-with-low-cost-aws-tracking-e84b843a3c1c\n",
    "\n",
    "\n",
    "https://docs.localstack.cloud/aws/integrations/aws-native-tools/aws-cli/\n",
    "\n",
    "https://dev.to/jakewitcher/using-env-files-for-environment-variables-in-python-applications-55a1\n",
    "\n",
    "https://mlflow.org/docs/latest/ml/traditional-ml/xgboost/guide/\n",
    "\n",
    "https://mlflow.org/docs/latest/ml/tracking/artifact-stores/\n",
    "\n",
    "https://github.com/mlflow/mlflow/issues/9513\n"
   ]
  },
  {
   "cell_type": "markdown",
   "id": "8fe5e1c1-97e7-4c59-8323-cafe7acd7db8",
   "metadata": {},
   "source": [
    "\n",
    "\n",
    "zenml:"
   ]
  },
  {
   "cell_type": "code",
   "execution_count": 106,
   "id": "77d68a62-3e4d-49a6-9fc1-bbdcbb9d918e",
   "metadata": {},
   "outputs": [
    {
     "data": {
      "text/plain": [
       "'http://localhost:5000'"
      ]
     },
     "execution_count": 106,
     "metadata": {},
     "output_type": "execute_result"
    }
   ],
   "source": [
    "MLFLOW_SERVER_HOST=\"localhost\"\n",
    "MLFLOW_SERVER_PORT=\"5000\"\n",
    "MDFLOW_SERVER_URL=f\"http://{MLFLOW_SERVER_HOST}:{MLFLOW_SERVER_PORT}\"\n",
    "MDFLOW_SERVER_URL"
   ]
  },
  {
   "cell_type": "code",
   "execution_count": 95,
   "id": "6b8258c5-0bf2-45ab-8f8a-535b7329351e",
   "metadata": {},
   "outputs": [],
   "source": [
    "AWS_REGION=\"eu-west-1\"\n",
    "AWS_ACCESS_KEY_ID=\"test\"\n",
    "AWS_SECRET_ACCESS_KEY=\"test\"\n",
    "os.environ[\"AWS_ACCESS_KEY_ID\"] = AWS_ACCESS_KEY_ID\n",
    "os.environ[\"AWS_SECRET_ACCESS_KEY\"] = AWS_SECRET_ACCESS_KEY\n",
    "os.environ[\"MLFLOW_S3_ENDPOINT_URL\"] = \"http://localhost:4566\""
   ]
  },
  {
   "cell_type": "code",
   "execution_count": 107,
   "id": "daf0488e-359e-4340-9a53-cf0a2eb89198",
   "metadata": {},
   "outputs": [],
   "source": [
    "mlflow.set_tracking_uri(uri=MDFLOW_SERVER_URL)"
   ]
  },
  {
   "cell_type": "markdown",
   "id": "2296d765-c9fa-4c17-bad3-6ef6309c7eec",
   "metadata": {},
   "source": [
    "## Train base model"
   ]
  },
  {
   "cell_type": "code",
   "execution_count": 92,
   "id": "325cdfcf-c43f-4e9d-bad0-4278cf5d2084",
   "metadata": {},
   "outputs": [],
   "source": [
    "def train_model(\n",
    "    X: pd.DataFrame, y: \n",
    "    pd.Series, params: Dict,\n",
    "    run_name: str = \"base-xgb-model\"\n",
    ") -> Any:\n",
    "\n",
    "    with mlflow.start_run(run_name=run_name):\n",
    "        # Crea el modelo con hiperparámetros optimizados\n",
    "        \n",
    "        if not params:\n",
    "            params = {}\n",
    "            params['n_estimators']=100\n",
    "            params['random_state']=42\n",
    "        \n",
    "        model = xgb.XGBRegressor(**params)\n",
    "        model.fit(X, y)\n",
    "    \n",
    "        # Predicciones para inferir la firma\n",
    "        y_pred = model.predict(X)\n",
    "        \n",
    "        signature = infer_signature(X, y_pred)\n",
    "    \n",
    "        # Ejemplo de input para inferencia\n",
    "        input_example = X.sample(1)\n",
    "    \n",
    "        # Logging a MLflow (ZenML maneja el contexto)\n",
    "        mlflow.log_params(params)\n",
    "        mlflow.xgboost.log_model(\n",
    "            #xgb_model=model.get_booster(),\n",
    "            xgb_model=model,\n",
    "            artifact_path=\"xgb-model\",\n",
    "            signature=signature,\n",
    "            input_example=input_example,\n",
    "            model_format=\"json\",\n",
    "        )\n",
    "        \n",
    "    return model"
   ]
  },
  {
   "cell_type": "code",
   "execution_count": 80,
   "id": "2ca014c6-e1c7-45ec-ba5b-85d676c0bcb1",
   "metadata": {},
   "outputs": [],
   "source": [
    "def evaluate_model(\n",
    "    model,\n",
    "    X: pd.DataFrame, y: pd.Series\n",
    "):\n",
    "    y_pred = model.predict(X)\n",
    "    r2 = r2_score(y, y_pred)\n",
    "    mae = mean_absolute_error(y, y_pred)\n",
    "    mse = mean_squared_error(y, y_pred)\n",
    "    rmse = np.sqrt(mse)\n",
    "    \n",
    "    metrics = {}\n",
    "    metrics['R2_Score'] = r2\n",
    "    metrics['MAE'] = mae\n",
    "    metrics['MSE'] = mse\n",
    "    metrics['RMSE'] = rmse\n",
    "    \n",
    "    metrics_df = pd.DataFrame([metrics])\n",
    "                 \n",
    "    return metrics_df"
   ]
  },
  {
   "cell_type": "code",
   "execution_count": 81,
   "id": "cba45471-5ac8-48f9-bafe-82d781e59c84",
   "metadata": {},
   "outputs": [
    {
     "data": {
      "text/html": [
       "    <style>\n",
       "        .bk-notebook-logo {\n",
       "            display: block;\n",
       "            width: 20px;\n",
       "            height: 20px;\n",
       "            background-image: url(data:image/png;base64,iVBORw0KGgoAAAANSUhEUgAAABQAAAAUCAYAAACNiR0NAAAABHNCSVQICAgIfAhkiAAAAAlwSFlzAAALEgAACxIB0t1+/AAAABx0RVh0U29mdHdhcmUAQWRvYmUgRmlyZXdvcmtzIENTNui8sowAAAOkSURBVDiNjZRtaJVlGMd/1/08zzln5zjP1LWcU9N0NkN8m2CYjpgQYQXqSs0I84OLIC0hkEKoPtiH3gmKoiJDU7QpLgoLjLIQCpEsNJ1vqUOdO7ppbuec5+V+rj4ctwzd8IIbbi6u+8f1539dt3A78eXC7QizUF7gyV1fD1Yqg4JWz84yffhm0qkFqBogB9rM8tZdtwVsPUhWhGcFJngGeWrPzHm5oaMmkfEg1usvLFyc8jLRqDOMru7AyC8saQr7GG7f5fvDeH7Ej8CM66nIF+8yngt6HWaKh7k49Soy9nXurCi1o3qUbS3zWfrYeQDTB/Qj6kX6Ybhw4B+bOYoLKCC9H3Nu/leUTZ1JdRWkkn2ldcCamzrcf47KKXdAJllSlxAOkRgyHsGC/zRday5Qld9DyoM4/q/rUoy/CXh3jzOu3bHUVZeU+DEn8FInkPBFlu3+nW3Nw0mk6vCDiWg8CeJaxEwuHS3+z5RgY+YBR6V1Z1nxSOfoaPa4LASWxxdNp+VWTk7+4vzaou8v8PN+xo+KY2xsw6une2frhw05CTYOmQvsEhjhWjn0bmXPjpE1+kplmmkP3suftwTubK9Vq22qKmrBhpY4jvd5afdRA3wGjFAgcnTK2s4hY0/GPNIb0nErGMCRxWOOX64Z8RAC4oCXdklmEvcL8o0BfkNK4lUg9HTl+oPlQxdNo3Mg4Nv175e/1LDGzZen30MEjRUtmXSfiTVu1kK8W4txyV6BMKlbgk3lMwYCiusNy9fVfvvwMxv8Ynl6vxoByANLTWplvuj/nF9m2+PDtt1eiHPBr1oIfhCChQMBw6Aw0UulqTKZdfVvfG7VcfIqLG9bcldL/+pdWTLxLUy8Qq38heUIjh4XlzZxzQm19lLFlr8vdQ97rjZVOLf8nclzckbcD4wxXMidpX30sFd37Fv/GtwwhzhxGVAprjbg0gCAEeIgwCZyTV2Z1REEW8O4py0wsjeloKoMr6iCY6dP92H6Vw/oTyICIthibxjm/DfN9lVz8IqtqKYLUXfoKVMVQVVJOElGjrnnUt9T9wbgp8AyYKaGlqingHZU/uG2NTZSVqwHQTWkx9hxjkpWDaCg6Ckj5qebgBVbT3V3NNXMSiWSDdGV3hrtzla7J+duwPOToIg42ChPQOQjspnSlp1V+Gjdged7+8UN5CRAV7a5EdFNwCjEaBR27b3W890TE7g24NAP/mMDXRWrGoFPQI9ls/MWO2dWFAar/xcOIImbbpA3zgAAAABJRU5ErkJggg==);\n",
       "        }\n",
       "    </style>\n",
       "    <div>\n",
       "        <a href=\"https://bokeh.org\" target=\"_blank\" class=\"bk-notebook-logo\"></a>\n",
       "        <span id=\"e646f79d-b35b-4845-b0ea-b62270075f92\">Loading BokehJS ...</span>\n",
       "    </div>\n"
      ]
     },
     "metadata": {},
     "output_type": "display_data"
    },
    {
     "data": {
      "application/javascript": "'use strict';\n(function(root) {\n  function now() {\n    return new Date();\n  }\n\n  const force = true;\n\n  if (typeof root._bokeh_onload_callbacks === \"undefined\" || force === true) {\n    root._bokeh_onload_callbacks = [];\n    root._bokeh_is_loading = undefined;\n  }\n\nconst JS_MIME_TYPE = 'application/javascript';\n  const HTML_MIME_TYPE = 'text/html';\n  const EXEC_MIME_TYPE = 'application/vnd.bokehjs_exec.v0+json';\n  const CLASS_NAME = 'output_bokeh rendered_html';\n\n  /**\n   * Render data to the DOM node\n   */\n  function render(props, node) {\n    const script = document.createElement(\"script\");\n    node.appendChild(script);\n  }\n\n  /**\n   * Handle when an output is cleared or removed\n   */\n  function handleClearOutput(event, handle) {\n    function drop(id) {\n      const view = Bokeh.index.get_by_id(id)\n      if (view != null) {\n        view.model.document.clear()\n        Bokeh.index.delete(view)\n      }\n    }\n\n    const cell = handle.cell;\n\n    const id = cell.output_area._bokeh_element_id;\n    const server_id = cell.output_area._bokeh_server_id;\n\n    // Clean up Bokeh references\n    if (id != null) {\n      drop(id)\n    }\n\n    if (server_id !== undefined) {\n      // Clean up Bokeh references\n      const cmd_clean = \"from bokeh.io.state import curstate; print(curstate().uuid_to_server['\" + server_id + \"'].get_sessions()[0].document.roots[0]._id)\";\n      cell.notebook.kernel.execute(cmd_clean, {\n        iopub: {\n          output: function(msg) {\n            const id = msg.content.text.trim()\n            drop(id)\n          }\n        }\n      });\n      // Destroy server and session\n      const cmd_destroy = \"import bokeh.io.notebook as ion; ion.destroy_server('\" + server_id + \"')\";\n      cell.notebook.kernel.execute(cmd_destroy);\n    }\n  }\n\n  /**\n   * Handle when a new output is added\n   */\n  function handleAddOutput(event, handle) {\n    const output_area = handle.output_area;\n    const output = handle.output;\n\n    // limit handleAddOutput to display_data with EXEC_MIME_TYPE content only\n    if ((output.output_type != \"display_data\") || (!Object.prototype.hasOwnProperty.call(output.data, EXEC_MIME_TYPE))) {\n      return\n    }\n\n    const toinsert = output_area.element.find(\".\" + CLASS_NAME.split(' ')[0]);\n\n    if (output.metadata[EXEC_MIME_TYPE][\"id\"] !== undefined) {\n      toinsert[toinsert.length - 1].firstChild.textContent = output.data[JS_MIME_TYPE];\n      // store reference to embed id on output_area\n      output_area._bokeh_element_id = output.metadata[EXEC_MIME_TYPE][\"id\"];\n    }\n    if (output.metadata[EXEC_MIME_TYPE][\"server_id\"] !== undefined) {\n      const bk_div = document.createElement(\"div\");\n      bk_div.innerHTML = output.data[HTML_MIME_TYPE];\n      const script_attrs = bk_div.children[0].attributes;\n      for (let i = 0; i < script_attrs.length; i++) {\n        toinsert[toinsert.length - 1].firstChild.setAttribute(script_attrs[i].name, script_attrs[i].value);\n        toinsert[toinsert.length - 1].firstChild.textContent = bk_div.children[0].textContent\n      }\n      // store reference to server id on output_area\n      output_area._bokeh_server_id = output.metadata[EXEC_MIME_TYPE][\"server_id\"];\n    }\n  }\n\n  function register_renderer(events, OutputArea) {\n\n    function append_mime(data, metadata, element) {\n      // create a DOM node to render to\n      const toinsert = this.create_output_subarea(\n        metadata,\n        CLASS_NAME,\n        EXEC_MIME_TYPE\n      );\n      this.keyboard_manager.register_events(toinsert);\n      // Render to node\n      const props = {data: data, metadata: metadata[EXEC_MIME_TYPE]};\n      render(props, toinsert[toinsert.length - 1]);\n      element.append(toinsert);\n      return toinsert\n    }\n\n    /* Handle when an output is cleared or removed */\n    events.on('clear_output.CodeCell', handleClearOutput);\n    events.on('delete.Cell', handleClearOutput);\n\n    /* Handle when a new output is added */\n    events.on('output_added.OutputArea', handleAddOutput);\n\n    /**\n     * Register the mime type and append_mime function with output_area\n     */\n    OutputArea.prototype.register_mime_type(EXEC_MIME_TYPE, append_mime, {\n      /* Is output safe? */\n      safe: true,\n      /* Index of renderer in `output_area.display_order` */\n      index: 0\n    });\n  }\n\n  // register the mime type if in Jupyter Notebook environment and previously unregistered\n  if (root.Jupyter !== undefined) {\n    const events = require('base/js/events');\n    const OutputArea = require('notebook/js/outputarea').OutputArea;\n\n    if (OutputArea.prototype.mime_types().indexOf(EXEC_MIME_TYPE) == -1) {\n      register_renderer(events, OutputArea);\n    }\n  }\n  if (typeof (root._bokeh_timeout) === \"undefined\" || force === true) {\n    root._bokeh_timeout = Date.now() + 5000;\n    root._bokeh_failed_load = false;\n  }\n\n  const NB_LOAD_WARNING = {'data': {'text/html':\n     \"<div style='background-color: #fdd'>\\n\"+\n     \"<p>\\n\"+\n     \"BokehJS does not appear to have successfully loaded. If loading BokehJS from CDN, this \\n\"+\n     \"may be due to a slow or bad network connection. Possible fixes:\\n\"+\n     \"</p>\\n\"+\n     \"<ul>\\n\"+\n     \"<li>re-rerun `output_notebook()` to attempt to load from CDN again, or</li>\\n\"+\n     \"<li>use INLINE resources instead, as so:</li>\\n\"+\n     \"</ul>\\n\"+\n     \"<code>\\n\"+\n     \"from bokeh.resources import INLINE\\n\"+\n     \"output_notebook(resources=INLINE)\\n\"+\n     \"</code>\\n\"+\n     \"</div>\"}};\n\n  function display_loaded(error = null) {\n    const el = document.getElementById(\"e646f79d-b35b-4845-b0ea-b62270075f92\");\n    if (el != null) {\n      const html = (() => {\n        if (typeof root.Bokeh === \"undefined\") {\n          if (error == null) {\n            return \"BokehJS is loading ...\";\n          } else {\n            return \"BokehJS failed to load.\";\n          }\n        } else {\n          const prefix = `BokehJS ${root.Bokeh.version}`;\n          if (error == null) {\n            return `${prefix} successfully loaded.`;\n          } else {\n            return `${prefix} <b>encountered errors</b> while loading and may not function as expected.`;\n          }\n        }\n      })();\n      el.innerHTML = html;\n\n      if (error != null) {\n        const wrapper = document.createElement(\"div\");\n        wrapper.style.overflow = \"auto\";\n        wrapper.style.height = \"5em\";\n        wrapper.style.resize = \"vertical\";\n        const content = document.createElement(\"div\");\n        content.style.fontFamily = \"monospace\";\n        content.style.whiteSpace = \"pre-wrap\";\n        content.style.backgroundColor = \"rgb(255, 221, 221)\";\n        content.textContent = error.stack ?? error.toString();\n        wrapper.append(content);\n        el.append(wrapper);\n      }\n    } else if (Date.now() < root._bokeh_timeout) {\n      setTimeout(() => display_loaded(error), 100);\n    }\n  }\n\n  function run_callbacks() {\n    try {\n      root._bokeh_onload_callbacks.forEach(function(callback) {\n        if (callback != null)\n          callback();\n      });\n    } finally {\n      delete root._bokeh_onload_callbacks\n    }\n    console.debug(\"Bokeh: all callbacks have finished\");\n  }\n\n  function load_libs(css_urls, js_urls, callback) {\n    if (css_urls == null) css_urls = [];\n    if (js_urls == null) js_urls = [];\n\n    root._bokeh_onload_callbacks.push(callback);\n    if (root._bokeh_is_loading > 0) {\n      console.debug(\"Bokeh: BokehJS is being loaded, scheduling callback at\", now());\n      return null;\n    }\n    if (js_urls == null || js_urls.length === 0) {\n      run_callbacks();\n      return null;\n    }\n    console.debug(\"Bokeh: BokehJS not loaded, scheduling load and callback at\", now());\n    root._bokeh_is_loading = css_urls.length + js_urls.length;\n\n    function on_load() {\n      root._bokeh_is_loading--;\n      if (root._bokeh_is_loading === 0) {\n        console.debug(\"Bokeh: all BokehJS libraries/stylesheets loaded\");\n        run_callbacks()\n      }\n    }\n\n    function on_error(url) {\n      console.error(\"failed to load \" + url);\n    }\n\n    for (let i = 0; i < css_urls.length; i++) {\n      const url = css_urls[i];\n      const element = document.createElement(\"link\");\n      element.onload = on_load;\n      element.onerror = on_error.bind(null, url);\n      element.rel = \"stylesheet\";\n      element.type = \"text/css\";\n      element.href = url;\n      console.debug(\"Bokeh: injecting link tag for BokehJS stylesheet: \", url);\n      document.body.appendChild(element);\n    }\n\n    for (let i = 0; i < js_urls.length; i++) {\n      const url = js_urls[i];\n      const element = document.createElement('script');\n      element.onload = on_load;\n      element.onerror = on_error.bind(null, url);\n      element.async = false;\n      element.src = url;\n      console.debug(\"Bokeh: injecting script tag for BokehJS library: \", url);\n      document.head.appendChild(element);\n    }\n  };\n\n  function inject_raw_css(css) {\n    const element = document.createElement(\"style\");\n    element.appendChild(document.createTextNode(css));\n    document.body.appendChild(element);\n  }\n\n  const js_urls = [\"https://cdn.bokeh.org/bokeh/release/bokeh-3.7.3.min.js\", \"https://cdn.bokeh.org/bokeh/release/bokeh-gl-3.7.3.min.js\", \"https://cdn.bokeh.org/bokeh/release/bokeh-widgets-3.7.3.min.js\", \"https://cdn.bokeh.org/bokeh/release/bokeh-tables-3.7.3.min.js\", \"https://cdn.bokeh.org/bokeh/release/bokeh-mathjax-3.7.3.min.js\"];\n  const css_urls = [];\n\n  const inline_js = [    function(Bokeh) {\n      Bokeh.set_log_level(\"info\");\n    },\nfunction(Bokeh) {\n    }\n  ];\n\n  function run_inline_js() {\n    if (root.Bokeh !== undefined || force === true) {\n      try {\n            for (let i = 0; i < inline_js.length; i++) {\n      inline_js[i].call(root, root.Bokeh);\n    }\n\n      } catch (error) {display_loaded(error);throw error;\n      }if (force === true) {\n        display_loaded();\n      }} else if (Date.now() < root._bokeh_timeout) {\n      setTimeout(run_inline_js, 100);\n    } else if (!root._bokeh_failed_load) {\n      console.log(\"Bokeh: BokehJS failed to load within specified timeout.\");\n      root._bokeh_failed_load = true;\n    } else if (force !== true) {\n      const cell = $(document.getElementById(\"e646f79d-b35b-4845-b0ea-b62270075f92\")).parents('.cell').data().cell;\n      cell.output_area.append_execute_result(NB_LOAD_WARNING)\n    }\n  }\n\n  if (root._bokeh_is_loading === 0) {\n    console.debug(\"Bokeh: BokehJS loaded, going straight to plotting\");\n    run_inline_js();\n  } else {\n    load_libs(css_urls, js_urls, function() {\n      console.debug(\"Bokeh: BokehJS plotting callback run at\", now());\n      run_inline_js();\n    });\n  }\n}(window));",
      "application/vnd.bokehjs_load.v0+json": ""
     },
     "metadata": {},
     "output_type": "display_data"
    }
   ],
   "source": [
    "output_notebook()  # Si usas Jupyter\n",
    "\n",
    "def plot_predictions(model, X: pd.DataFrame, y: pd.Series):\n",
    "    y_pred = model.predict(X)\n",
    "    \n",
    "    '''\n",
    "    x_vals = y[0:100].index\n",
    "    y_actual = y[0:100].values\n",
    "    y_predicted = y_pred[0:100]\n",
    "    \n",
    "    plt.rcParams.update({'figure.figsize': (15, 3)})\n",
    "    fig, ax = plt.subplots()\n",
    "    #sns.lineplot(data=y, x=y.index, y='trips')\n",
    "    sns.lineplot(x=x_vals, y=y_actual)\n",
    "    sns.lineplot(x=x_vals, y=y_predicted, color='r')\n",
    "    plt.grid(linestyle='-', linewidth=0.3)\n",
    "    legend_elements = [Line2D([0], [0], color='b', lw=4, label='Actual'),\n",
    "                Line2D([0], [0], color='r', lw=4, label='Predicted')]\n",
    "    plt.legend(handles=legend_elements)\n",
    "    #ax.tick_params(axis='x', rotation=90)\n",
    "    '''\n",
    "    \n",
    "    # Prepara los datos\n",
    "    x_vals = np.array(range(len(y)))\n",
    "    y_actual = y.values\n",
    "    y_predicted = y_pred\n",
    "\n",
    "    # Crear figura con herramientas de interacción\n",
    "    p = figure(title=\"Actual vs Predicted\", \n",
    "               x_axis_label='Index',\n",
    "               y_axis_label='Value',\n",
    "               width=1200,\n",
    "               height=600,\n",
    "               tools=\"pan,wheel_zoom,box_zoom,reset,save\",\n",
    "               toolbar_location='above')\n",
    "\n",
    "    # Agrega las líneas\n",
    "    actual_line = p.line(x_vals, y_actual, line_width=2, color='blue', legend_label=\"Actual\")\n",
    "    predicted_line = p.line(x_vals, y_predicted, line_width=2, color='red', legend_label=\"Predicted\")\n",
    "\n",
    "    p.legend.location = \"top_left\"\n",
    "    p.legend.click_policy = \"hide\"  # permite ocultar líneas al hacer clic en la leyenda\n",
    "    p.grid.grid_line_alpha = 0.3\n",
    "\n",
    "    show(p)  # muestra la figura interactiva en Jupyter o navegador"
   ]
  },
  {
   "cell_type": "code",
   "execution_count": 111,
   "id": "38ed4fd6-4e02-4eb9-ad98-2f30f66ffd2f",
   "metadata": {},
   "outputs": [
    {
     "data": {
      "text/plain": [
       "0       Yes\n",
       "1       Yes\n",
       "2       Yes\n",
       "3       Yes\n",
       "4       Yes\n",
       "       ... \n",
       "8789     No\n",
       "8790     No\n",
       "8791     No\n",
       "8792     No\n",
       "8793     No\n",
       "Name: holiday, Length: 8794, dtype: object"
      ]
     },
     "execution_count": 111,
     "metadata": {},
     "output_type": "execute_result"
    }
   ],
   "source": [
    "train_trips_modeling['holiday'].map({1: 'Yes', 0: 'No'})"
   ]
  },
  {
   "cell_type": "code",
   "execution_count": 82,
   "id": "f68e1565-8037-4701-b049-11890d9d6ff3",
   "metadata": {},
   "outputs": [],
   "source": [
    "\n",
    "X = train_trips_modeling.drop(columns=[target_column])  # Features\n",
    "y = train_trips_modeling[target_column]  # Target"
   ]
  },
  {
   "cell_type": "code",
   "execution_count": 83,
   "id": "4f98cdca-69c9-4af9-8cc8-f5a97167c1db",
   "metadata": {},
   "outputs": [
    {
     "data": {
      "text/html": [
       "<div>\n",
       "<style scoped>\n",
       "    .dataframe tbody tr th:only-of-type {\n",
       "        vertical-align: middle;\n",
       "    }\n",
       "\n",
       "    .dataframe tbody tr th {\n",
       "        vertical-align: top;\n",
       "    }\n",
       "\n",
       "    .dataframe thead th {\n",
       "        text-align: right;\n",
       "    }\n",
       "</style>\n",
       "<table border=\"1\" class=\"dataframe\">\n",
       "  <thead>\n",
       "    <tr style=\"text-align: right;\">\n",
       "      <th></th>\n",
       "      <th>holiday</th>\n",
       "      <th>TMAX</th>\n",
       "      <th>TMIN</th>\n",
       "      <th>hr_sin</th>\n",
       "      <th>hr_cos</th>\n",
       "      <th>weekday_sin</th>\n",
       "      <th>weekday_cos</th>\n",
       "      <th>week_sin</th>\n",
       "      <th>week_cos</th>\n",
       "      <th>mnth_sin</th>\n",
       "      <th>mnth_cos</th>\n",
       "    </tr>\n",
       "  </thead>\n",
       "  <tbody>\n",
       "    <tr>\n",
       "      <th>0</th>\n",
       "      <td>1</td>\n",
       "      <td>47.0</td>\n",
       "      <td>36.0</td>\n",
       "      <td>0.000000</td>\n",
       "      <td>1.000000</td>\n",
       "      <td>0.0</td>\n",
       "      <td>1.0</td>\n",
       "      <td>0.0</td>\n",
       "      <td>1.0</td>\n",
       "      <td>0.0</td>\n",
       "      <td>1.0</td>\n",
       "    </tr>\n",
       "    <tr>\n",
       "      <th>1</th>\n",
       "      <td>1</td>\n",
       "      <td>47.0</td>\n",
       "      <td>36.0</td>\n",
       "      <td>0.258819</td>\n",
       "      <td>0.965926</td>\n",
       "      <td>0.0</td>\n",
       "      <td>1.0</td>\n",
       "      <td>0.0</td>\n",
       "      <td>1.0</td>\n",
       "      <td>0.0</td>\n",
       "      <td>1.0</td>\n",
       "    </tr>\n",
       "    <tr>\n",
       "      <th>2</th>\n",
       "      <td>1</td>\n",
       "      <td>47.0</td>\n",
       "      <td>36.0</td>\n",
       "      <td>0.500000</td>\n",
       "      <td>0.866025</td>\n",
       "      <td>0.0</td>\n",
       "      <td>1.0</td>\n",
       "      <td>0.0</td>\n",
       "      <td>1.0</td>\n",
       "      <td>0.0</td>\n",
       "      <td>1.0</td>\n",
       "    </tr>\n",
       "    <tr>\n",
       "      <th>3</th>\n",
       "      <td>1</td>\n",
       "      <td>47.0</td>\n",
       "      <td>36.0</td>\n",
       "      <td>0.707107</td>\n",
       "      <td>0.707107</td>\n",
       "      <td>0.0</td>\n",
       "      <td>1.0</td>\n",
       "      <td>0.0</td>\n",
       "      <td>1.0</td>\n",
       "      <td>0.0</td>\n",
       "      <td>1.0</td>\n",
       "    </tr>\n",
       "    <tr>\n",
       "      <th>4</th>\n",
       "      <td>1</td>\n",
       "      <td>47.0</td>\n",
       "      <td>36.0</td>\n",
       "      <td>0.866025</td>\n",
       "      <td>0.500000</td>\n",
       "      <td>0.0</td>\n",
       "      <td>1.0</td>\n",
       "      <td>0.0</td>\n",
       "      <td>1.0</td>\n",
       "      <td>0.0</td>\n",
       "      <td>1.0</td>\n",
       "    </tr>\n",
       "  </tbody>\n",
       "</table>\n",
       "</div>"
      ],
      "text/plain": [
       "   holiday  TMAX  TMIN    hr_sin    hr_cos  weekday_sin  weekday_cos  \\\n",
       "0        1  47.0  36.0  0.000000  1.000000          0.0          1.0   \n",
       "1        1  47.0  36.0  0.258819  0.965926          0.0          1.0   \n",
       "2        1  47.0  36.0  0.500000  0.866025          0.0          1.0   \n",
       "3        1  47.0  36.0  0.707107  0.707107          0.0          1.0   \n",
       "4        1  47.0  36.0  0.866025  0.500000          0.0          1.0   \n",
       "\n",
       "   week_sin  week_cos  mnth_sin  mnth_cos  \n",
       "0       0.0       1.0       0.0       1.0  \n",
       "1       0.0       1.0       0.0       1.0  \n",
       "2       0.0       1.0       0.0       1.0  \n",
       "3       0.0       1.0       0.0       1.0  \n",
       "4       0.0       1.0       0.0       1.0  "
      ]
     },
     "execution_count": 83,
     "metadata": {},
     "output_type": "execute_result"
    }
   ],
   "source": [
    "X.head(5)"
   ]
  },
  {
   "cell_type": "code",
   "execution_count": 84,
   "id": "fd6408d9-d09c-4bb2-9567-f50ebefd51fd",
   "metadata": {},
   "outputs": [],
   "source": [
    "\n",
    "X_test = test_trips_modeling.drop(columns=[target_column])  # Features\n",
    "y_test = test_trips_modeling[target_column]  # Target"
   ]
  },
  {
   "cell_type": "code",
   "execution_count": 85,
   "id": "929e81a9-24a7-4ff9-bcaf-04d97e51d7b1",
   "metadata": {},
   "outputs": [],
   "source": [
    "\n",
    "# Split the dataset into training and testing sets\n",
    "X_train, X_val, y_train, y_val = train_test_split(X, y, test_size=0.2, random_state=42)\n"
   ]
  },
  {
   "cell_type": "code",
   "execution_count": 86,
   "id": "110610e0-b8b5-4581-adf1-5810a4168db9",
   "metadata": {},
   "outputs": [
    {
     "data": {
      "text/html": [
       "<div>\n",
       "<style scoped>\n",
       "    .dataframe tbody tr th:only-of-type {\n",
       "        vertical-align: middle;\n",
       "    }\n",
       "\n",
       "    .dataframe tbody tr th {\n",
       "        vertical-align: top;\n",
       "    }\n",
       "\n",
       "    .dataframe thead th {\n",
       "        text-align: right;\n",
       "    }\n",
       "</style>\n",
       "<table border=\"1\" class=\"dataframe\">\n",
       "  <thead>\n",
       "    <tr style=\"text-align: right;\">\n",
       "      <th></th>\n",
       "      <th>holiday</th>\n",
       "      <th>TMAX</th>\n",
       "      <th>TMIN</th>\n",
       "      <th>hr_sin</th>\n",
       "      <th>hr_cos</th>\n",
       "      <th>weekday_sin</th>\n",
       "      <th>weekday_cos</th>\n",
       "      <th>week_sin</th>\n",
       "      <th>week_cos</th>\n",
       "      <th>mnth_sin</th>\n",
       "      <th>mnth_cos</th>\n",
       "    </tr>\n",
       "  </thead>\n",
       "  <tbody>\n",
       "    <tr>\n",
       "      <th>2576</th>\n",
       "      <td>0</td>\n",
       "      <td>59.0</td>\n",
       "      <td>48.0</td>\n",
       "      <td>1.000000</td>\n",
       "      <td>6.123234e-17</td>\n",
       "      <td>0.974928</td>\n",
       "      <td>-0.222521</td>\n",
       "      <td>0.970942</td>\n",
       "      <td>-0.239316</td>\n",
       "      <td>1.000000e+00</td>\n",
       "      <td>6.123234e-17</td>\n",
       "    </tr>\n",
       "    <tr>\n",
       "      <th>4556</th>\n",
       "      <td>0</td>\n",
       "      <td>92.0</td>\n",
       "      <td>74.0</td>\n",
       "      <td>-0.707107</td>\n",
       "      <td>-7.071068e-01</td>\n",
       "      <td>0.000000</td>\n",
       "      <td>1.000000</td>\n",
       "      <td>-0.120537</td>\n",
       "      <td>-0.992709</td>\n",
       "      <td>1.224647e-16</td>\n",
       "      <td>-1.000000e+00</td>\n",
       "    </tr>\n",
       "    <tr>\n",
       "      <th>2471</th>\n",
       "      <td>0</td>\n",
       "      <td>63.0</td>\n",
       "      <td>54.0</td>\n",
       "      <td>-0.707107</td>\n",
       "      <td>7.071068e-01</td>\n",
       "      <td>-0.433884</td>\n",
       "      <td>-0.900969</td>\n",
       "      <td>0.992709</td>\n",
       "      <td>-0.120537</td>\n",
       "      <td>1.000000e+00</td>\n",
       "      <td>6.123234e-17</td>\n",
       "    </tr>\n",
       "    <tr>\n",
       "      <th>5385</th>\n",
       "      <td>0</td>\n",
       "      <td>82.0</td>\n",
       "      <td>70.0</td>\n",
       "      <td>0.707107</td>\n",
       "      <td>7.071068e-01</td>\n",
       "      <td>0.000000</td>\n",
       "      <td>1.000000</td>\n",
       "      <td>-0.663123</td>\n",
       "      <td>-0.748511</td>\n",
       "      <td>-5.000000e-01</td>\n",
       "      <td>-8.660254e-01</td>\n",
       "    </tr>\n",
       "    <tr>\n",
       "      <th>1747</th>\n",
       "      <td>0</td>\n",
       "      <td>60.0</td>\n",
       "      <td>44.0</td>\n",
       "      <td>-1.000000</td>\n",
       "      <td>-1.836970e-16</td>\n",
       "      <td>0.974928</td>\n",
       "      <td>-0.222521</td>\n",
       "      <td>0.935016</td>\n",
       "      <td>0.354605</td>\n",
       "      <td>8.660254e-01</td>\n",
       "      <td>5.000000e-01</td>\n",
       "    </tr>\n",
       "  </tbody>\n",
       "</table>\n",
       "</div>"
      ],
      "text/plain": [
       "      holiday  TMAX  TMIN    hr_sin        hr_cos  weekday_sin  weekday_cos  \\\n",
       "2576        0  59.0  48.0  1.000000  6.123234e-17     0.974928    -0.222521   \n",
       "4556        0  92.0  74.0 -0.707107 -7.071068e-01     0.000000     1.000000   \n",
       "2471        0  63.0  54.0 -0.707107  7.071068e-01    -0.433884    -0.900969   \n",
       "5385        0  82.0  70.0  0.707107  7.071068e-01     0.000000     1.000000   \n",
       "1747        0  60.0  44.0 -1.000000 -1.836970e-16     0.974928    -0.222521   \n",
       "\n",
       "      week_sin  week_cos      mnth_sin      mnth_cos  \n",
       "2576  0.970942 -0.239316  1.000000e+00  6.123234e-17  \n",
       "4556 -0.120537 -0.992709  1.224647e-16 -1.000000e+00  \n",
       "2471  0.992709 -0.120537  1.000000e+00  6.123234e-17  \n",
       "5385 -0.663123 -0.748511 -5.000000e-01 -8.660254e-01  \n",
       "1747  0.935016  0.354605  8.660254e-01  5.000000e-01  "
      ]
     },
     "execution_count": 86,
     "metadata": {},
     "output_type": "execute_result"
    }
   ],
   "source": [
    "X_train.head(5)"
   ]
  },
  {
   "cell_type": "code",
   "execution_count": 87,
   "id": "f3813f10-91e9-485b-9b7d-a990da902beb",
   "metadata": {},
   "outputs": [
    {
     "data": {
      "text/html": [
       "<div>\n",
       "<style scoped>\n",
       "    .dataframe tbody tr th:only-of-type {\n",
       "        vertical-align: middle;\n",
       "    }\n",
       "\n",
       "    .dataframe tbody tr th {\n",
       "        vertical-align: top;\n",
       "    }\n",
       "\n",
       "    .dataframe thead th {\n",
       "        text-align: right;\n",
       "    }\n",
       "</style>\n",
       "<table border=\"1\" class=\"dataframe\">\n",
       "  <thead>\n",
       "    <tr style=\"text-align: right;\">\n",
       "      <th></th>\n",
       "      <th>trips</th>\n",
       "    </tr>\n",
       "  </thead>\n",
       "  <tbody>\n",
       "    <tr>\n",
       "      <th>2576</th>\n",
       "      <td>3198</td>\n",
       "    </tr>\n",
       "    <tr>\n",
       "      <th>4556</th>\n",
       "      <td>7798</td>\n",
       "    </tr>\n",
       "    <tr>\n",
       "      <th>2471</th>\n",
       "      <td>4058</td>\n",
       "    </tr>\n",
       "    <tr>\n",
       "      <th>5385</th>\n",
       "      <td>348</td>\n",
       "    </tr>\n",
       "    <tr>\n",
       "      <th>1747</th>\n",
       "      <td>11822</td>\n",
       "    </tr>\n",
       "    <tr>\n",
       "      <th>...</th>\n",
       "      <td>...</td>\n",
       "    </tr>\n",
       "    <tr>\n",
       "      <th>5734</th>\n",
       "      <td>9793</td>\n",
       "    </tr>\n",
       "    <tr>\n",
       "      <th>5191</th>\n",
       "      <td>2116</td>\n",
       "    </tr>\n",
       "    <tr>\n",
       "      <th>5390</th>\n",
       "      <td>10265</td>\n",
       "    </tr>\n",
       "    <tr>\n",
       "      <th>860</th>\n",
       "      <td>4650</td>\n",
       "    </tr>\n",
       "    <tr>\n",
       "      <th>7270</th>\n",
       "      <td>8020</td>\n",
       "    </tr>\n",
       "  </tbody>\n",
       "</table>\n",
       "<p>7035 rows × 1 columns</p>\n",
       "</div>"
      ],
      "text/plain": [
       "      trips\n",
       "2576   3198\n",
       "4556   7798\n",
       "2471   4058\n",
       "5385    348\n",
       "1747  11822\n",
       "...     ...\n",
       "5734   9793\n",
       "5191   2116\n",
       "5390  10265\n",
       "860    4650\n",
       "7270   8020\n",
       "\n",
       "[7035 rows x 1 columns]"
      ]
     },
     "execution_count": 87,
     "metadata": {},
     "output_type": "execute_result"
    }
   ],
   "source": [
    "pd.DataFrame(y_train)"
   ]
  },
  {
   "cell_type": "code",
   "execution_count": 88,
   "id": "8d1f28f6-808e-4d19-9311-9dac7cc592f6",
   "metadata": {},
   "outputs": [],
   "source": [
    "base_params = {}\n",
    "base_params['n_estimators']=100\n",
    "base_params['random_state']=42"
   ]
  },
  {
   "cell_type": "code",
   "execution_count": 89,
   "id": "056814c7-0af3-4d93-bfb5-09cefc6b431f",
   "metadata": {},
   "outputs": [
    {
     "data": {
      "text/plain": [
       "holiday        0\n",
       "TMAX           0\n",
       "TMIN           0\n",
       "hr_sin         0\n",
       "hr_cos         0\n",
       "weekday_sin    0\n",
       "weekday_cos    0\n",
       "week_sin       0\n",
       "week_cos       0\n",
       "mnth_sin       0\n",
       "mnth_cos       0\n",
       "dtype: int64"
      ]
     },
     "execution_count": 89,
     "metadata": {},
     "output_type": "execute_result"
    }
   ],
   "source": [
    "X_train.isna().sum()"
   ]
  },
  {
   "cell_type": "code",
   "execution_count": 90,
   "id": "5a61adad-4b70-4c1c-9c6c-9c76b6d34284",
   "metadata": {},
   "outputs": [
    {
     "name": "stdout",
     "output_type": "stream",
     "text": [
      "<class 'pandas.core.frame.DataFrame'>\n",
      "Index: 7035 entries, 2576 to 7270\n",
      "Data columns (total 11 columns):\n",
      " #   Column       Non-Null Count  Dtype  \n",
      "---  ------       --------------  -----  \n",
      " 0   holiday      7035 non-null   int64  \n",
      " 1   TMAX         7035 non-null   float64\n",
      " 2   TMIN         7035 non-null   float64\n",
      " 3   hr_sin       7035 non-null   float64\n",
      " 4   hr_cos       7035 non-null   float64\n",
      " 5   weekday_sin  7035 non-null   float64\n",
      " 6   weekday_cos  7035 non-null   float64\n",
      " 7   week_sin     7035 non-null   Float64\n",
      " 8   week_cos     7035 non-null   Float64\n",
      " 9   mnth_sin     7035 non-null   float64\n",
      " 10  mnth_cos     7035 non-null   float64\n",
      "dtypes: Float64(2), float64(8), int64(1)\n",
      "memory usage: 673.3 KB\n"
     ]
    }
   ],
   "source": [
    "X_train.info()"
   ]
  },
  {
   "cell_type": "code",
   "execution_count": 110,
   "id": "9418476b-8b28-4af9-8bea-65bd7d3aa2db",
   "metadata": {},
   "outputs": [
    {
     "data": {
      "text/plain": [
       "Index(['holiday', 'TMAX', 'TMIN', 'hr_sin', 'hr_cos', 'weekday_sin',\n",
       "       'weekday_cos', 'week_sin', 'week_cos', 'mnth_sin', 'mnth_cos'],\n",
       "      dtype='object')"
      ]
     },
     "execution_count": 110,
     "metadata": {},
     "output_type": "execute_result"
    }
   ],
   "source": [
    "X_train.columns"
   ]
  },
  {
   "cell_type": "code",
   "execution_count": 108,
   "id": "95dbd1fa-317d-4797-a6c9-0b98fecf1952",
   "metadata": {},
   "outputs": [
    {
     "name": "stderr",
     "output_type": "stream",
     "text": [
      "/home/emmuzoo/mlops-zoomcamp-project-2025/.venv/lib/python3.12/site-packages/mlflow/types/utils.py:452: UserWarning: Hint: Inferred schema contains integer column(s). Integer columns in Python cannot represent missing values. If your input data contains missing values at inference time, it will be encoded as floats and will cause a schema enforcement error. The best way to avoid this problem is to infer the model schema based on a realistic data sample (training dataset) that includes missing values. Alternatively, you can declare integer columns as doubles (float64) whenever these columns may have missing values. See `Handling Integers With Missing Values <https://www.mlflow.org/docs/latest/models.html#handling-integers-with-missing-values>`_ for more details.\n",
      "  warnings.warn(\n"
     ]
    },
    {
     "name": "stdout",
     "output_type": "stream",
     "text": [
      "🏃 View run xbg-base-model at: http://localhost:5000/#/experiments/0/runs/77b647c4b4c34b7b96ee288048770c06\n",
      "🧪 View experiment at: http://localhost:5000/#/experiments/0\n"
     ]
    }
   ],
   "source": [
    "base_xgb_model = train_model(X_train, y_train, base_params, run_name=\"xbg-base-model\")"
   ]
  },
  {
   "cell_type": "markdown",
   "id": "a7a41938-e0c8-43fe-954c-f938953f99b4",
   "metadata": {},
   "source": [
    "## Evaluation"
   ]
  },
  {
   "cell_type": "code",
   "execution_count": 116,
   "id": "30d2aa93-a4b6-478f-98c1-08c7859fa42e",
   "metadata": {},
   "outputs": [],
   "source": [
    "base_val_metrics_df = evaluate_model(\n",
    "    base_xgb_model,\n",
    "    X_val, \n",
    "    y_val\n",
    ")"
   ]
  },
  {
   "cell_type": "code",
   "execution_count": 117,
   "id": "04839f2e-c6dd-45f4-a3a4-8ef5c2824e2c",
   "metadata": {},
   "outputs": [
    {
     "data": {
      "text/html": [
       "<div>\n",
       "<style scoped>\n",
       "    .dataframe tbody tr th:only-of-type {\n",
       "        vertical-align: middle;\n",
       "    }\n",
       "\n",
       "    .dataframe tbody tr th {\n",
       "        vertical-align: top;\n",
       "    }\n",
       "\n",
       "    .dataframe thead th {\n",
       "        text-align: right;\n",
       "    }\n",
       "</style>\n",
       "<table border=\"1\" class=\"dataframe\">\n",
       "  <thead>\n",
       "    <tr style=\"text-align: right;\">\n",
       "      <th></th>\n",
       "      <th>R2_Score</th>\n",
       "      <th>MAE</th>\n",
       "      <th>MSE</th>\n",
       "      <th>RMSE</th>\n",
       "    </tr>\n",
       "  </thead>\n",
       "  <tbody>\n",
       "    <tr>\n",
       "      <th>0</th>\n",
       "      <td>0.974324</td>\n",
       "      <td>420.544342</td>\n",
       "      <td>420261.4375</td>\n",
       "      <td>648.275742</td>\n",
       "    </tr>\n",
       "  </tbody>\n",
       "</table>\n",
       "</div>"
      ],
      "text/plain": [
       "   R2_Score         MAE          MSE        RMSE\n",
       "0  0.974324  420.544342  420261.4375  648.275742"
      ]
     },
     "execution_count": 117,
     "metadata": {},
     "output_type": "execute_result"
    }
   ],
   "source": [
    "base_val_metrics_df"
   ]
  },
  {
   "cell_type": "code",
   "execution_count": 118,
   "id": "6e3181e4-b137-4109-8dc1-2f3aa42c11b5",
   "metadata": {},
   "outputs": [
    {
     "data": {
      "text/html": [
       "\n",
       "  <div id=\"a04857bc-e190-4f83-a8f8-b7d0432af3e4\" data-root-id=\"p1003\" style=\"display: contents;\"></div>\n"
      ]
     },
     "metadata": {},
     "output_type": "display_data"
    },
    {
     "data": {
      "application/javascript": "(function(root) {\n  function embed_document(root) {\n  const docs_json = {\"fb26a8ed-9bf5-40b9-a1db-d19bca807a2f\":{\"version\":\"3.7.3\",\"title\":\"Bokeh Application\",\"roots\":[{\"type\":\"object\",\"name\":\"Figure\",\"id\":\"p1003\",\"attributes\":{\"width\":1200,\"x_range\":{\"type\":\"object\",\"name\":\"DataRange1d\",\"id\":\"p1004\"},\"y_range\":{\"type\":\"object\",\"name\":\"DataRange1d\",\"id\":\"p1005\"},\"x_scale\":{\"type\":\"object\",\"name\":\"LinearScale\",\"id\":\"p1013\"},\"y_scale\":{\"type\":\"object\",\"name\":\"LinearScale\",\"id\":\"p1014\"},\"title\":{\"type\":\"object\",\"name\":\"Title\",\"id\":\"p1006\",\"attributes\":{\"text\":\"Actual vs Predicted\"}},\"renderers\":[{\"type\":\"object\",\"name\":\"GlyphRenderer\",\"id\":\"p1043\",\"attributes\":{\"data_source\":{\"type\":\"object\",\"name\":\"ColumnDataSource\",\"id\":\"p1037\",\"attributes\":{\"selected\":{\"type\":\"object\",\"name\":\"Selection\",\"id\":\"p1038\",\"attributes\":{\"indices\":[],\"line_indices\":[]}},\"selection_policy\":{\"type\":\"object\",\"name\":\"UnionRenderers\",\"id\":\"p1039\"},\"data\":{\"type\":\"map\",\"entries\":[[\"x\",{\"type\":\"ndarray\",\"array\":{\"type\":\"bytes\",\"data\":\"AAAAAAEAAAACAAAAAwAAAAQAAAAFAAAABgAAAAcAAAAIAAAACQAAAAoAAAALAAAADAAAAA0AAAAOAAAADwAAABAAAAARAAAAEgAAABMAAAAUAAAAFQAAABYAAAAXAAAAGAAAABkAAAAaAAAAGwAAABwAAAAdAAAAHgAAAB8AAAAgAAAAIQAAACIAAAAjAAAAJAAAACUAAAAmAAAAJwAAACgAAAApAAAAKgAAACsAAAAsAAAALQAAAC4AAAAvAAAAMAAAADEAAAAyAAAAMwAAADQAAAA1AAAANgAAADcAAAA4AAAAOQAAADoAAAA7AAAAPAAAAD0AAAA+AAAAPwAAAEAAAABBAAAAQgAAAEMAAABEAAAARQAAAEYAAABHAAAASAAAAEkAAABKAAAASwAAAEwAAABNAAAATgAAAE8AAABQAAAAUQAAAFIAAABTAAAAVAAAAFUAAABWAAAAVwAAAFgAAABZAAAAWgAAAFsAAABcAAAAXQAAAF4AAABfAAAAYAAAAGEAAABiAAAAYwAAAGQAAABlAAAAZgAAAGcAAABoAAAAaQAAAGoAAABrAAAAbAAAAG0AAABuAAAAbwAAAHAAAABxAAAAcgAAAHMAAAB0AAAAdQAAAHYAAAB3AAAAeAAAAHkAAAB6AAAAewAAAHwAAAB9AAAAfgAAAH8AAACAAAAAgQAAAIIAAACDAAAAhAAAAIUAAACGAAAAhwAAAIgAAACJAAAAigAAAIsAAACMAAAAjQAAAI4AAACPAAAAkAAAAJEAAACSAAAAkwAAAJQAAACVAAAAlgAAAJcAAACYAAAAmQAAAJoAAACbAAAAnAAAAJ0AAACeAAAAnwAAAKAAAAChAAAAogAAAKMAAACkAAAApQAAAKYAAACnAAAAqAAAAKkAAACqAAAAqwAAAKwAAACtAAAArgAAAK8AAACwAAAAsQAAALIAAACzAAAAtAAAALUAAAC2AAAAtwAAALgAAAC5AAAAugAAALsAAAC8AAAAvQAAAL4AAAC/AAAAwAAAAMEAAADCAAAAwwAAAMQAAADFAAAAxgAAAMcAAAA=\"},\"shape\":[200],\"dtype\":\"int32\",\"order\":\"little\"}],[\"y\",{\"type\":\"ndarray\",\"array\":{\"type\":\"bytes\",\"data\":\"dwAAALIiAAAjBgAA7AIAAP4cAACRIQAAZQ8AAMs1AAA9DgAAXykAAF8oAACwAAAAgg4AAEsHAADWSwAAyxQAAI8hAAB2FAAA3QAAAMkgAAA7HwAArxAAAOUoAAAbIQAAOi0AAE4SAADiCQAA5x4AAIkSAADiPwAAixIAANAWAADNBQAAUwgAABkNAADJGAAA7xgAACcIAAAVLgAAEioAAFQ8AACZAgAAWxgAAOwtAACbPAAAlCEAALYHAAChFgAA7hYAAOARAACnAgAAPB0AAEMCAAD+GwAAMQIAABstAAChHQAAhgAAAJoiAABBAgAA1QsAAHsSAABkHAAATiEAAHcBAAAaHwAAcBIAAOA0AAA+IgAAzBEAACBLAACHHwAAYgEAALYHAAAcHgAAxwEAAB4VAACGAQAAcAoAAOdBAABqIQAAggMAAE4/AAAQJwAA1hQAAL8AAADrLAAAyQYAAHYFAAASGAAA8CsAABEEAADyAgAAnSoAABoUAABAHAAAdwwAAIYGAADFAAAAGyEAAJk9AAAvCgAAFyMAAHcBAABDJAAA9wkAAIUhAABmEAAAWAMAAF0SAABRCAAAWAUAAAQYAACsGAAAJhcAABUQAACyDwAAWBQAABQNAAD2BQAAbyoAAGUaAAAUGgAARgEAAHceAAC2AAAA6wAAAIcWAADqIAAAyhIAAIIoAAC7AAAAORYAACMBAAC8AAAAXAEAAG4NAAAFEgAAVRYAAPMWAAB2PwAAwQIAAO4aAAA3BAAAjyAAAP4QAAB9IQAAYwMAANMDAABxIAAAzQQAAGg0AAACGgAAGiMAAFUEAABBBgAAiSwAAHsbAAC3EgAAGCAAAC4sAABSGgAARRcAAIQMAAAsGwAAawEAAIMOAADMAQAA/wgAAMg8AAA9AQAAWisAAHcRAAA/MAAA1iAAANcDAABLAgAAVgIAAAcPAACQAAAAhwAAAPsTAAAKAgAAkCQAAI4AAAA/DwAAxR8AAJIOAADGCwAA3h4AACQRAABcDQAAGBMAAJIeAABqEQAAqRsAAMMUAAA7DQAAxhAAAHYVAAA=\"},\"shape\":[200],\"dtype\":\"int32\",\"order\":\"little\"}]]}}},\"view\":{\"type\":\"object\",\"name\":\"CDSView\",\"id\":\"p1044\",\"attributes\":{\"filter\":{\"type\":\"object\",\"name\":\"AllIndices\",\"id\":\"p1045\"}}},\"glyph\":{\"type\":\"object\",\"name\":\"Line\",\"id\":\"p1040\",\"attributes\":{\"x\":{\"type\":\"field\",\"field\":\"x\"},\"y\":{\"type\":\"field\",\"field\":\"y\"},\"line_color\":\"blue\",\"line_width\":2}},\"nonselection_glyph\":{\"type\":\"object\",\"name\":\"Line\",\"id\":\"p1041\",\"attributes\":{\"x\":{\"type\":\"field\",\"field\":\"x\"},\"y\":{\"type\":\"field\",\"field\":\"y\"},\"line_color\":\"blue\",\"line_alpha\":0.1,\"line_width\":2}},\"muted_glyph\":{\"type\":\"object\",\"name\":\"Line\",\"id\":\"p1042\",\"attributes\":{\"x\":{\"type\":\"field\",\"field\":\"x\"},\"y\":{\"type\":\"field\",\"field\":\"y\"},\"line_color\":\"blue\",\"line_alpha\":0.2,\"line_width\":2}}}},{\"type\":\"object\",\"name\":\"GlyphRenderer\",\"id\":\"p1054\",\"attributes\":{\"data_source\":{\"type\":\"object\",\"name\":\"ColumnDataSource\",\"id\":\"p1048\",\"attributes\":{\"selected\":{\"type\":\"object\",\"name\":\"Selection\",\"id\":\"p1049\",\"attributes\":{\"indices\":[],\"line_indices\":[]}},\"selection_policy\":{\"type\":\"object\",\"name\":\"UnionRenderers\",\"id\":\"p1050\"},\"data\":{\"type\":\"map\",\"entries\":[[\"x\",{\"type\":\"ndarray\",\"array\":{\"type\":\"bytes\",\"data\":\"AAAAAAEAAAACAAAAAwAAAAQAAAAFAAAABgAAAAcAAAAIAAAACQAAAAoAAAALAAAADAAAAA0AAAAOAAAADwAAABAAAAARAAAAEgAAABMAAAAUAAAAFQAAABYAAAAXAAAAGAAAABkAAAAaAAAAGwAAABwAAAAdAAAAHgAAAB8AAAAgAAAAIQAAACIAAAAjAAAAJAAAACUAAAAmAAAAJwAAACgAAAApAAAAKgAAACsAAAAsAAAALQAAAC4AAAAvAAAAMAAAADEAAAAyAAAAMwAAADQAAAA1AAAANgAAADcAAAA4AAAAOQAAADoAAAA7AAAAPAAAAD0AAAA+AAAAPwAAAEAAAABBAAAAQgAAAEMAAABEAAAARQAAAEYAAABHAAAASAAAAEkAAABKAAAASwAAAEwAAABNAAAATgAAAE8AAABQAAAAUQAAAFIAAABTAAAAVAAAAFUAAABWAAAAVwAAAFgAAABZAAAAWgAAAFsAAABcAAAAXQAAAF4AAABfAAAAYAAAAGEAAABiAAAAYwAAAGQAAABlAAAAZgAAAGcAAABoAAAAaQAAAGoAAABrAAAAbAAAAG0AAABuAAAAbwAAAHAAAABxAAAAcgAAAHMAAAB0AAAAdQAAAHYAAAB3AAAAeAAAAHkAAAB6AAAAewAAAHwAAAB9AAAAfgAAAH8AAACAAAAAgQAAAIIAAACDAAAAhAAAAIUAAACGAAAAhwAAAIgAAACJAAAAigAAAIsAAACMAAAAjQAAAI4AAACPAAAAkAAAAJEAAACSAAAAkwAAAJQAAACVAAAAlgAAAJcAAACYAAAAmQAAAJoAAACbAAAAnAAAAJ0AAACeAAAAnwAAAKAAAAChAAAAogAAAKMAAACkAAAApQAAAKYAAACnAAAAqAAAAKkAAACqAAAAqwAAAKwAAACtAAAArgAAAK8AAACwAAAAsQAAALIAAACzAAAAtAAAALUAAAC2AAAAtwAAALgAAAC5AAAAugAAALsAAAC8AAAAvQAAAL4AAAC/AAAAwAAAAMEAAADCAAAAwwAAAMQAAADFAAAAxgAAAMcAAAA=\"},\"shape\":[200],\"dtype\":\"int32\",\"order\":\"little\"}],[\"y\",{\"type\":\"ndarray\",\"array\":{\"type\":\"bytes\",\"data\":\"JN6yQ+mDC0Y8j8ZEpLpsRNGB3EWMMRVGTOp1RdRVXEY2PyhFr6wbRkfuGkYpdyZDn8tNReTMzERWDJdGl5nDRQac8UUq1JRF8ydkQyGx4kVQtQJGxUWCRbrQGUZzafZFlN4sRhfGj0VmShlFvYEBRpP1nUVLFnpGdk6sRZCls0WeqIxE1OH3RIzYPUXdJL5FqHvDRV2PEkV2v0BG0vEuRlUteEajQ0RExly5RZ9bFUbvb2RGHqoHRpKe7ET1Tr5FKju5ReroSUUkYgpEhdv2Rb7BH0XNbe1F3O7UQyW8LUYanNVFUDQ5QiuqDEYUs9hDZb4/ReaGnUVztcdFWgPuRacWvcLm+N9F5vp/RSqbU0YAix1GdFyLRbIRmEZiQvtFCnGPQ2CfSkUYMc9FaAo9RKXJxEUJsZ9CnIAzRdYJfUb+AwtGU0GBRBmLfUZUrRhGgiWaRZrnOkMeSjFGxnyTRLchAkV86LhF/M8qRmgLQkWQrRNEe8AtRpyuvkUs8upFTyVCRQRiyERVrbJDMjP9RWvLckZdAa9F4RoFRnfA+UOEahNGKldCRQq4Ckab02pF0nJYRL53kUV6HutEt9CSRPUFuEUOxslF+Y+xRYNbhEVmK3xFHl2TRbvLgUXLgNhELsw0RnxI00VoMrRFkV4nRPAB40XMUUNDesHbQ+8tpkVKKBJGZaCORTkmKkZPDTlBjOCxRW7OEkP7/G5DCNGOQ3tyhUVEZOVFo6ijRcUjz0X2U3lG4wyMROjS6kVNh2JEGkwSRgrDeUW9Hf9FcZZ7RCHOgEXInPhFxPt7RGMCQUa2BLBFhiUPRp+szETfOh9FtZIhRvY140VvaJJFWX0KRiEBLkaY37JFfpCsRZthWEXE29pFfDPOQ9Tuh0WIYDNEjQQ/RdfYfEYO8gJEksoYRvrIiEVlSzdGwfHzRQPGa0SV3ytEpjwHRExdhkWewwVDdSevwjAOoEUyfllEImMPRh5Jf8MxrX5FTwn4ReF8DUVnRUBFghvWRYYarUXDYExFYpGQRcry7UXnCFhFx/rcRUXUA0ZyTUZFT0F/RYD8u0U=\"},\"shape\":[200],\"dtype\":\"float32\",\"order\":\"little\"}]]}}},\"view\":{\"type\":\"object\",\"name\":\"CDSView\",\"id\":\"p1055\",\"attributes\":{\"filter\":{\"type\":\"object\",\"name\":\"AllIndices\",\"id\":\"p1056\"}}},\"glyph\":{\"type\":\"object\",\"name\":\"Line\",\"id\":\"p1051\",\"attributes\":{\"x\":{\"type\":\"field\",\"field\":\"x\"},\"y\":{\"type\":\"field\",\"field\":\"y\"},\"line_color\":\"red\",\"line_width\":2}},\"nonselection_glyph\":{\"type\":\"object\",\"name\":\"Line\",\"id\":\"p1052\",\"attributes\":{\"x\":{\"type\":\"field\",\"field\":\"x\"},\"y\":{\"type\":\"field\",\"field\":\"y\"},\"line_color\":\"red\",\"line_alpha\":0.1,\"line_width\":2}},\"muted_glyph\":{\"type\":\"object\",\"name\":\"Line\",\"id\":\"p1053\",\"attributes\":{\"x\":{\"type\":\"field\",\"field\":\"x\"},\"y\":{\"type\":\"field\",\"field\":\"y\"},\"line_color\":\"red\",\"line_alpha\":0.2,\"line_width\":2}}}}],\"toolbar\":{\"type\":\"object\",\"name\":\"Toolbar\",\"id\":\"p1012\",\"attributes\":{\"tools\":[{\"type\":\"object\",\"name\":\"PanTool\",\"id\":\"p1025\"},{\"type\":\"object\",\"name\":\"WheelZoomTool\",\"id\":\"p1026\",\"attributes\":{\"renderers\":\"auto\"}},{\"type\":\"object\",\"name\":\"BoxZoomTool\",\"id\":\"p1027\",\"attributes\":{\"dimensions\":\"both\",\"overlay\":{\"type\":\"object\",\"name\":\"BoxAnnotation\",\"id\":\"p1028\",\"attributes\":{\"syncable\":false,\"line_color\":\"black\",\"line_alpha\":1.0,\"line_width\":2,\"line_dash\":[4,4],\"fill_color\":\"lightgrey\",\"fill_alpha\":0.5,\"level\":\"overlay\",\"visible\":false,\"left\":{\"type\":\"number\",\"value\":\"nan\"},\"right\":{\"type\":\"number\",\"value\":\"nan\"},\"top\":{\"type\":\"number\",\"value\":\"nan\"},\"bottom\":{\"type\":\"number\",\"value\":\"nan\"},\"left_units\":\"canvas\",\"right_units\":\"canvas\",\"top_units\":\"canvas\",\"bottom_units\":\"canvas\",\"handles\":{\"type\":\"object\",\"name\":\"BoxInteractionHandles\",\"id\":\"p1034\",\"attributes\":{\"all\":{\"type\":\"object\",\"name\":\"AreaVisuals\",\"id\":\"p1033\",\"attributes\":{\"fill_color\":\"white\",\"hover_fill_color\":\"lightgray\"}}}}}}}},{\"type\":\"object\",\"name\":\"ResetTool\",\"id\":\"p1035\"},{\"type\":\"object\",\"name\":\"SaveTool\",\"id\":\"p1036\"}]}},\"toolbar_location\":\"above\",\"left\":[{\"type\":\"object\",\"name\":\"LinearAxis\",\"id\":\"p1020\",\"attributes\":{\"ticker\":{\"type\":\"object\",\"name\":\"BasicTicker\",\"id\":\"p1021\",\"attributes\":{\"mantissas\":[1,2,5]}},\"formatter\":{\"type\":\"object\",\"name\":\"BasicTickFormatter\",\"id\":\"p1022\"},\"axis_label\":\"Value\",\"major_label_policy\":{\"type\":\"object\",\"name\":\"AllLabels\",\"id\":\"p1023\"}}}],\"below\":[{\"type\":\"object\",\"name\":\"LinearAxis\",\"id\":\"p1015\",\"attributes\":{\"ticker\":{\"type\":\"object\",\"name\":\"BasicTicker\",\"id\":\"p1016\",\"attributes\":{\"mantissas\":[1,2,5]}},\"formatter\":{\"type\":\"object\",\"name\":\"BasicTickFormatter\",\"id\":\"p1017\"},\"axis_label\":\"Index\",\"major_label_policy\":{\"type\":\"object\",\"name\":\"AllLabels\",\"id\":\"p1018\"}}}],\"center\":[{\"type\":\"object\",\"name\":\"Grid\",\"id\":\"p1019\",\"attributes\":{\"axis\":{\"id\":\"p1015\"},\"grid_line_alpha\":0.3}},{\"type\":\"object\",\"name\":\"Grid\",\"id\":\"p1024\",\"attributes\":{\"dimension\":1,\"axis\":{\"id\":\"p1020\"},\"grid_line_alpha\":0.3}},{\"type\":\"object\",\"name\":\"Legend\",\"id\":\"p1046\",\"attributes\":{\"location\":\"top_left\",\"click_policy\":\"hide\",\"items\":[{\"type\":\"object\",\"name\":\"LegendItem\",\"id\":\"p1047\",\"attributes\":{\"label\":{\"type\":\"value\",\"value\":\"Actual\"},\"renderers\":[{\"id\":\"p1043\"}]}},{\"type\":\"object\",\"name\":\"LegendItem\",\"id\":\"p1057\",\"attributes\":{\"label\":{\"type\":\"value\",\"value\":\"Predicted\"},\"renderers\":[{\"id\":\"p1054\"}]}}]}}]}}]}};\n  const render_items = [{\"docid\":\"fb26a8ed-9bf5-40b9-a1db-d19bca807a2f\",\"roots\":{\"p1003\":\"a04857bc-e190-4f83-a8f8-b7d0432af3e4\"},\"root_ids\":[\"p1003\"]}];\n  void root.Bokeh.embed.embed_items_notebook(docs_json, render_items);\n  }\n  if (root.Bokeh !== undefined) {\n    embed_document(root);\n  } else {\n    let attempts = 0;\n    const timer = setInterval(function(root) {\n      if (root.Bokeh !== undefined) {\n        clearInterval(timer);\n        embed_document(root);\n      } else {\n        attempts++;\n        if (attempts > 100) {\n          clearInterval(timer);\n          console.log(\"Bokeh: ERROR: Unable to run BokehJS code because BokehJS library is missing\");\n        }\n      }\n    }, 10, root)\n  }\n})(window);",
      "application/vnd.bokehjs_exec.v0+json": ""
     },
     "metadata": {
      "application/vnd.bokehjs_exec.v0+json": {
       "id": "p1003"
      }
     },
     "output_type": "display_data"
    }
   ],
   "source": [
    "plot_predictions(base_xgb_model, X_val[-200:], y_val[-200:])"
   ]
  },
  {
   "cell_type": "code",
   "execution_count": 119,
   "id": "866992af-afe7-426e-baf9-e92cd449c0bc",
   "metadata": {},
   "outputs": [],
   "source": [
    "base_test_metrics_df = evaluate_model(\n",
    "    base_xgb_model,\n",
    "    X_test, \n",
    "    y_test\n",
    ")"
   ]
  },
  {
   "cell_type": "code",
   "execution_count": 120,
   "id": "d0e62a22-a8c9-4a57-9ac8-b9a0e1db0acd",
   "metadata": {},
   "outputs": [
    {
     "data": {
      "text/html": [
       "<div>\n",
       "<style scoped>\n",
       "    .dataframe tbody tr th:only-of-type {\n",
       "        vertical-align: middle;\n",
       "    }\n",
       "\n",
       "    .dataframe tbody tr th {\n",
       "        vertical-align: top;\n",
       "    }\n",
       "\n",
       "    .dataframe thead th {\n",
       "        text-align: right;\n",
       "    }\n",
       "</style>\n",
       "<table border=\"1\" class=\"dataframe\">\n",
       "  <thead>\n",
       "    <tr style=\"text-align: right;\">\n",
       "      <th></th>\n",
       "      <th>R2_Score</th>\n",
       "      <th>MAE</th>\n",
       "      <th>MSE</th>\n",
       "      <th>RMSE</th>\n",
       "    </tr>\n",
       "  </thead>\n",
       "  <tbody>\n",
       "    <tr>\n",
       "      <th>0</th>\n",
       "      <td>0.808483</td>\n",
       "      <td>806.046875</td>\n",
       "      <td>1456909.75</td>\n",
       "      <td>1207.025165</td>\n",
       "    </tr>\n",
       "  </tbody>\n",
       "</table>\n",
       "</div>"
      ],
      "text/plain": [
       "   R2_Score         MAE         MSE         RMSE\n",
       "0  0.808483  806.046875  1456909.75  1207.025165"
      ]
     },
     "execution_count": 120,
     "metadata": {},
     "output_type": "execute_result"
    }
   ],
   "source": [
    "base_test_metrics_df"
   ]
  },
  {
   "cell_type": "code",
   "execution_count": 121,
   "id": "311c6598-c3cd-46e6-a975-aa7125b35c34",
   "metadata": {},
   "outputs": [
    {
     "data": {
      "text/html": [
       "\n",
       "  <div id=\"f1525720-ea5b-4e2c-ab63-a0d749de910d\" data-root-id=\"p1062\" style=\"display: contents;\"></div>\n"
      ]
     },
     "metadata": {},
     "output_type": "display_data"
    },
    {
     "data": {
      "application/javascript": "(function(root) {\n  function embed_document(root) {\n  const docs_json = {\"34ffd426-1db8-4bdf-ab21-586a045fa170\":{\"version\":\"3.7.3\",\"title\":\"Bokeh Application\",\"roots\":[{\"type\":\"object\",\"name\":\"Figure\",\"id\":\"p1062\",\"attributes\":{\"width\":1200,\"x_range\":{\"type\":\"object\",\"name\":\"DataRange1d\",\"id\":\"p1063\"},\"y_range\":{\"type\":\"object\",\"name\":\"DataRange1d\",\"id\":\"p1064\"},\"x_scale\":{\"type\":\"object\",\"name\":\"LinearScale\",\"id\":\"p1072\"},\"y_scale\":{\"type\":\"object\",\"name\":\"LinearScale\",\"id\":\"p1073\"},\"title\":{\"type\":\"object\",\"name\":\"Title\",\"id\":\"p1065\",\"attributes\":{\"text\":\"Actual vs Predicted\"}},\"renderers\":[{\"type\":\"object\",\"name\":\"GlyphRenderer\",\"id\":\"p1102\",\"attributes\":{\"data_source\":{\"type\":\"object\",\"name\":\"ColumnDataSource\",\"id\":\"p1096\",\"attributes\":{\"selected\":{\"type\":\"object\",\"name\":\"Selection\",\"id\":\"p1097\",\"attributes\":{\"indices\":[],\"line_indices\":[]}},\"selection_policy\":{\"type\":\"object\",\"name\":\"UnionRenderers\",\"id\":\"p1098\"},\"data\":{\"type\":\"map\",\"entries\":[[\"x\",{\"type\":\"ndarray\",\"array\":{\"type\":\"bytes\",\"data\":\"AAAAAAEAAAACAAAAAwAAAAQAAAAFAAAABgAAAAcAAAAIAAAACQAAAAoAAAALAAAADAAAAA0AAAAOAAAADwAAABAAAAARAAAAEgAAABMAAAAUAAAAFQAAABYAAAAXAAAAGAAAABkAAAAaAAAAGwAAABwAAAAdAAAAHgAAAB8AAAAgAAAAIQAAACIAAAAjAAAAJAAAACUAAAAmAAAAJwAAACgAAAApAAAAKgAAACsAAAAsAAAALQAAAC4AAAAvAAAAMAAAADEAAAAyAAAAMwAAADQAAAA1AAAANgAAADcAAAA4AAAAOQAAADoAAAA7AAAAPAAAAD0AAAA+AAAAPwAAAEAAAABBAAAAQgAAAEMAAABEAAAARQAAAEYAAABHAAAASAAAAEkAAABKAAAASwAAAEwAAABNAAAATgAAAE8AAABQAAAAUQAAAFIAAABTAAAAVAAAAFUAAABWAAAAVwAAAFgAAABZAAAAWgAAAFsAAABcAAAAXQAAAF4AAABfAAAAYAAAAGEAAABiAAAAYwAAAGQAAABlAAAAZgAAAGcAAABoAAAAaQAAAGoAAABrAAAAbAAAAG0AAABuAAAAbwAAAHAAAABxAAAAcgAAAHMAAAB0AAAAdQAAAHYAAAB3AAAAeAAAAHkAAAB6AAAAewAAAHwAAAB9AAAAfgAAAH8AAACAAAAAgQAAAIIAAACDAAAAhAAAAIUAAACGAAAAhwAAAIgAAACJAAAAigAAAIsAAACMAAAAjQAAAI4AAACPAAAAkAAAAJEAAACSAAAAkwAAAJQAAACVAAAAlgAAAJcAAACYAAAAmQAAAJoAAACbAAAAnAAAAJ0AAACeAAAAnwAAAKAAAAChAAAAogAAAKMAAACkAAAApQAAAKYAAACnAAAAqAAAAKkAAACqAAAAqwAAAKwAAACtAAAArgAAAK8AAACwAAAAsQAAALIAAACzAAAAtAAAALUAAAC2AAAAtwAAALgAAAC5AAAAugAAALsAAAC8AAAAvQAAAL4AAAC/AAAAwAAAAMEAAADCAAAAwwAAAMQAAADFAAAAxgAAAMcAAAA=\"},\"shape\":[200],\"dtype\":\"int32\",\"order\":\"little\"}],[\"y\",{\"type\":\"ndarray\",\"array\":{\"type\":\"bytes\",\"data\":\"6xsAAH4bAAApGAAAMBEAAKgMAAADCQAAfAcAAMUEAAC+AgAAVwEAAPIAAACKAAAAyAAAACYCAACLBAAA5gwAAOARAAA0CgAAogQAAO4EAACQBgAA/wQAAPQFAACPBwAAuAoAADIbAAA+HwAAMhcAAJkQAABHDAAAuQgAAOwFAADTAgAAewEAAPoAAADEAAAALgEAABAEAADrCwAA1hkAANMoAABCHAAANhIAAKwRAABqEwAAQxQAABMYAADIHAAAQSQAACM0AAAvMQAAbCIAAEcXAABlEQAAhg0AAMkHAAAcBAAA3AEAADUBAACzAAAANgEAAM4DAABqCwAAkxkAAAMoAADEHAAAaRIAAC4RAADUEwAAgxMAACYVAABFGAAAWB0AAOErAADrKQAAMh0AALkSAAArDgAAawsAAMAGAAC9AwAA0AEAABEBAADDAAAANQEAAMcDAACTCgAAnBcAAF4kAACTGgAA5RAAAJgQAAAREwAAFhQAAB0YAABOGwAAdiAAAMAuAACBLQAABSEAABsVAABfEAAA6gwAANoIAADgBAAA4gIAAKEBAAAhAQAAQQEAAK0DAADICQAANxUAALwfAABMGgAAcxQAAIwWAAAXGQAAWhsAAEQfAAAEIgAAHCcAACgtAABiKgAAux8AAHEMAADkCwAA2AwAAIYKAACVCAAABAYAABoEAAC/AgAA9gEAAMkBAAD8AwAA4wcAAI4OAACXFwAAwyAAAG0pAABdMgAAXDYAALc0AAD9MQAAly8AAOsqAACcHgAA6RQAALQOAAC6DAAAhgsAAKYLAACrCAAAuAUAANIDAACzAgAAHQIAAHQBAADZAgAAVgUAADYJAADqDgAA3hMAAJsXAAAkGgAAvBoAAOEaAAB8GwAA6BoAAMYaAAAmGAAAVRMAAF4OAABSCgAAgwQAAAMEAADUAgAAlgEAAOkAAAC6AAAAKgEAALwDAABNCgAAqBMAAJUeAADAFwAAlhAAAM0RAACxFAAA4hYAAKcZAABLHgAApiQAAK8wAAA0IgAASxcAAMEQAAApBgAAFAIAAJQBAAA=\"},\"shape\":[200],\"dtype\":\"int32\",\"order\":\"little\"}]]}}},\"view\":{\"type\":\"object\",\"name\":\"CDSView\",\"id\":\"p1103\",\"attributes\":{\"filter\":{\"type\":\"object\",\"name\":\"AllIndices\",\"id\":\"p1104\"}}},\"glyph\":{\"type\":\"object\",\"name\":\"Line\",\"id\":\"p1099\",\"attributes\":{\"x\":{\"type\":\"field\",\"field\":\"x\"},\"y\":{\"type\":\"field\",\"field\":\"y\"},\"line_color\":\"blue\",\"line_width\":2}},\"nonselection_glyph\":{\"type\":\"object\",\"name\":\"Line\",\"id\":\"p1100\",\"attributes\":{\"x\":{\"type\":\"field\",\"field\":\"x\"},\"y\":{\"type\":\"field\",\"field\":\"y\"},\"line_color\":\"blue\",\"line_alpha\":0.1,\"line_width\":2}},\"muted_glyph\":{\"type\":\"object\",\"name\":\"Line\",\"id\":\"p1101\",\"attributes\":{\"x\":{\"type\":\"field\",\"field\":\"x\"},\"y\":{\"type\":\"field\",\"field\":\"y\"},\"line_color\":\"blue\",\"line_alpha\":0.2,\"line_width\":2}}}},{\"type\":\"object\",\"name\":\"GlyphRenderer\",\"id\":\"p1113\",\"attributes\":{\"data_source\":{\"type\":\"object\",\"name\":\"ColumnDataSource\",\"id\":\"p1107\",\"attributes\":{\"selected\":{\"type\":\"object\",\"name\":\"Selection\",\"id\":\"p1108\",\"attributes\":{\"indices\":[],\"line_indices\":[]}},\"selection_policy\":{\"type\":\"object\",\"name\":\"UnionRenderers\",\"id\":\"p1109\"},\"data\":{\"type\":\"map\",\"entries\":[[\"x\",{\"type\":\"ndarray\",\"array\":{\"type\":\"bytes\",\"data\":\"AAAAAAEAAAACAAAAAwAAAAQAAAAFAAAABgAAAAcAAAAIAAAACQAAAAoAAAALAAAADAAAAA0AAAAOAAAADwAAABAAAAARAAAAEgAAABMAAAAUAAAAFQAAABYAAAAXAAAAGAAAABkAAAAaAAAAGwAAABwAAAAdAAAAHgAAAB8AAAAgAAAAIQAAACIAAAAjAAAAJAAAACUAAAAmAAAAJwAAACgAAAApAAAAKgAAACsAAAAsAAAALQAAAC4AAAAvAAAAMAAAADEAAAAyAAAAMwAAADQAAAA1AAAANgAAADcAAAA4AAAAOQAAADoAAAA7AAAAPAAAAD0AAAA+AAAAPwAAAEAAAABBAAAAQgAAAEMAAABEAAAARQAAAEYAAABHAAAASAAAAEkAAABKAAAASwAAAEwAAABNAAAATgAAAE8AAABQAAAAUQAAAFIAAABTAAAAVAAAAFUAAABWAAAAVwAAAFgAAABZAAAAWgAAAFsAAABcAAAAXQAAAF4AAABfAAAAYAAAAGEAAABiAAAAYwAAAGQAAABlAAAAZgAAAGcAAABoAAAAaQAAAGoAAABrAAAAbAAAAG0AAABuAAAAbwAAAHAAAABxAAAAcgAAAHMAAAB0AAAAdQAAAHYAAAB3AAAAeAAAAHkAAAB6AAAAewAAAHwAAAB9AAAAfgAAAH8AAACAAAAAgQAAAIIAAACDAAAAhAAAAIUAAACGAAAAhwAAAIgAAACJAAAAigAAAIsAAACMAAAAjQAAAI4AAACPAAAAkAAAAJEAAACSAAAAkwAAAJQAAACVAAAAlgAAAJcAAACYAAAAmQAAAJoAAACbAAAAnAAAAJ0AAACeAAAAnwAAAKAAAAChAAAAogAAAKMAAACkAAAApQAAAKYAAACnAAAAqAAAAKkAAACqAAAAqwAAAKwAAACtAAAArgAAAK8AAACwAAAAsQAAALIAAACzAAAAtAAAALUAAAC2AAAAtwAAALgAAAC5AAAAugAAALsAAAC8AAAAvQAAAL4AAAC/AAAAwAAAAMEAAADCAAAAwwAAAMQAAADFAAAAxgAAAMcAAAA=\"},\"shape\":[200],\"dtype\":\"int32\",\"order\":\"little\"}],[\"y\",{\"type\":\"ndarray\",\"array\":{\"type\":\"bytes\",\"data\":\"q1mYRefIsUWr0q1FL5aFRf0wMUX8ABBFRevPRLKkf0RDLzZEV3ySQ6pPDUOpGuxCN58VQh7lAUSmIN1EvZuTRetn3UU5CZ9F6XpcRRsDV0Uft31F7mOKRe5ho0VnDrtFTMDgRQ40FUacEBRGLJ/URSKAiEW8KF1FrBotRV7AzURW+lNEnnXOQ1t4rUN8q2FDopGlQ2AJOUTGOStFDfakRTgEAUbNor9F1qZrRf+TbEW4VoRFZ2mkRQfQtUWLw8ZFvIXvRScIKUai3iBGIo/FReBCiUXfR0BF6mYYRd1AwkSjjGJEU22wQ/9Nm0NKT4BDIuu5Q2NpiURVJyVFkrSmRWpBB0Y1JshFhRWERZjefkXp4IxFhWKORW8yoEU4KcBFRxbaRVZRA0am2wVGRDK5RUoafEVdNkxFuqEiRW0W00QOVIhEDHXiQwLUpkMczphDpSeWQ529KUSLzwxFBVWTRcav6UU76qtFOn9kRQU7aEUod4hFGCePRbrppEXDlsFFhyTkRU19DkZCOhRGlorKRWZohEWvnlJFDkUrRUfs+EQPnVhEbUvrQ788AkOIrSBBkQqhQhCtAkTaWgdF7o2JRWKb1UWUEp9F62ltRX2Cd0USd5JFAQSuRTXhxkUerdlFvvnmRf70HEaN2glGJqnARe68akUsuDVFNPoqRSjz2kQacfRE2p61RG5md0SY1whEA6KmQ62r/UPAVdJDLprRRCYiZkX3e6lFjYi+Renb/EXDixZGVCofRsT/I0YIsCdGOsckRjIjJ0bkbB1GlaICRpcnqUXpcGtF6XdKRXhICEVCLkNEt1hwRKr+0kN++JBDBft7QyMc2EM4/A1Ee84qRMAEZETvfPFEqXRmRd6Ha0Xip4NFaU5iRS0MdUWYfWlFZYgORfWuMkXALGNFPdsPRUffmUQ7/KhE/SOrRJVzJ0Sr4T1EUBk2Q7v/JUIBt3zCNBIZwo7aKkQmxiNF3eSWRWlx+kXiFJtFWLuKRc+yk0X9qLJFmky+Rce74UXflwVGqpwiRjhSWEZ7w0xG07/sRT8qn0VdRmNF0NYmRb0Iv0Q=\"},\"shape\":[200],\"dtype\":\"float32\",\"order\":\"little\"}]]}}},\"view\":{\"type\":\"object\",\"name\":\"CDSView\",\"id\":\"p1114\",\"attributes\":{\"filter\":{\"type\":\"object\",\"name\":\"AllIndices\",\"id\":\"p1115\"}}},\"glyph\":{\"type\":\"object\",\"name\":\"Line\",\"id\":\"p1110\",\"attributes\":{\"x\":{\"type\":\"field\",\"field\":\"x\"},\"y\":{\"type\":\"field\",\"field\":\"y\"},\"line_color\":\"red\",\"line_width\":2}},\"nonselection_glyph\":{\"type\":\"object\",\"name\":\"Line\",\"id\":\"p1111\",\"attributes\":{\"x\":{\"type\":\"field\",\"field\":\"x\"},\"y\":{\"type\":\"field\",\"field\":\"y\"},\"line_color\":\"red\",\"line_alpha\":0.1,\"line_width\":2}},\"muted_glyph\":{\"type\":\"object\",\"name\":\"Line\",\"id\":\"p1112\",\"attributes\":{\"x\":{\"type\":\"field\",\"field\":\"x\"},\"y\":{\"type\":\"field\",\"field\":\"y\"},\"line_color\":\"red\",\"line_alpha\":0.2,\"line_width\":2}}}}],\"toolbar\":{\"type\":\"object\",\"name\":\"Toolbar\",\"id\":\"p1071\",\"attributes\":{\"tools\":[{\"type\":\"object\",\"name\":\"PanTool\",\"id\":\"p1084\"},{\"type\":\"object\",\"name\":\"WheelZoomTool\",\"id\":\"p1085\",\"attributes\":{\"renderers\":\"auto\"}},{\"type\":\"object\",\"name\":\"BoxZoomTool\",\"id\":\"p1086\",\"attributes\":{\"dimensions\":\"both\",\"overlay\":{\"type\":\"object\",\"name\":\"BoxAnnotation\",\"id\":\"p1087\",\"attributes\":{\"syncable\":false,\"line_color\":\"black\",\"line_alpha\":1.0,\"line_width\":2,\"line_dash\":[4,4],\"fill_color\":\"lightgrey\",\"fill_alpha\":0.5,\"level\":\"overlay\",\"visible\":false,\"left\":{\"type\":\"number\",\"value\":\"nan\"},\"right\":{\"type\":\"number\",\"value\":\"nan\"},\"top\":{\"type\":\"number\",\"value\":\"nan\"},\"bottom\":{\"type\":\"number\",\"value\":\"nan\"},\"left_units\":\"canvas\",\"right_units\":\"canvas\",\"top_units\":\"canvas\",\"bottom_units\":\"canvas\",\"handles\":{\"type\":\"object\",\"name\":\"BoxInteractionHandles\",\"id\":\"p1093\",\"attributes\":{\"all\":{\"type\":\"object\",\"name\":\"AreaVisuals\",\"id\":\"p1092\",\"attributes\":{\"fill_color\":\"white\",\"hover_fill_color\":\"lightgray\"}}}}}}}},{\"type\":\"object\",\"name\":\"ResetTool\",\"id\":\"p1094\"},{\"type\":\"object\",\"name\":\"SaveTool\",\"id\":\"p1095\"}]}},\"toolbar_location\":\"above\",\"left\":[{\"type\":\"object\",\"name\":\"LinearAxis\",\"id\":\"p1079\",\"attributes\":{\"ticker\":{\"type\":\"object\",\"name\":\"BasicTicker\",\"id\":\"p1080\",\"attributes\":{\"mantissas\":[1,2,5]}},\"formatter\":{\"type\":\"object\",\"name\":\"BasicTickFormatter\",\"id\":\"p1081\"},\"axis_label\":\"Value\",\"major_label_policy\":{\"type\":\"object\",\"name\":\"AllLabels\",\"id\":\"p1082\"}}}],\"below\":[{\"type\":\"object\",\"name\":\"LinearAxis\",\"id\":\"p1074\",\"attributes\":{\"ticker\":{\"type\":\"object\",\"name\":\"BasicTicker\",\"id\":\"p1075\",\"attributes\":{\"mantissas\":[1,2,5]}},\"formatter\":{\"type\":\"object\",\"name\":\"BasicTickFormatter\",\"id\":\"p1076\"},\"axis_label\":\"Index\",\"major_label_policy\":{\"type\":\"object\",\"name\":\"AllLabels\",\"id\":\"p1077\"}}}],\"center\":[{\"type\":\"object\",\"name\":\"Grid\",\"id\":\"p1078\",\"attributes\":{\"axis\":{\"id\":\"p1074\"},\"grid_line_alpha\":0.3}},{\"type\":\"object\",\"name\":\"Grid\",\"id\":\"p1083\",\"attributes\":{\"dimension\":1,\"axis\":{\"id\":\"p1079\"},\"grid_line_alpha\":0.3}},{\"type\":\"object\",\"name\":\"Legend\",\"id\":\"p1105\",\"attributes\":{\"location\":\"top_left\",\"click_policy\":\"hide\",\"items\":[{\"type\":\"object\",\"name\":\"LegendItem\",\"id\":\"p1106\",\"attributes\":{\"label\":{\"type\":\"value\",\"value\":\"Actual\"},\"renderers\":[{\"id\":\"p1102\"}]}},{\"type\":\"object\",\"name\":\"LegendItem\",\"id\":\"p1116\",\"attributes\":{\"label\":{\"type\":\"value\",\"value\":\"Predicted\"},\"renderers\":[{\"id\":\"p1113\"}]}}]}}]}}]}};\n  const render_items = [{\"docid\":\"34ffd426-1db8-4bdf-ab21-586a045fa170\",\"roots\":{\"p1062\":\"f1525720-ea5b-4e2c-ab63-a0d749de910d\"},\"root_ids\":[\"p1062\"]}];\n  void root.Bokeh.embed.embed_items_notebook(docs_json, render_items);\n  }\n  if (root.Bokeh !== undefined) {\n    embed_document(root);\n  } else {\n    let attempts = 0;\n    const timer = setInterval(function(root) {\n      if (root.Bokeh !== undefined) {\n        clearInterval(timer);\n        embed_document(root);\n      } else {\n        attempts++;\n        if (attempts > 100) {\n          clearInterval(timer);\n          console.log(\"Bokeh: ERROR: Unable to run BokehJS code because BokehJS library is missing\");\n        }\n      }\n    }, 10, root)\n  }\n})(window);",
      "application/vnd.bokehjs_exec.v0+json": ""
     },
     "metadata": {
      "application/vnd.bokehjs_exec.v0+json": {
       "id": "p1062"
      }
     },
     "output_type": "display_data"
    }
   ],
   "source": [
    "plot_predictions(base_xgb_model, X_test[-200:], y_test[-200:])"
   ]
  },
  {
   "cell_type": "markdown",
   "id": "3ed5ae32-468e-484f-9de4-07416c7b4254",
   "metadata": {},
   "source": [
    "# HPO"
   ]
  },
  {
   "cell_type": "code",
   "execution_count": 122,
   "id": "99d6fcb2-e9db-4c65-ba07-2938280c3da5",
   "metadata": {},
   "outputs": [],
   "source": [
    "def optimize_hpo(X: pd.DataFrame, y: pd.Series, n_trials: int = 50) -> Dict:\n",
    "    def objective(trial):\n",
    "        # Espacio de búsqueda de hiperparámetros\n",
    "        params = {\n",
    "            \"n_estimators\": trial.suggest_int(\"n_estimators\", 50, 300),\n",
    "            \"max_depth\": trial.suggest_int(\"max_depth\", 3, 12),\n",
    "            \"learning_rate\": trial.suggest_float(\"learning_rate\", 1e-3, 0.3, log=True),\n",
    "            \"subsample\": trial.suggest_float(\"subsample\", 0.5, 1.0),\n",
    "            \"colsample_bytree\": trial.suggest_float(\"colsample_bytree\", 0.5, 1.0),\n",
    "            \"reg_alpha\": trial.suggest_float(\"reg_alpha\", 0, 1.0),\n",
    "            \"reg_lambda\": trial.suggest_float(\"reg_lambda\", 0, 1.0),\n",
    "            \"objective\": \"reg:squarederror\",  # Para regresión\n",
    "            \"random_state\": 42,\n",
    "            \"n_jobs\": -1\n",
    "        }\n",
    "\n",
    "        model = xgb.XGBRegressor(**params)\n",
    "\n",
    "        # Validación cruzada con RMSE negativo (porque scikit-learn lo invierte)\n",
    "        cv = KFold(n_splits=3, shuffle=True, random_state=42)\n",
    "        scores = cross_val_score(model, X, y, scoring=\"neg_root_mean_squared_error\", cv=cv)\n",
    "        return np.mean(scores)  # mayor = mejor\n",
    "\n",
    "    # Maximiza el valor negativo del RMSE (menor RMSE)\n",
    "    study = optuna.create_study(\n",
    "        direction=\"maximize\" # Direction of optimization. Set minimize for minimization and maximize for maximization.\n",
    "    )\n",
    "    study.optimize(objective, n_trials=n_trials)\n",
    "\n",
    "    best_params = study.best_params\n",
    "    best_params[\"objective\"] = \"reg:squarederror\"  # asegurar que se mantenga\n",
    "\n",
    "    return best_params"
   ]
  },
  {
   "cell_type": "markdown",
   "id": "70c33ad2-20f8-4d66-96b4-825f4489c17a",
   "metadata": {},
   "source": [
    "## Run HPO"
   ]
  },
  {
   "cell_type": "code",
   "execution_count": 123,
   "id": "c34692c4-7170-4444-b251-77d5812390cd",
   "metadata": {},
   "outputs": [
    {
     "name": "stderr",
     "output_type": "stream",
     "text": [
      "[I 2025-07-25 18:20:32,242] A new study created in memory with name: no-name-a43f0b2a-dabf-4c47-9fee-20afd809b49e\n",
      "[I 2025-07-25 18:20:33,264] Trial 0 finished with value: -807.5281778971354 and parameters: {'n_estimators': 106, 'max_depth': 6, 'learning_rate': 0.0860843111345956, 'subsample': 0.8570769014047303, 'colsample_bytree': 0.8674139470810616, 'reg_alpha': 0.9884673773487942, 'reg_lambda': 0.047735956789692}. Best is trial 0 with value: -807.5281778971354.\n",
      "[I 2025-07-25 18:20:33,729] Trial 1 finished with value: -940.2134399414062 and parameters: {'n_estimators': 161, 'max_depth': 4, 'learning_rate': 0.12168185150427174, 'subsample': 0.8075426694692764, 'colsample_bytree': 0.8018939727257078, 'reg_alpha': 0.7167055010091191, 'reg_lambda': 0.682770541759184}. Best is trial 0 with value: -807.5281778971354.\n",
      "[I 2025-07-25 18:20:35,525] Trial 2 finished with value: -2627.5655924479165 and parameters: {'n_estimators': 60, 'max_depth': 11, 'learning_rate': 0.01400793148378568, 'subsample': 0.9163779354485134, 'colsample_bytree': 0.5494838888891891, 'reg_alpha': 0.28593676882623076, 'reg_lambda': 0.968554369590003}. Best is trial 0 with value: -807.5281778971354.\n",
      "[I 2025-07-25 18:20:39,019] Trial 3 finished with value: -1337.390869140625 and parameters: {'n_estimators': 145, 'max_depth': 8, 'learning_rate': 0.014383065856665465, 'subsample': 0.6532341092470948, 'colsample_bytree': 0.7414581590523919, 'reg_alpha': 0.9027584055866209, 'reg_lambda': 0.906986986250955}. Best is trial 0 with value: -807.5281778971354.\n",
      "[I 2025-07-25 18:20:41,858] Trial 4 finished with value: -819.9493001302084 and parameters: {'n_estimators': 166, 'max_depth': 10, 'learning_rate': 0.285384507494664, 'subsample': 0.9420614528355276, 'colsample_bytree': 0.7081093519087014, 'reg_alpha': 0.3037206458378654, 'reg_lambda': 0.3432477754343616}. Best is trial 0 with value: -807.5281778971354.\n",
      "[I 2025-07-25 18:20:43,462] Trial 5 finished with value: -1674.457275390625 and parameters: {'n_estimators': 131, 'max_depth': 10, 'learning_rate': 0.010306827676121946, 'subsample': 0.5429109846527784, 'colsample_bytree': 0.867525673868052, 'reg_alpha': 0.957378350342554, 'reg_lambda': 0.6300438493957345}. Best is trial 0 with value: -807.5281778971354.\n",
      "[I 2025-07-25 18:20:44,879] Trial 6 finished with value: -3803.200439453125 and parameters: {'n_estimators': 70, 'max_depth': 10, 'learning_rate': 0.0011826519840455005, 'subsample': 0.7659417438921221, 'colsample_bytree': 0.9416335560761517, 'reg_alpha': 0.1161490302423942, 'reg_lambda': 0.4255372207328546}. Best is trial 0 with value: -807.5281778971354.\n",
      "[I 2025-07-25 18:20:48,127] Trial 7 finished with value: -2220.87255859375 and parameters: {'n_estimators': 184, 'max_depth': 11, 'learning_rate': 0.004635541954596344, 'subsample': 0.9682092476946604, 'colsample_bytree': 0.889095514997481, 'reg_alpha': 0.047765104913128575, 'reg_lambda': 0.4970565263132798}. Best is trial 0 with value: -807.5281778971354.\n",
      "[I 2025-07-25 18:20:49,057] Trial 8 finished with value: -3499.1351725260415 and parameters: {'n_estimators': 56, 'max_depth': 11, 'learning_rate': 0.003329070736309201, 'subsample': 0.9142265040866883, 'colsample_bytree': 0.9530154076136289, 'reg_alpha': 0.8042133659464512, 'reg_lambda': 0.1979115529234311}. Best is trial 0 with value: -807.5281778971354.\n",
      "[I 2025-07-25 18:20:50,797] Trial 9 finished with value: -1084.7057291666667 and parameters: {'n_estimators': 250, 'max_depth': 9, 'learning_rate': 0.011511472758222828, 'subsample': 0.5694744814796702, 'colsample_bytree': 0.8066254238032198, 'reg_alpha': 0.17401109198378584, 'reg_lambda': 0.940507586071962}. Best is trial 0 with value: -807.5281778971354.\n",
      "[I 2025-07-25 18:20:51,657] Trial 10 finished with value: -837.3993326822916 and parameters: {'n_estimators': 263, 'max_depth': 5, 'learning_rate': 0.06218984179437955, 'subsample': 0.8325619030786555, 'colsample_bytree': 0.6518398678480486, 'reg_alpha': 0.5644520839341678, 'reg_lambda': 0.0074297426448685505}. Best is trial 0 with value: -807.5281778971354.\n",
      "[I 2025-07-25 18:20:52,161] Trial 11 finished with value: -738.7877197265625 and parameters: {'n_estimators': 110, 'max_depth': 6, 'learning_rate': 0.24023014467616785, 'subsample': 0.9923079968255222, 'colsample_bytree': 0.6877263450160296, 'reg_alpha': 0.3657833723635232, 'reg_lambda': 0.22028182373326127}. Best is trial 11 with value: -738.7877197265625.\n",
      "[I 2025-07-25 18:20:52,449] Trial 12 finished with value: -880.6037394205729 and parameters: {'n_estimators': 103, 'max_depth': 6, 'learning_rate': 0.08752626623735617, 'subsample': 0.9931731939484806, 'colsample_bytree': 0.6178767095990462, 'reg_alpha': 0.5001810104838078, 'reg_lambda': 0.00017642067083800672}. Best is trial 11 with value: -738.7877197265625.\n",
      "[I 2025-07-25 18:20:53,071] Trial 13 finished with value: -835.6201578776041 and parameters: {'n_estimators': 108, 'max_depth': 7, 'learning_rate': 0.28541908680225997, 'subsample': 0.873699706786203, 'colsample_bytree': 0.5005063383640307, 'reg_alpha': 0.6373849797786022, 'reg_lambda': 0.19618133893040623}. Best is trial 11 with value: -738.7877197265625.\n",
      "[I 2025-07-25 18:20:53,413] Trial 14 finished with value: -1339.5410563151042 and parameters: {'n_estimators': 201, 'max_depth': 3, 'learning_rate': 0.03902867032133244, 'subsample': 0.6840346537155533, 'colsample_bytree': 0.9967417051525329, 'reg_alpha': 0.3859106250809192, 'reg_lambda': 0.19105702418828158}. Best is trial 11 with value: -738.7877197265625.\n",
      "[I 2025-07-25 18:20:53,919] Trial 15 finished with value: -1093.8186848958333 and parameters: {'n_estimators': 111, 'max_depth': 6, 'learning_rate': 0.035227592828357704, 'subsample': 0.8615497291414165, 'colsample_bytree': 0.6815057033759163, 'reg_alpha': 0.38932401670434547, 'reg_lambda': 0.11874265355282951}. Best is trial 11 with value: -738.7877197265625.\n",
      "[I 2025-07-25 18:20:55,197] Trial 16 finished with value: -678.4933064778646 and parameters: {'n_estimators': 225, 'max_depth': 7, 'learning_rate': 0.13617982589967087, 'subsample': 0.7595308447523875, 'colsample_bytree': 0.8110320020796413, 'reg_alpha': 0.7571133706497064, 'reg_lambda': 0.3375040377267925}. Best is trial 16 with value: -678.4933064778646.\n",
      "[I 2025-07-25 18:20:56,783] Trial 17 finished with value: -671.0848795572916 and parameters: {'n_estimators': 224, 'max_depth': 7, 'learning_rate': 0.1547194291543893, 'subsample': 0.7213826193013544, 'colsample_bytree': 0.7883639011502219, 'reg_alpha': 0.7737916283451692, 'reg_lambda': 0.31650549289217456}. Best is trial 17 with value: -671.0848795572916.\n",
      "[I 2025-07-25 18:20:58,294] Trial 18 finished with value: -691.7260945638021 and parameters: {'n_estimators': 231, 'max_depth': 8, 'learning_rate': 0.13308077097096266, 'subsample': 0.7083916012606568, 'colsample_bytree': 0.7898953144862051, 'reg_alpha': 0.8107995999261068, 'reg_lambda': 0.3817961151968391}. Best is trial 17 with value: -671.0848795572916.\n",
      "[I 2025-07-25 18:20:59,374] Trial 19 finished with value: -768.5953369140625 and parameters: {'n_estimators': 291, 'max_depth': 7, 'learning_rate': 0.030374005744043826, 'subsample': 0.6189525162877079, 'colsample_bytree': 0.75309740528203, 'reg_alpha': 0.7061637526518555, 'reg_lambda': 0.6230740265949628}. Best is trial 17 with value: -671.0848795572916.\n",
      "[I 2025-07-25 18:20:59,757] Trial 20 finished with value: -843.2474568684896 and parameters: {'n_estimators': 213, 'max_depth': 4, 'learning_rate': 0.16426758790760462, 'subsample': 0.7692941990392178, 'colsample_bytree': 0.832383906589439, 'reg_alpha': 0.8297359766997191, 'reg_lambda': 0.3098970002967495}. Best is trial 17 with value: -671.0848795572916.\n",
      "[I 2025-07-25 18:21:01,537] Trial 21 finished with value: -724.1985066731771 and parameters: {'n_estimators': 233, 'max_depth': 9, 'learning_rate': 0.14385542204402885, 'subsample': 0.7077105092388664, 'colsample_bytree': 0.7663221036199006, 'reg_alpha': 0.8158552633464558, 'reg_lambda': 0.35651818747119063}. Best is trial 17 with value: -671.0848795572916.\n",
      "[I 2025-07-25 18:21:03,386] Trial 22 finished with value: -694.5915323893229 and parameters: {'n_estimators': 222, 'max_depth': 8, 'learning_rate': 0.06609424649675649, 'subsample': 0.7155334563215938, 'colsample_bytree': 0.7943846876239021, 'reg_alpha': 0.6991871954527997, 'reg_lambda': 0.4778053313299766}. Best is trial 17 with value: -671.0848795572916.\n",
      "[I 2025-07-25 18:21:05,624] Trial 23 finished with value: -683.2081298828125 and parameters: {'n_estimators': 275, 'max_depth': 8, 'learning_rate': 0.175978313620808, 'subsample': 0.639077237962046, 'colsample_bytree': 0.8467008656213632, 'reg_alpha': 0.6011351875464914, 'reg_lambda': 0.27979768081969625}. Best is trial 17 with value: -671.0848795572916.\n",
      "[I 2025-07-25 18:21:09,997] Trial 24 finished with value: -718.9471028645834 and parameters: {'n_estimators': 294, 'max_depth': 9, 'learning_rate': 0.17990267500936505, 'subsample': 0.6242680635200529, 'colsample_bytree': 0.9065944199334235, 'reg_alpha': 0.5867732097215904, 'reg_lambda': 0.25787269572289045}. Best is trial 17 with value: -671.0848795572916.\n",
      "[I 2025-07-25 18:21:11,185] Trial 25 finished with value: -691.1121419270834 and parameters: {'n_estimators': 262, 'max_depth': 7, 'learning_rate': 0.053687424532480196, 'subsample': 0.5099014918564435, 'colsample_bytree': 0.840451935248278, 'reg_alpha': 0.48532032437993944, 'reg_lambda': 0.11283656708860479}. Best is trial 17 with value: -671.0848795572916.\n",
      "[I 2025-07-25 18:21:11,902] Trial 26 finished with value: -753.4098714192709 and parameters: {'n_estimators': 276, 'max_depth': 5, 'learning_rate': 0.09924669287397092, 'subsample': 0.7939578802830667, 'colsample_bytree': 0.7398119856367087, 'reg_alpha': 0.6334123488838493, 'reg_lambda': 0.5508647059638976}. Best is trial 17 with value: -671.0848795572916.\n",
      "[I 2025-07-25 18:21:15,778] Trial 27 finished with value: -878.1969197591146 and parameters: {'n_estimators': 195, 'max_depth': 12, 'learning_rate': 0.022746044672587673, 'subsample': 0.738374675313488, 'colsample_bytree': 0.8344447869133456, 'reg_alpha': 0.8958534900386717, 'reg_lambda': 0.2851443471153279}. Best is trial 17 with value: -671.0848795572916.\n",
      "[I 2025-07-25 18:21:16,841] Trial 28 finished with value: -670.2013549804688 and parameters: {'n_estimators': 246, 'max_depth': 7, 'learning_rate': 0.19338666300314944, 'subsample': 0.6055189414443986, 'colsample_bytree': 0.9148778099196662, 'reg_alpha': 0.729498322279446, 'reg_lambda': 0.4172106894440466}. Best is trial 28 with value: -670.2013549804688.\n",
      "[I 2025-07-25 18:21:18,358] Trial 29 finished with value: -777.3040568033854 and parameters: {'n_estimators': 247, 'max_depth': 5, 'learning_rate': 0.07741928512271685, 'subsample': 0.5854545043550549, 'colsample_bytree': 0.9203074013854788, 'reg_alpha': 0.7396393108217889, 'reg_lambda': 0.7718848670949648}. Best is trial 28 with value: -670.2013549804688.\n",
      "[I 2025-07-25 18:21:19,189] Trial 30 finished with value: -671.6957397460938 and parameters: {'n_estimators': 203, 'max_depth': 7, 'learning_rate': 0.20728919038539662, 'subsample': 0.6703433495286923, 'colsample_bytree': 0.9922585152004807, 'reg_alpha': 0.8905422026995304, 'reg_lambda': 0.4359798232113241}. Best is trial 28 with value: -670.2013549804688.\n",
      "[I 2025-07-25 18:21:20,305] Trial 31 finished with value: -659.7209065755209 and parameters: {'n_estimators': 215, 'max_depth': 7, 'learning_rate': 0.19063925751450742, 'subsample': 0.6617580339535417, 'colsample_bytree': 0.9934815243165345, 'reg_alpha': 0.9379590883594039, 'reg_lambda': 0.4228406355643216}. Best is trial 31 with value: -659.7209065755209.\n",
      "[I 2025-07-25 18:21:21,116] Trial 32 finished with value: -686.7705485026041 and parameters: {'n_estimators': 204, 'max_depth': 7, 'learning_rate': 0.24856901184231525, 'subsample': 0.6584971018581527, 'colsample_bytree': 0.9935356148251764, 'reg_alpha': 0.9922076400512556, 'reg_lambda': 0.41973507662522946}. Best is trial 31 with value: -659.7209065755209.\n",
      "[I 2025-07-25 18:21:21,635] Trial 33 finished with value: -699.3783162434896 and parameters: {'n_estimators': 183, 'max_depth': 6, 'learning_rate': 0.10515241051571385, 'subsample': 0.5936232877413992, 'colsample_bytree': 0.9752069757191393, 'reg_alpha': 0.8960257761512938, 'reg_lambda': 0.5578518734611676}. Best is trial 31 with value: -659.7209065755209.\n",
      "[I 2025-07-25 18:21:22,927] Trial 34 finished with value: -687.3716023763021 and parameters: {'n_estimators': 241, 'max_depth': 8, 'learning_rate': 0.20595584266401493, 'subsample': 0.6821221544238968, 'colsample_bytree': 0.9343852270865218, 'reg_alpha': 0.9147316958774444, 'reg_lambda': 0.4812110455319}. Best is trial 31 with value: -659.7209065755209.\n",
      "[I 2025-07-25 18:21:23,359] Trial 35 finished with value: -915.1302286783854 and parameters: {'n_estimators': 158, 'max_depth': 5, 'learning_rate': 0.05208128071390881, 'subsample': 0.6747191795414461, 'colsample_bytree': 0.9653060047890967, 'reg_alpha': 0.8568420934350397, 'reg_lambda': 0.4093612908918687}. Best is trial 31 with value: -659.7209065755209.\n",
      "[I 2025-07-25 18:21:24,378] Trial 36 finished with value: -662.3680013020834 and parameters: {'n_estimators': 218, 'max_depth': 7, 'learning_rate': 0.10729231724881126, 'subsample': 0.7306348675019524, 'colsample_bytree': 0.8869172904094287, 'reg_alpha': 0.9809708941802171, 'reg_lambda': 0.5566714830025359}. Best is trial 31 with value: -659.7209065755209.\n",
      "[I 2025-07-25 18:21:29,571] Trial 37 finished with value: -687.9252522786459 and parameters: {'n_estimators': 216, 'max_depth': 9, 'learning_rate': 0.10591279693363835, 'subsample': 0.7281716695890342, 'colsample_bytree': 0.8783855027373787, 'reg_alpha': 0.9615884477120863, 'reg_lambda': 0.7998334406474286}. Best is trial 31 with value: -659.7209065755209.\n",
      "[I 2025-07-25 18:21:30,209] Trial 38 finished with value: -692.2776692708334 and parameters: {'n_estimators': 182, 'max_depth': 6, 'learning_rate': 0.29379329827233647, 'subsample': 0.7934220587404609, 'colsample_bytree': 0.9062294848359526, 'reg_alpha': 0.9455588738887111, 'reg_lambda': 0.5635817365942204}. Best is trial 31 with value: -659.7209065755209.\n",
      "[I 2025-07-25 18:21:31,596] Trial 39 finished with value: -694.849853515625 and parameters: {'n_estimators': 256, 'max_depth': 8, 'learning_rate': 0.04534900320593803, 'subsample': 0.537705566054849, 'colsample_bytree': 0.8670749670261004, 'reg_alpha': 0.7863566873853025, 'reg_lambda': 0.6989521644890672}. Best is trial 31 with value: -659.7209065755209.\n",
      "[I 2025-07-25 18:21:31,940] Trial 40 finished with value: -2016.054443359375 and parameters: {'n_estimators': 172, 'max_depth': 4, 'learning_rate': 0.00786583714769424, 'subsample': 0.8249281564834163, 'colsample_bytree': 0.9268278425021922, 'reg_alpha': 0.9991795388078397, 'reg_lambda': 0.6085387010960553}. Best is trial 31 with value: -659.7209065755209.\n",
      "[I 2025-07-25 18:21:32,732] Trial 41 finished with value: -671.6515706380209 and parameters: {'n_estimators': 207, 'max_depth': 7, 'learning_rate': 0.20690819950598727, 'subsample': 0.6071272058442085, 'colsample_bytree': 0.9619903653707974, 'reg_alpha': 0.879051782982278, 'reg_lambda': 0.44961434186317834}. Best is trial 31 with value: -659.7209065755209.\n",
      "[I 2025-07-25 18:21:33,725] Trial 42 finished with value: -647.9204508463541 and parameters: {'n_estimators': 237, 'max_depth': 7, 'learning_rate': 0.12763022814392136, 'subsample': 0.6103774881700479, 'colsample_bytree': 0.9543386325677828, 'reg_alpha': 0.8628571221631776, 'reg_lambda': 0.5292712445373494}. Best is trial 42 with value: -647.9204508463541.\n",
      "[I 2025-07-25 18:21:34,580] Trial 43 finished with value: -713.1755574544271 and parameters: {'n_estimators': 239, 'max_depth': 6, 'learning_rate': 0.0730977264673314, 'subsample': 0.636403574036348, 'colsample_bytree': 0.8954121145164308, 'reg_alpha': 0.9422477202742652, 'reg_lambda': 0.5294310012592052}. Best is trial 42 with value: -647.9204508463541.\n",
      "[I 2025-07-25 18:21:37,565] Trial 44 finished with value: -3172.453369140625 and parameters: {'n_estimators': 271, 'max_depth': 8, 'learning_rate': 0.0011680546176937444, 'subsample': 0.5472627523588373, 'colsample_bytree': 0.9403349977845981, 'reg_alpha': 0.6862313987493485, 'reg_lambda': 0.6532048952359868}. Best is trial 42 with value: -647.9204508463541.\n",
      "[I 2025-07-25 18:21:40,586] Trial 45 finished with value: -687.4183553059896 and parameters: {'n_estimators': 226, 'max_depth': 6, 'learning_rate': 0.12065979294458165, 'subsample': 0.570270193362034, 'colsample_bytree': 0.8647867417794044, 'reg_alpha': 0.8451248915214242, 'reg_lambda': 0.7275948990059429}. Best is trial 42 with value: -647.9204508463541.\n",
      "[I 2025-07-25 18:21:42,819] Trial 46 finished with value: -663.9021606445312 and parameters: {'n_estimators': 192, 'max_depth': 7, 'learning_rate': 0.15069199293609237, 'subsample': 0.6990748974757182, 'colsample_bytree': 0.9516661135106345, 'reg_alpha': 0.7693244375811348, 'reg_lambda': 0.37190182058577237}. Best is trial 42 with value: -647.9204508463541.\n",
      "[I 2025-07-25 18:21:47,483] Trial 47 finished with value: -683.6360473632812 and parameters: {'n_estimators': 188, 'max_depth': 9, 'learning_rate': 0.09454648922974285, 'subsample': 0.690298242601161, 'colsample_bytree': 0.9728156981563786, 'reg_alpha': 0.9482431981888613, 'reg_lambda': 0.5174598551819466}. Best is trial 42 with value: -647.9204508463541.\n",
      "[I 2025-07-25 18:21:49,142] Trial 48 finished with value: -3280.7521158854165 and parameters: {'n_estimators': 149, 'max_depth': 8, 'learning_rate': 0.0018148760651125863, 'subsample': 0.6522149001330124, 'colsample_bytree': 0.9489188521369416, 'reg_alpha': 0.5322089127436138, 'reg_lambda': 0.37500233190434523}. Best is trial 42 with value: -647.9204508463541.\n",
      "[I 2025-07-25 18:21:51,197] Trial 49 finished with value: -679.3164469401041 and parameters: {'n_estimators': 243, 'max_depth': 7, 'learning_rate': 0.24046787884290413, 'subsample': 0.6007318266340426, 'colsample_bytree': 0.9116377926835204, 'reg_alpha': 0.659041118616446, 'reg_lambda': 0.5875470734886632}. Best is trial 42 with value: -647.9204508463541.\n",
      "[I 2025-07-25 18:21:51,665] Trial 50 finished with value: -1143.9694417317708 and parameters: {'n_estimators': 194, 'max_depth': 5, 'learning_rate': 0.019705929531236326, 'subsample': 0.5673936129851542, 'colsample_bytree': 0.9798919090098838, 'reg_alpha': 0.7509252438041728, 'reg_lambda': 0.4779545690724211}. Best is trial 42 with value: -647.9204508463541.\n",
      "[I 2025-07-25 18:21:52,797] Trial 51 finished with value: -656.6060587565104 and parameters: {'n_estimators': 213, 'max_depth': 7, 'learning_rate': 0.15803769975804705, 'subsample': 0.751170136709611, 'colsample_bytree': 0.9485101159695083, 'reg_alpha': 0.7630877164846775, 'reg_lambda': 0.31781555952069634}. Best is trial 42 with value: -647.9204508463541.\n",
      "[I 2025-07-25 18:21:53,837] Trial 52 finished with value: -652.5769246419271 and parameters: {'n_estimators': 215, 'max_depth': 7, 'learning_rate': 0.11186957099849387, 'subsample': 0.7013879911636169, 'colsample_bytree': 0.9512720570303642, 'reg_alpha': 0.8524847562460824, 'reg_lambda': 0.24625478139961077}. Best is trial 42 with value: -647.9204508463541.\n",
      "[I 2025-07-25 18:21:55,727] Trial 53 finished with value: -693.0553385416666 and parameters: {'n_estimators': 214, 'max_depth': 6, 'learning_rate': 0.08160472877590542, 'subsample': 0.7482871178428133, 'colsample_bytree': 0.9472125909282213, 'reg_alpha': 0.8555380572866389, 'reg_lambda': 0.14637801618768437}. Best is trial 42 with value: -647.9204508463541.\n",
      "[I 2025-07-25 18:21:56,906] Trial 54 finished with value: -665.4510294596354 and parameters: {'n_estimators': 171, 'max_depth': 7, 'learning_rate': 0.15910419804819667, 'subsample': 0.6967512361122741, 'colsample_bytree': 0.9555606937532185, 'reg_alpha': 0.9174195870188504, 'reg_lambda': 0.23902000919119668}. Best is trial 42 with value: -647.9204508463541.\n",
      "[I 2025-07-25 18:21:58,058] Trial 55 finished with value: -744.6775309244791 and parameters: {'n_estimators': 214, 'max_depth': 6, 'learning_rate': 0.12477485751760954, 'subsample': 0.7371099140268811, 'colsample_bytree': 0.5988557547124854, 'reg_alpha': 0.2206844665319777, 'reg_lambda': 0.3288760248544947}. Best is trial 42 with value: -647.9204508463541.\n",
      "[I 2025-07-25 18:22:01,413] Trial 56 finished with value: -659.1473185221354 and parameters: {'n_estimators': 235, 'max_depth': 8, 'learning_rate': 0.11992996486712594, 'subsample': 0.7809245950776457, 'colsample_bytree': 0.9975199208715952, 'reg_alpha': 0.8175749222023769, 'reg_lambda': 0.38828668129936883}. Best is trial 42 with value: -647.9204508463541.\n",
      "[I 2025-07-25 18:22:10,555] Trial 57 finished with value: -752.9840291341146 and parameters: {'n_estimators': 253, 'max_depth': 10, 'learning_rate': 0.02908019198446082, 'subsample': 0.7736460399368766, 'colsample_bytree': 0.9976703881163338, 'reg_alpha': 0.8103580396597028, 'reg_lambda': 0.45505485846360566}. Best is trial 42 with value: -647.9204508463541.\n",
      "[I 2025-07-25 18:22:13,243] Trial 58 finished with value: -669.8704020182291 and parameters: {'n_estimators': 231, 'max_depth': 8, 'learning_rate': 0.11362237421339087, 'subsample': 0.8143273278859778, 'colsample_bytree': 0.9797584936746189, 'reg_alpha': 0.03834137972446683, 'reg_lambda': 0.16797750669820644}. Best is trial 42 with value: -647.9204508463541.\n",
      "[I 2025-07-25 18:22:16,677] Trial 59 finished with value: -710.0146484375 and parameters: {'n_estimators': 235, 'max_depth': 9, 'learning_rate': 0.059759194961629514, 'subsample': 0.8477733832663, 'colsample_bytree': 0.8853829984365309, 'reg_alpha': 0.961574730934309, 'reg_lambda': 0.28343918054137784}. Best is trial 42 with value: -647.9204508463541.\n",
      "[I 2025-07-25 18:22:17,940] Trial 60 finished with value: -662.1666259765625 and parameters: {'n_estimators': 220, 'max_depth': 8, 'learning_rate': 0.08297897468409894, 'subsample': 0.7543745944233631, 'colsample_bytree': 0.9334329365230579, 'reg_alpha': 0.8590800907869952, 'reg_lambda': 0.05012794265878312}. Best is trial 42 with value: -647.9204508463541.\n",
      "[I 2025-07-25 18:22:19,206] Trial 61 finished with value: -665.9627482096354 and parameters: {'n_estimators': 219, 'max_depth': 8, 'learning_rate': 0.08595513751508337, 'subsample': 0.7756114990671912, 'colsample_bytree': 0.9301294214384526, 'reg_alpha': 0.8642825429217412, 'reg_lambda': 0.06212541553459106}. Best is trial 42 with value: -647.9204508463541.\n",
      "[I 2025-07-25 18:22:20,633] Trial 62 finished with value: -666.8944295247396 and parameters: {'n_estimators': 207, 'max_depth': 8, 'learning_rate': 0.13094037428370991, 'subsample': 0.7514006962928929, 'colsample_bytree': 0.9699532105695616, 'reg_alpha': 0.815398918358524, 'reg_lambda': 0.08486280990387673}. Best is trial 42 with value: -647.9204508463541.\n",
      "[I 2025-07-25 18:22:21,441] Trial 63 finished with value: -675.47314453125 and parameters: {'n_estimators': 227, 'max_depth': 7, 'learning_rate': 0.062169308153043945, 'subsample': 0.7839765288457391, 'colsample_bytree': 0.9357991008620585, 'reg_alpha': 0.921994353576677, 'reg_lambda': 0.3966864130040143}. Best is trial 42 with value: -647.9204508463541.\n",
      "[I 2025-07-25 18:22:26,448] Trial 64 finished with value: -698.4381510416666 and parameters: {'n_estimators': 262, 'max_depth': 8, 'learning_rate': 0.04263606397538682, 'subsample': 0.8936107086978328, 'colsample_bytree': 0.9798155756825814, 'reg_alpha': 0.8392361467908349, 'reg_lambda': 0.037533494294519576}. Best is trial 42 with value: -647.9204508463541.\n",
      "[I 2025-07-25 18:22:27,660] Trial 65 finished with value: -682.5077514648438 and parameters: {'n_estimators': 199, 'max_depth': 7, 'learning_rate': 0.09463737488364404, 'subsample': 0.7181501175536171, 'colsample_bytree': 0.897598059348486, 'reg_alpha': 0.7816654692138467, 'reg_lambda': 0.21695794033325333}. Best is trial 42 with value: -647.9204508463541.\n",
      "[I 2025-07-25 18:22:30,004] Trial 66 finished with value: -726.2582194010416 and parameters: {'n_estimators': 236, 'max_depth': 9, 'learning_rate': 0.24729195052829933, 'subsample': 0.803547958934286, 'colsample_bytree': 0.9586883971562171, 'reg_alpha': 0.9803103549718719, 'reg_lambda': 0.5098065177805963}. Best is trial 42 with value: -647.9204508463541.\n",
      "[I 2025-07-25 18:22:34,431] Trial 67 finished with value: -751.1374308268229 and parameters: {'n_estimators': 75, 'max_depth': 6, 'learning_rate': 0.18050138606187685, 'subsample': 0.7556862634150502, 'colsample_bytree': 0.9979203934753756, 'reg_alpha': 0.44775267815716957, 'reg_lambda': 0.3464533929218714}. Best is trial 42 with value: -647.9204508463541.\n",
      "[I 2025-07-25 18:22:38,171] Trial 68 finished with value: -637.7786458333334 and parameters: {'n_estimators': 283, 'max_depth': 7, 'learning_rate': 0.14249506597008565, 'subsample': 0.7357455759049609, 'colsample_bytree': 0.9852856154216488, 'reg_alpha': 0.8785717536752242, 'reg_lambda': 0.662149324192606}. Best is trial 68 with value: -637.7786458333334.\n",
      "[I 2025-07-25 18:22:40,728] Trial 69 finished with value: -642.8758748372396 and parameters: {'n_estimators': 292, 'max_depth': 8, 'learning_rate': 0.14503353576213107, 'subsample': 0.6637726363198141, 'colsample_bytree': 0.9836664257836328, 'reg_alpha': 0.8316028717078489, 'reg_lambda': 0.8634161013468257}. Best is trial 68 with value: -637.7786458333334.\n",
      "[I 2025-07-25 18:22:45,507] Trial 70 finished with value: -693.8642781575521 and parameters: {'n_estimators': 285, 'max_depth': 10, 'learning_rate': 0.1477105314573174, 'subsample': 0.6619871700172318, 'colsample_bytree': 0.9856331106604868, 'reg_alpha': 0.7272491402473659, 'reg_lambda': 0.8551218162732112}. Best is trial 68 with value: -637.7786458333334.\n",
      "[I 2025-07-25 18:22:46,981] Trial 71 finished with value: -674.6519571940104 and parameters: {'n_estimators': 287, 'max_depth': 8, 'learning_rate': 0.21982554666748982, 'subsample': 0.7090631041221026, 'colsample_bytree': 0.9654779338398507, 'reg_alpha': 0.884945527112548, 'reg_lambda': 0.9707542817926521}. Best is trial 68 with value: -637.7786458333334.\n",
      "[I 2025-07-25 18:22:48,154] Trial 72 finished with value: -646.5870361328125 and parameters: {'n_estimators': 299, 'max_depth': 7, 'learning_rate': 0.16775308606602246, 'subsample': 0.6402046171285407, 'colsample_bytree': 0.9991013867961337, 'reg_alpha': 0.7973115091190779, 'reg_lambda': 0.9047866266861349}. Best is trial 68 with value: -637.7786458333334.\n",
      "[I 2025-07-25 18:22:49,367] Trial 73 finished with value: -651.7607421875 and parameters: {'n_estimators': 271, 'max_depth': 7, 'learning_rate': 0.17290317812636424, 'subsample': 0.6462221459829652, 'colsample_bytree': 0.9862910896243013, 'reg_alpha': 0.7890535199648979, 'reg_lambda': 0.9110907286445664}. Best is trial 68 with value: -637.7786458333334.\n",
      "[I 2025-07-25 18:22:50,905] Trial 74 finished with value: -694.4154866536459 and parameters: {'n_estimators': 298, 'max_depth': 7, 'learning_rate': 0.2992230974007707, 'subsample': 0.6400410649055555, 'colsample_bytree': 0.9983441117891042, 'reg_alpha': 0.7922742713041478, 'reg_lambda': 0.9148168743966137}. Best is trial 68 with value: -637.7786458333334.\n",
      "[I 2025-07-25 18:22:52,596] Trial 75 finished with value: -651.9751993815104 and parameters: {'n_estimators': 281, 'max_depth': 7, 'learning_rate': 0.16407993839483534, 'subsample': 0.6209934695185814, 'colsample_bytree': 0.9817273339649805, 'reg_alpha': 0.6880605078224029, 'reg_lambda': 0.8625565600862377}. Best is trial 68 with value: -637.7786458333334.\n",
      "[I 2025-07-25 18:22:53,783] Trial 76 finished with value: -661.1127522786459 and parameters: {'n_estimators': 281, 'max_depth': 6, 'learning_rate': 0.17003487559979075, 'subsample': 0.620927141722819, 'colsample_bytree': 0.9478397237572909, 'reg_alpha': 0.6475124086685433, 'reg_lambda': 0.8667085264809377}. Best is trial 68 with value: -637.7786458333334.\n",
      "[I 2025-07-25 18:22:57,053] Trial 77 finished with value: -638.2591145833334 and parameters: {'n_estimators': 268, 'max_depth': 7, 'learning_rate': 0.15097450394740575, 'subsample': 0.6508108880182968, 'colsample_bytree': 0.9700146733505567, 'reg_alpha': 0.7269451542848635, 'reg_lambda': 0.9445293156199694}. Best is trial 68 with value: -637.7786458333334.\n",
      "[I 2025-07-25 18:22:58,080] Trial 78 finished with value: -1429.228759765625 and parameters: {'n_estimators': 269, 'max_depth': 6, 'learning_rate': 0.00719627099593779, 'subsample': 0.6457797182311146, 'colsample_bytree': 0.9712057965439502, 'reg_alpha': 0.7012348129498579, 'reg_lambda': 0.9893986345965531}. Best is trial 68 with value: -637.7786458333334.\n",
      "[I 2025-07-25 18:22:59,453] Trial 79 finished with value: -786.6705525716146 and parameters: {'n_estimators': 297, 'max_depth': 7, 'learning_rate': 0.1398004635426545, 'subsample': 0.6766653756339248, 'colsample_bytree': 0.5250443131955953, 'reg_alpha': 0.6105932444081228, 'reg_lambda': 0.8575742291866635}. Best is trial 68 with value: -637.7786458333334.\n",
      "[I 2025-07-25 18:23:01,402] Trial 80 finished with value: -682.6613566080729 and parameters: {'n_estimators': 283, 'max_depth': 7, 'learning_rate': 0.24799031112685127, 'subsample': 0.6200936443503667, 'colsample_bytree': 0.9813721283312352, 'reg_alpha': 0.7268490461130344, 'reg_lambda': 0.7984610430012138}. Best is trial 68 with value: -637.7786458333334.\n",
      "[I 2025-07-25 18:23:02,781] Trial 81 finished with value: -649.2861735026041 and parameters: {'n_estimators': 290, 'max_depth': 7, 'learning_rate': 0.160761161959776, 'subsample': 0.6254277801910075, 'colsample_bytree': 0.9597280981523636, 'reg_alpha': 0.6784961604491743, 'reg_lambda': 0.9333542940935282}. Best is trial 68 with value: -637.7786458333334.\n",
      "[I 2025-07-25 18:23:04,332] Trial 82 finished with value: -649.4212036132812 and parameters: {'n_estimators': 293, 'max_depth': 7, 'learning_rate': 0.19487080782260502, 'subsample': 0.6334754167471944, 'colsample_bytree': 0.9214861464018459, 'reg_alpha': 0.6606961761121751, 'reg_lambda': 0.9259435044928005}. Best is trial 68 with value: -637.7786458333334.\n",
      "[I 2025-07-25 18:23:06,807] Trial 83 finished with value: -660.933349609375 and parameters: {'n_estimators': 291, 'max_depth': 7, 'learning_rate': 0.18836048448819126, 'subsample': 0.6294619082425702, 'colsample_bytree': 0.9232889329730547, 'reg_alpha': 0.6763583358029228, 'reg_lambda': 0.9337001286741161}. Best is trial 68 with value: -637.7786458333334.\n",
      "[I 2025-07-25 18:23:07,984] Trial 84 finished with value: -676.0556844075521 and parameters: {'n_estimators': 276, 'max_depth': 6, 'learning_rate': 0.21718431951680225, 'subsample': 0.5899612759259046, 'colsample_bytree': 0.9674270651183531, 'reg_alpha': 0.5568341488988451, 'reg_lambda': 0.8893878908258083}. Best is trial 68 with value: -637.7786458333334.\n",
      "[I 2025-07-25 18:23:09,407] Trial 85 finished with value: -693.4723307291666 and parameters: {'n_estimators': 266, 'max_depth': 7, 'learning_rate': 0.27143427934278075, 'subsample': 0.6113873978241969, 'colsample_bytree': 0.9853613545933849, 'reg_alpha': 0.7080812690211195, 'reg_lambda': 0.946773530512906}. Best is trial 68 with value: -637.7786458333334.\n",
      "[I 2025-07-25 18:23:10,918] Trial 86 finished with value: -636.4598795572916 and parameters: {'n_estimators': 299, 'max_depth': 7, 'learning_rate': 0.14180006847045237, 'subsample': 0.6498637474150439, 'colsample_bytree': 0.9621753912294013, 'reg_alpha': 0.6216156478693343, 'reg_lambda': 0.8271309002448158}. Best is trial 86 with value: -636.4598795572916.\n",
      "[I 2025-07-25 18:23:12,903] Trial 87 finished with value: -656.5176188151041 and parameters: {'n_estimators': 300, 'max_depth': 8, 'learning_rate': 0.14255100373544122, 'subsample': 0.5818825698309731, 'colsample_bytree': 0.917558447656893, 'reg_alpha': 0.603440586504138, 'reg_lambda': 0.8928976075773698}. Best is trial 86 with value: -636.4598795572916.\n",
      "[I 2025-07-25 18:23:14,226] Trial 88 finished with value: -740.4782511393229 and parameters: {'n_estimators': 291, 'max_depth': 6, 'learning_rate': 0.07166622133475772, 'subsample': 0.666237803055189, 'colsample_bytree': 0.70826315592264, 'reg_alpha': 0.753680501345722, 'reg_lambda': 0.8396305394436467}. Best is trial 86 with value: -636.4598795572916.\n",
      "[I 2025-07-25 18:23:15,764] Trial 89 finished with value: -941.552734375 and parameters: {'n_estimators': 274, 'max_depth': 7, 'learning_rate': 0.013942156049884333, 'subsample': 0.6328124027482882, 'colsample_bytree': 0.9584694247501188, 'reg_alpha': 0.6675318901011376, 'reg_lambda': 0.8192560036943404}. Best is trial 86 with value: -636.4598795572916.\n",
      "[I 2025-07-25 18:23:23,450] Trial 90 finished with value: -671.8803100585938 and parameters: {'n_estimators': 290, 'max_depth': 8, 'learning_rate': 0.2119099518829515, 'subsample': 0.6520728285086127, 'colsample_bytree': 0.9409280613969472, 'reg_alpha': 0.6274816932761181, 'reg_lambda': 0.7628934714777111}. Best is trial 86 with value: -636.4598795572916.\n",
      "[I 2025-07-25 18:23:24,841] Trial 91 finished with value: -639.3104858398438 and parameters: {'n_estimators': 279, 'max_depth': 7, 'learning_rate': 0.17111901760849055, 'subsample': 0.6433550748972398, 'colsample_bytree': 0.988251599305924, 'reg_alpha': 0.6849573156487068, 'reg_lambda': 0.9983704296622367}. Best is trial 86 with value: -636.4598795572916.\n",
      "[I 2025-07-25 18:23:26,258] Trial 92 finished with value: -640.2786661783854 and parameters: {'n_estimators': 260, 'max_depth': 7, 'learning_rate': 0.12390823969642903, 'subsample': 0.6493651590809291, 'colsample_bytree': 0.9637650047587962, 'reg_alpha': 0.5736785025952481, 'reg_lambda': 0.9558202735297007}. Best is trial 86 with value: -636.4598795572916.\n",
      "[I 2025-07-25 18:23:28,485] Trial 93 finished with value: -643.8033650716146 and parameters: {'n_estimators': 259, 'max_depth': 7, 'learning_rate': 0.12876818135998425, 'subsample': 0.6850510360240942, 'colsample_bytree': 0.965648719153605, 'reg_alpha': 0.5724782368937487, 'reg_lambda': 0.9955916701886641}. Best is trial 86 with value: -636.4598795572916.\n",
      "[I 2025-07-25 18:23:29,578] Trial 94 finished with value: -667.9966634114584 and parameters: {'n_estimators': 259, 'max_depth': 6, 'learning_rate': 0.0988909066679719, 'subsample': 0.6838504155317905, 'colsample_bytree': 0.968139633387668, 'reg_alpha': 0.5681642300852474, 'reg_lambda': 0.9982563189664053}. Best is trial 86 with value: -636.4598795572916.\n",
      "[I 2025-07-25 18:23:30,769] Trial 95 finished with value: -635.5671793619791 and parameters: {'n_estimators': 249, 'max_depth': 7, 'learning_rate': 0.12840705632256563, 'subsample': 0.6584651528829266, 'colsample_bytree': 0.9634181558827929, 'reg_alpha': 0.5371038866706583, 'reg_lambda': 0.9594626036796321}. Best is trial 95 with value: -635.5671793619791.\n",
      "[I 2025-07-25 18:23:31,750] Trial 96 finished with value: -655.1241455078125 and parameters: {'n_estimators': 251, 'max_depth': 6, 'learning_rate': 0.1300587321242226, 'subsample': 0.6749356032499465, 'colsample_bytree': 0.93848617887055, 'reg_alpha': 0.5079024965524144, 'reg_lambda': 0.9609055343197552}. Best is trial 95 with value: -635.5671793619791.\n",
      "[I 2025-07-25 18:23:33,486] Trial 97 finished with value: -644.4181111653646 and parameters: {'n_estimators': 257, 'max_depth': 8, 'learning_rate': 0.1141687453098894, 'subsample': 0.6571633759449165, 'colsample_bytree': 0.97408246524848, 'reg_alpha': 0.43099317466646025, 'reg_lambda': 0.9643218531474602}. Best is trial 95 with value: -635.5671793619791.\n",
      "[I 2025-07-25 18:23:39,851] Trial 98 finished with value: -654.0375773111979 and parameters: {'n_estimators': 277, 'max_depth': 8, 'learning_rate': 0.1103102165516703, 'subsample': 0.6920528155725995, 'colsample_bytree': 0.9871991046749606, 'reg_alpha': 0.35249047899154445, 'reg_lambda': 0.9743804407459962}. Best is trial 95 with value: -635.5671793619791.\n",
      "[I 2025-07-25 18:23:41,636] Trial 99 finished with value: -642.3346761067709 and parameters: {'n_estimators': 257, 'max_depth': 8, 'learning_rate': 0.09276887251828386, 'subsample': 0.6570470541685133, 'colsample_bytree': 0.9759253535813083, 'reg_alpha': 0.4397728339173226, 'reg_lambda': 0.9647895078676572}. Best is trial 95 with value: -635.5671793619791.\n"
     ]
    },
    {
     "name": "stdout",
     "output_type": "stream",
     "text": [
      "CPU times: user 22min 32s, sys: 20 s, total: 22min 52s\n",
      "Wall time: 3min 9s\n"
     ]
    }
   ],
   "source": [
    "%%time\n",
    "best_params = optimize_hpo(X, y, n_trials=100)"
   ]
  },
  {
   "cell_type": "code",
   "execution_count": 124,
   "id": "cd417d90-401e-48db-b26e-b9ba00dc10df",
   "metadata": {},
   "outputs": [
    {
     "data": {
      "text/plain": [
       "{'n_estimators': 249,\n",
       " 'max_depth': 7,\n",
       " 'learning_rate': 0.12840705632256563,\n",
       " 'subsample': 0.6584651528829266,\n",
       " 'colsample_bytree': 0.9634181558827929,\n",
       " 'reg_alpha': 0.5371038866706583,\n",
       " 'reg_lambda': 0.9594626036796321,\n",
       " 'objective': 'reg:squarederror'}"
      ]
     },
     "execution_count": 124,
     "metadata": {},
     "output_type": "execute_result"
    }
   ],
   "source": [
    "best_params"
   ]
  },
  {
   "cell_type": "markdown",
   "id": "9ac68a9f-7b24-4068-9168-c960242f7d62",
   "metadata": {},
   "source": [
    "## Train optimized model"
   ]
  },
  {
   "cell_type": "code",
   "execution_count": 137,
   "id": "bfd9f6bf-9785-413f-b3ad-d30ffd3d48a8",
   "metadata": {},
   "outputs": [],
   "source": [
    "best_params = {'n_estimators': 249,\n",
    " 'max_depth': 7,\n",
    " 'learning_rate': 0.12840705632256563,\n",
    " 'subsample': 0.6584651528829266,\n",
    " 'colsample_bytree': 0.9634181558827929,\n",
    " 'reg_alpha': 0.5371038866706583,\n",
    " 'reg_lambda': 0.9594626036796321,\n",
    " 'objective': 'reg:squarederror'}"
   ]
  },
  {
   "cell_type": "code",
   "execution_count": 138,
   "id": "3b309efe-bbfe-4b1a-917c-31294f8dec85",
   "metadata": {},
   "outputs": [
    {
     "name": "stderr",
     "output_type": "stream",
     "text": [
      "/home/emmuzoo/mlops-zoomcamp-project-2025/.venv/lib/python3.12/site-packages/mlflow/types/utils.py:452: UserWarning: Hint: Inferred schema contains integer column(s). Integer columns in Python cannot represent missing values. If your input data contains missing values at inference time, it will be encoded as floats and will cause a schema enforcement error. The best way to avoid this problem is to infer the model schema based on a realistic data sample (training dataset) that includes missing values. Alternatively, you can declare integer columns as doubles (float64) whenever these columns may have missing values. See `Handling Integers With Missing Values <https://www.mlflow.org/docs/latest/models.html#handling-integers-with-missing-values>`_ for more details.\n",
      "  warnings.warn(\n",
      "/home/emmuzoo/mlops-zoomcamp-project-2025/.venv/lib/python3.12/site-packages/xgboost/sklearn.py:1028: UserWarning: [18:24:32] WARNING: /workspace/src/c_api/c_api.cc:1427: Saving model in the UBJSON format as default.  You can use file extension: `json`, `ubj` or `deprecated` to choose between formats.\n",
      "  self.get_booster().save_model(fname)\n"
     ]
    },
    {
     "name": "stdout",
     "output_type": "stream",
     "text": [
      "🏃 View run opt-xgb-model at: http://localhost:5000/#/experiments/0/runs/67ed34851d53483ab743bbb7ede1a503\n",
      "🧪 View experiment at: http://localhost:5000/#/experiments/0\n",
      "CPU times: user 4.55 s, sys: 124 ms, total: 4.68 s\n",
      "Wall time: 6.51 s\n"
     ]
    }
   ],
   "source": [
    "%%time\n",
    "opt_xgb_model = train_model(X, y, best_params, run_name=\"opt-xgb-model\")"
   ]
  },
  {
   "cell_type": "markdown",
   "id": "9c9fdfc2-0980-4b84-9fb7-129ab917b025",
   "metadata": {},
   "source": [
    "## Evaluation  optimized model"
   ]
  },
  {
   "cell_type": "code",
   "execution_count": 139,
   "id": "392f7001-a1ea-41bb-bfb6-ef5c6e765786",
   "metadata": {},
   "outputs": [],
   "source": [
    "opt_val_metrics_df = evaluate_model(\n",
    "    opt_xgb_model,\n",
    "    X_val, \n",
    "    y_val\n",
    ")"
   ]
  },
  {
   "cell_type": "code",
   "execution_count": 140,
   "id": "92a8e54f-9695-4dff-a2ba-da56c057bbfb",
   "metadata": {},
   "outputs": [
    {
     "data": {
      "text/html": [
       "<div>\n",
       "<style scoped>\n",
       "    .dataframe tbody tr th:only-of-type {\n",
       "        vertical-align: middle;\n",
       "    }\n",
       "\n",
       "    .dataframe tbody tr th {\n",
       "        vertical-align: top;\n",
       "    }\n",
       "\n",
       "    .dataframe thead th {\n",
       "        text-align: right;\n",
       "    }\n",
       "</style>\n",
       "<table border=\"1\" class=\"dataframe\">\n",
       "  <thead>\n",
       "    <tr style=\"text-align: right;\">\n",
       "      <th></th>\n",
       "      <th>R2_Score</th>\n",
       "      <th>MAE</th>\n",
       "      <th>MSE</th>\n",
       "      <th>RMSE</th>\n",
       "    </tr>\n",
       "  </thead>\n",
       "  <tbody>\n",
       "    <tr>\n",
       "      <th>0</th>\n",
       "      <td>0.996764</td>\n",
       "      <td>160.743851</td>\n",
       "      <td>52965.34375</td>\n",
       "      <td>230.142008</td>\n",
       "    </tr>\n",
       "  </tbody>\n",
       "</table>\n",
       "</div>"
      ],
      "text/plain": [
       "   R2_Score         MAE          MSE        RMSE\n",
       "0  0.996764  160.743851  52965.34375  230.142008"
      ]
     },
     "execution_count": 140,
     "metadata": {},
     "output_type": "execute_result"
    }
   ],
   "source": [
    "opt_val_metrics_df"
   ]
  },
  {
   "cell_type": "code",
   "execution_count": 141,
   "id": "0b100843-8140-479c-a5c5-840e864bce23",
   "metadata": {},
   "outputs": [
    {
     "data": {
      "text/html": [
       "<div>\n",
       "<style scoped>\n",
       "    .dataframe tbody tr th:only-of-type {\n",
       "        vertical-align: middle;\n",
       "    }\n",
       "\n",
       "    .dataframe tbody tr th {\n",
       "        vertical-align: top;\n",
       "    }\n",
       "\n",
       "    .dataframe thead th {\n",
       "        text-align: right;\n",
       "    }\n",
       "</style>\n",
       "<table border=\"1\" class=\"dataframe\">\n",
       "  <thead>\n",
       "    <tr style=\"text-align: right;\">\n",
       "      <th></th>\n",
       "      <th>R2_Score</th>\n",
       "      <th>MAE</th>\n",
       "      <th>MSE</th>\n",
       "      <th>RMSE</th>\n",
       "      <th>model</th>\n",
       "      <th>ds</th>\n",
       "    </tr>\n",
       "  </thead>\n",
       "  <tbody>\n",
       "    <tr>\n",
       "      <th>0</th>\n",
       "      <td>0.974324</td>\n",
       "      <td>420.544342</td>\n",
       "      <td>420261.4375</td>\n",
       "      <td>648.275742</td>\n",
       "      <td>base_val_xgb</td>\n",
       "      <td>val</td>\n",
       "    </tr>\n",
       "  </tbody>\n",
       "</table>\n",
       "</div>"
      ],
      "text/plain": [
       "   R2_Score         MAE          MSE        RMSE         model   ds\n",
       "0  0.974324  420.544342  420261.4375  648.275742  base_val_xgb  val"
      ]
     },
     "execution_count": 141,
     "metadata": {},
     "output_type": "execute_result"
    }
   ],
   "source": [
    "base_val_metrics_df"
   ]
  },
  {
   "cell_type": "code",
   "execution_count": 142,
   "id": "1417e9ee-82aa-4284-ad88-77509aa7075f",
   "metadata": {},
   "outputs": [],
   "source": [
    "opt_test_metrics_df = evaluate_model(\n",
    "    opt_xgb_model,\n",
    "    X_test, \n",
    "    y_test\n",
    ")"
   ]
  },
  {
   "cell_type": "code",
   "execution_count": 143,
   "id": "465f93ce-a4f0-4d67-8aec-578b74ccbc51",
   "metadata": {},
   "outputs": [
    {
     "data": {
      "text/html": [
       "<div>\n",
       "<style scoped>\n",
       "    .dataframe tbody tr th:only-of-type {\n",
       "        vertical-align: middle;\n",
       "    }\n",
       "\n",
       "    .dataframe tbody tr th {\n",
       "        vertical-align: top;\n",
       "    }\n",
       "\n",
       "    .dataframe thead th {\n",
       "        text-align: right;\n",
       "    }\n",
       "</style>\n",
       "<table border=\"1\" class=\"dataframe\">\n",
       "  <thead>\n",
       "    <tr style=\"text-align: right;\">\n",
       "      <th></th>\n",
       "      <th>R2_Score</th>\n",
       "      <th>MAE</th>\n",
       "      <th>MSE</th>\n",
       "      <th>RMSE</th>\n",
       "    </tr>\n",
       "  </thead>\n",
       "  <tbody>\n",
       "    <tr>\n",
       "      <th>0</th>\n",
       "      <td>0.818378</td>\n",
       "      <td>773.765747</td>\n",
       "      <td>1381637.125</td>\n",
       "      <td>1175.430613</td>\n",
       "    </tr>\n",
       "  </tbody>\n",
       "</table>\n",
       "</div>"
      ],
      "text/plain": [
       "   R2_Score         MAE          MSE         RMSE\n",
       "0  0.818378  773.765747  1381637.125  1175.430613"
      ]
     },
     "execution_count": 143,
     "metadata": {},
     "output_type": "execute_result"
    }
   ],
   "source": [
    "opt_test_metrics_df"
   ]
  },
  {
   "cell_type": "code",
   "execution_count": 144,
   "id": "faba9af4-cbf1-44e4-9b90-983fe66e4e12",
   "metadata": {},
   "outputs": [
    {
     "data": {
      "text/html": [
       "<div>\n",
       "<style scoped>\n",
       "    .dataframe tbody tr th:only-of-type {\n",
       "        vertical-align: middle;\n",
       "    }\n",
       "\n",
       "    .dataframe tbody tr th {\n",
       "        vertical-align: top;\n",
       "    }\n",
       "\n",
       "    .dataframe thead th {\n",
       "        text-align: right;\n",
       "    }\n",
       "</style>\n",
       "<table border=\"1\" class=\"dataframe\">\n",
       "  <thead>\n",
       "    <tr style=\"text-align: right;\">\n",
       "      <th></th>\n",
       "      <th>R2_Score</th>\n",
       "      <th>MAE</th>\n",
       "      <th>MSE</th>\n",
       "      <th>RMSE</th>\n",
       "      <th>model</th>\n",
       "      <th>ds</th>\n",
       "    </tr>\n",
       "  </thead>\n",
       "  <tbody>\n",
       "    <tr>\n",
       "      <th>0</th>\n",
       "      <td>0.808483</td>\n",
       "      <td>806.046875</td>\n",
       "      <td>1456909.75</td>\n",
       "      <td>1207.025165</td>\n",
       "      <td>base_val_xgb</td>\n",
       "      <td>test</td>\n",
       "    </tr>\n",
       "  </tbody>\n",
       "</table>\n",
       "</div>"
      ],
      "text/plain": [
       "   R2_Score         MAE         MSE         RMSE         model    ds\n",
       "0  0.808483  806.046875  1456909.75  1207.025165  base_val_xgb  test"
      ]
     },
     "execution_count": 144,
     "metadata": {},
     "output_type": "execute_result"
    }
   ],
   "source": [
    "base_test_metrics_df"
   ]
  },
  {
   "cell_type": "code",
   "execution_count": 145,
   "id": "512f1f1a-6c1f-442f-aa6f-0feadab101ab",
   "metadata": {},
   "outputs": [
    {
     "data": {
      "text/html": [
       "\n",
       "  <div id=\"ef1eedb5-98f5-4a2f-bd3c-f1e8a68ba596\" data-root-id=\"p1180\" style=\"display: contents;\"></div>\n"
      ]
     },
     "metadata": {},
     "output_type": "display_data"
    },
    {
     "data": {
      "application/javascript": "(function(root) {\n  function embed_document(root) {\n  const docs_json = {\"b7fd301c-0902-48a6-b3d6-902e51884809\":{\"version\":\"3.7.3\",\"title\":\"Bokeh Application\",\"roots\":[{\"type\":\"object\",\"name\":\"Figure\",\"id\":\"p1180\",\"attributes\":{\"width\":1200,\"x_range\":{\"type\":\"object\",\"name\":\"DataRange1d\",\"id\":\"p1181\"},\"y_range\":{\"type\":\"object\",\"name\":\"DataRange1d\",\"id\":\"p1182\"},\"x_scale\":{\"type\":\"object\",\"name\":\"LinearScale\",\"id\":\"p1190\"},\"y_scale\":{\"type\":\"object\",\"name\":\"LinearScale\",\"id\":\"p1191\"},\"title\":{\"type\":\"object\",\"name\":\"Title\",\"id\":\"p1183\",\"attributes\":{\"text\":\"Actual vs Predicted\"}},\"renderers\":[{\"type\":\"object\",\"name\":\"GlyphRenderer\",\"id\":\"p1220\",\"attributes\":{\"data_source\":{\"type\":\"object\",\"name\":\"ColumnDataSource\",\"id\":\"p1214\",\"attributes\":{\"selected\":{\"type\":\"object\",\"name\":\"Selection\",\"id\":\"p1215\",\"attributes\":{\"indices\":[],\"line_indices\":[]}},\"selection_policy\":{\"type\":\"object\",\"name\":\"UnionRenderers\",\"id\":\"p1216\"},\"data\":{\"type\":\"map\",\"entries\":[[\"x\",{\"type\":\"ndarray\",\"array\":{\"type\":\"bytes\",\"data\":\"AAAAAAEAAAACAAAAAwAAAAQAAAAFAAAABgAAAAcAAAAIAAAACQAAAAoAAAALAAAADAAAAA0AAAAOAAAADwAAABAAAAARAAAAEgAAABMAAAAUAAAAFQAAABYAAAAXAAAAGAAAABkAAAAaAAAAGwAAABwAAAAdAAAAHgAAAB8AAAAgAAAAIQAAACIAAAAjAAAAJAAAACUAAAAmAAAAJwAAACgAAAApAAAAKgAAACsAAAAsAAAALQAAAC4AAAAvAAAAMAAAADEAAAAyAAAAMwAAADQAAAA1AAAANgAAADcAAAA4AAAAOQAAADoAAAA7AAAAPAAAAD0AAAA+AAAAPwAAAEAAAABBAAAAQgAAAEMAAABEAAAARQAAAEYAAABHAAAASAAAAEkAAABKAAAASwAAAEwAAABNAAAATgAAAE8AAABQAAAAUQAAAFIAAABTAAAAVAAAAFUAAABWAAAAVwAAAFgAAABZAAAAWgAAAFsAAABcAAAAXQAAAF4AAABfAAAAYAAAAGEAAABiAAAAYwAAAGQAAABlAAAAZgAAAGcAAABoAAAAaQAAAGoAAABrAAAAbAAAAG0AAABuAAAAbwAAAHAAAABxAAAAcgAAAHMAAAB0AAAAdQAAAHYAAAB3AAAAeAAAAHkAAAB6AAAAewAAAHwAAAB9AAAAfgAAAH8AAACAAAAAgQAAAIIAAACDAAAAhAAAAIUAAACGAAAAhwAAAIgAAACJAAAAigAAAIsAAACMAAAAjQAAAI4AAACPAAAAkAAAAJEAAACSAAAAkwAAAJQAAACVAAAAlgAAAJcAAACYAAAAmQAAAJoAAACbAAAAnAAAAJ0AAACeAAAAnwAAAKAAAAChAAAAogAAAKMAAACkAAAApQAAAKYAAACnAAAAqAAAAKkAAACqAAAAqwAAAKwAAACtAAAArgAAAK8AAACwAAAAsQAAALIAAACzAAAAtAAAALUAAAC2AAAAtwAAALgAAAC5AAAAugAAALsAAAC8AAAAvQAAAL4AAAC/AAAAwAAAAMEAAADCAAAAwwAAAMQAAADFAAAAxgAAAMcAAAA=\"},\"shape\":[200],\"dtype\":\"int32\",\"order\":\"little\"}],[\"y\",{\"type\":\"ndarray\",\"array\":{\"type\":\"bytes\",\"data\":\"dwAAALIiAAAjBgAA7AIAAP4cAACRIQAAZQ8AAMs1AAA9DgAAXykAAF8oAACwAAAAgg4AAEsHAADWSwAAyxQAAI8hAAB2FAAA3QAAAMkgAAA7HwAArxAAAOUoAAAbIQAAOi0AAE4SAADiCQAA5x4AAIkSAADiPwAAixIAANAWAADNBQAAUwgAABkNAADJGAAA7xgAACcIAAAVLgAAEioAAFQ8AACZAgAAWxgAAOwtAACbPAAAlCEAALYHAAChFgAA7hYAAOARAACnAgAAPB0AAEMCAAD+GwAAMQIAABstAAChHQAAhgAAAJoiAABBAgAA1QsAAHsSAABkHAAATiEAAHcBAAAaHwAAcBIAAOA0AAA+IgAAzBEAACBLAACHHwAAYgEAALYHAAAcHgAAxwEAAB4VAACGAQAAcAoAAOdBAABqIQAAggMAAE4/AAAQJwAA1hQAAL8AAADrLAAAyQYAAHYFAAASGAAA8CsAABEEAADyAgAAnSoAABoUAABAHAAAdwwAAIYGAADFAAAAGyEAAJk9AAAvCgAAFyMAAHcBAABDJAAA9wkAAIUhAABmEAAAWAMAAF0SAABRCAAAWAUAAAQYAACsGAAAJhcAABUQAACyDwAAWBQAABQNAAD2BQAAbyoAAGUaAAAUGgAARgEAAHceAAC2AAAA6wAAAIcWAADqIAAAyhIAAIIoAAC7AAAAORYAACMBAAC8AAAAXAEAAG4NAAAFEgAAVRYAAPMWAAB2PwAAwQIAAO4aAAA3BAAAjyAAAP4QAAB9IQAAYwMAANMDAABxIAAAzQQAAGg0AAACGgAAGiMAAFUEAABBBgAAiSwAAHsbAAC3EgAAGCAAAC4sAABSGgAARRcAAIQMAAAsGwAAawEAAIMOAADMAQAA/wgAAMg8AAA9AQAAWisAAHcRAAA/MAAA1iAAANcDAABLAgAAVgIAAAcPAACQAAAAhwAAAPsTAAAKAgAAkCQAAI4AAAA/DwAAxR8AAJIOAADGCwAA3h4AACQRAABcDQAAGBMAAJIeAABqEQAAqRsAAMMUAAA7DQAAxhAAAHYVAAA=\"},\"shape\":[200],\"dtype\":\"int32\",\"order\":\"little\"}]]}}},\"view\":{\"type\":\"object\",\"name\":\"CDSView\",\"id\":\"p1221\",\"attributes\":{\"filter\":{\"type\":\"object\",\"name\":\"AllIndices\",\"id\":\"p1222\"}}},\"glyph\":{\"type\":\"object\",\"name\":\"Line\",\"id\":\"p1217\",\"attributes\":{\"x\":{\"type\":\"field\",\"field\":\"x\"},\"y\":{\"type\":\"field\",\"field\":\"y\"},\"line_color\":\"blue\",\"line_width\":2}},\"nonselection_glyph\":{\"type\":\"object\",\"name\":\"Line\",\"id\":\"p1218\",\"attributes\":{\"x\":{\"type\":\"field\",\"field\":\"x\"},\"y\":{\"type\":\"field\",\"field\":\"y\"},\"line_color\":\"blue\",\"line_alpha\":0.1,\"line_width\":2}},\"muted_glyph\":{\"type\":\"object\",\"name\":\"Line\",\"id\":\"p1219\",\"attributes\":{\"x\":{\"type\":\"field\",\"field\":\"x\"},\"y\":{\"type\":\"field\",\"field\":\"y\"},\"line_color\":\"blue\",\"line_alpha\":0.2,\"line_width\":2}}}},{\"type\":\"object\",\"name\":\"GlyphRenderer\",\"id\":\"p1231\",\"attributes\":{\"data_source\":{\"type\":\"object\",\"name\":\"ColumnDataSource\",\"id\":\"p1225\",\"attributes\":{\"selected\":{\"type\":\"object\",\"name\":\"Selection\",\"id\":\"p1226\",\"attributes\":{\"indices\":[],\"line_indices\":[]}},\"selection_policy\":{\"type\":\"object\",\"name\":\"UnionRenderers\",\"id\":\"p1227\"},\"data\":{\"type\":\"map\",\"entries\":[[\"x\",{\"type\":\"ndarray\",\"array\":{\"type\":\"bytes\",\"data\":\"AAAAAAEAAAACAAAAAwAAAAQAAAAFAAAABgAAAAcAAAAIAAAACQAAAAoAAAALAAAADAAAAA0AAAAOAAAADwAAABAAAAARAAAAEgAAABMAAAAUAAAAFQAAABYAAAAXAAAAGAAAABkAAAAaAAAAGwAAABwAAAAdAAAAHgAAAB8AAAAgAAAAIQAAACIAAAAjAAAAJAAAACUAAAAmAAAAJwAAACgAAAApAAAAKgAAACsAAAAsAAAALQAAAC4AAAAvAAAAMAAAADEAAAAyAAAAMwAAADQAAAA1AAAANgAAADcAAAA4AAAAOQAAADoAAAA7AAAAPAAAAD0AAAA+AAAAPwAAAEAAAABBAAAAQgAAAEMAAABEAAAARQAAAEYAAABHAAAASAAAAEkAAABKAAAASwAAAEwAAABNAAAATgAAAE8AAABQAAAAUQAAAFIAAABTAAAAVAAAAFUAAABWAAAAVwAAAFgAAABZAAAAWgAAAFsAAABcAAAAXQAAAF4AAABfAAAAYAAAAGEAAABiAAAAYwAAAGQAAABlAAAAZgAAAGcAAABoAAAAaQAAAGoAAABrAAAAbAAAAG0AAABuAAAAbwAAAHAAAABxAAAAcgAAAHMAAAB0AAAAdQAAAHYAAAB3AAAAeAAAAHkAAAB6AAAAewAAAHwAAAB9AAAAfgAAAH8AAACAAAAAgQAAAIIAAACDAAAAhAAAAIUAAACGAAAAhwAAAIgAAACJAAAAigAAAIsAAACMAAAAjQAAAI4AAACPAAAAkAAAAJEAAACSAAAAkwAAAJQAAACVAAAAlgAAAJcAAACYAAAAmQAAAJoAAACbAAAAnAAAAJ0AAACeAAAAnwAAAKAAAAChAAAAogAAAKMAAACkAAAApQAAAKYAAACnAAAAqAAAAKkAAACqAAAAqwAAAKwAAACtAAAArgAAAK8AAACwAAAAsQAAALIAAACzAAAAtAAAALUAAAC2AAAAtwAAALgAAAC5AAAAugAAALsAAAC8AAAAvQAAAL4AAAC/AAAAwAAAAMEAAADCAAAAwwAAAMQAAADFAAAAxgAAAMcAAAA=\"},\"shape\":[200],\"dtype\":\"int32\",\"order\":\"little\"}],[\"y\",{\"type\":\"ndarray\",\"array\":{\"type\":\"bytes\",\"data\":\"x3AvQ8YKCEZ5HMJEth13RBtL70X6+BNGFOyARVDOVkYux2VFz9EgRkq4H0ZQ/k5DfcFaRRF75UQHipZGQNWuRXLIBUbiHKJFUkxGQ2ez9EWGnANGbG6FRaSqIkZ9nAFGumI0RmhEiUWAqyJFAjb+RaMPlEWu3n1GAryaRfnXp0XGU6hEbjQDRRkKREX8Nb5F3X7NRSp6BEU8dTdGnXkqRjUXdkZiTDtESyvERUNpM0YNcGdGzQgKRpl+/0T0dbFFB8zDRXIjhkXfnQRE+fHuRcjaZ0QB2d9F2mb0Q8liMUZPxt9FTvs3QaclCkaiuQ9EYGQ5RY63lkWju+hF0HEBRttidUN4dPdF0USNRYq2VEbDkAtGlSWSRX9LlkYUn/NFSZPDQ4BoKEWax+NF77kARIetsEVUVMVChbEtRcuLhEZpRgdGnipQRNySdkY+lx1GQTasRaGWD0OYMjZGdL2aRMXTiETLp71FdQEwRjejsURpniJE2Z4tRrx8m0Uj7+tFFO1PRb1/zkTySFNDEJj/RWZXc0YR1DxFI90NRlEy5EP0KxBGihYhRT3EBkZ3xX1FoulmRAXNkkVSmwxF3L+tRJzsukX0fsZF1KG0Rcy9f0WQpHhFodOnRc/6VUUwC8hEb4QrRmME0UXOcctFTxcFRMWT8EUJFlhCvxDOQ2LKp0VW/wRGDxKORYJmKEY1nWxDLR6xRQZlmEPtqAJDYgXFQwHZYkXrCJ9FH+yrRdysukULFnlGaa5QROvY3EVHCnlE/nQJRhHnhUUdZQFGnZ1IRJ1YFEVDrv5F3uSFROqkTEZCp8NFx94LRt/onES/1dhE+xsqRgF/4kVF0phFDMMDRl+dMUa6LcRFHhm3RQm9TkWCEt5FyBHqQ5NYb0WVABREOTAQRX8Pd0aYjeVDkm4qRmCqkEXN1j9G9UkCRro9gUTsyRlE0VAeRDCcfEUqljdDcjbvwkLonkWT0AlEPqMNRoP+X0JCcHVFOrgGRjNYR0XdAUxFn0LyRXTWhEV8nlNFSK+URVru8EUzJotF8e3bRWHFt0WQcFZFd0uCRSJ9rkU=\"},\"shape\":[200],\"dtype\":\"float32\",\"order\":\"little\"}]]}}},\"view\":{\"type\":\"object\",\"name\":\"CDSView\",\"id\":\"p1232\",\"attributes\":{\"filter\":{\"type\":\"object\",\"name\":\"AllIndices\",\"id\":\"p1233\"}}},\"glyph\":{\"type\":\"object\",\"name\":\"Line\",\"id\":\"p1228\",\"attributes\":{\"x\":{\"type\":\"field\",\"field\":\"x\"},\"y\":{\"type\":\"field\",\"field\":\"y\"},\"line_color\":\"red\",\"line_width\":2}},\"nonselection_glyph\":{\"type\":\"object\",\"name\":\"Line\",\"id\":\"p1229\",\"attributes\":{\"x\":{\"type\":\"field\",\"field\":\"x\"},\"y\":{\"type\":\"field\",\"field\":\"y\"},\"line_color\":\"red\",\"line_alpha\":0.1,\"line_width\":2}},\"muted_glyph\":{\"type\":\"object\",\"name\":\"Line\",\"id\":\"p1230\",\"attributes\":{\"x\":{\"type\":\"field\",\"field\":\"x\"},\"y\":{\"type\":\"field\",\"field\":\"y\"},\"line_color\":\"red\",\"line_alpha\":0.2,\"line_width\":2}}}}],\"toolbar\":{\"type\":\"object\",\"name\":\"Toolbar\",\"id\":\"p1189\",\"attributes\":{\"tools\":[{\"type\":\"object\",\"name\":\"PanTool\",\"id\":\"p1202\"},{\"type\":\"object\",\"name\":\"WheelZoomTool\",\"id\":\"p1203\",\"attributes\":{\"renderers\":\"auto\"}},{\"type\":\"object\",\"name\":\"BoxZoomTool\",\"id\":\"p1204\",\"attributes\":{\"dimensions\":\"both\",\"overlay\":{\"type\":\"object\",\"name\":\"BoxAnnotation\",\"id\":\"p1205\",\"attributes\":{\"syncable\":false,\"line_color\":\"black\",\"line_alpha\":1.0,\"line_width\":2,\"line_dash\":[4,4],\"fill_color\":\"lightgrey\",\"fill_alpha\":0.5,\"level\":\"overlay\",\"visible\":false,\"left\":{\"type\":\"number\",\"value\":\"nan\"},\"right\":{\"type\":\"number\",\"value\":\"nan\"},\"top\":{\"type\":\"number\",\"value\":\"nan\"},\"bottom\":{\"type\":\"number\",\"value\":\"nan\"},\"left_units\":\"canvas\",\"right_units\":\"canvas\",\"top_units\":\"canvas\",\"bottom_units\":\"canvas\",\"handles\":{\"type\":\"object\",\"name\":\"BoxInteractionHandles\",\"id\":\"p1211\",\"attributes\":{\"all\":{\"type\":\"object\",\"name\":\"AreaVisuals\",\"id\":\"p1210\",\"attributes\":{\"fill_color\":\"white\",\"hover_fill_color\":\"lightgray\"}}}}}}}},{\"type\":\"object\",\"name\":\"ResetTool\",\"id\":\"p1212\"},{\"type\":\"object\",\"name\":\"SaveTool\",\"id\":\"p1213\"}]}},\"toolbar_location\":\"above\",\"left\":[{\"type\":\"object\",\"name\":\"LinearAxis\",\"id\":\"p1197\",\"attributes\":{\"ticker\":{\"type\":\"object\",\"name\":\"BasicTicker\",\"id\":\"p1198\",\"attributes\":{\"mantissas\":[1,2,5]}},\"formatter\":{\"type\":\"object\",\"name\":\"BasicTickFormatter\",\"id\":\"p1199\"},\"axis_label\":\"Value\",\"major_label_policy\":{\"type\":\"object\",\"name\":\"AllLabels\",\"id\":\"p1200\"}}}],\"below\":[{\"type\":\"object\",\"name\":\"LinearAxis\",\"id\":\"p1192\",\"attributes\":{\"ticker\":{\"type\":\"object\",\"name\":\"BasicTicker\",\"id\":\"p1193\",\"attributes\":{\"mantissas\":[1,2,5]}},\"formatter\":{\"type\":\"object\",\"name\":\"BasicTickFormatter\",\"id\":\"p1194\"},\"axis_label\":\"Index\",\"major_label_policy\":{\"type\":\"object\",\"name\":\"AllLabels\",\"id\":\"p1195\"}}}],\"center\":[{\"type\":\"object\",\"name\":\"Grid\",\"id\":\"p1196\",\"attributes\":{\"axis\":{\"id\":\"p1192\"},\"grid_line_alpha\":0.3}},{\"type\":\"object\",\"name\":\"Grid\",\"id\":\"p1201\",\"attributes\":{\"dimension\":1,\"axis\":{\"id\":\"p1197\"},\"grid_line_alpha\":0.3}},{\"type\":\"object\",\"name\":\"Legend\",\"id\":\"p1223\",\"attributes\":{\"location\":\"top_left\",\"click_policy\":\"hide\",\"items\":[{\"type\":\"object\",\"name\":\"LegendItem\",\"id\":\"p1224\",\"attributes\":{\"label\":{\"type\":\"value\",\"value\":\"Actual\"},\"renderers\":[{\"id\":\"p1220\"}]}},{\"type\":\"object\",\"name\":\"LegendItem\",\"id\":\"p1234\",\"attributes\":{\"label\":{\"type\":\"value\",\"value\":\"Predicted\"},\"renderers\":[{\"id\":\"p1231\"}]}}]}}]}}]}};\n  const render_items = [{\"docid\":\"b7fd301c-0902-48a6-b3d6-902e51884809\",\"roots\":{\"p1180\":\"ef1eedb5-98f5-4a2f-bd3c-f1e8a68ba596\"},\"root_ids\":[\"p1180\"]}];\n  void root.Bokeh.embed.embed_items_notebook(docs_json, render_items);\n  }\n  if (root.Bokeh !== undefined) {\n    embed_document(root);\n  } else {\n    let attempts = 0;\n    const timer = setInterval(function(root) {\n      if (root.Bokeh !== undefined) {\n        clearInterval(timer);\n        embed_document(root);\n      } else {\n        attempts++;\n        if (attempts > 100) {\n          clearInterval(timer);\n          console.log(\"Bokeh: ERROR: Unable to run BokehJS code because BokehJS library is missing\");\n        }\n      }\n    }, 10, root)\n  }\n})(window);",
      "application/vnd.bokehjs_exec.v0+json": ""
     },
     "metadata": {
      "application/vnd.bokehjs_exec.v0+json": {
       "id": "p1180"
      }
     },
     "output_type": "display_data"
    }
   ],
   "source": [
    "plot_predictions(opt_xgb_model, X_val[-200:], y_val[-200:])"
   ]
  },
  {
   "cell_type": "code",
   "execution_count": 150,
   "id": "0dfd61e6-d904-44c7-b181-325fb9f254c3",
   "metadata": {},
   "outputs": [
    {
     "data": {
      "text/html": [
       "\n",
       "  <div id=\"baa62218-6c97-4440-99ab-80dcb51e9a51\" data-root-id=\"p1298\" style=\"display: contents;\"></div>\n"
      ]
     },
     "metadata": {},
     "output_type": "display_data"
    },
    {
     "data": {
      "application/javascript": "(function(root) {\n  function embed_document(root) {\n  const docs_json = {\"dfcaf1c2-10a9-45dd-a77c-b7a09aa6f284\":{\"version\":\"3.7.3\",\"title\":\"Bokeh Application\",\"roots\":[{\"type\":\"object\",\"name\":\"Figure\",\"id\":\"p1298\",\"attributes\":{\"width\":1200,\"x_range\":{\"type\":\"object\",\"name\":\"DataRange1d\",\"id\":\"p1299\"},\"y_range\":{\"type\":\"object\",\"name\":\"DataRange1d\",\"id\":\"p1300\"},\"x_scale\":{\"type\":\"object\",\"name\":\"LinearScale\",\"id\":\"p1308\"},\"y_scale\":{\"type\":\"object\",\"name\":\"LinearScale\",\"id\":\"p1309\"},\"title\":{\"type\":\"object\",\"name\":\"Title\",\"id\":\"p1301\",\"attributes\":{\"text\":\"Actual vs Predicted\"}},\"renderers\":[{\"type\":\"object\",\"name\":\"GlyphRenderer\",\"id\":\"p1338\",\"attributes\":{\"data_source\":{\"type\":\"object\",\"name\":\"ColumnDataSource\",\"id\":\"p1332\",\"attributes\":{\"selected\":{\"type\":\"object\",\"name\":\"Selection\",\"id\":\"p1333\",\"attributes\":{\"indices\":[],\"line_indices\":[]}},\"selection_policy\":{\"type\":\"object\",\"name\":\"UnionRenderers\",\"id\":\"p1334\"},\"data\":{\"type\":\"map\",\"entries\":[[\"x\",{\"type\":\"ndarray\",\"array\":{\"type\":\"bytes\",\"data\":\"AAAAAAEAAAACAAAAAwAAAAQAAAAFAAAABgAAAAcAAAAIAAAACQAAAAoAAAALAAAADAAAAA0AAAAOAAAADwAAABAAAAARAAAAEgAAABMAAAAUAAAAFQAAABYAAAAXAAAAGAAAABkAAAAaAAAAGwAAABwAAAAdAAAAHgAAAB8AAAAgAAAAIQAAACIAAAAjAAAAJAAAACUAAAAmAAAAJwAAACgAAAApAAAAKgAAACsAAAAsAAAALQAAAC4AAAAvAAAAMAAAADEAAAAyAAAAMwAAADQAAAA1AAAANgAAADcAAAA4AAAAOQAAADoAAAA7AAAAPAAAAD0AAAA+AAAAPwAAAEAAAABBAAAAQgAAAEMAAABEAAAARQAAAEYAAABHAAAASAAAAEkAAABKAAAASwAAAEwAAABNAAAATgAAAE8AAABQAAAAUQAAAFIAAABTAAAAVAAAAFUAAABWAAAAVwAAAFgAAABZAAAAWgAAAFsAAABcAAAAXQAAAF4AAABfAAAAYAAAAGEAAABiAAAAYwAAAGQAAABlAAAAZgAAAGcAAABoAAAAaQAAAGoAAABrAAAAbAAAAG0AAABuAAAAbwAAAHAAAABxAAAAcgAAAHMAAAB0AAAAdQAAAHYAAAB3AAAAeAAAAHkAAAB6AAAAewAAAHwAAAB9AAAAfgAAAH8AAACAAAAAgQAAAIIAAACDAAAAhAAAAIUAAACGAAAAhwAAAIgAAACJAAAAigAAAIsAAACMAAAAjQAAAI4AAACPAAAAkAAAAJEAAACSAAAAkwAAAJQAAACVAAAAlgAAAJcAAACYAAAAmQAAAJoAAACbAAAAnAAAAJ0AAACeAAAAnwAAAKAAAAChAAAAogAAAKMAAACkAAAApQAAAKYAAACnAAAAqAAAAKkAAACqAAAAqwAAAKwAAACtAAAArgAAAK8AAACwAAAAsQAAALIAAACzAAAAtAAAALUAAAC2AAAAtwAAALgAAAC5AAAAugAAALsAAAC8AAAAvQAAAL4AAAC/AAAAwAAAAMEAAADCAAAAwwAAAMQAAADFAAAAxgAAAMcAAAA=\"},\"shape\":[200],\"dtype\":\"int32\",\"order\":\"little\"}],[\"y\",{\"type\":\"ndarray\",\"array\":{\"type\":\"bytes\",\"data\":\"zisAAE8zAAAwIQAAYBAAACICAAAXBQAA7g0AADMDAAB5DAAAUigAAJMBAABVAgAAixEAANMCAADfAQAAn0cAAJkXAABUDQAAWhgAAJEEAAB4FgAAegIAABkPAACKFAAAMgUAAFMFAADAGAAAJA0AABAWAACUBgAAugEAACUBAACFEQAASwwAAOgTAABFBQAAwAEAADENAACIAQAA5gcAADQBAABHAgAAMhAAAJsCAAAtAgAAqw4AAKcKAAANJwAAXAEAACMZAADBEAAAyTIAAJMvAAChMwAAfAEAAMkFAADLAwAA5y4AAKkGAABwBQAAci8AAAMCAACHKwAAmAoAAKcKAACJDQAAbQQAAMAGAABWDgAAGAIAANQBAAAJBwAAiSgAAJ0aAABrAwAArQMAAOsfAACoKQAAcQEAAGUfAADdQAAAkgAAAKoGAAAmGwAAvQgAAKMYAAB1FAAA5g4AAKcDAACoDAAASAMAAOofAAB8LgAAzxUAALgTAADNHAAAfCwAAGYlAACVIQAA1CYAAJYBAADuGgAAxgcAAH4SAADQKQAAmAEAAJgQAABhHgAA+icAACUfAACYCwAA9RoAAIgeAAAWEAAANBkAAI4CAADNEAAAgiQAABYYAAClFAAA1wQAAH8XAABvBAAAtgMAAKQDAADZBAAA9wYAAMgLAABKGQAA7ggAAFYiAAB/EgAA5RIAABQCAADAHAAAxCsAADARAAApAwAA0C4AALgPAACpIwAAGgMAABoBAAAKGQAAzRIAAHUbAAD9DAAAxQEAAMAYAACKKwAAkS8AADMKAAAeIwAAyR4AAJIpAAC/FwAAiAUAAIYdAADOIwAAHioAAEkEAACoCAAAoCwAALAhAABVDwAAQQUAAJYmAABRJQAA6SoAAEADAACJCwAAgSsAABAgAAC2HAAAdxAAAJsYAACGPwAAuwUAAJEgAAAxBQAAJQEAAFgCAACCAQAA4SMAAFklAADRAAAA9AwAADgEAABKAQAA1wMAACkVAAAOLQAA3gAAAFgBAABYAQAATBsAAFERAADJAAAAzhsAAGEOAAA=\"},\"shape\":[200],\"dtype\":\"int32\",\"order\":\"little\"}]]}}},\"view\":{\"type\":\"object\",\"name\":\"CDSView\",\"id\":\"p1339\",\"attributes\":{\"filter\":{\"type\":\"object\",\"name\":\"AllIndices\",\"id\":\"p1340\"}}},\"glyph\":{\"type\":\"object\",\"name\":\"Line\",\"id\":\"p1335\",\"attributes\":{\"x\":{\"type\":\"field\",\"field\":\"x\"},\"y\":{\"type\":\"field\",\"field\":\"y\"},\"line_color\":\"blue\",\"line_width\":2}},\"nonselection_glyph\":{\"type\":\"object\",\"name\":\"Line\",\"id\":\"p1336\",\"attributes\":{\"x\":{\"type\":\"field\",\"field\":\"x\"},\"y\":{\"type\":\"field\",\"field\":\"y\"},\"line_color\":\"blue\",\"line_alpha\":0.1,\"line_width\":2}},\"muted_glyph\":{\"type\":\"object\",\"name\":\"Line\",\"id\":\"p1337\",\"attributes\":{\"x\":{\"type\":\"field\",\"field\":\"x\"},\"y\":{\"type\":\"field\",\"field\":\"y\"},\"line_color\":\"blue\",\"line_alpha\":0.2,\"line_width\":2}}}},{\"type\":\"object\",\"name\":\"GlyphRenderer\",\"id\":\"p1349\",\"attributes\":{\"data_source\":{\"type\":\"object\",\"name\":\"ColumnDataSource\",\"id\":\"p1343\",\"attributes\":{\"selected\":{\"type\":\"object\",\"name\":\"Selection\",\"id\":\"p1344\",\"attributes\":{\"indices\":[],\"line_indices\":[]}},\"selection_policy\":{\"type\":\"object\",\"name\":\"UnionRenderers\",\"id\":\"p1345\"},\"data\":{\"type\":\"map\",\"entries\":[[\"x\",{\"type\":\"ndarray\",\"array\":{\"type\":\"bytes\",\"data\":\"AAAAAAEAAAACAAAAAwAAAAQAAAAFAAAABgAAAAcAAAAIAAAACQAAAAoAAAALAAAADAAAAA0AAAAOAAAADwAAABAAAAARAAAAEgAAABMAAAAUAAAAFQAAABYAAAAXAAAAGAAAABkAAAAaAAAAGwAAABwAAAAdAAAAHgAAAB8AAAAgAAAAIQAAACIAAAAjAAAAJAAAACUAAAAmAAAAJwAAACgAAAApAAAAKgAAACsAAAAsAAAALQAAAC4AAAAvAAAAMAAAADEAAAAyAAAAMwAAADQAAAA1AAAANgAAADcAAAA4AAAAOQAAADoAAAA7AAAAPAAAAD0AAAA+AAAAPwAAAEAAAABBAAAAQgAAAEMAAABEAAAARQAAAEYAAABHAAAASAAAAEkAAABKAAAASwAAAEwAAABNAAAATgAAAE8AAABQAAAAUQAAAFIAAABTAAAAVAAAAFUAAABWAAAAVwAAAFgAAABZAAAAWgAAAFsAAABcAAAAXQAAAF4AAABfAAAAYAAAAGEAAABiAAAAYwAAAGQAAABlAAAAZgAAAGcAAABoAAAAaQAAAGoAAABrAAAAbAAAAG0AAABuAAAAbwAAAHAAAABxAAAAcgAAAHMAAAB0AAAAdQAAAHYAAAB3AAAAeAAAAHkAAAB6AAAAewAAAHwAAAB9AAAAfgAAAH8AAACAAAAAgQAAAIIAAACDAAAAhAAAAIUAAACGAAAAhwAAAIgAAACJAAAAigAAAIsAAACMAAAAjQAAAI4AAACPAAAAkAAAAJEAAACSAAAAkwAAAJQAAACVAAAAlgAAAJcAAACYAAAAmQAAAJoAAACbAAAAnAAAAJ0AAACeAAAAnwAAAKAAAAChAAAAogAAAKMAAACkAAAApQAAAKYAAACnAAAAqAAAAKkAAACqAAAAqwAAAKwAAACtAAAArgAAAK8AAACwAAAAsQAAALIAAACzAAAAtAAAALUAAAC2AAAAtwAAALgAAAC5AAAAugAAALsAAAC8AAAAvQAAAL4AAAC/AAAAwAAAAMEAAADCAAAAwwAAAMQAAADFAAAAxgAAAMcAAAA=\"},\"shape\":[200],\"dtype\":\"int32\",\"order\":\"little\"}],[\"y\",{\"type\":\"ndarray\",\"array\":{\"type\":\"bytes\",\"data\":\"Ptc1RoDoSkarKgZGZl6ERd5nHUTL5a1Eojh1RVCUXEQ7nUpFquoeRnSMpEP+0fdDw2yXRexXxUM25QJEWPyLRpfpq0VA1J1FSKnERRVlp0TK5rFFUjo6RGNmfUWkX6hFLoqgROhhsETaHMhFBQlSReAqxEVEztZEN1vnQ2bpSURMY5ZFEdFBRQm0pUVoCK9E9N4/QuOJXkXGHsNDuQoKRSZ3yEP9ShFEaPhuRWMYPkTMrytEKL9KRcXNB0WcBRtG5YSjQz6aw0V413RFcx5HRkTwQ0baNE9G0te1Q/cSo0SiJ3lEPDo1RkB610SmebZEvdVERk8SEkR/QC5GFMQsRb8hIkXNw1FFV098RA/Q20T0olpFkk4bQwXSMkTSBctE2NMgRrhK00UvWzxEN5iGRLfjAEYNqiZGxrrbQx6YAUYDWIFGcoWTQhNDvkQWgtZFgI8MRf0p4UX3yqJF5dmRRYg0W0SuqUZFlPBzRPh58UUdDTtGANKpRcGHl0UBd+RF6C0vRnPNEkag1wVGEdEaRlP0JkSdks5F9S/xRDbEjUXiEypGSV0DRIRYc0W/SutFwLkkRhE8/0X03ENFv4DYRcNt80WpHoJFXqzURfqBHUR9D3lFCVcWRvXmyEX/w5xFKKOYRKO8y0VMIZ9EhEhgRHO0lkRSlLREHUHdRNntN0VhjclFz9ISRYqrDkb4O5RFctyWRYP1zkO6QfRFZhIuRmqphkXQsWFEpoo7RnC3cEW/HwhGxyc+RPXCD0Mu3slF7dmXRWqm2UViUFJFEY/mQ6wcuUU0lStG8wY/RgPcKEXQBQ5GJUf2RYybJ0YZnbRFHZjCRFMc3UWQQQ1G8JIiRnFrlkQk4wBF9G8vRpSRA0anVn9FlhSmROXPGUZU6xVGnV4xRhy3W0TzDTVFQbErRl0KAUZvw91Ftg2JRdWIvkVsm3xGtT3BRGHqA0Yz1bBEDE/nQ5MoCkQ4eO5DHSwSRqIZE0ZlmyNCEolFRfZaikR1AY1DlxxsRGRXp0WE5jFGY5+WQ0j3dkNamLhD4c7dRTjhikXnr+NCRynjRa/8a0U=\"},\"shape\":[200],\"dtype\":\"float32\",\"order\":\"little\"}]]}}},\"view\":{\"type\":\"object\",\"name\":\"CDSView\",\"id\":\"p1350\",\"attributes\":{\"filter\":{\"type\":\"object\",\"name\":\"AllIndices\",\"id\":\"p1351\"}}},\"glyph\":{\"type\":\"object\",\"name\":\"Line\",\"id\":\"p1346\",\"attributes\":{\"x\":{\"type\":\"field\",\"field\":\"x\"},\"y\":{\"type\":\"field\",\"field\":\"y\"},\"line_color\":\"red\",\"line_width\":2}},\"nonselection_glyph\":{\"type\":\"object\",\"name\":\"Line\",\"id\":\"p1347\",\"attributes\":{\"x\":{\"type\":\"field\",\"field\":\"x\"},\"y\":{\"type\":\"field\",\"field\":\"y\"},\"line_color\":\"red\",\"line_alpha\":0.1,\"line_width\":2}},\"muted_glyph\":{\"type\":\"object\",\"name\":\"Line\",\"id\":\"p1348\",\"attributes\":{\"x\":{\"type\":\"field\",\"field\":\"x\"},\"y\":{\"type\":\"field\",\"field\":\"y\"},\"line_color\":\"red\",\"line_alpha\":0.2,\"line_width\":2}}}}],\"toolbar\":{\"type\":\"object\",\"name\":\"Toolbar\",\"id\":\"p1307\",\"attributes\":{\"tools\":[{\"type\":\"object\",\"name\":\"PanTool\",\"id\":\"p1320\"},{\"type\":\"object\",\"name\":\"WheelZoomTool\",\"id\":\"p1321\",\"attributes\":{\"renderers\":\"auto\"}},{\"type\":\"object\",\"name\":\"BoxZoomTool\",\"id\":\"p1322\",\"attributes\":{\"dimensions\":\"both\",\"overlay\":{\"type\":\"object\",\"name\":\"BoxAnnotation\",\"id\":\"p1323\",\"attributes\":{\"syncable\":false,\"line_color\":\"black\",\"line_alpha\":1.0,\"line_width\":2,\"line_dash\":[4,4],\"fill_color\":\"lightgrey\",\"fill_alpha\":0.5,\"level\":\"overlay\",\"visible\":false,\"left\":{\"type\":\"number\",\"value\":\"nan\"},\"right\":{\"type\":\"number\",\"value\":\"nan\"},\"top\":{\"type\":\"number\",\"value\":\"nan\"},\"bottom\":{\"type\":\"number\",\"value\":\"nan\"},\"left_units\":\"canvas\",\"right_units\":\"canvas\",\"top_units\":\"canvas\",\"bottom_units\":\"canvas\",\"handles\":{\"type\":\"object\",\"name\":\"BoxInteractionHandles\",\"id\":\"p1329\",\"attributes\":{\"all\":{\"type\":\"object\",\"name\":\"AreaVisuals\",\"id\":\"p1328\",\"attributes\":{\"fill_color\":\"white\",\"hover_fill_color\":\"lightgray\"}}}}}}}},{\"type\":\"object\",\"name\":\"ResetTool\",\"id\":\"p1330\"},{\"type\":\"object\",\"name\":\"SaveTool\",\"id\":\"p1331\"}]}},\"toolbar_location\":\"above\",\"left\":[{\"type\":\"object\",\"name\":\"LinearAxis\",\"id\":\"p1315\",\"attributes\":{\"ticker\":{\"type\":\"object\",\"name\":\"BasicTicker\",\"id\":\"p1316\",\"attributes\":{\"mantissas\":[1,2,5]}},\"formatter\":{\"type\":\"object\",\"name\":\"BasicTickFormatter\",\"id\":\"p1317\"},\"axis_label\":\"Value\",\"major_label_policy\":{\"type\":\"object\",\"name\":\"AllLabels\",\"id\":\"p1318\"}}}],\"below\":[{\"type\":\"object\",\"name\":\"LinearAxis\",\"id\":\"p1310\",\"attributes\":{\"ticker\":{\"type\":\"object\",\"name\":\"BasicTicker\",\"id\":\"p1311\",\"attributes\":{\"mantissas\":[1,2,5]}},\"formatter\":{\"type\":\"object\",\"name\":\"BasicTickFormatter\",\"id\":\"p1312\"},\"axis_label\":\"Index\",\"major_label_policy\":{\"type\":\"object\",\"name\":\"AllLabels\",\"id\":\"p1313\"}}}],\"center\":[{\"type\":\"object\",\"name\":\"Grid\",\"id\":\"p1314\",\"attributes\":{\"axis\":{\"id\":\"p1310\"},\"grid_line_alpha\":0.3}},{\"type\":\"object\",\"name\":\"Grid\",\"id\":\"p1319\",\"attributes\":{\"dimension\":1,\"axis\":{\"id\":\"p1315\"},\"grid_line_alpha\":0.3}},{\"type\":\"object\",\"name\":\"Legend\",\"id\":\"p1341\",\"attributes\":{\"location\":\"top_left\",\"click_policy\":\"hide\",\"items\":[{\"type\":\"object\",\"name\":\"LegendItem\",\"id\":\"p1342\",\"attributes\":{\"label\":{\"type\":\"value\",\"value\":\"Actual\"},\"renderers\":[{\"id\":\"p1338\"}]}},{\"type\":\"object\",\"name\":\"LegendItem\",\"id\":\"p1352\",\"attributes\":{\"label\":{\"type\":\"value\",\"value\":\"Predicted\"},\"renderers\":[{\"id\":\"p1349\"}]}}]}}]}}]}};\n  const render_items = [{\"docid\":\"dfcaf1c2-10a9-45dd-a77c-b7a09aa6f284\",\"roots\":{\"p1298\":\"baa62218-6c97-4440-99ab-80dcb51e9a51\"},\"root_ids\":[\"p1298\"]}];\n  void root.Bokeh.embed.embed_items_notebook(docs_json, render_items);\n  }\n  if (root.Bokeh !== undefined) {\n    embed_document(root);\n  } else {\n    let attempts = 0;\n    const timer = setInterval(function(root) {\n      if (root.Bokeh !== undefined) {\n        clearInterval(timer);\n        embed_document(root);\n      } else {\n        attempts++;\n        if (attempts > 100) {\n          clearInterval(timer);\n          console.log(\"Bokeh: ERROR: Unable to run BokehJS code because BokehJS library is missing\");\n        }\n      }\n    }, 10, root)\n  }\n})(window);",
      "application/vnd.bokehjs_exec.v0+json": ""
     },
     "metadata": {
      "application/vnd.bokehjs_exec.v0+json": {
       "id": "p1298"
      }
     },
     "output_type": "display_data"
    }
   ],
   "source": [
    "plot_predictions(opt_xgb_model, X_val[-400:-200], y_val[-400:-200])"
   ]
  },
  {
   "cell_type": "code",
   "execution_count": 146,
   "id": "f84f31c8-088b-44e4-b9f8-b3756803ae6d",
   "metadata": {},
   "outputs": [],
   "source": [
    "\n",
    "base_val_metrics_df['model'] = 'base_val_xgb'\n",
    "base_val_metrics_df['ds'] = 'val'\n",
    "base_test_metrics_df['model'] = 'base_val_xgb'\n",
    "base_test_metrics_df['ds'] = 'test'\n",
    "opt_val_metrics_df['model'] = 'opt_val_xgb'\n",
    "opt_val_metrics_df['ds'] = 'val'\n",
    "opt_test_metrics_df['model'] = 'opt_test_xgb'\n",
    "opt_test_metrics_df['ds'] = 'test'"
   ]
  },
  {
   "cell_type": "code",
   "execution_count": 147,
   "id": "1c660faf-9c2c-4a12-b0db-49d469affc8d",
   "metadata": {},
   "outputs": [],
   "source": [
    "summary = pd.concat([base_val_metrics_df, base_test_metrics_df, opt_val_metrics_df, opt_test_metrics_df])"
   ]
  },
  {
   "cell_type": "code",
   "execution_count": 148,
   "id": "1202b3b6-9ea4-4cb1-a728-e74a002ae994",
   "metadata": {},
   "outputs": [
    {
     "data": {
      "text/html": [
       "<div>\n",
       "<style scoped>\n",
       "    .dataframe tbody tr th:only-of-type {\n",
       "        vertical-align: middle;\n",
       "    }\n",
       "\n",
       "    .dataframe tbody tr th {\n",
       "        vertical-align: top;\n",
       "    }\n",
       "\n",
       "    .dataframe thead th {\n",
       "        text-align: right;\n",
       "    }\n",
       "</style>\n",
       "<table border=\"1\" class=\"dataframe\">\n",
       "  <thead>\n",
       "    <tr style=\"text-align: right;\">\n",
       "      <th></th>\n",
       "      <th>R2_Score</th>\n",
       "      <th>MAE</th>\n",
       "      <th>MSE</th>\n",
       "      <th>RMSE</th>\n",
       "      <th>model</th>\n",
       "      <th>ds</th>\n",
       "    </tr>\n",
       "  </thead>\n",
       "  <tbody>\n",
       "    <tr>\n",
       "      <th>0</th>\n",
       "      <td>0.974324</td>\n",
       "      <td>420.544342</td>\n",
       "      <td>4.202614e+05</td>\n",
       "      <td>648.275742</td>\n",
       "      <td>base_val_xgb</td>\n",
       "      <td>val</td>\n",
       "    </tr>\n",
       "    <tr>\n",
       "      <th>0</th>\n",
       "      <td>0.808483</td>\n",
       "      <td>806.046875</td>\n",
       "      <td>1.456910e+06</td>\n",
       "      <td>1207.025165</td>\n",
       "      <td>base_val_xgb</td>\n",
       "      <td>test</td>\n",
       "    </tr>\n",
       "    <tr>\n",
       "      <th>0</th>\n",
       "      <td>0.996764</td>\n",
       "      <td>160.743851</td>\n",
       "      <td>5.296534e+04</td>\n",
       "      <td>230.142008</td>\n",
       "      <td>opt_val_xgb</td>\n",
       "      <td>val</td>\n",
       "    </tr>\n",
       "    <tr>\n",
       "      <th>0</th>\n",
       "      <td>0.818378</td>\n",
       "      <td>773.765747</td>\n",
       "      <td>1.381637e+06</td>\n",
       "      <td>1175.430613</td>\n",
       "      <td>opt_test_xgb</td>\n",
       "      <td>test</td>\n",
       "    </tr>\n",
       "  </tbody>\n",
       "</table>\n",
       "</div>"
      ],
      "text/plain": [
       "   R2_Score         MAE           MSE         RMSE         model    ds\n",
       "0  0.974324  420.544342  4.202614e+05   648.275742  base_val_xgb   val\n",
       "0  0.808483  806.046875  1.456910e+06  1207.025165  base_val_xgb  test\n",
       "0  0.996764  160.743851  5.296534e+04   230.142008   opt_val_xgb   val\n",
       "0  0.818378  773.765747  1.381637e+06  1175.430613  opt_test_xgb  test"
      ]
     },
     "execution_count": 148,
     "metadata": {},
     "output_type": "execute_result"
    }
   ],
   "source": [
    "summary"
   ]
  },
  {
   "cell_type": "code",
   "execution_count": null,
   "id": "bc4456b9-f059-47b6-99a8-0cc6dd7ecae4",
   "metadata": {},
   "outputs": [],
   "source": []
  },
  {
   "cell_type": "code",
   "execution_count": null,
   "id": "316eb17b-c9f2-4536-b766-a692b7a2ad19",
   "metadata": {},
   "outputs": [],
   "source": []
  },
  {
   "cell_type": "code",
   "execution_count": 151,
   "id": "e4d9e7f1-56cc-4b35-90e3-edfb5a864ba2",
   "metadata": {},
   "outputs": [],
   "source": [
    "test_url = \"http://localhost:4566/citibike-data/data/citibike/processed/2024-citibike-tripdata.parquet\""
   ]
  },
  {
   "cell_type": "code",
   "execution_count": 152,
   "id": "ed3975a1-43cb-4049-9d65-0f3a66294a45",
   "metadata": {},
   "outputs": [],
   "source": [
    "test_data = pd.read_parquet(test_url)"
   ]
  },
  {
   "cell_type": "code",
   "execution_count": 153,
   "id": "29a38a3b-3c42-48f7-b35d-4185c6b22a10",
   "metadata": {},
   "outputs": [
    {
     "data": {
      "text/html": [
       "<div>\n",
       "<style scoped>\n",
       "    .dataframe tbody tr th:only-of-type {\n",
       "        vertical-align: middle;\n",
       "    }\n",
       "\n",
       "    .dataframe tbody tr th {\n",
       "        vertical-align: top;\n",
       "    }\n",
       "\n",
       "    .dataframe thead th {\n",
       "        text-align: right;\n",
       "    }\n",
       "</style>\n",
       "<table border=\"1\" class=\"dataframe\">\n",
       "  <thead>\n",
       "    <tr style=\"text-align: right;\">\n",
       "      <th></th>\n",
       "      <th>date</th>\n",
       "      <th>hour</th>\n",
       "      <th>trips</th>\n",
       "      <th>holiday</th>\n",
       "    </tr>\n",
       "  </thead>\n",
       "  <tbody>\n",
       "    <tr>\n",
       "      <th>0</th>\n",
       "      <td>2023-12-31</td>\n",
       "      <td>23</td>\n",
       "      <td>278</td>\n",
       "      <td>0</td>\n",
       "    </tr>\n",
       "    <tr>\n",
       "      <th>1</th>\n",
       "      <td>2024-01-01</td>\n",
       "      <td>0</td>\n",
       "      <td>1863</td>\n",
       "      <td>1</td>\n",
       "    </tr>\n",
       "    <tr>\n",
       "      <th>2</th>\n",
       "      <td>2024-01-01</td>\n",
       "      <td>1</td>\n",
       "      <td>2291</td>\n",
       "      <td>1</td>\n",
       "    </tr>\n",
       "    <tr>\n",
       "      <th>3</th>\n",
       "      <td>2024-01-01</td>\n",
       "      <td>2</td>\n",
       "      <td>1903</td>\n",
       "      <td>1</td>\n",
       "    </tr>\n",
       "    <tr>\n",
       "      <th>4</th>\n",
       "      <td>2024-01-01</td>\n",
       "      <td>3</td>\n",
       "      <td>1081</td>\n",
       "      <td>1</td>\n",
       "    </tr>\n",
       "  </tbody>\n",
       "</table>\n",
       "</div>"
      ],
      "text/plain": [
       "        date  hour  trips  holiday\n",
       "0 2023-12-31    23    278        0\n",
       "1 2024-01-01     0   1863        1\n",
       "2 2024-01-01     1   2291        1\n",
       "3 2024-01-01     2   1903        1\n",
       "4 2024-01-01     3   1081        1"
      ]
     },
     "execution_count": 153,
     "metadata": {},
     "output_type": "execute_result"
    }
   ],
   "source": [
    "test_data.head(5)"
   ]
  },
  {
   "cell_type": "code",
   "execution_count": 156,
   "id": "6838fdb1-e3fd-400f-9a49-25bbfdc20c20",
   "metadata": {},
   "outputs": [
    {
     "data": {
      "text/html": [
       "<div>\n",
       "<style scoped>\n",
       "    .dataframe tbody tr th:only-of-type {\n",
       "        vertical-align: middle;\n",
       "    }\n",
       "\n",
       "    .dataframe tbody tr th {\n",
       "        vertical-align: top;\n",
       "    }\n",
       "\n",
       "    .dataframe thead th {\n",
       "        text-align: right;\n",
       "    }\n",
       "</style>\n",
       "<table border=\"1\" class=\"dataframe\">\n",
       "  <thead>\n",
       "    <tr style=\"text-align: right;\">\n",
       "      <th></th>\n",
       "      <th>holiday</th>\n",
       "      <th>TMAX</th>\n",
       "      <th>TMIN</th>\n",
       "      <th>hr_sin</th>\n",
       "      <th>hr_cos</th>\n",
       "      <th>weekday_sin</th>\n",
       "      <th>weekday_cos</th>\n",
       "      <th>week_sin</th>\n",
       "      <th>week_cos</th>\n",
       "      <th>mnth_sin</th>\n",
       "      <th>mnth_cos</th>\n",
       "    </tr>\n",
       "  </thead>\n",
       "  <tbody>\n",
       "    <tr>\n",
       "      <th>0</th>\n",
       "      <td>1</td>\n",
       "      <td>47.0</td>\n",
       "      <td>36.0</td>\n",
       "      <td>0.000000</td>\n",
       "      <td>1.000000</td>\n",
       "      <td>0.0</td>\n",
       "      <td>1.0</td>\n",
       "      <td>0.0</td>\n",
       "      <td>1.0</td>\n",
       "      <td>0.000000</td>\n",
       "      <td>1.0</td>\n",
       "    </tr>\n",
       "    <tr>\n",
       "      <th>1</th>\n",
       "      <td>1</td>\n",
       "      <td>47.0</td>\n",
       "      <td>36.0</td>\n",
       "      <td>0.258819</td>\n",
       "      <td>0.965926</td>\n",
       "      <td>0.0</td>\n",
       "      <td>1.0</td>\n",
       "      <td>0.0</td>\n",
       "      <td>1.0</td>\n",
       "      <td>0.000000</td>\n",
       "      <td>1.0</td>\n",
       "    </tr>\n",
       "    <tr>\n",
       "      <th>2</th>\n",
       "      <td>1</td>\n",
       "      <td>47.0</td>\n",
       "      <td>36.0</td>\n",
       "      <td>0.500000</td>\n",
       "      <td>0.866025</td>\n",
       "      <td>0.0</td>\n",
       "      <td>1.0</td>\n",
       "      <td>0.0</td>\n",
       "      <td>1.0</td>\n",
       "      <td>0.000000</td>\n",
       "      <td>1.0</td>\n",
       "    </tr>\n",
       "    <tr>\n",
       "      <th>3</th>\n",
       "      <td>1</td>\n",
       "      <td>47.0</td>\n",
       "      <td>36.0</td>\n",
       "      <td>0.707107</td>\n",
       "      <td>0.707107</td>\n",
       "      <td>0.0</td>\n",
       "      <td>1.0</td>\n",
       "      <td>0.0</td>\n",
       "      <td>1.0</td>\n",
       "      <td>0.000000</td>\n",
       "      <td>1.0</td>\n",
       "    </tr>\n",
       "    <tr>\n",
       "      <th>4</th>\n",
       "      <td>1</td>\n",
       "      <td>47.0</td>\n",
       "      <td>36.0</td>\n",
       "      <td>0.866025</td>\n",
       "      <td>0.500000</td>\n",
       "      <td>0.0</td>\n",
       "      <td>1.0</td>\n",
       "      <td>0.0</td>\n",
       "      <td>1.0</td>\n",
       "      <td>0.000000</td>\n",
       "      <td>1.0</td>\n",
       "    </tr>\n",
       "    <tr>\n",
       "      <th>...</th>\n",
       "      <td>...</td>\n",
       "      <td>...</td>\n",
       "      <td>...</td>\n",
       "      <td>...</td>\n",
       "      <td>...</td>\n",
       "      <td>...</td>\n",
       "      <td>...</td>\n",
       "      <td>...</td>\n",
       "      <td>...</td>\n",
       "      <td>...</td>\n",
       "      <td>...</td>\n",
       "    </tr>\n",
       "    <tr>\n",
       "      <th>10902</th>\n",
       "      <td>0</td>\n",
       "      <td>70.0</td>\n",
       "      <td>44.0</td>\n",
       "      <td>-0.965926</td>\n",
       "      <td>0.258819</td>\n",
       "      <td>0.0</td>\n",
       "      <td>1.0</td>\n",
       "      <td>1.0</td>\n",
       "      <td>-0.0</td>\n",
       "      <td>0.866025</td>\n",
       "      <td>0.5</td>\n",
       "    </tr>\n",
       "    <tr>\n",
       "      <th>10903</th>\n",
       "      <td>0</td>\n",
       "      <td>70.0</td>\n",
       "      <td>44.0</td>\n",
       "      <td>-0.866025</td>\n",
       "      <td>0.500000</td>\n",
       "      <td>0.0</td>\n",
       "      <td>1.0</td>\n",
       "      <td>1.0</td>\n",
       "      <td>-0.0</td>\n",
       "      <td>0.866025</td>\n",
       "      <td>0.5</td>\n",
       "    </tr>\n",
       "    <tr>\n",
       "      <th>10904</th>\n",
       "      <td>0</td>\n",
       "      <td>70.0</td>\n",
       "      <td>44.0</td>\n",
       "      <td>-0.707107</td>\n",
       "      <td>0.707107</td>\n",
       "      <td>0.0</td>\n",
       "      <td>1.0</td>\n",
       "      <td>1.0</td>\n",
       "      <td>-0.0</td>\n",
       "      <td>0.866025</td>\n",
       "      <td>0.5</td>\n",
       "    </tr>\n",
       "    <tr>\n",
       "      <th>10905</th>\n",
       "      <td>0</td>\n",
       "      <td>70.0</td>\n",
       "      <td>44.0</td>\n",
       "      <td>-0.500000</td>\n",
       "      <td>0.866025</td>\n",
       "      <td>0.0</td>\n",
       "      <td>1.0</td>\n",
       "      <td>1.0</td>\n",
       "      <td>-0.0</td>\n",
       "      <td>0.866025</td>\n",
       "      <td>0.5</td>\n",
       "    </tr>\n",
       "    <tr>\n",
       "      <th>10906</th>\n",
       "      <td>0</td>\n",
       "      <td>70.0</td>\n",
       "      <td>44.0</td>\n",
       "      <td>-0.258819</td>\n",
       "      <td>0.965926</td>\n",
       "      <td>0.0</td>\n",
       "      <td>1.0</td>\n",
       "      <td>1.0</td>\n",
       "      <td>-0.0</td>\n",
       "      <td>0.866025</td>\n",
       "      <td>0.5</td>\n",
       "    </tr>\n",
       "  </tbody>\n",
       "</table>\n",
       "<p>10907 rows × 11 columns</p>\n",
       "</div>"
      ],
      "text/plain": [
       "       holiday  TMAX  TMIN    hr_sin    hr_cos  weekday_sin  weekday_cos  \\\n",
       "0            1  47.0  36.0  0.000000  1.000000          0.0          1.0   \n",
       "1            1  47.0  36.0  0.258819  0.965926          0.0          1.0   \n",
       "2            1  47.0  36.0  0.500000  0.866025          0.0          1.0   \n",
       "3            1  47.0  36.0  0.707107  0.707107          0.0          1.0   \n",
       "4            1  47.0  36.0  0.866025  0.500000          0.0          1.0   \n",
       "...        ...   ...   ...       ...       ...          ...          ...   \n",
       "10902        0  70.0  44.0 -0.965926  0.258819          0.0          1.0   \n",
       "10903        0  70.0  44.0 -0.866025  0.500000          0.0          1.0   \n",
       "10904        0  70.0  44.0 -0.707107  0.707107          0.0          1.0   \n",
       "10905        0  70.0  44.0 -0.500000  0.866025          0.0          1.0   \n",
       "10906        0  70.0  44.0 -0.258819  0.965926          0.0          1.0   \n",
       "\n",
       "       week_sin  week_cos  mnth_sin  mnth_cos  \n",
       "0           0.0       1.0  0.000000       1.0  \n",
       "1           0.0       1.0  0.000000       1.0  \n",
       "2           0.0       1.0  0.000000       1.0  \n",
       "3           0.0       1.0  0.000000       1.0  \n",
       "4           0.0       1.0  0.000000       1.0  \n",
       "...         ...       ...       ...       ...  \n",
       "10902       1.0      -0.0  0.866025       0.5  \n",
       "10903       1.0      -0.0  0.866025       0.5  \n",
       "10904       1.0      -0.0  0.866025       0.5  \n",
       "10905       1.0      -0.0  0.866025       0.5  \n",
       "10906       1.0      -0.0  0.866025       0.5  \n",
       "\n",
       "[10907 rows x 11 columns]"
      ]
     },
     "execution_count": 156,
     "metadata": {},
     "output_type": "execute_result"
    }
   ],
   "source": [
    "pd.concat([X, X_test], ignore_index=True)"
   ]
  },
  {
   "cell_type": "code",
   "execution_count": 157,
   "id": "28b29004-93eb-4639-9f5c-c4ced3bcdd97",
   "metadata": {},
   "outputs": [
    {
     "data": {
      "text/plain": [
       "0        1863\n",
       "1        2291\n",
       "2        1903\n",
       "3        1081\n",
       "4         636\n",
       "         ... \n",
       "10902    5963\n",
       "10903    4289\n",
       "10904    1577\n",
       "10905     532\n",
       "10906     404\n",
       "Name: trips, Length: 10907, dtype: int64"
      ]
     },
     "execution_count": 157,
     "metadata": {},
     "output_type": "execute_result"
    }
   ],
   "source": [
    "pd.concat([y, y_test], ignore_index=True)"
   ]
  },
  {
   "cell_type": "code",
   "execution_count": 181,
   "id": "cb13492a-8404-4e5c-b2a7-f270b1034096",
   "metadata": {},
   "outputs": [],
   "source": [
    "X_tmp = pd.concat([train_trips_modeling_data.drop(columns=[\"trips\"]), test_trips_modeling_data.drop(columns=[\"trips\"])], ignore_index=True)\n",
    "y_tmp = pd.concat([train_trips_modeling_data[\"trips\"], test_trips_modeling_data[\"trips\"]], ignore_index=True)\n",
    "X_1, X_2, y_1, y_2 = train_test_split(X_tmp, y_tmp, test_size=0.20, shuffle=False)"
   ]
  },
  {
   "cell_type": "code",
   "execution_count": 182,
   "id": "2a878cef-5dd4-4d68-a3ab-150f40e8d19b",
   "metadata": {},
   "outputs": [
    {
     "data": {
      "text/html": [
       "<div>\n",
       "<style scoped>\n",
       "    .dataframe tbody tr th:only-of-type {\n",
       "        vertical-align: middle;\n",
       "    }\n",
       "\n",
       "    .dataframe tbody tr th {\n",
       "        vertical-align: top;\n",
       "    }\n",
       "\n",
       "    .dataframe thead th {\n",
       "        text-align: right;\n",
       "    }\n",
       "</style>\n",
       "<table border=\"1\" class=\"dataframe\">\n",
       "  <thead>\n",
       "    <tr style=\"text-align: right;\">\n",
       "      <th></th>\n",
       "      <th>date</th>\n",
       "      <th>hour</th>\n",
       "      <th>holiday</th>\n",
       "      <th>DATE</th>\n",
       "      <th>AWND</th>\n",
       "      <th>PRCP</th>\n",
       "      <th>SNOW</th>\n",
       "      <th>SNWD</th>\n",
       "      <th>TAVG</th>\n",
       "      <th>TMAX</th>\n",
       "      <th>TMIN</th>\n",
       "    </tr>\n",
       "  </thead>\n",
       "  <tbody>\n",
       "    <tr>\n",
       "      <th>8715</th>\n",
       "      <td>2024-12-28</td>\n",
       "      <td>17</td>\n",
       "      <td>0</td>\n",
       "      <td>2024-12-28</td>\n",
       "      <td>3.1</td>\n",
       "      <td>0.56</td>\n",
       "      <td>0.0</td>\n",
       "      <td>0.0</td>\n",
       "      <td>42.0</td>\n",
       "      <td>50.0</td>\n",
       "      <td>39.0</td>\n",
       "    </tr>\n",
       "    <tr>\n",
       "      <th>8716</th>\n",
       "      <td>2024-12-28</td>\n",
       "      <td>18</td>\n",
       "      <td>0</td>\n",
       "      <td>2024-12-28</td>\n",
       "      <td>3.1</td>\n",
       "      <td>0.56</td>\n",
       "      <td>0.0</td>\n",
       "      <td>0.0</td>\n",
       "      <td>42.0</td>\n",
       "      <td>50.0</td>\n",
       "      <td>39.0</td>\n",
       "    </tr>\n",
       "    <tr>\n",
       "      <th>8717</th>\n",
       "      <td>2024-12-28</td>\n",
       "      <td>19</td>\n",
       "      <td>0</td>\n",
       "      <td>2024-12-28</td>\n",
       "      <td>3.1</td>\n",
       "      <td>0.56</td>\n",
       "      <td>0.0</td>\n",
       "      <td>0.0</td>\n",
       "      <td>42.0</td>\n",
       "      <td>50.0</td>\n",
       "      <td>39.0</td>\n",
       "    </tr>\n",
       "    <tr>\n",
       "      <th>8718</th>\n",
       "      <td>2024-12-28</td>\n",
       "      <td>20</td>\n",
       "      <td>0</td>\n",
       "      <td>2024-12-28</td>\n",
       "      <td>3.1</td>\n",
       "      <td>0.56</td>\n",
       "      <td>0.0</td>\n",
       "      <td>0.0</td>\n",
       "      <td>42.0</td>\n",
       "      <td>50.0</td>\n",
       "      <td>39.0</td>\n",
       "    </tr>\n",
       "    <tr>\n",
       "      <th>8719</th>\n",
       "      <td>2024-12-28</td>\n",
       "      <td>21</td>\n",
       "      <td>0</td>\n",
       "      <td>2024-12-28</td>\n",
       "      <td>3.1</td>\n",
       "      <td>0.56</td>\n",
       "      <td>0.0</td>\n",
       "      <td>0.0</td>\n",
       "      <td>42.0</td>\n",
       "      <td>50.0</td>\n",
       "      <td>39.0</td>\n",
       "    </tr>\n",
       "    <tr>\n",
       "      <th>8720</th>\n",
       "      <td>2024-12-28</td>\n",
       "      <td>22</td>\n",
       "      <td>0</td>\n",
       "      <td>2024-12-28</td>\n",
       "      <td>3.1</td>\n",
       "      <td>0.56</td>\n",
       "      <td>0.0</td>\n",
       "      <td>0.0</td>\n",
       "      <td>42.0</td>\n",
       "      <td>50.0</td>\n",
       "      <td>39.0</td>\n",
       "    </tr>\n",
       "    <tr>\n",
       "      <th>8721</th>\n",
       "      <td>2024-12-28</td>\n",
       "      <td>23</td>\n",
       "      <td>0</td>\n",
       "      <td>2024-12-28</td>\n",
       "      <td>3.1</td>\n",
       "      <td>0.56</td>\n",
       "      <td>0.0</td>\n",
       "      <td>0.0</td>\n",
       "      <td>42.0</td>\n",
       "      <td>50.0</td>\n",
       "      <td>39.0</td>\n",
       "    </tr>\n",
       "    <tr>\n",
       "      <th>8722</th>\n",
       "      <td>2024-12-29</td>\n",
       "      <td>0</td>\n",
       "      <td>0</td>\n",
       "      <td>2024-12-29</td>\n",
       "      <td>10.1</td>\n",
       "      <td>0.22</td>\n",
       "      <td>0.0</td>\n",
       "      <td>0.0</td>\n",
       "      <td>50.0</td>\n",
       "      <td>60.0</td>\n",
       "      <td>45.0</td>\n",
       "    </tr>\n",
       "    <tr>\n",
       "      <th>8723</th>\n",
       "      <td>2024-12-29</td>\n",
       "      <td>1</td>\n",
       "      <td>0</td>\n",
       "      <td>2024-12-29</td>\n",
       "      <td>10.1</td>\n",
       "      <td>0.22</td>\n",
       "      <td>0.0</td>\n",
       "      <td>0.0</td>\n",
       "      <td>50.0</td>\n",
       "      <td>60.0</td>\n",
       "      <td>45.0</td>\n",
       "    </tr>\n",
       "    <tr>\n",
       "      <th>8724</th>\n",
       "      <td>2024-12-29</td>\n",
       "      <td>2</td>\n",
       "      <td>0</td>\n",
       "      <td>2024-12-29</td>\n",
       "      <td>10.1</td>\n",
       "      <td>0.22</td>\n",
       "      <td>0.0</td>\n",
       "      <td>0.0</td>\n",
       "      <td>50.0</td>\n",
       "      <td>60.0</td>\n",
       "      <td>45.0</td>\n",
       "    </tr>\n",
       "  </tbody>\n",
       "</table>\n",
       "</div>"
      ],
      "text/plain": [
       "           date  hour  holiday       DATE  AWND  PRCP  SNOW  SNWD  TAVG  TMAX  \\\n",
       "8715 2024-12-28    17        0 2024-12-28   3.1  0.56   0.0   0.0  42.0  50.0   \n",
       "8716 2024-12-28    18        0 2024-12-28   3.1  0.56   0.0   0.0  42.0  50.0   \n",
       "8717 2024-12-28    19        0 2024-12-28   3.1  0.56   0.0   0.0  42.0  50.0   \n",
       "8718 2024-12-28    20        0 2024-12-28   3.1  0.56   0.0   0.0  42.0  50.0   \n",
       "8719 2024-12-28    21        0 2024-12-28   3.1  0.56   0.0   0.0  42.0  50.0   \n",
       "8720 2024-12-28    22        0 2024-12-28   3.1  0.56   0.0   0.0  42.0  50.0   \n",
       "8721 2024-12-28    23        0 2024-12-28   3.1  0.56   0.0   0.0  42.0  50.0   \n",
       "8722 2024-12-29     0        0 2024-12-29  10.1  0.22   0.0   0.0  50.0  60.0   \n",
       "8723 2024-12-29     1        0 2024-12-29  10.1  0.22   0.0   0.0  50.0  60.0   \n",
       "8724 2024-12-29     2        0 2024-12-29  10.1  0.22   0.0   0.0  50.0  60.0   \n",
       "\n",
       "      TMIN  \n",
       "8715  39.0  \n",
       "8716  39.0  \n",
       "8717  39.0  \n",
       "8718  39.0  \n",
       "8719  39.0  \n",
       "8720  39.0  \n",
       "8721  39.0  \n",
       "8722  45.0  \n",
       "8723  45.0  \n",
       "8724  45.0  "
      ]
     },
     "execution_count": 182,
     "metadata": {},
     "output_type": "execute_result"
    }
   ],
   "source": [
    "X_1.tail(10)"
   ]
  },
  {
   "cell_type": "code",
   "execution_count": 183,
   "id": "ec0f25b0-86a4-4968-9091-0425d020a7ba",
   "metadata": {},
   "outputs": [
    {
     "data": {
      "text/html": [
       "<div>\n",
       "<style scoped>\n",
       "    .dataframe tbody tr th:only-of-type {\n",
       "        vertical-align: middle;\n",
       "    }\n",
       "\n",
       "    .dataframe tbody tr th {\n",
       "        vertical-align: top;\n",
       "    }\n",
       "\n",
       "    .dataframe thead th {\n",
       "        text-align: right;\n",
       "    }\n",
       "</style>\n",
       "<table border=\"1\" class=\"dataframe\">\n",
       "  <thead>\n",
       "    <tr style=\"text-align: right;\">\n",
       "      <th></th>\n",
       "      <th>date</th>\n",
       "      <th>hour</th>\n",
       "      <th>holiday</th>\n",
       "      <th>DATE</th>\n",
       "      <th>AWND</th>\n",
       "      <th>PRCP</th>\n",
       "      <th>SNOW</th>\n",
       "      <th>SNWD</th>\n",
       "      <th>TAVG</th>\n",
       "      <th>TMAX</th>\n",
       "      <th>TMIN</th>\n",
       "    </tr>\n",
       "  </thead>\n",
       "  <tbody>\n",
       "    <tr>\n",
       "      <th>8725</th>\n",
       "      <td>2024-12-29</td>\n",
       "      <td>3</td>\n",
       "      <td>0</td>\n",
       "      <td>2024-12-29</td>\n",
       "      <td>10.1</td>\n",
       "      <td>0.22</td>\n",
       "      <td>0.0</td>\n",
       "      <td>0.0</td>\n",
       "      <td>50.0</td>\n",
       "      <td>60.0</td>\n",
       "      <td>45.0</td>\n",
       "    </tr>\n",
       "    <tr>\n",
       "      <th>8726</th>\n",
       "      <td>2024-12-29</td>\n",
       "      <td>4</td>\n",
       "      <td>0</td>\n",
       "      <td>2024-12-29</td>\n",
       "      <td>10.1</td>\n",
       "      <td>0.22</td>\n",
       "      <td>0.0</td>\n",
       "      <td>0.0</td>\n",
       "      <td>50.0</td>\n",
       "      <td>60.0</td>\n",
       "      <td>45.0</td>\n",
       "    </tr>\n",
       "    <tr>\n",
       "      <th>8727</th>\n",
       "      <td>2024-12-29</td>\n",
       "      <td>5</td>\n",
       "      <td>0</td>\n",
       "      <td>2024-12-29</td>\n",
       "      <td>10.1</td>\n",
       "      <td>0.22</td>\n",
       "      <td>0.0</td>\n",
       "      <td>0.0</td>\n",
       "      <td>50.0</td>\n",
       "      <td>60.0</td>\n",
       "      <td>45.0</td>\n",
       "    </tr>\n",
       "    <tr>\n",
       "      <th>8728</th>\n",
       "      <td>2024-12-29</td>\n",
       "      <td>6</td>\n",
       "      <td>0</td>\n",
       "      <td>2024-12-29</td>\n",
       "      <td>10.1</td>\n",
       "      <td>0.22</td>\n",
       "      <td>0.0</td>\n",
       "      <td>0.0</td>\n",
       "      <td>50.0</td>\n",
       "      <td>60.0</td>\n",
       "      <td>45.0</td>\n",
       "    </tr>\n",
       "    <tr>\n",
       "      <th>8729</th>\n",
       "      <td>2024-12-29</td>\n",
       "      <td>7</td>\n",
       "      <td>0</td>\n",
       "      <td>2024-12-29</td>\n",
       "      <td>10.1</td>\n",
       "      <td>0.22</td>\n",
       "      <td>0.0</td>\n",
       "      <td>0.0</td>\n",
       "      <td>50.0</td>\n",
       "      <td>60.0</td>\n",
       "      <td>45.0</td>\n",
       "    </tr>\n",
       "    <tr>\n",
       "      <th>8730</th>\n",
       "      <td>2024-12-29</td>\n",
       "      <td>8</td>\n",
       "      <td>0</td>\n",
       "      <td>2024-12-29</td>\n",
       "      <td>10.1</td>\n",
       "      <td>0.22</td>\n",
       "      <td>0.0</td>\n",
       "      <td>0.0</td>\n",
       "      <td>50.0</td>\n",
       "      <td>60.0</td>\n",
       "      <td>45.0</td>\n",
       "    </tr>\n",
       "    <tr>\n",
       "      <th>8731</th>\n",
       "      <td>2024-12-29</td>\n",
       "      <td>9</td>\n",
       "      <td>0</td>\n",
       "      <td>2024-12-29</td>\n",
       "      <td>10.1</td>\n",
       "      <td>0.22</td>\n",
       "      <td>0.0</td>\n",
       "      <td>0.0</td>\n",
       "      <td>50.0</td>\n",
       "      <td>60.0</td>\n",
       "      <td>45.0</td>\n",
       "    </tr>\n",
       "    <tr>\n",
       "      <th>8732</th>\n",
       "      <td>2024-12-29</td>\n",
       "      <td>10</td>\n",
       "      <td>0</td>\n",
       "      <td>2024-12-29</td>\n",
       "      <td>10.1</td>\n",
       "      <td>0.22</td>\n",
       "      <td>0.0</td>\n",
       "      <td>0.0</td>\n",
       "      <td>50.0</td>\n",
       "      <td>60.0</td>\n",
       "      <td>45.0</td>\n",
       "    </tr>\n",
       "    <tr>\n",
       "      <th>8733</th>\n",
       "      <td>2024-12-29</td>\n",
       "      <td>11</td>\n",
       "      <td>0</td>\n",
       "      <td>2024-12-29</td>\n",
       "      <td>10.1</td>\n",
       "      <td>0.22</td>\n",
       "      <td>0.0</td>\n",
       "      <td>0.0</td>\n",
       "      <td>50.0</td>\n",
       "      <td>60.0</td>\n",
       "      <td>45.0</td>\n",
       "    </tr>\n",
       "    <tr>\n",
       "      <th>8734</th>\n",
       "      <td>2024-12-29</td>\n",
       "      <td>12</td>\n",
       "      <td>0</td>\n",
       "      <td>2024-12-29</td>\n",
       "      <td>10.1</td>\n",
       "      <td>0.22</td>\n",
       "      <td>0.0</td>\n",
       "      <td>0.0</td>\n",
       "      <td>50.0</td>\n",
       "      <td>60.0</td>\n",
       "      <td>45.0</td>\n",
       "    </tr>\n",
       "  </tbody>\n",
       "</table>\n",
       "</div>"
      ],
      "text/plain": [
       "           date  hour  holiday       DATE  AWND  PRCP  SNOW  SNWD  TAVG  TMAX  \\\n",
       "8725 2024-12-29     3        0 2024-12-29  10.1  0.22   0.0   0.0  50.0  60.0   \n",
       "8726 2024-12-29     4        0 2024-12-29  10.1  0.22   0.0   0.0  50.0  60.0   \n",
       "8727 2024-12-29     5        0 2024-12-29  10.1  0.22   0.0   0.0  50.0  60.0   \n",
       "8728 2024-12-29     6        0 2024-12-29  10.1  0.22   0.0   0.0  50.0  60.0   \n",
       "8729 2024-12-29     7        0 2024-12-29  10.1  0.22   0.0   0.0  50.0  60.0   \n",
       "8730 2024-12-29     8        0 2024-12-29  10.1  0.22   0.0   0.0  50.0  60.0   \n",
       "8731 2024-12-29     9        0 2024-12-29  10.1  0.22   0.0   0.0  50.0  60.0   \n",
       "8732 2024-12-29    10        0 2024-12-29  10.1  0.22   0.0   0.0  50.0  60.0   \n",
       "8733 2024-12-29    11        0 2024-12-29  10.1  0.22   0.0   0.0  50.0  60.0   \n",
       "8734 2024-12-29    12        0 2024-12-29  10.1  0.22   0.0   0.0  50.0  60.0   \n",
       "\n",
       "      TMIN  \n",
       "8725  45.0  \n",
       "8726  45.0  \n",
       "8727  45.0  \n",
       "8728  45.0  \n",
       "8729  45.0  \n",
       "8730  45.0  \n",
       "8731  45.0  \n",
       "8732  45.0  \n",
       "8733  45.0  \n",
       "8734  45.0  "
      ]
     },
     "execution_count": 183,
     "metadata": {},
     "output_type": "execute_result"
    }
   ],
   "source": [
    "X_2.head(10)"
   ]
  },
  {
   "cell_type": "markdown",
   "id": "070f71ab-ddf9-43fc-ac0b-00afb0f8a389",
   "metadata": {},
   "source": [
    "\n",
    "\n",
    "python run.py --data_url  http://localhost:4566/citibike-data/data/citibike/processed/\n"
   ]
  },
  {
   "cell_type": "code",
   "execution_count": 184,
   "id": "56bd9446-4370-4faa-a7ae-c8af1ec3e71b",
   "metadata": {},
   "outputs": [
    {
     "name": "stdout",
     "output_type": "stream",
     "text": [
      "\n",
      "An error occurred (NoSuchBucket) when calling the ListObjectsV2 operation: The specified bucket does not exist\n"
     ]
    }
   ],
   "source": [
    "!aws --endpoint-url=http://localhost:4566 s3 ls s3://citibike-data"
   ]
  },
  {
   "cell_type": "code",
   "execution_count": null,
   "id": "3edee0c6-b2f4-4594-958c-7d542f0a5a89",
   "metadata": {},
   "outputs": [],
   "source": []
  },
  {
   "cell_type": "code",
   "execution_count": 6,
   "id": "65890936-9d04-4b4b-96cf-56a47aa350de",
   "metadata": {},
   "outputs": [
    {
     "data": {
      "text/plain": [
       "'http://localhost:5000'"
      ]
     },
     "execution_count": 6,
     "metadata": {},
     "output_type": "execute_result"
    }
   ],
   "source": [
    "MLFLOW_SERVER_HOST=\"localhost\"\n",
    "MLFLOW_SERVER_PORT=\"5000\"\n",
    "MDFLOW_SERVER_URL=f\"http://{MLFLOW_SERVER_HOST}:{MLFLOW_SERVER_PORT}\"\n",
    "MDFLOW_SERVER_URL"
   ]
  },
  {
   "cell_type": "code",
   "execution_count": 10,
   "id": "70a6c484-2acd-4bd6-958a-0bb9a2d0be47",
   "metadata": {},
   "outputs": [],
   "source": [
    "mlflow.set_tracking_uri(uri=MDFLOW_SERVER_URL)"
   ]
  },
  {
   "cell_type": "code",
   "execution_count": 66,
   "id": "513c59cf-9264-4ca2-a957-1b13c1bb821e",
   "metadata": {},
   "outputs": [],
   "source": [
    "from mlflow import MlflowClient\n",
    "from mlflow.tracking import MlflowClient, artifact_utils\n"
   ]
  },
  {
   "cell_type": "code",
   "execution_count": 67,
   "id": "41b7b168-ad13-4b2e-aa1f-a33f8c23f5de",
   "metadata": {},
   "outputs": [],
   "source": [
    "client = MlflowClient()"
   ]
  },
  {
   "cell_type": "code",
   "execution_count": 48,
   "id": "e5e2cfc6-b247-4c59-a1ab-11dc512e5ae9",
   "metadata": {},
   "outputs": [],
   "source": [
    "model_name = \"xgb-citibike-reg-model\"\n",
    "model_version_alias_candidate = \"candidate\"\n",
    "model_version_alias_champion = \"champion\""
   ]
  },
  {
   "cell_type": "code",
   "execution_count": 30,
   "id": "5549ba43-049a-4e12-92f0-43e818a2af65",
   "metadata": {},
   "outputs": [
    {
     "name": "stderr",
     "output_type": "stream",
     "text": [
      "/tmp/ipykernel_29788/2983435765.py:1: FutureWarning: ``mlflow.tracking.client.MlflowClient.get_latest_versions`` is deprecated since 2.9.0. Model registry stages will be removed in a future major release. To learn more about the deprecation of model registry stages, see our migration guide here: https://mlflow.org/docs/latest/model-registry.html#migrating-from-stages\n",
      "  client.get_latest_versions(registered_model_name)\n"
     ]
    },
    {
     "data": {
      "text/plain": [
       "[<ModelVersion: aliases=['candidate'], creation_timestamp=1753558639062, current_stage='None', description='', last_updated_timestamp=1753558639062, name='xgb-citibike-reg-model', run_id='9462e7c6563043e8a9e7822daa17de8a', run_link='', source='mlflow-artifacts:/1/9462e7c6563043e8a9e7822daa17de8a/artifacts/model', status='READY', status_message=None, tags={}, user_id='', version='3'>]"
      ]
     },
     "execution_count": 30,
     "metadata": {},
     "output_type": "execute_result"
    }
   ],
   "source": [
    "client.get_latest_versions(registered_model_name)"
   ]
  },
  {
   "cell_type": "code",
   "execution_count": 56,
   "id": "895ec598-26fe-497c-b3ac-1675bc64f829",
   "metadata": {},
   "outputs": [
    {
     "data": {
      "text/plain": [
       "<ModelVersion: aliases=['candidate'], creation_timestamp=1753567739146, current_stage='None', description='', last_updated_timestamp=1753567739146, name='xgb-citibike-reg-model', run_id='f8b244e78c564364913096f78ce2b538', run_link='', source='mlflow-artifacts:/1/f8b244e78c564364913096f78ce2b538/artifacts/model', status='READY', status_message=None, tags={'stage': 'Staging'}, user_id='', version='5'>"
      ]
     },
     "execution_count": 56,
     "metadata": {},
     "output_type": "execute_result"
    }
   ],
   "source": [
    "model_info = client.get_model_version_by_alias(model_name, model_version_alias_candidate)\n",
    "model_info"
   ]
  },
  {
   "cell_type": "code",
   "execution_count": 57,
   "id": "c1aaf3f5-6f57-4b5a-990e-f249ff09f3b6",
   "metadata": {},
   "outputs": [
    {
     "data": {
      "text/plain": [
       "('5', 'f8b244e78c564364913096f78ce2b538', {'stage': 'Staging'})"
      ]
     },
     "execution_count": 57,
     "metadata": {},
     "output_type": "execute_result"
    }
   ],
   "source": [
    "model_info.version, model_info.run_id, model_info.tags"
   ]
  },
  {
   "cell_type": "code",
   "execution_count": 46,
   "id": "ee1e94dc-1061-444b-a72e-75a7ecd56344",
   "metadata": {},
   "outputs": [
    {
     "data": {
      "text/plain": [
       "'mlflow-artifacts:/1/9462e7c6563043e8a9e7822daa17de8a/artifacts/model'"
      ]
     },
     "execution_count": 46,
     "metadata": {},
     "output_type": "execute_result"
    }
   ],
   "source": [
    "model_info.source"
   ]
  },
  {
   "cell_type": "code",
   "execution_count": 59,
   "id": "11479141-f51b-4a2b-8220-cd1dcee33f85",
   "metadata": {},
   "outputs": [
    {
     "data": {
      "text/plain": [
       "<ModelVersion: aliases=['champion'], creation_timestamp=1753573324868, current_stage='None', description='', last_updated_timestamp=1753573324868, name='xgb-citibike-reg-model', run_id='28702bf6e6b44a1ca79f1443c1709126', run_link='', source='mlflow-artifacts:/1/28702bf6e6b44a1ca79f1443c1709126/artifacts/model', status='READY', status_message=None, tags={'stage': 'Production'}, user_id='', version='8'>"
      ]
     },
     "execution_count": 59,
     "metadata": {},
     "output_type": "execute_result"
    }
   ],
   "source": [
    "model_info = client.get_model_version_by_alias(model_name, model_version_alias_champion)\n",
    "model_info"
   ]
  },
  {
   "cell_type": "code",
   "execution_count": 25,
   "id": "45a36dc2-d87e-444c-890e-0ff88a4b2447",
   "metadata": {},
   "outputs": [],
   "source": [
    "#candidate_model_version = client.get_registered_model(registered_model_name).latest_versions['challenger']\n",
    "candidate_model_version = client.get_registered_model(registered_model_name)"
   ]
  },
  {
   "cell_type": "code",
   "execution_count": 39,
   "id": "5b976237-97ef-4c04-8d8c-2a8a3456b04f",
   "metadata": {},
   "outputs": [
    {
     "data": {
      "text/plain": [
       "<RegisteredModel: aliases={'candidate': '3'}, creation_timestamp=1753547109333, description='', last_updated_timestamp=1753558639062, latest_versions=[<ModelVersion: aliases=[], creation_timestamp=1753558639062, current_stage='None', description='', last_updated_timestamp=1753558639062, name='xgb-citibike-reg-model', run_id='9462e7c6563043e8a9e7822daa17de8a', run_link='', source='mlflow-artifacts:/1/9462e7c6563043e8a9e7822daa17de8a/artifacts/model', status='READY', status_message=None, tags={}, user_id='', version='3'>], name='xgb-citibike-reg-model', tags={}>"
      ]
     },
     "execution_count": 39,
     "metadata": {},
     "output_type": "execute_result"
    }
   ],
   "source": [
    "candidate_model_version"
   ]
  },
  {
   "cell_type": "code",
   "execution_count": 44,
   "id": "f94b6f77-ece8-4ccd-8239-219ecfaf546e",
   "metadata": {},
   "outputs": [
    {
     "data": {
      "text/plain": [
       "'3'"
      ]
     },
     "execution_count": 44,
     "metadata": {},
     "output_type": "execute_result"
    }
   ],
   "source": [
    "candidate_model_version.latest_versions[0].version"
   ]
  },
  {
   "cell_type": "code",
   "execution_count": 23,
   "id": "c0b884ee-b020-4adf-a192-26c7cd9efe08",
   "metadata": {},
   "outputs": [
    {
     "ename": "IndexError",
     "evalue": "list index out of range",
     "output_type": "error",
     "traceback": [
      "\u001b[31m---------------------------------------------------------------------------\u001b[39m",
      "\u001b[31mIndexError\u001b[39m                                Traceback (most recent call last)",
      "\u001b[36mCell\u001b[39m\u001b[36m \u001b[39m\u001b[32mIn[23]\u001b[39m\u001b[32m, line 1\u001b[39m\n\u001b[32m----> \u001b[39m\u001b[32m1\u001b[39m \u001b[43mcandidate_model_version\u001b[49m\u001b[43m.\u001b[49m\u001b[43mlatest_versions\u001b[49m\u001b[43m[\u001b[49m\u001b[32;43m1\u001b[39;49m\u001b[43m]\u001b[49m\n",
      "\u001b[31mIndexError\u001b[39m: list index out of range"
     ]
    }
   ],
   "source": [
    "candidate_model_version.latest_versions"
   ]
  },
  {
   "cell_type": "code",
   "execution_count": 18,
   "id": "f8947c8c-4de0-4515-a27a-9b67500c3843",
   "metadata": {},
   "outputs": [
    {
     "ename": "TypeError",
     "evalue": "list indices must be integers or slices, not str",
     "output_type": "error",
     "traceback": [
      "\u001b[31m---------------------------------------------------------------------------\u001b[39m",
      "\u001b[31mTypeError\u001b[39m                                 Traceback (most recent call last)",
      "\u001b[36mCell\u001b[39m\u001b[36m \u001b[39m\u001b[32mIn[18]\u001b[39m\u001b[32m, line 2\u001b[39m\n\u001b[32m      1\u001b[39m \u001b[38;5;66;03m# Recuperar las versiones de los modelos\u001b[39;00m\n\u001b[32m----> \u001b[39m\u001b[32m2\u001b[39m production_model_version = \u001b[43mclient\u001b[49m\u001b[43m.\u001b[49m\u001b[43mget_registered_model\u001b[49m\u001b[43m(\u001b[49m\u001b[43mregistered_model_name\u001b[49m\u001b[43m)\u001b[49m\u001b[43m.\u001b[49m\u001b[43mlatest_versions\u001b[49m\u001b[43m[\u001b[49m\u001b[33;43m'\u001b[39;49m\u001b[33;43mchampion\u001b[39;49m\u001b[33;43m'\u001b[39;49m\u001b[43m]\u001b[49m\n",
      "\u001b[31mTypeError\u001b[39m: list indices must be integers or slices, not str"
     ]
    }
   ],
   "source": [
    "\n",
    "# Recuperar las versiones de los modelos\n",
    "production_model_version = client.get_registered_model(registered_model_name).latest_versions['champion']\n"
   ]
  },
  {
   "cell_type": "code",
   "execution_count": 64,
   "id": "909a558c-8edc-44e5-a353-c28ea1d975f2",
   "metadata": {},
   "outputs": [],
   "source": [
    "champion_model_version = client.get_model_version_by_alias(model_name, model_version_alias_champion)"
   ]
  },
  {
   "cell_type": "code",
   "execution_count": 65,
   "id": "1c60bf49-888e-45c2-8f97-c3eedc610093",
   "metadata": {},
   "outputs": [
    {
     "data": {
      "text/plain": [
       "<ModelVersion: aliases=['champion'], creation_timestamp=1753573324868, current_stage='None', description='', last_updated_timestamp=1753573324868, name='xgb-citibike-reg-model', run_id='28702bf6e6b44a1ca79f1443c1709126', run_link='', source='mlflow-artifacts:/1/28702bf6e6b44a1ca79f1443c1709126/artifacts/model', status='READY', status_message=None, tags={'stage': 'Production'}, user_id='', version='8'>"
      ]
     },
     "execution_count": 65,
     "metadata": {},
     "output_type": "execute_result"
    }
   ],
   "source": [
    "champion_model_version"
   ]
  },
  {
   "cell_type": "code",
   "execution_count": 70,
   "id": "043b2486-43dc-4f42-8ce0-599da37077e2",
   "metadata": {},
   "outputs": [
    {
     "data": {
      "text/plain": [
       "('28702bf6e6b44a1ca79f1443c1709126', 'xgb-citibike-reg-model')"
      ]
     },
     "execution_count": 70,
     "metadata": {},
     "output_type": "execute_result"
    }
   ],
   "source": [
    "mlflow_run_id = champion_model_version.run_id\n",
    "model_name = champion_model_version.name\n",
    "mlflow_run_id, model_name"
   ]
  },
  {
   "cell_type": "code",
   "execution_count": 71,
   "id": "ae066b59-6194-4594-b249-c590ff6c71e9",
   "metadata": {},
   "outputs": [],
   "source": [
    "model_uri = artifact_utils.get_artifact_uri(\n",
    "    run_id=mlflow_run_id, artifact_path=model_name\n",
    ")"
   ]
  },
  {
   "cell_type": "code",
   "execution_count": 72,
   "id": "4b590778-3fa7-4745-827a-602dce99463e",
   "metadata": {},
   "outputs": [
    {
     "data": {
      "text/plain": [
       "'mlflow-artifacts:/1/28702bf6e6b44a1ca79f1443c1709126/artifacts/xgb-citibike-reg-model'"
      ]
     },
     "execution_count": 72,
     "metadata": {},
     "output_type": "execute_result"
    }
   ],
   "source": [
    "model_uri"
   ]
  },
  {
   "cell_type": "code",
   "execution_count": null,
   "id": "cf6da402-2fd2-4d7d-bf71-78b9c37b9599",
   "metadata": {},
   "outputs": [],
   "source": []
  }
 ],
 "metadata": {
  "kernelspec": {
   "display_name": "Python 3 (ipykernel)",
   "language": "python",
   "name": "python3"
  },
  "language_info": {
   "codemirror_mode": {
    "name": "ipython",
    "version": 3
   },
   "file_extension": ".py",
   "mimetype": "text/x-python",
   "name": "python",
   "nbconvert_exporter": "python",
   "pygments_lexer": "ipython3",
   "version": "3.12.3"
  }
 },
 "nbformat": 4,
 "nbformat_minor": 5
}
